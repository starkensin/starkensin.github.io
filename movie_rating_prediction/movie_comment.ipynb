{
 "cells": [
  {
   "cell_type": "markdown",
   "metadata": {},
   "source": [
    "# 왓챠 영화 평점 "
   ]
  },
  {
   "cell_type": "code",
   "execution_count": 1,
   "metadata": {
    "collapsed": true
   },
   "outputs": [],
   "source": [
    "import json\n",
    "import requests\n",
    "from bs4 import BeautifulSoup\n",
    "import time\n",
    "import pandas as pd\n",
    "import numpy as np\n",
    "\n",
    "from tqdm import tqdm_notebook"
   ]
  },
  {
   "cell_type": "code",
   "execution_count": 2,
   "metadata": {
    "collapsed": true
   },
   "outputs": [],
   "source": [
    "import os"
   ]
  },
  {
   "cell_type": "code",
   "execution_count": 5,
   "metadata": {
    "collapsed": true
   },
   "outputs": [],
   "source": [
    "import matplotlib.pyplot as plt\n",
    "from pylab import plot, show, rc\n",
    "%matplotlib inline"
   ]
  },
  {
   "cell_type": "markdown",
   "metadata": {},
   "source": [
    "## font 설정하기"
   ]
  },
  {
   "cell_type": "code",
   "execution_count": 6,
   "metadata": {
    "collapsed": true
   },
   "outputs": [],
   "source": [
    "font_name = \"AppleGothic\"\n",
    "rc('font', family=font_name)"
   ]
  },
  {
   "cell_type": "markdown",
   "metadata": {},
   "source": [
    "# 크롤링한 영화 평점 불러와서 전처리하기"
   ]
  },
  {
   "cell_type": "code",
   "execution_count": 6,
   "metadata": {
    "collapsed": true
   },
   "outputs": [],
   "source": [
    "movie_rating = pd.read_pickle('movie_rating_all.pickle')"
   ]
  },
  {
   "cell_type": "code",
   "execution_count": 7,
   "metadata": {
    "collapsed": false
   },
   "outputs": [
    {
     "data": {
      "text/plain": [
       "(3284921, 8)"
      ]
     },
     "execution_count": 7,
     "metadata": {},
     "output_type": "execute_result"
    }
   ],
   "source": [
    "movie_rating.shape"
   ]
  },
  {
   "cell_type": "code",
   "execution_count": 8,
   "metadata": {
    "collapsed": false
   },
   "outputs": [
    {
     "name": "stdout",
     "output_type": "stream",
     "text": [
      "<class 'pandas.core.frame.DataFrame'>\n",
      "Int64Index: 3284921 entries, 0 to 6\n",
      "Data columns (total 8 columns):\n",
      "Unnamed: 0     float64\n",
      "code           object\n",
      "main_genre     object\n",
      "movie_title    object\n",
      "rating         object\n",
      "text           object\n",
      "title          object\n",
      "username       object\n",
      "dtypes: float64(1), object(7)\n",
      "memory usage: 225.6+ MB\n"
     ]
    }
   ],
   "source": [
    "movie_rating.info()"
   ]
  },
  {
   "cell_type": "code",
   "execution_count": 9,
   "metadata": {
    "collapsed": false
   },
   "outputs": [
    {
     "data": {
      "text/html": [
       "<div>\n",
       "<style>\n",
       "    .dataframe thead tr:only-child th {\n",
       "        text-align: right;\n",
       "    }\n",
       "\n",
       "    .dataframe thead th {\n",
       "        text-align: left;\n",
       "    }\n",
       "\n",
       "    .dataframe tbody tr th {\n",
       "        vertical-align: top;\n",
       "    }\n",
       "</style>\n",
       "<table border=\"1\" class=\"dataframe\">\n",
       "  <thead>\n",
       "    <tr style=\"text-align: right;\">\n",
       "      <th></th>\n",
       "      <th>Unnamed: 0</th>\n",
       "      <th>code</th>\n",
       "      <th>main_genre</th>\n",
       "      <th>movie_title</th>\n",
       "      <th>rating</th>\n",
       "      <th>text</th>\n",
       "      <th>title</th>\n",
       "      <th>username</th>\n",
       "    </tr>\n",
       "  </thead>\n",
       "  <tbody>\n",
       "    <tr>\n",
       "      <th>0</th>\n",
       "      <td>NaN</td>\n",
       "      <td>NaN</td>\n",
       "      <td>NaN</td>\n",
       "      <td>말타의 매</td>\n",
       "      <td>4.5</td>\n",
       "      <td>필름 누아르의 시작은 관객에 대한 배반이었다.\\n-\\n탐정 주인공 샘 스페이드. 그...</td>\n",
       "      <td>NaN</td>\n",
       "      <td>jose0</td>\n",
       "    </tr>\n",
       "    <tr>\n",
       "      <th>1</th>\n",
       "      <td>NaN</td>\n",
       "      <td>NaN</td>\n",
       "      <td>NaN</td>\n",
       "      <td>말타의 매</td>\n",
       "      <td>5</td>\n",
       "      <td>그 복잡한 내막을 단 한번도 막힘없이 술술 풀어나가는 존 휴스턴의 스토리텔링. 과연...</td>\n",
       "      <td>NaN</td>\n",
       "      <td>Eagleeye17</td>\n",
       "    </tr>\n",
       "    <tr>\n",
       "      <th>2</th>\n",
       "      <td>NaN</td>\n",
       "      <td>NaN</td>\n",
       "      <td>NaN</td>\n",
       "      <td>말타의 매</td>\n",
       "      <td>4</td>\n",
       "      <td>내 이름은 험프리 보카트.\\n탐정이죠.</td>\n",
       "      <td>NaN</td>\n",
       "      <td>sorom</td>\n",
       "    </tr>\n",
       "    <tr>\n",
       "      <th>3</th>\n",
       "      <td>NaN</td>\n",
       "      <td>NaN</td>\n",
       "      <td>NaN</td>\n",
       "      <td>말타의 매</td>\n",
       "      <td>4</td>\n",
       "      <td>허무와 냉소의 수많은 검은 영화들은 검디검은 매를 타고 칠흑같이 어두운 도시의 밤에...</td>\n",
       "      <td>NaN</td>\n",
       "      <td>박진효</td>\n",
       "    </tr>\n",
       "    <tr>\n",
       "      <th>4</th>\n",
       "      <td>NaN</td>\n",
       "      <td>NaN</td>\n",
       "      <td>NaN</td>\n",
       "      <td>말타의 매</td>\n",
       "      <td>3.5</td>\n",
       "      <td>고전적 Film Noir가 무엇인지 알고 싶다면 이 영화를 보는 것도 나쁘지 않아요!</td>\n",
       "      <td>NaN</td>\n",
       "      <td>moviemon94</td>\n",
       "    </tr>\n",
       "  </tbody>\n",
       "</table>\n",
       "</div>"
      ],
      "text/plain": [
       "   Unnamed: 0 code main_genre movie_title rating  \\\n",
       "0         NaN  NaN        NaN       말타의 매    4.5   \n",
       "1         NaN  NaN        NaN       말타의 매      5   \n",
       "2         NaN  NaN        NaN       말타의 매      4   \n",
       "3         NaN  NaN        NaN       말타의 매      4   \n",
       "4         NaN  NaN        NaN       말타의 매    3.5   \n",
       "\n",
       "                                                text title    username  \n",
       "0  필름 누아르의 시작은 관객에 대한 배반이었다.\\n-\\n탐정 주인공 샘 스페이드. 그...   NaN       jose0  \n",
       "1  그 복잡한 내막을 단 한번도 막힘없이 술술 풀어나가는 존 휴스턴의 스토리텔링. 과연...   NaN  Eagleeye17  \n",
       "2                              내 이름은 험프리 보카트.\\n탐정이죠.   NaN       sorom  \n",
       "3  허무와 냉소의 수많은 검은 영화들은 검디검은 매를 타고 칠흑같이 어두운 도시의 밤에...   NaN         박진효  \n",
       "4    고전적 Film Noir가 무엇인지 알고 싶다면 이 영화를 보는 것도 나쁘지 않아요!   NaN  moviemon94  "
      ]
     },
     "execution_count": 9,
     "metadata": {},
     "output_type": "execute_result"
    }
   ],
   "source": [
    "movie_rating.head()"
   ]
  },
  {
   "cell_type": "code",
   "execution_count": 10,
   "metadata": {
    "collapsed": false
   },
   "outputs": [
    {
     "data": {
      "text/plain": [
       "Unnamed: 0     2763947\n",
       "code           3270997\n",
       "main_genre     3270997\n",
       "movie_title      13924\n",
       "rating           31375\n",
       "text             13924\n",
       "title          3270997\n",
       "username         13924\n",
       "dtype: int64"
      ]
     },
     "execution_count": 10,
     "metadata": {},
     "output_type": "execute_result"
    }
   ],
   "source": [
    "#null값 파악하기\n",
    "movie_rating.isnull().sum()"
   ]
  },
  {
   "cell_type": "markdown",
   "metadata": {},
   "source": [
    "## 평점이 null도 있고, 영화 타이틀도 2곳으로 나눠졌다. 장느는 제대로 채워지지도 않았고\n",
    "## 고쳐보자!!!"
   ]
  },
  {
   "cell_type": "code",
   "execution_count": 11,
   "metadata": {
    "collapsed": true
   },
   "outputs": [],
   "source": [
    "movie_rating.dropna(subset=['rating'], inplace=True)"
   ]
  },
  {
   "cell_type": "code",
   "execution_count": 12,
   "metadata": {
    "collapsed": false
   },
   "outputs": [
    {
     "data": {
      "text/plain": [
       "(3253546, 8)"
      ]
     },
     "execution_count": 12,
     "metadata": {},
     "output_type": "execute_result"
    }
   ],
   "source": [
    "movie_rating.shape"
   ]
  },
  {
   "cell_type": "code",
   "execution_count": 13,
   "metadata": {
    "collapsed": false
   },
   "outputs": [
    {
     "data": {
      "text/plain": [
       "Unnamed: 0     2749211\n",
       "code           3253546\n",
       "main_genre     3253546\n",
       "movie_title          0\n",
       "rating               0\n",
       "text                 0\n",
       "title          3253546\n",
       "username             0\n",
       "dtype: int64"
      ]
     },
     "execution_count": 13,
     "metadata": {},
     "output_type": "execute_result"
    }
   ],
   "source": [
    "movie_rating.isnull().sum()"
   ]
  },
  {
   "cell_type": "code",
   "execution_count": 14,
   "metadata": {
    "collapsed": true
   },
   "outputs": [],
   "source": [
    "movie_rating = movie_rating.reset_index(drop=True)"
   ]
  },
  {
   "cell_type": "code",
   "execution_count": 15,
   "metadata": {
    "collapsed": true
   },
   "outputs": [],
   "source": [
    "movie_rating.drop(labels=['Unnamed: 0','main_genre','code','title'], axis = 1, inplace=True)"
   ]
  },
  {
   "cell_type": "code",
   "execution_count": 18,
   "metadata": {
    "collapsed": false
   },
   "outputs": [
    {
     "data": {
      "text/html": [
       "<div>\n",
       "<style>\n",
       "    .dataframe thead tr:only-child th {\n",
       "        text-align: right;\n",
       "    }\n",
       "\n",
       "    .dataframe thead th {\n",
       "        text-align: left;\n",
       "    }\n",
       "\n",
       "    .dataframe tbody tr th {\n",
       "        vertical-align: top;\n",
       "    }\n",
       "</style>\n",
       "<table border=\"1\" class=\"dataframe\">\n",
       "  <thead>\n",
       "    <tr style=\"text-align: right;\">\n",
       "      <th></th>\n",
       "      <th>movie_title</th>\n",
       "      <th>rating</th>\n",
       "      <th>text</th>\n",
       "      <th>username</th>\n",
       "    </tr>\n",
       "  </thead>\n",
       "  <tbody>\n",
       "    <tr>\n",
       "      <th>3253541</th>\n",
       "      <td>금지된 섹스, 달콤한 복수</td>\n",
       "      <td>0.5</td>\n",
       "      <td>시간 낭비하기 딱 좋은 영화.</td>\n",
       "      <td>얼그레이</td>\n",
       "    </tr>\n",
       "    <tr>\n",
       "      <th>3253542</th>\n",
       "      <td>금지된 섹스, 달콤한 복수</td>\n",
       "      <td>0.5</td>\n",
       "      <td>이건 무슨 시츄에이션 인지\\n하기사 이런 영화를 본것이 죄라면 죄지\\n그래도 한마디...</td>\n",
       "      <td>헐리우드영화인생24년</td>\n",
       "    </tr>\n",
       "    <tr>\n",
       "      <th>3253543</th>\n",
       "      <td>금지된 섹스, 달콤한 복수</td>\n",
       "      <td>1</td>\n",
       "      <td>도대체 이런 영화는 왜 만드는 건지...</td>\n",
       "      <td>백선우</td>\n",
       "    </tr>\n",
       "    <tr>\n",
       "      <th>3253544</th>\n",
       "      <td>금지된 섹스, 달콤한 복수</td>\n",
       "      <td>1</td>\n",
       "      <td>-----</td>\n",
       "      <td>김용진</td>\n",
       "    </tr>\n",
       "    <tr>\n",
       "      <th>3253545</th>\n",
       "      <td>금지된 섹스, 달콤한 복수</td>\n",
       "      <td>0.5</td>\n",
       "      <td>내 1시간 14분...</td>\n",
       "      <td>조창현</td>\n",
       "    </tr>\n",
       "  </tbody>\n",
       "</table>\n",
       "</div>"
      ],
      "text/plain": [
       "            movie_title rating  \\\n",
       "3253541  금지된 섹스, 달콤한 복수    0.5   \n",
       "3253542  금지된 섹스, 달콤한 복수    0.5   \n",
       "3253543  금지된 섹스, 달콤한 복수      1   \n",
       "3253544  금지된 섹스, 달콤한 복수      1   \n",
       "3253545  금지된 섹스, 달콤한 복수    0.5   \n",
       "\n",
       "                                                      text     username  \n",
       "3253541                                   시간 낭비하기 딱 좋은 영화.         얼그레이  \n",
       "3253542  이건 무슨 시츄에이션 인지\\n하기사 이런 영화를 본것이 죄라면 죄지\\n그래도 한마디...  헐리우드영화인생24년  \n",
       "3253543                             도대체 이런 영화는 왜 만드는 건지...          백선우  \n",
       "3253544                                              -----          김용진  \n",
       "3253545                                       내 1시간 14분...          조창현  "
      ]
     },
     "execution_count": 18,
     "metadata": {},
     "output_type": "execute_result"
    }
   ],
   "source": [
    "movie_rating.tail()"
   ]
  },
  {
   "cell_type": "code",
   "execution_count": null,
   "metadata": {
    "collapsed": true
   },
   "outputs": [],
   "source": []
  },
  {
   "cell_type": "markdown",
   "metadata": {},
   "source": [
    "### 영화 장르도 넣고 싶다."
   ]
  },
  {
   "cell_type": "code",
   "execution_count": 19,
   "metadata": {
    "collapsed": true
   },
   "outputs": [],
   "source": [
    "#왓챠의 영화 리스트 크롤링 결과를 가지고 온다.\n",
    "movie_list = pd.read_csv('왓챠_영화리스트.csv')"
   ]
  },
  {
   "cell_type": "code",
   "execution_count": 20,
   "metadata": {
    "collapsed": true
   },
   "outputs": [],
   "source": [
    "movie_list.drop(labels=['Unnamed: 0','code'], axis = 1, inplace=True)"
   ]
  },
  {
   "cell_type": "code",
   "execution_count": 21,
   "metadata": {
    "collapsed": true
   },
   "outputs": [],
   "source": [
    "movie_list = movie_list.rename( columns = {'title':'movie_title'})"
   ]
  },
  {
   "cell_type": "code",
   "execution_count": 22,
   "metadata": {
    "collapsed": false
   },
   "outputs": [
    {
     "data": {
      "text/html": [
       "<div>\n",
       "<style>\n",
       "    .dataframe thead tr:only-child th {\n",
       "        text-align: right;\n",
       "    }\n",
       "\n",
       "    .dataframe thead th {\n",
       "        text-align: left;\n",
       "    }\n",
       "\n",
       "    .dataframe tbody tr th {\n",
       "        vertical-align: top;\n",
       "    }\n",
       "</style>\n",
       "<table border=\"1\" class=\"dataframe\">\n",
       "  <thead>\n",
       "    <tr style=\"text-align: right;\">\n",
       "      <th></th>\n",
       "      <th>main_genre</th>\n",
       "      <th>movie_title</th>\n",
       "    </tr>\n",
       "  </thead>\n",
       "  <tbody>\n",
       "    <tr>\n",
       "      <th>0</th>\n",
       "      <td>액션</td>\n",
       "      <td>앤트맨과 와스프</td>\n",
       "    </tr>\n",
       "    <tr>\n",
       "      <th>1</th>\n",
       "      <td>액션</td>\n",
       "      <td>마녀</td>\n",
       "    </tr>\n",
       "    <tr>\n",
       "      <th>2</th>\n",
       "      <td>코미디</td>\n",
       "      <td>탐정: 리턴즈</td>\n",
       "    </tr>\n",
       "    <tr>\n",
       "      <th>3</th>\n",
       "      <td>범죄</td>\n",
       "      <td>오션스8</td>\n",
       "    </tr>\n",
       "    <tr>\n",
       "      <th>4</th>\n",
       "      <td>액션</td>\n",
       "      <td>쥬라기 월드: 폴른 킹덤</td>\n",
       "    </tr>\n",
       "  </tbody>\n",
       "</table>\n",
       "</div>"
      ],
      "text/plain": [
       "  main_genre    movie_title\n",
       "0         액션       앤트맨과 와스프\n",
       "1         액션             마녀\n",
       "2        코미디        탐정: 리턴즈\n",
       "3         범죄           오션스8\n",
       "4         액션  쥬라기 월드: 폴른 킹덤"
      ]
     },
     "execution_count": 22,
     "metadata": {},
     "output_type": "execute_result"
    }
   ],
   "source": [
    "movie_list.head()"
   ]
  },
  {
   "cell_type": "code",
   "execution_count": 23,
   "metadata": {
    "collapsed": true
   },
   "outputs": [],
   "source": [
    "#두 데이터 머지\n",
    "df_m_rating = pd.merge(movie_rating, movie_list, how='left', on='movie_title')"
   ]
  },
  {
   "cell_type": "code",
   "execution_count": 27,
   "metadata": {
    "collapsed": false
   },
   "outputs": [
    {
     "data": {
      "text/html": [
       "<div>\n",
       "<style>\n",
       "    .dataframe thead tr:only-child th {\n",
       "        text-align: right;\n",
       "    }\n",
       "\n",
       "    .dataframe thead th {\n",
       "        text-align: left;\n",
       "    }\n",
       "\n",
       "    .dataframe tbody tr th {\n",
       "        vertical-align: top;\n",
       "    }\n",
       "</style>\n",
       "<table border=\"1\" class=\"dataframe\">\n",
       "  <thead>\n",
       "    <tr style=\"text-align: right;\">\n",
       "      <th></th>\n",
       "      <th>movie_title</th>\n",
       "      <th>rating</th>\n",
       "      <th>text</th>\n",
       "      <th>username</th>\n",
       "      <th>main_genre</th>\n",
       "    </tr>\n",
       "  </thead>\n",
       "  <tbody>\n",
       "    <tr>\n",
       "      <th>count</th>\n",
       "      <td>3658134</td>\n",
       "      <td>3658134.0</td>\n",
       "      <td>3658134</td>\n",
       "      <td>3658134</td>\n",
       "      <td>3647684</td>\n",
       "    </tr>\n",
       "    <tr>\n",
       "      <th>unique</th>\n",
       "      <td>6557</td>\n",
       "      <td>10.0</td>\n",
       "      <td>3125224</td>\n",
       "      <td>96056</td>\n",
       "      <td>16</td>\n",
       "    </tr>\n",
       "    <tr>\n",
       "      <th>top</th>\n",
       "      <td>미녀와 야수</td>\n",
       "      <td>4.0</td>\n",
       "      <td>.</td>\n",
       "      <td>IMDb 평점</td>\n",
       "      <td>드라마</td>\n",
       "    </tr>\n",
       "    <tr>\n",
       "      <th>freq</th>\n",
       "      <td>52500</td>\n",
       "      <td>858289.0</td>\n",
       "      <td>7661</td>\n",
       "      <td>4018</td>\n",
       "      <td>1037569</td>\n",
       "    </tr>\n",
       "  </tbody>\n",
       "</table>\n",
       "</div>"
      ],
      "text/plain": [
       "       movie_title     rating     text username main_genre\n",
       "count      3658134  3658134.0  3658134  3658134    3647684\n",
       "unique        6557       10.0  3125224    96056         16\n",
       "top         미녀와 야수        4.0        .  IMDb 평점        드라마\n",
       "freq         52500   858289.0     7661     4018    1037569"
      ]
     },
     "execution_count": 27,
     "metadata": {},
     "output_type": "execute_result"
    }
   ],
   "source": [
    "df_m_rating.describe()"
   ]
  },
  {
   "cell_type": "code",
   "execution_count": 29,
   "metadata": {
    "collapsed": false
   },
   "outputs": [
    {
     "data": {
      "text/html": [
       "<div>\n",
       "<style>\n",
       "    .dataframe thead tr:only-child th {\n",
       "        text-align: right;\n",
       "    }\n",
       "\n",
       "    .dataframe thead th {\n",
       "        text-align: left;\n",
       "    }\n",
       "\n",
       "    .dataframe tbody tr th {\n",
       "        vertical-align: top;\n",
       "    }\n",
       "</style>\n",
       "<table border=\"1\" class=\"dataframe\">\n",
       "  <thead>\n",
       "    <tr style=\"text-align: right;\">\n",
       "      <th></th>\n",
       "      <th>movie_title</th>\n",
       "      <th>rating</th>\n",
       "      <th>text</th>\n",
       "      <th>username</th>\n",
       "      <th>main_genre</th>\n",
       "    </tr>\n",
       "  </thead>\n",
       "  <tbody>\n",
       "    <tr>\n",
       "      <th>3658129</th>\n",
       "      <td>금지된 섹스, 달콤한 복수</td>\n",
       "      <td>0.5</td>\n",
       "      <td>시간 낭비하기 딱 좋은 영화.</td>\n",
       "      <td>얼그레이</td>\n",
       "      <td>로맨스/멜로</td>\n",
       "    </tr>\n",
       "    <tr>\n",
       "      <th>3658130</th>\n",
       "      <td>금지된 섹스, 달콤한 복수</td>\n",
       "      <td>0.5</td>\n",
       "      <td>이건 무슨 시츄에이션 인지\\n하기사 이런 영화를 본것이 죄라면 죄지\\n그래도 한마디...</td>\n",
       "      <td>헐리우드영화인생24년</td>\n",
       "      <td>로맨스/멜로</td>\n",
       "    </tr>\n",
       "    <tr>\n",
       "      <th>3658131</th>\n",
       "      <td>금지된 섹스, 달콤한 복수</td>\n",
       "      <td>1</td>\n",
       "      <td>도대체 이런 영화는 왜 만드는 건지...</td>\n",
       "      <td>백선우</td>\n",
       "      <td>로맨스/멜로</td>\n",
       "    </tr>\n",
       "    <tr>\n",
       "      <th>3658132</th>\n",
       "      <td>금지된 섹스, 달콤한 복수</td>\n",
       "      <td>1</td>\n",
       "      <td>-----</td>\n",
       "      <td>김용진</td>\n",
       "      <td>로맨스/멜로</td>\n",
       "    </tr>\n",
       "    <tr>\n",
       "      <th>3658133</th>\n",
       "      <td>금지된 섹스, 달콤한 복수</td>\n",
       "      <td>0.5</td>\n",
       "      <td>내 1시간 14분...</td>\n",
       "      <td>조창현</td>\n",
       "      <td>로맨스/멜로</td>\n",
       "    </tr>\n",
       "  </tbody>\n",
       "</table>\n",
       "</div>"
      ],
      "text/plain": [
       "            movie_title rating  \\\n",
       "3658129  금지된 섹스, 달콤한 복수    0.5   \n",
       "3658130  금지된 섹스, 달콤한 복수    0.5   \n",
       "3658131  금지된 섹스, 달콤한 복수      1   \n",
       "3658132  금지된 섹스, 달콤한 복수      1   \n",
       "3658133  금지된 섹스, 달콤한 복수    0.5   \n",
       "\n",
       "                                                      text     username  \\\n",
       "3658129                                   시간 낭비하기 딱 좋은 영화.         얼그레이   \n",
       "3658130  이건 무슨 시츄에이션 인지\\n하기사 이런 영화를 본것이 죄라면 죄지\\n그래도 한마디...  헐리우드영화인생24년   \n",
       "3658131                             도대체 이런 영화는 왜 만드는 건지...          백선우   \n",
       "3658132                                              -----          김용진   \n",
       "3658133                                       내 1시간 14분...          조창현   \n",
       "\n",
       "        main_genre  \n",
       "3658129     로맨스/멜로  \n",
       "3658130     로맨스/멜로  \n",
       "3658131     로맨스/멜로  \n",
       "3658132     로맨스/멜로  \n",
       "3658133     로맨스/멜로  "
      ]
     },
     "execution_count": 29,
     "metadata": {},
     "output_type": "execute_result"
    }
   ],
   "source": [
    "df_m_rating.tail()"
   ]
  },
  {
   "cell_type": "code",
   "execution_count": 30,
   "metadata": {
    "collapsed": false
   },
   "outputs": [
    {
     "data": {
      "text/html": [
       "<div>\n",
       "<style>\n",
       "    .dataframe thead tr:only-child th {\n",
       "        text-align: right;\n",
       "    }\n",
       "\n",
       "    .dataframe thead th {\n",
       "        text-align: left;\n",
       "    }\n",
       "\n",
       "    .dataframe tbody tr th {\n",
       "        vertical-align: top;\n",
       "    }\n",
       "</style>\n",
       "<table border=\"1\" class=\"dataframe\">\n",
       "  <thead>\n",
       "    <tr style=\"text-align: right;\">\n",
       "      <th></th>\n",
       "      <th>movie_title</th>\n",
       "      <th>rating</th>\n",
       "      <th>text</th>\n",
       "      <th>username</th>\n",
       "      <th>main_genre</th>\n",
       "    </tr>\n",
       "  </thead>\n",
       "  <tbody>\n",
       "    <tr>\n",
       "      <th>800525</th>\n",
       "      <td>앤트맨과 와스프</td>\n",
       "      <td>4</td>\n",
       "      <td>앤트맨과 와스프라고 하니 군생활 시절이 떠오릅니다.\\n훈련소에서 갖는 식사란 반찬이...</td>\n",
       "      <td>의식의흐름</td>\n",
       "      <td>액션</td>\n",
       "    </tr>\n",
       "    <tr>\n",
       "      <th>800526</th>\n",
       "      <td>앤트맨과 와스프</td>\n",
       "      <td>3.5</td>\n",
       "      <td>개미는 뚠뚠🐜🐜 오늘도 열일🐜🐜\\n부제: 엔트맨과 세얼간이ㅋㅋㅋㅋㅋㅋㅋㅋㅋㅋㅋ\\n아...</td>\n",
       "      <td>kjhhhhh</td>\n",
       "      <td>액션</td>\n",
       "    </tr>\n",
       "    <tr>\n",
       "      <th>800527</th>\n",
       "      <td>앤트맨과 와스프</td>\n",
       "      <td>3.5</td>\n",
       "      <td>토마스에 이어서 이제 헬로키티 덕후까지 섭렵하려는 마블👍🥇✨~ 앤트맨은 사랑입니당!...</td>\n",
       "      <td>이종욱</td>\n",
       "      <td>액션</td>\n",
       "    </tr>\n",
       "    <tr>\n",
       "      <th>800528</th>\n",
       "      <td>앤트맨과 와스프</td>\n",
       "      <td>4</td>\n",
       "      <td>새로움보단 익숙함에 주력하기, 시종일관 내내 무난하게 유쾌하다.</td>\n",
       "      <td>김병우</td>\n",
       "      <td>액션</td>\n",
       "    </tr>\n",
       "    <tr>\n",
       "      <th>800529</th>\n",
       "      <td>앤트맨과 와스프</td>\n",
       "      <td>3</td>\n",
       "      <td>앤트맨 시리즈는 마블이 사용하는 쉼표.</td>\n",
       "      <td>이동진 평론가</td>\n",
       "      <td>액션</td>\n",
       "    </tr>\n",
       "  </tbody>\n",
       "</table>\n",
       "</div>"
      ],
      "text/plain": [
       "       movie_title rating                                               text  \\\n",
       "800525    앤트맨과 와스프      4  앤트맨과 와스프라고 하니 군생활 시절이 떠오릅니다.\\n훈련소에서 갖는 식사란 반찬이...   \n",
       "800526    앤트맨과 와스프    3.5  개미는 뚠뚠🐜🐜 오늘도 열일🐜🐜\\n부제: 엔트맨과 세얼간이ㅋㅋㅋㅋㅋㅋㅋㅋㅋㅋㅋ\\n아...   \n",
       "800527    앤트맨과 와스프    3.5  토마스에 이어서 이제 헬로키티 덕후까지 섭렵하려는 마블👍🥇✨~ 앤트맨은 사랑입니당!...   \n",
       "800528    앤트맨과 와스프      4                새로움보단 익숙함에 주력하기, 시종일관 내내 무난하게 유쾌하다.   \n",
       "800529    앤트맨과 와스프      3                              앤트맨 시리즈는 마블이 사용하는 쉼표.   \n",
       "\n",
       "       username main_genre  \n",
       "800525    의식의흐름         액션  \n",
       "800526  kjhhhhh         액션  \n",
       "800527      이종욱         액션  \n",
       "800528      김병우         액션  \n",
       "800529  이동진 평론가         액션  "
      ]
     },
     "execution_count": 30,
     "metadata": {},
     "output_type": "execute_result"
    }
   ],
   "source": [
    "#제대로 들어갔는지 검증\n",
    "df_m_rating[df_m_rating['movie_title'].str.contains('앤트맨',regex = False, na = False)].head()"
   ]
  },
  {
   "cell_type": "code",
   "execution_count": 31,
   "metadata": {
    "collapsed": false
   },
   "outputs": [
    {
     "name": "stdout",
     "output_type": "stream",
     "text": [
      "<class 'pandas.core.frame.DataFrame'>\n",
      "Int64Index: 3658134 entries, 0 to 3658133\n",
      "Data columns (total 5 columns):\n",
      "movie_title    object\n",
      "rating         object\n",
      "text           object\n",
      "username       object\n",
      "main_genre     object\n",
      "dtypes: object(5)\n",
      "memory usage: 167.5+ MB\n"
     ]
    }
   ],
   "source": [
    "df_m_rating.info()"
   ]
  },
  {
   "cell_type": "code",
   "execution_count": 32,
   "metadata": {
    "collapsed": true
   },
   "outputs": [],
   "source": [
    "df_m_rating['rating'] = df_m_rating['rating'].astype('float')"
   ]
  },
  {
   "cell_type": "code",
   "execution_count": 33,
   "metadata": {
    "collapsed": false
   },
   "outputs": [
    {
     "data": {
      "text/html": [
       "<div>\n",
       "<style>\n",
       "    .dataframe thead tr:only-child th {\n",
       "        text-align: right;\n",
       "    }\n",
       "\n",
       "    .dataframe thead th {\n",
       "        text-align: left;\n",
       "    }\n",
       "\n",
       "    .dataframe tbody tr th {\n",
       "        vertical-align: top;\n",
       "    }\n",
       "</style>\n",
       "<table border=\"1\" class=\"dataframe\">\n",
       "  <thead>\n",
       "    <tr style=\"text-align: right;\">\n",
       "      <th></th>\n",
       "      <th>count</th>\n",
       "      <th>mean</th>\n",
       "      <th>std</th>\n",
       "      <th>min</th>\n",
       "      <th>25%</th>\n",
       "      <th>50%</th>\n",
       "      <th>75%</th>\n",
       "      <th>max</th>\n",
       "    </tr>\n",
       "    <tr>\n",
       "      <th>main_genre</th>\n",
       "      <th></th>\n",
       "      <th></th>\n",
       "      <th></th>\n",
       "      <th></th>\n",
       "      <th></th>\n",
       "      <th></th>\n",
       "      <th></th>\n",
       "      <th></th>\n",
       "    </tr>\n",
       "  </thead>\n",
       "  <tbody>\n",
       "    <tr>\n",
       "      <th>SF</th>\n",
       "      <td>215534.0</td>\n",
       "      <td>3.514777</td>\n",
       "      <td>1.109599</td>\n",
       "      <td>0.5</td>\n",
       "      <td>3.0</td>\n",
       "      <td>3.5</td>\n",
       "      <td>4.5</td>\n",
       "      <td>5.0</td>\n",
       "    </tr>\n",
       "    <tr>\n",
       "      <th>가족</th>\n",
       "      <td>30126.0</td>\n",
       "      <td>3.713636</td>\n",
       "      <td>1.017850</td>\n",
       "      <td>0.5</td>\n",
       "      <td>3.0</td>\n",
       "      <td>4.0</td>\n",
       "      <td>4.5</td>\n",
       "      <td>5.0</td>\n",
       "    </tr>\n",
       "    <tr>\n",
       "      <th>공포</th>\n",
       "      <td>110059.0</td>\n",
       "      <td>3.431369</td>\n",
       "      <td>0.906508</td>\n",
       "      <td>0.5</td>\n",
       "      <td>3.0</td>\n",
       "      <td>3.5</td>\n",
       "      <td>4.0</td>\n",
       "      <td>5.0</td>\n",
       "    </tr>\n",
       "    <tr>\n",
       "      <th>다큐멘터리</th>\n",
       "      <td>14028.0</td>\n",
       "      <td>3.616410</td>\n",
       "      <td>1.063698</td>\n",
       "      <td>0.5</td>\n",
       "      <td>3.0</td>\n",
       "      <td>4.0</td>\n",
       "      <td>4.5</td>\n",
       "      <td>5.0</td>\n",
       "    </tr>\n",
       "    <tr>\n",
       "      <th>드라마</th>\n",
       "      <td>1037569.0</td>\n",
       "      <td>3.711571</td>\n",
       "      <td>0.960407</td>\n",
       "      <td>0.5</td>\n",
       "      <td>3.0</td>\n",
       "      <td>4.0</td>\n",
       "      <td>4.5</td>\n",
       "      <td>5.0</td>\n",
       "    </tr>\n",
       "    <tr>\n",
       "      <th>로맨스/멜로</th>\n",
       "      <td>267678.0</td>\n",
       "      <td>3.603737</td>\n",
       "      <td>1.078451</td>\n",
       "      <td>0.5</td>\n",
       "      <td>3.0</td>\n",
       "      <td>4.0</td>\n",
       "      <td>4.5</td>\n",
       "      <td>5.0</td>\n",
       "    </tr>\n",
       "    <tr>\n",
       "      <th>로맨틱 코미디</th>\n",
       "      <td>65632.0</td>\n",
       "      <td>3.415034</td>\n",
       "      <td>1.058252</td>\n",
       "      <td>0.5</td>\n",
       "      <td>3.0</td>\n",
       "      <td>3.5</td>\n",
       "      <td>4.0</td>\n",
       "      <td>5.0</td>\n",
       "    </tr>\n",
       "    <tr>\n",
       "      <th>미상</th>\n",
       "      <td>15022.0</td>\n",
       "      <td>3.823126</td>\n",
       "      <td>1.145861</td>\n",
       "      <td>0.5</td>\n",
       "      <td>3.0</td>\n",
       "      <td>4.0</td>\n",
       "      <td>5.0</td>\n",
       "      <td>5.0</td>\n",
       "    </tr>\n",
       "    <tr>\n",
       "      <th>범죄</th>\n",
       "      <td>283862.0</td>\n",
       "      <td>3.445657</td>\n",
       "      <td>1.002499</td>\n",
       "      <td>0.5</td>\n",
       "      <td>3.0</td>\n",
       "      <td>3.5</td>\n",
       "      <td>4.0</td>\n",
       "      <td>5.0</td>\n",
       "    </tr>\n",
       "    <tr>\n",
       "      <th>스릴러</th>\n",
       "      <td>354263.0</td>\n",
       "      <td>3.403062</td>\n",
       "      <td>1.050719</td>\n",
       "      <td>0.5</td>\n",
       "      <td>3.0</td>\n",
       "      <td>3.5</td>\n",
       "      <td>4.0</td>\n",
       "      <td>5.0</td>\n",
       "    </tr>\n",
       "    <tr>\n",
       "      <th>스릴러</th>\n",
       "      <td>81.0</td>\n",
       "      <td>4.271605</td>\n",
       "      <td>0.591869</td>\n",
       "      <td>2.5</td>\n",
       "      <td>4.0</td>\n",
       "      <td>4.5</td>\n",
       "      <td>4.5</td>\n",
       "      <td>5.0</td>\n",
       "    </tr>\n",
       "    <tr>\n",
       "      <th>애니메이션</th>\n",
       "      <td>293253.0</td>\n",
       "      <td>3.715867</td>\n",
       "      <td>0.962947</td>\n",
       "      <td>0.5</td>\n",
       "      <td>3.0</td>\n",
       "      <td>4.0</td>\n",
       "      <td>4.5</td>\n",
       "      <td>5.0</td>\n",
       "    </tr>\n",
       "    <tr>\n",
       "      <th>액션</th>\n",
       "      <td>409011.0</td>\n",
       "      <td>3.372967</td>\n",
       "      <td>1.023818</td>\n",
       "      <td>0.5</td>\n",
       "      <td>3.0</td>\n",
       "      <td>3.5</td>\n",
       "      <td>4.0</td>\n",
       "      <td>5.0</td>\n",
       "    </tr>\n",
       "    <tr>\n",
       "      <th>전쟁</th>\n",
       "      <td>35871.0</td>\n",
       "      <td>3.159209</td>\n",
       "      <td>1.204000</td>\n",
       "      <td>0.5</td>\n",
       "      <td>2.5</td>\n",
       "      <td>3.0</td>\n",
       "      <td>4.0</td>\n",
       "      <td>5.0</td>\n",
       "    </tr>\n",
       "    <tr>\n",
       "      <th>코미디</th>\n",
       "      <td>361662.0</td>\n",
       "      <td>3.280762</td>\n",
       "      <td>1.090486</td>\n",
       "      <td>0.5</td>\n",
       "      <td>2.5</td>\n",
       "      <td>3.5</td>\n",
       "      <td>4.0</td>\n",
       "      <td>5.0</td>\n",
       "    </tr>\n",
       "    <tr>\n",
       "      <th>판타지</th>\n",
       "      <td>154033.0</td>\n",
       "      <td>3.435595</td>\n",
       "      <td>1.017752</td>\n",
       "      <td>0.5</td>\n",
       "      <td>3.0</td>\n",
       "      <td>3.5</td>\n",
       "      <td>4.0</td>\n",
       "      <td>5.0</td>\n",
       "    </tr>\n",
       "  </tbody>\n",
       "</table>\n",
       "</div>"
      ],
      "text/plain": [
       "                count      mean       std  min  25%  50%  75%  max\n",
       "main_genre                                                        \n",
       "SF           215534.0  3.514777  1.109599  0.5  3.0  3.5  4.5  5.0\n",
       "가족            30126.0  3.713636  1.017850  0.5  3.0  4.0  4.5  5.0\n",
       "공포           110059.0  3.431369  0.906508  0.5  3.0  3.5  4.0  5.0\n",
       "다큐멘터리         14028.0  3.616410  1.063698  0.5  3.0  4.0  4.5  5.0\n",
       "드라마         1037569.0  3.711571  0.960407  0.5  3.0  4.0  4.5  5.0\n",
       "로맨스/멜로       267678.0  3.603737  1.078451  0.5  3.0  4.0  4.5  5.0\n",
       "로맨틱 코미디       65632.0  3.415034  1.058252  0.5  3.0  3.5  4.0  5.0\n",
       "미상            15022.0  3.823126  1.145861  0.5  3.0  4.0  5.0  5.0\n",
       "범죄           283862.0  3.445657  1.002499  0.5  3.0  3.5  4.0  5.0\n",
       "스릴러          354263.0  3.403062  1.050719  0.5  3.0  3.5  4.0  5.0\n",
       "스릴러              81.0  4.271605  0.591869  2.5  4.0  4.5  4.5  5.0\n",
       "애니메이션        293253.0  3.715867  0.962947  0.5  3.0  4.0  4.5  5.0\n",
       "액션           409011.0  3.372967  1.023818  0.5  3.0  3.5  4.0  5.0\n",
       "전쟁            35871.0  3.159209  1.204000  0.5  2.5  3.0  4.0  5.0\n",
       "코미디          361662.0  3.280762  1.090486  0.5  2.5  3.5  4.0  5.0\n",
       "판타지          154033.0  3.435595  1.017752  0.5  3.0  3.5  4.0  5.0"
      ]
     },
     "execution_count": 33,
     "metadata": {},
     "output_type": "execute_result"
    }
   ],
   "source": [
    "df_m_rating.groupby('main_genre')['rating'].describe()"
   ]
  },
  {
   "cell_type": "markdown",
   "metadata": {},
   "source": [
    "    - 가족, 로멘스, 드라마, 애니메이션 등 가족들이 같이 볼 수 있는건 높은 평점\n",
    "    - 공포, 로맨틱 코미디, 코미디, 전쟁, 액션등은 평가하면서 보나??? 평균이 상대적으로 낮다"
   ]
  },
  {
   "cell_type": "markdown",
   "metadata": {},
   "source": [
    "# 분석할 영화 수는?"
   ]
  },
  {
   "cell_type": "code",
   "execution_count": 34,
   "metadata": {
    "collapsed": false
   },
   "outputs": [
    {
     "data": {
      "text/plain": [
       "6557"
      ]
     },
     "execution_count": 34,
     "metadata": {},
     "output_type": "execute_result"
    }
   ],
   "source": [
    "len(movie_rating['movie_title'].unique())"
   ]
  },
  {
   "cell_type": "markdown",
   "metadata": {},
   "source": [
    "### 별점을 어떻게 주고 있는가?"
   ]
  },
  {
   "cell_type": "code",
   "execution_count": 35,
   "metadata": {
    "collapsed": true
   },
   "outputs": [],
   "source": [
    "import collections"
   ]
  },
  {
   "cell_type": "code",
   "execution_count": 36,
   "metadata": {
    "collapsed": true
   },
   "outputs": [],
   "source": [
    "rating = movie_rating[movie_rating['rating'].notnull()]['rating']"
   ]
  },
  {
   "cell_type": "code",
   "execution_count": 37,
   "metadata": {
    "collapsed": true
   },
   "outputs": [],
   "source": [
    "rh = dict(collections.Counter(rating))"
   ]
  },
  {
   "cell_type": "code",
   "execution_count": 38,
   "metadata": {
    "collapsed": false
   },
   "outputs": [
    {
     "data": {
      "text/plain": [
       "<BarContainer object of 10 artists>"
      ]
     },
     "execution_count": 38,
     "metadata": {},
     "output_type": "execute_result"
    },
    {
     "data": {
      "image/png": "[encoded data removed]",
      "text/plain": [
       "<Figure size 432x288 with 1 Axes>"
      ]
     },
     "metadata": {},
     "output_type": "display_data"
    }
   ],
   "source": [
    "plt.bar(rh.keys(), rh.values())"
   ]
  },
  {
   "cell_type": "markdown",
   "metadata": {},
   "source": [
    "### 도배하는 사람이 있나?"
   ]
  },
  {
   "cell_type": "code",
   "execution_count": 39,
   "metadata": {
    "collapsed": true
   },
   "outputs": [],
   "source": [
    "rh = dict(collections.Counter(movie_rating[movie_rating['username'].notnull()]['username']))"
   ]
  },
  {
   "cell_type": "code",
   "execution_count": 40,
   "metadata": {
    "collapsed": true
   },
   "outputs": [],
   "source": [
    "df_m = pd.DataFrame.from_dict(rh,orient='index')"
   ]
  },
  {
   "cell_type": "code",
   "execution_count": 41,
   "metadata": {
    "collapsed": true
   },
   "outputs": [],
   "source": [
    "df_m.columns = ['count']"
   ]
  },
  {
   "cell_type": "code",
   "execution_count": 304,
   "metadata": {
    "collapsed": false
   },
   "outputs": [
    {
     "data": {
      "text/html": [
       "<div>\n",
       "<style>\n",
       "    .dataframe thead tr:only-child th {\n",
       "        text-align: right;\n",
       "    }\n",
       "\n",
       "    .dataframe thead th {\n",
       "        text-align: left;\n",
       "    }\n",
       "\n",
       "    .dataframe tbody tr th {\n",
       "        vertical-align: top;\n",
       "    }\n",
       "</style>\n",
       "<table border=\"1\" class=\"dataframe\">\n",
       "  <thead>\n",
       "    <tr style=\"text-align: right;\">\n",
       "      <th></th>\n",
       "      <th>count</th>\n",
       "    </tr>\n",
       "  </thead>\n",
       "  <tbody>\n",
       "    <tr>\n",
       "      <th>0</th>\n",
       "      <td>3624</td>\n",
       "    </tr>\n",
       "    <tr>\n",
       "      <th>1</th>\n",
       "      <td>2711</td>\n",
       "    </tr>\n",
       "    <tr>\n",
       "      <th>2</th>\n",
       "      <td>2612</td>\n",
       "    </tr>\n",
       "    <tr>\n",
       "      <th>3</th>\n",
       "      <td>2426</td>\n",
       "    </tr>\n",
       "    <tr>\n",
       "      <th>4</th>\n",
       "      <td>2124</td>\n",
       "    </tr>\n",
       "    <tr>\n",
       "      <th>5</th>\n",
       "      <td>1912</td>\n",
       "    </tr>\n",
       "    <tr>\n",
       "      <th>6</th>\n",
       "      <td>1891</td>\n",
       "    </tr>\n",
       "    <tr>\n",
       "      <th>7</th>\n",
       "      <td>1877</td>\n",
       "    </tr>\n",
       "    <tr>\n",
       "      <th>8</th>\n",
       "      <td>1768</td>\n",
       "    </tr>\n",
       "    <tr>\n",
       "      <th>9</th>\n",
       "      <td>1764</td>\n",
       "    </tr>\n",
       "  </tbody>\n",
       "</table>\n",
       "</div>"
      ],
      "text/plain": [
       "   count\n",
       "0   3624\n",
       "1   2711\n",
       "2   2612\n",
       "3   2426\n",
       "4   2124\n",
       "5   1912\n",
       "6   1891\n",
       "7   1877\n",
       "8   1768\n",
       "9   1764"
      ]
     },
     "execution_count": 304,
     "metadata": {},
     "output_type": "execute_result"
    }
   ],
   "source": [
    "df_m.sort_values(by='count', ascending=False).head(10)"
   ]
  },
  {
   "cell_type": "code",
   "execution_count": 42,
   "metadata": {
    "collapsed": false
   },
   "outputs": [
    {
     "data": {
      "text/html": [
       "<div>\n",
       "<style>\n",
       "    .dataframe thead tr:only-child th {\n",
       "        text-align: right;\n",
       "    }\n",
       "\n",
       "    .dataframe thead th {\n",
       "        text-align: left;\n",
       "    }\n",
       "\n",
       "    .dataframe tbody tr th {\n",
       "        vertical-align: top;\n",
       "    }\n",
       "</style>\n",
       "<table border=\"1\" class=\"dataframe\">\n",
       "  <thead>\n",
       "    <tr style=\"text-align: right;\">\n",
       "      <th></th>\n",
       "      <th>count</th>\n",
       "    </tr>\n",
       "  </thead>\n",
       "  <tbody>\n",
       "    <tr>\n",
       "      <th>count</th>\n",
       "      <td>96056.000000</td>\n",
       "    </tr>\n",
       "    <tr>\n",
       "      <th>mean</th>\n",
       "      <td>33.871346</td>\n",
       "    </tr>\n",
       "    <tr>\n",
       "      <th>std</th>\n",
       "      <td>86.901925</td>\n",
       "    </tr>\n",
       "    <tr>\n",
       "      <th>min</th>\n",
       "      <td>1.000000</td>\n",
       "    </tr>\n",
       "    <tr>\n",
       "      <th>25%</th>\n",
       "      <td>2.000000</td>\n",
       "    </tr>\n",
       "    <tr>\n",
       "      <th>50%</th>\n",
       "      <td>7.000000</td>\n",
       "    </tr>\n",
       "    <tr>\n",
       "      <th>75%</th>\n",
       "      <td>29.000000</td>\n",
       "    </tr>\n",
       "    <tr>\n",
       "      <th>max</th>\n",
       "      <td>3624.000000</td>\n",
       "    </tr>\n",
       "  </tbody>\n",
       "</table>\n",
       "</div>"
      ],
      "text/plain": [
       "              count\n",
       "count  96056.000000\n",
       "mean      33.871346\n",
       "std       86.901925\n",
       "min        1.000000\n",
       "25%        2.000000\n",
       "50%        7.000000\n",
       "75%       29.000000\n",
       "max     3624.000000"
      ]
     },
     "execution_count": 42,
     "metadata": {},
     "output_type": "execute_result"
    }
   ],
   "source": [
    "df_m.describe()"
   ]
  },
  {
   "cell_type": "markdown",
   "metadata": {},
   "source": [
    "50%가 7개 이내의 댓글을 기록하고 있다"
   ]
  },
  {
   "cell_type": "code",
   "execution_count": 56,
   "metadata": {
    "collapsed": true
   },
   "outputs": [],
   "source": [
    "df_m.sort_values('count', ascending=False, inplace=True)"
   ]
  },
  {
   "cell_type": "code",
   "execution_count": 57,
   "metadata": {
    "collapsed": true
   },
   "outputs": [],
   "source": [
    "df_m.reset_index(drop=True, inplace=True)"
   ]
  },
  {
   "cell_type": "code",
   "execution_count": 58,
   "metadata": {
    "collapsed": false
   },
   "outputs": [
    {
     "data": {
      "text/html": [
       "<div>\n",
       "<style>\n",
       "    .dataframe thead tr:only-child th {\n",
       "        text-align: right;\n",
       "    }\n",
       "\n",
       "    .dataframe thead th {\n",
       "        text-align: left;\n",
       "    }\n",
       "\n",
       "    .dataframe tbody tr th {\n",
       "        vertical-align: top;\n",
       "    }\n",
       "</style>\n",
       "<table border=\"1\" class=\"dataframe\">\n",
       "  <thead>\n",
       "    <tr style=\"text-align: right;\">\n",
       "      <th></th>\n",
       "      <th>count</th>\n",
       "    </tr>\n",
       "  </thead>\n",
       "  <tbody>\n",
       "    <tr>\n",
       "      <th>0</th>\n",
       "      <td>3624</td>\n",
       "    </tr>\n",
       "    <tr>\n",
       "      <th>1</th>\n",
       "      <td>2711</td>\n",
       "    </tr>\n",
       "    <tr>\n",
       "      <th>2</th>\n",
       "      <td>2612</td>\n",
       "    </tr>\n",
       "    <tr>\n",
       "      <th>3</th>\n",
       "      <td>2426</td>\n",
       "    </tr>\n",
       "    <tr>\n",
       "      <th>4</th>\n",
       "      <td>2124</td>\n",
       "    </tr>\n",
       "  </tbody>\n",
       "</table>\n",
       "</div>"
      ],
      "text/plain": [
       "   count\n",
       "0   3624\n",
       "1   2711\n",
       "2   2612\n",
       "3   2426\n",
       "4   2124"
      ]
     },
     "execution_count": 58,
     "metadata": {},
     "output_type": "execute_result"
    }
   ],
   "source": [
    "df_m.head()"
   ]
  },
  {
   "cell_type": "code",
   "execution_count": 75,
   "metadata": {
    "collapsed": false
   },
   "outputs": [
    {
     "data": {
      "image/png": "[encoded data removed]",
      "text/plain": [
       "<Figure size 2160x576 with 1 Axes>"
      ]
     },
     "metadata": {},
     "output_type": "display_data"
    }
   ],
   "source": [
    "#댓글을 사람순으로 볼때 어떻게 쓰나?\n",
    "\n",
    "df_m.plot(figsize=(30,8))\n",
    "\n",
    "plt.show()"
   ]
  },
  {
   "cell_type": "code",
   "execution_count": 74,
   "metadata": {
    "collapsed": false
   },
   "outputs": [
    {
     "data": {
      "image/png": "[encoded data removed]",
      "text/plain": [
       "<Figure size 2880x576 with 1 Axes>"
      ]
     },
     "metadata": {},
     "output_type": "display_data"
    }
   ],
   "source": [
    "#히스토그램으로 볼때 30이내가 압도적\n",
    "df_m.sort_values('count', ascending=False).hist(bins = 100, figsize=(40,8))\n",
    "plt.show()"
   ]
  },
  {
   "cell_type": "code",
   "execution_count": 61,
   "metadata": {
    "collapsed": false
   },
   "outputs": [
    {
     "data": {
      "text/plain": [
       "count    110\n",
       "dtype: int64"
      ]
     },
     "execution_count": 61,
     "metadata": {},
     "output_type": "execute_result"
    }
   ],
   "source": [
    "#100개 이상 쓴 사람의 수는?\n",
    "df_m[df_m['count'] >= 1000].count()"
   ]
  },
  {
   "cell_type": "code",
   "execution_count": 78,
   "metadata": {
    "collapsed": false
   },
   "outputs": [
    {
     "data": {
      "text/html": [
       "<div>\n",
       "<style>\n",
       "    .dataframe thead tr:only-child th {\n",
       "        text-align: right;\n",
       "    }\n",
       "\n",
       "    .dataframe thead th {\n",
       "        text-align: left;\n",
       "    }\n",
       "\n",
       "    .dataframe tbody tr th {\n",
       "        vertical-align: top;\n",
       "    }\n",
       "</style>\n",
       "<table border=\"1\" class=\"dataframe\">\n",
       "  <thead>\n",
       "    <tr style=\"text-align: right;\">\n",
       "      <th></th>\n",
       "      <th>movie_title</th>\n",
       "      <th>rating</th>\n",
       "      <th>text</th>\n",
       "      <th>username</th>\n",
       "    </tr>\n",
       "  </thead>\n",
       "  <tbody>\n",
       "    <tr>\n",
       "      <th>3253541</th>\n",
       "      <td>금지된 섹스, 달콤한 복수</td>\n",
       "      <td>0.5</td>\n",
       "      <td>시간 낭비하기 딱 좋은 영화.</td>\n",
       "      <td>얼그레이</td>\n",
       "    </tr>\n",
       "    <tr>\n",
       "      <th>3253542</th>\n",
       "      <td>금지된 섹스, 달콤한 복수</td>\n",
       "      <td>0.5</td>\n",
       "      <td>이건 무슨 시츄에이션 인지\\n하기사 이런 영화를 본것이 죄라면 죄지\\n그래도 한마디...</td>\n",
       "      <td>헐리우드영화인생24년</td>\n",
       "    </tr>\n",
       "    <tr>\n",
       "      <th>3253543</th>\n",
       "      <td>금지된 섹스, 달콤한 복수</td>\n",
       "      <td>1</td>\n",
       "      <td>도대체 이런 영화는 왜 만드는 건지...</td>\n",
       "      <td>백선우</td>\n",
       "    </tr>\n",
       "    <tr>\n",
       "      <th>3253544</th>\n",
       "      <td>금지된 섹스, 달콤한 복수</td>\n",
       "      <td>1</td>\n",
       "      <td>-----</td>\n",
       "      <td>김용진</td>\n",
       "    </tr>\n",
       "    <tr>\n",
       "      <th>3253545</th>\n",
       "      <td>금지된 섹스, 달콤한 복수</td>\n",
       "      <td>0.5</td>\n",
       "      <td>내 1시간 14분...</td>\n",
       "      <td>조창현</td>\n",
       "    </tr>\n",
       "  </tbody>\n",
       "</table>\n",
       "</div>"
      ],
      "text/plain": [
       "            movie_title rating  \\\n",
       "3253541  금지된 섹스, 달콤한 복수    0.5   \n",
       "3253542  금지된 섹스, 달콤한 복수    0.5   \n",
       "3253543  금지된 섹스, 달콤한 복수      1   \n",
       "3253544  금지된 섹스, 달콤한 복수      1   \n",
       "3253545  금지된 섹스, 달콤한 복수    0.5   \n",
       "\n",
       "                                                      text     username  \n",
       "3253541                                   시간 낭비하기 딱 좋은 영화.         얼그레이  \n",
       "3253542  이건 무슨 시츄에이션 인지\\n하기사 이런 영화를 본것이 죄라면 죄지\\n그래도 한마디...  헐리우드영화인생24년  \n",
       "3253543                             도대체 이런 영화는 왜 만드는 건지...          백선우  \n",
       "3253544                                              -----          김용진  \n",
       "3253545                                       내 1시간 14분...          조창현  "
      ]
     },
     "execution_count": 78,
     "metadata": {},
     "output_type": "execute_result"
    }
   ],
   "source": [
    "movie_rating.tail()"
   ]
  },
  {
   "cell_type": "code",
   "execution_count": 83,
   "metadata": {
    "collapsed": true
   },
   "outputs": [],
   "source": [
    "t = movie_rating[movie_rating['movie_title'] == '앤트맨과 와스프']['rating']"
   ]
  },
  {
   "cell_type": "code",
   "execution_count": 84,
   "metadata": {
    "collapsed": false
   },
   "outputs": [
    {
     "data": {
      "text/plain": [
       "count     5398.0\n",
       "unique      10.0\n",
       "top          3.5\n",
       "freq      1671.0\n",
       "Name: rating, dtype: float64"
      ]
     },
     "execution_count": 84,
     "metadata": {},
     "output_type": "execute_result"
    }
   ],
   "source": [
    "t.describe()"
   ]
  },
  {
   "cell_type": "code",
   "execution_count": 89,
   "metadata": {
    "collapsed": false
   },
   "outputs": [
    {
     "data": {
      "text/plain": [
       "array([4.0, 3.5, 3.5, ..., 4.0, 3.5, 2.5], dtype=object)"
      ]
     },
     "execution_count": 89,
     "metadata": {},
     "output_type": "execute_result"
    }
   ],
   "source": [
    "t.values"
   ]
  },
  {
   "cell_type": "code",
   "execution_count": null,
   "metadata": {
    "collapsed": true
   },
   "outputs": [],
   "source": []
  },
  {
   "cell_type": "markdown",
   "metadata": {},
   "source": [
    "# 텍스트 마이닝을 시작해보자"
   ]
  },
  {
   "cell_type": "markdown",
   "metadata": {},
   "source": [
    "<div> <img src = http://ahnsamo.kr/files/attach/images/545804/604/250/001/e02c5b37c4ffbec9ec0f64c4bab24633.jpg> </div>"
   ]
  },
  {
   "cell_type": "markdown",
   "metadata": {},
   "source": [
    "# 1. 한글만 취한다."
   ]
  },
  {
   "cell_type": "code",
   "execution_count": 90,
   "metadata": {
    "collapsed": true
   },
   "outputs": [],
   "source": [
    "import re"
   ]
  },
  {
   "cell_type": "code",
   "execution_count": 98,
   "metadata": {
    "collapsed": false
   },
   "outputs": [
    {
     "data": {
      "text/html": [
       "<div>\n",
       "<style>\n",
       "    .dataframe thead tr:only-child th {\n",
       "        text-align: right;\n",
       "    }\n",
       "\n",
       "    .dataframe thead th {\n",
       "        text-align: left;\n",
       "    }\n",
       "\n",
       "    .dataframe tbody tr th {\n",
       "        vertical-align: top;\n",
       "    }\n",
       "</style>\n",
       "<table border=\"1\" class=\"dataframe\">\n",
       "  <thead>\n",
       "    <tr style=\"text-align: right;\">\n",
       "      <th></th>\n",
       "      <th>movie_title</th>\n",
       "      <th>rating</th>\n",
       "      <th>text</th>\n",
       "      <th>username</th>\n",
       "      <th>main_genre</th>\n",
       "    </tr>\n",
       "  </thead>\n",
       "  <tbody>\n",
       "    <tr>\n",
       "      <th>0</th>\n",
       "      <td>말타의 매</td>\n",
       "      <td>4.5</td>\n",
       "      <td>필름 누아르의 시작은 관객에 대한 배반이었다.\\n-\\n탐정 주인공 샘 스페이드. 그...</td>\n",
       "      <td>jose0</td>\n",
       "      <td>범죄</td>\n",
       "    </tr>\n",
       "    <tr>\n",
       "      <th>1</th>\n",
       "      <td>말타의 매</td>\n",
       "      <td>5.0</td>\n",
       "      <td>그 복잡한 내막을 단 한번도 막힘없이 술술 풀어나가는 존 휴스턴의 스토리텔링. 과연...</td>\n",
       "      <td>Eagleeye17</td>\n",
       "      <td>범죄</td>\n",
       "    </tr>\n",
       "    <tr>\n",
       "      <th>2</th>\n",
       "      <td>말타의 매</td>\n",
       "      <td>4.0</td>\n",
       "      <td>내 이름은 험프리 보카트.\\n탐정이죠.</td>\n",
       "      <td>sorom</td>\n",
       "      <td>범죄</td>\n",
       "    </tr>\n",
       "    <tr>\n",
       "      <th>3</th>\n",
       "      <td>말타의 매</td>\n",
       "      <td>4.0</td>\n",
       "      <td>허무와 냉소의 수많은 검은 영화들은 검디검은 매를 타고 칠흑같이 어두운 도시의 밤에...</td>\n",
       "      <td>박진효</td>\n",
       "      <td>범죄</td>\n",
       "    </tr>\n",
       "    <tr>\n",
       "      <th>4</th>\n",
       "      <td>말타의 매</td>\n",
       "      <td>3.5</td>\n",
       "      <td>고전적 Film Noir가 무엇인지 알고 싶다면 이 영화를 보는 것도 나쁘지 않아요!</td>\n",
       "      <td>moviemon94</td>\n",
       "      <td>범죄</td>\n",
       "    </tr>\n",
       "  </tbody>\n",
       "</table>\n",
       "</div>"
      ],
      "text/plain": [
       "  movie_title  rating                                               text  \\\n",
       "0       말타의 매     4.5  필름 누아르의 시작은 관객에 대한 배반이었다.\\n-\\n탐정 주인공 샘 스페이드. 그...   \n",
       "1       말타의 매     5.0  그 복잡한 내막을 단 한번도 막힘없이 술술 풀어나가는 존 휴스턴의 스토리텔링. 과연...   \n",
       "2       말타의 매     4.0                              내 이름은 험프리 보카트.\\n탐정이죠.   \n",
       "3       말타의 매     4.0  허무와 냉소의 수많은 검은 영화들은 검디검은 매를 타고 칠흑같이 어두운 도시의 밤에...   \n",
       "4       말타의 매     3.5    고전적 Film Noir가 무엇인지 알고 싶다면 이 영화를 보는 것도 나쁘지 않아요!   \n",
       "\n",
       "     username main_genre  \n",
       "0       jose0         범죄  \n",
       "1  Eagleeye17         범죄  \n",
       "2       sorom         범죄  \n",
       "3         박진효         범죄  \n",
       "4  moviemon94         범죄  "
      ]
     },
     "execution_count": 98,
     "metadata": {},
     "output_type": "execute_result"
    }
   ],
   "source": [
    "#우리가 해야할 대상\n",
    "df_m_rating.head()"
   ]
  },
  {
   "cell_type": "code",
   "execution_count": 99,
   "metadata": {
    "collapsed": false
   },
   "outputs": [
    {
     "data": {
      "text/plain": [
       "(3658134, 5)"
      ]
     },
     "execution_count": 99,
     "metadata": {},
     "output_type": "execute_result"
    }
   ],
   "source": [
    "df_m_rating.shape"
   ]
  },
  {
   "cell_type": "code",
   "execution_count": 100,
   "metadata": {
    "collapsed": true
   },
   "outputs": [],
   "source": [
    "df_m_rating.drop_duplicates(inplace=True)"
   ]
  },
  {
   "cell_type": "code",
   "execution_count": 108,
   "metadata": {
    "collapsed": false
   },
   "outputs": [
    {
     "data": {
      "text/plain": [
       "(3483604, 5)"
      ]
     },
     "execution_count": 108,
     "metadata": {},
     "output_type": "execute_result"
    }
   ],
   "source": [
    "df_m_rating.shape"
   ]
  },
  {
   "cell_type": "code",
   "execution_count": 109,
   "metadata": {
    "collapsed": true
   },
   "outputs": [],
   "source": [
    "movie_rating = df_m_rating.reset_index(drop=True)"
   ]
  },
  {
   "cell_type": "code",
   "execution_count": 110,
   "metadata": {
    "collapsed": false
   },
   "outputs": [
    {
     "data": {
      "text/html": [
       "<div>\n",
       "<style>\n",
       "    .dataframe thead tr:only-child th {\n",
       "        text-align: right;\n",
       "    }\n",
       "\n",
       "    .dataframe thead th {\n",
       "        text-align: left;\n",
       "    }\n",
       "\n",
       "    .dataframe tbody tr th {\n",
       "        vertical-align: top;\n",
       "    }\n",
       "</style>\n",
       "<table border=\"1\" class=\"dataframe\">\n",
       "  <thead>\n",
       "    <tr style=\"text-align: right;\">\n",
       "      <th></th>\n",
       "      <th>movie_title</th>\n",
       "      <th>rating</th>\n",
       "      <th>text</th>\n",
       "      <th>username</th>\n",
       "      <th>main_genre</th>\n",
       "    </tr>\n",
       "  </thead>\n",
       "  <tbody>\n",
       "    <tr>\n",
       "      <th>0</th>\n",
       "      <td>말타의 매</td>\n",
       "      <td>4.5</td>\n",
       "      <td>필름 누아르의 시작은 관객에 대한 배반이었다.\\n-\\n탐정 주인공 샘 스페이드. 그...</td>\n",
       "      <td>jose0</td>\n",
       "      <td>범죄</td>\n",
       "    </tr>\n",
       "    <tr>\n",
       "      <th>1</th>\n",
       "      <td>말타의 매</td>\n",
       "      <td>5.0</td>\n",
       "      <td>그 복잡한 내막을 단 한번도 막힘없이 술술 풀어나가는 존 휴스턴의 스토리텔링. 과연...</td>\n",
       "      <td>Eagleeye17</td>\n",
       "      <td>범죄</td>\n",
       "    </tr>\n",
       "    <tr>\n",
       "      <th>2</th>\n",
       "      <td>말타의 매</td>\n",
       "      <td>4.0</td>\n",
       "      <td>내 이름은 험프리 보카트.\\n탐정이죠.</td>\n",
       "      <td>sorom</td>\n",
       "      <td>범죄</td>\n",
       "    </tr>\n",
       "    <tr>\n",
       "      <th>3</th>\n",
       "      <td>말타의 매</td>\n",
       "      <td>4.0</td>\n",
       "      <td>허무와 냉소의 수많은 검은 영화들은 검디검은 매를 타고 칠흑같이 어두운 도시의 밤에...</td>\n",
       "      <td>박진효</td>\n",
       "      <td>범죄</td>\n",
       "    </tr>\n",
       "    <tr>\n",
       "      <th>4</th>\n",
       "      <td>말타의 매</td>\n",
       "      <td>3.5</td>\n",
       "      <td>고전적 Film Noir가 무엇인지 알고 싶다면 이 영화를 보는 것도 나쁘지 않아요!</td>\n",
       "      <td>moviemon94</td>\n",
       "      <td>범죄</td>\n",
       "    </tr>\n",
       "  </tbody>\n",
       "</table>\n",
       "</div>"
      ],
      "text/plain": [
       "  movie_title  rating                                               text  \\\n",
       "0       말타의 매     4.5  필름 누아르의 시작은 관객에 대한 배반이었다.\\n-\\n탐정 주인공 샘 스페이드. 그...   \n",
       "1       말타의 매     5.0  그 복잡한 내막을 단 한번도 막힘없이 술술 풀어나가는 존 휴스턴의 스토리텔링. 과연...   \n",
       "2       말타의 매     4.0                              내 이름은 험프리 보카트.\\n탐정이죠.   \n",
       "3       말타의 매     4.0  허무와 냉소의 수많은 검은 영화들은 검디검은 매를 타고 칠흑같이 어두운 도시의 밤에...   \n",
       "4       말타의 매     3.5    고전적 Film Noir가 무엇인지 알고 싶다면 이 영화를 보는 것도 나쁘지 않아요!   \n",
       "\n",
       "     username main_genre  \n",
       "0       jose0         범죄  \n",
       "1  Eagleeye17         범죄  \n",
       "2       sorom         범죄  \n",
       "3         박진효         범죄  \n",
       "4  moviemon94         범죄  "
      ]
     },
     "execution_count": 110,
     "metadata": {},
     "output_type": "execute_result"
    }
   ],
   "source": [
    "movie_rating.head()"
   ]
  },
  {
   "cell_type": "code",
   "execution_count": 111,
   "metadata": {
    "collapsed": false
   },
   "outputs": [
    {
     "data": {
      "text/plain": [
       "(3483604, 5)"
      ]
     },
     "execution_count": 111,
     "metadata": {},
     "output_type": "execute_result"
    }
   ],
   "source": [
    "movie_rating.shape"
   ]
  },
  {
   "cell_type": "code",
   "execution_count": null,
   "metadata": {
    "collapsed": true
   },
   "outputs": [],
   "source": []
  },
  {
   "cell_type": "code",
   "execution_count": 112,
   "metadata": {
    "collapsed": true
   },
   "outputs": [],
   "source": [
    "hangul = re.compile('[^ ㄱ-ㅣ가-힣]+')\n",
    "hangulresult = [hangul.sub('',t) for t in movie_rating['text'].astype(str)]\n"
   ]
  },
  {
   "cell_type": "markdown",
   "metadata": {
    "collapsed": true
   },
   "source": [
    "#추출가능\n",
    "RE_EMOJI = re.compile('[\\U00010000-\\U0010ffff]', flags=re.UNICODE)\n",
    "#RE_EMOJI.sub(r'', text)\n",
    "text = [RE_EMOJI.sub('',t) for t in text  if  t  != \"\"]"
   ]
  },
  {
   "cell_type": "code",
   "execution_count": 113,
   "metadata": {
    "collapsed": true
   },
   "outputs": [],
   "source": [
    "#하나 이상의 공백은 하나로 처리\n",
    "hangulresult = [re.sub(' +',' ',t) for t in hangulresult]"
   ]
  },
  {
   "cell_type": "code",
   "execution_count": 114,
   "metadata": {
    "collapsed": true
   },
   "outputs": [],
   "source": [
    "#좌우공백 제거\n",
    "hangulresult = [t.strip() for t in hangulresult]"
   ]
  },
  {
   "cell_type": "code",
   "execution_count": 119,
   "metadata": {
    "collapsed": false
   },
   "outputs": [
    {
     "data": {
      "text/plain": [
       "['잊을수 없는 명대사 명장면이 많았던 임팩트 있는 영화',\n",
       " '완벽히 흐르는 대사와 내용러닝타임 안에서 보여줄 수 있는 가장 모범적인 흐름이라 생각한다',\n",
       " '세월이 지나고 나니 마음속 평가가 박해지는 영화',\n",
       " '이 이후에 이런 캐스팅 연출 시나리오가 또나올까',\n",
       " '그래도 친구 아이가',\n",
       " '청소년 관람불가 였지만 그 당시 남자라면 연령불문하고챙겨본 영화였고 그때의 유행어가 지금까지도 회자되고 있다비록 케이블에서는 영화를 시체처럼 편집하고 있지만',\n",
       " '인생영화',\n",
       " '한 십수년 뒤에 한국 느와르 영화의 역사를 서술한다면 가장 상징적인 영화로 기록되지 않을까 텍스트만이 아니라 컨텍스트의 측면에서도 모두',\n",
       " '곽경택의 로또',\n",
       " '의리',\n",
       " '참 많은 얘깃거리룰 만들었음은 확실하다 곽경택 감독의 대표작',\n",
       " '투박하고 평범한 연출에 비해 년대 초반 이 영화가 남긴 수많은 명대사들과 명장면만으로도',\n",
       " '대부에 비견할만한 한국판 느와르 걸작',\n",
       " '나이 먹고 다시 보니 또 다른 느낌',\n",
       " '친구에 대한 동경이 질투가 되고 돌이키기 어려운곳 까지 와버렸다 따라잡기 위해 선택한 쉬운 방법은 대부분 정도는 아닌 듯',\n",
       " '고마해라 마이 뭇다 아이가',\n",
       " '친구야 같이 가자 눈물을 닦고 가자',\n",
       " '유행어가 아직까지 여기저기서 쓰이는거보면 대단하긴했던영화지 난 솔직히 그냥그랬음',\n",
       " '개봉 첫날 봤다 너무 잔인해서 그날 저녁을 못 먹었다',\n",
       " '케미의 시작은 조오련과 거북이부터']"
      ]
     },
     "execution_count": 119,
     "metadata": {},
     "output_type": "execute_result"
    }
   ],
   "source": [
    "hangulresult[25045:25065]"
   ]
  },
  {
   "cell_type": "code",
   "execution_count": 115,
   "metadata": {
    "collapsed": false
   },
   "outputs": [
    {
     "data": {
      "text/plain": [
       "3483604"
      ]
     },
     "execution_count": 115,
     "metadata": {},
     "output_type": "execute_result"
    }
   ],
   "source": [
    "len(hangulresult)"
   ]
  },
  {
   "cell_type": "code",
   "execution_count": 120,
   "metadata": {
    "collapsed": true
   },
   "outputs": [],
   "source": [
    "movie_rating['new_text'] = hangulresult"
   ]
  },
  {
   "cell_type": "code",
   "execution_count": 121,
   "metadata": {
    "collapsed": false
   },
   "outputs": [
    {
     "data": {
      "text/html": [
       "<div>\n",
       "<style>\n",
       "    .dataframe thead tr:only-child th {\n",
       "        text-align: right;\n",
       "    }\n",
       "\n",
       "    .dataframe thead th {\n",
       "        text-align: left;\n",
       "    }\n",
       "\n",
       "    .dataframe tbody tr th {\n",
       "        vertical-align: top;\n",
       "    }\n",
       "</style>\n",
       "<table border=\"1\" class=\"dataframe\">\n",
       "  <thead>\n",
       "    <tr style=\"text-align: right;\">\n",
       "      <th></th>\n",
       "      <th>movie_title</th>\n",
       "      <th>rating</th>\n",
       "      <th>text</th>\n",
       "      <th>username</th>\n",
       "      <th>main_genre</th>\n",
       "      <th>new_text</th>\n",
       "    </tr>\n",
       "  </thead>\n",
       "  <tbody>\n",
       "    <tr>\n",
       "      <th>0</th>\n",
       "      <td>말타의 매</td>\n",
       "      <td>4.5</td>\n",
       "      <td>필름 누아르의 시작은 관객에 대한 배반이었다.\\n-\\n탐정 주인공 샘 스페이드. 그...</td>\n",
       "      <td>jose0</td>\n",
       "      <td>범죄</td>\n",
       "      <td>필름 누아르의 시작은 관객에 대한 배반이었다탐정 주인공 샘 스페이드 그 남자 흉폭하...</td>\n",
       "    </tr>\n",
       "    <tr>\n",
       "      <th>1</th>\n",
       "      <td>말타의 매</td>\n",
       "      <td>5.0</td>\n",
       "      <td>그 복잡한 내막을 단 한번도 막힘없이 술술 풀어나가는 존 휴스턴의 스토리텔링. 과연...</td>\n",
       "      <td>Eagleeye17</td>\n",
       "      <td>범죄</td>\n",
       "      <td>그 복잡한 내막을 단 한번도 막힘없이 술술 풀어나가는 존 휴스턴의 스토리텔링 과연 ...</td>\n",
       "    </tr>\n",
       "    <tr>\n",
       "      <th>2</th>\n",
       "      <td>말타의 매</td>\n",
       "      <td>4.0</td>\n",
       "      <td>내 이름은 험프리 보카트.\\n탐정이죠.</td>\n",
       "      <td>sorom</td>\n",
       "      <td>범죄</td>\n",
       "      <td>내 이름은 험프리 보카트탐정이죠</td>\n",
       "    </tr>\n",
       "    <tr>\n",
       "      <th>3</th>\n",
       "      <td>말타의 매</td>\n",
       "      <td>4.0</td>\n",
       "      <td>허무와 냉소의 수많은 검은 영화들은 검디검은 매를 타고 칠흑같이 어두운 도시의 밤에...</td>\n",
       "      <td>박진효</td>\n",
       "      <td>범죄</td>\n",
       "      <td>허무와 냉소의 수많은 검은 영화들은 검디검은 매를 타고 칠흑같이 어두운 도시의 밤에...</td>\n",
       "    </tr>\n",
       "    <tr>\n",
       "      <th>4</th>\n",
       "      <td>말타의 매</td>\n",
       "      <td>3.5</td>\n",
       "      <td>고전적 Film Noir가 무엇인지 알고 싶다면 이 영화를 보는 것도 나쁘지 않아요!</td>\n",
       "      <td>moviemon94</td>\n",
       "      <td>범죄</td>\n",
       "      <td>고전적 가 무엇인지 알고 싶다면 이 영화를 보는 것도 나쁘지 않아요</td>\n",
       "    </tr>\n",
       "  </tbody>\n",
       "</table>\n",
       "</div>"
      ],
      "text/plain": [
       "  movie_title  rating                                               text  \\\n",
       "0       말타의 매     4.5  필름 누아르의 시작은 관객에 대한 배반이었다.\\n-\\n탐정 주인공 샘 스페이드. 그...   \n",
       "1       말타의 매     5.0  그 복잡한 내막을 단 한번도 막힘없이 술술 풀어나가는 존 휴스턴의 스토리텔링. 과연...   \n",
       "2       말타의 매     4.0                              내 이름은 험프리 보카트.\\n탐정이죠.   \n",
       "3       말타의 매     4.0  허무와 냉소의 수많은 검은 영화들은 검디검은 매를 타고 칠흑같이 어두운 도시의 밤에...   \n",
       "4       말타의 매     3.5    고전적 Film Noir가 무엇인지 알고 싶다면 이 영화를 보는 것도 나쁘지 않아요!   \n",
       "\n",
       "     username main_genre                                           new_text  \n",
       "0       jose0         범죄  필름 누아르의 시작은 관객에 대한 배반이었다탐정 주인공 샘 스페이드 그 남자 흉폭하...  \n",
       "1  Eagleeye17         범죄  그 복잡한 내막을 단 한번도 막힘없이 술술 풀어나가는 존 휴스턴의 스토리텔링 과연 ...  \n",
       "2       sorom         범죄                                  내 이름은 험프리 보카트탐정이죠  \n",
       "3         박진효         범죄  허무와 냉소의 수많은 검은 영화들은 검디검은 매를 타고 칠흑같이 어두운 도시의 밤에...  \n",
       "4  moviemon94         범죄              고전적 가 무엇인지 알고 싶다면 이 영화를 보는 것도 나쁘지 않아요  "
      ]
     },
     "execution_count": 121,
     "metadata": {},
     "output_type": "execute_result"
    }
   ],
   "source": [
    "movie_rating.head()"
   ]
  },
  {
   "cell_type": "code",
   "execution_count": 124,
   "metadata": {
    "collapsed": true
   },
   "outputs": [],
   "source": [
    "index = [ True if len(t) > 10 else False for t in movie_rating['new_text'] ]"
   ]
  },
  {
   "cell_type": "code",
   "execution_count": 125,
   "metadata": {
    "collapsed": true
   },
   "outputs": [],
   "source": [
    "movie_rating = movie_rating.loc[index]"
   ]
  },
  {
   "cell_type": "code",
   "execution_count": 126,
   "metadata": {
    "collapsed": false
   },
   "outputs": [
    {
     "data": {
      "text/plain": [
       "(2965505, 6)"
      ]
     },
     "execution_count": 126,
     "metadata": {},
     "output_type": "execute_result"
    }
   ],
   "source": [
    "movie_rating.shape"
   ]
  },
  {
   "cell_type": "code",
   "execution_count": 127,
   "metadata": {
    "collapsed": false
   },
   "outputs": [
    {
     "data": {
      "text/html": [
       "<div>\n",
       "<style>\n",
       "    .dataframe thead tr:only-child th {\n",
       "        text-align: right;\n",
       "    }\n",
       "\n",
       "    .dataframe thead th {\n",
       "        text-align: left;\n",
       "    }\n",
       "\n",
       "    .dataframe tbody tr th {\n",
       "        vertical-align: top;\n",
       "    }\n",
       "</style>\n",
       "<table border=\"1\" class=\"dataframe\">\n",
       "  <thead>\n",
       "    <tr style=\"text-align: right;\">\n",
       "      <th></th>\n",
       "      <th>movie_title</th>\n",
       "      <th>rating</th>\n",
       "      <th>text</th>\n",
       "      <th>username</th>\n",
       "      <th>main_genre</th>\n",
       "      <th>new_text</th>\n",
       "    </tr>\n",
       "  </thead>\n",
       "  <tbody>\n",
       "    <tr>\n",
       "      <th>0</th>\n",
       "      <td>말타의 매</td>\n",
       "      <td>4.5</td>\n",
       "      <td>필름 누아르의 시작은 관객에 대한 배반이었다.\\n-\\n탐정 주인공 샘 스페이드. 그...</td>\n",
       "      <td>jose0</td>\n",
       "      <td>범죄</td>\n",
       "      <td>필름 누아르의 시작은 관객에 대한 배반이었다탐정 주인공 샘 스페이드 그 남자 흉폭하...</td>\n",
       "    </tr>\n",
       "    <tr>\n",
       "      <th>1</th>\n",
       "      <td>말타의 매</td>\n",
       "      <td>5.0</td>\n",
       "      <td>그 복잡한 내막을 단 한번도 막힘없이 술술 풀어나가는 존 휴스턴의 스토리텔링. 과연...</td>\n",
       "      <td>Eagleeye17</td>\n",
       "      <td>범죄</td>\n",
       "      <td>그 복잡한 내막을 단 한번도 막힘없이 술술 풀어나가는 존 휴스턴의 스토리텔링 과연 ...</td>\n",
       "    </tr>\n",
       "    <tr>\n",
       "      <th>2</th>\n",
       "      <td>말타의 매</td>\n",
       "      <td>4.0</td>\n",
       "      <td>내 이름은 험프리 보카트.\\n탐정이죠.</td>\n",
       "      <td>sorom</td>\n",
       "      <td>범죄</td>\n",
       "      <td>내 이름은 험프리 보카트탐정이죠</td>\n",
       "    </tr>\n",
       "    <tr>\n",
       "      <th>3</th>\n",
       "      <td>말타의 매</td>\n",
       "      <td>4.0</td>\n",
       "      <td>허무와 냉소의 수많은 검은 영화들은 검디검은 매를 타고 칠흑같이 어두운 도시의 밤에...</td>\n",
       "      <td>박진효</td>\n",
       "      <td>범죄</td>\n",
       "      <td>허무와 냉소의 수많은 검은 영화들은 검디검은 매를 타고 칠흑같이 어두운 도시의 밤에...</td>\n",
       "    </tr>\n",
       "    <tr>\n",
       "      <th>4</th>\n",
       "      <td>말타의 매</td>\n",
       "      <td>3.5</td>\n",
       "      <td>고전적 Film Noir가 무엇인지 알고 싶다면 이 영화를 보는 것도 나쁘지 않아요!</td>\n",
       "      <td>moviemon94</td>\n",
       "      <td>범죄</td>\n",
       "      <td>고전적 가 무엇인지 알고 싶다면 이 영화를 보는 것도 나쁘지 않아요</td>\n",
       "    </tr>\n",
       "  </tbody>\n",
       "</table>\n",
       "</div>"
      ],
      "text/plain": [
       "  movie_title  rating                                               text  \\\n",
       "0       말타의 매     4.5  필름 누아르의 시작은 관객에 대한 배반이었다.\\n-\\n탐정 주인공 샘 스페이드. 그...   \n",
       "1       말타의 매     5.0  그 복잡한 내막을 단 한번도 막힘없이 술술 풀어나가는 존 휴스턴의 스토리텔링. 과연...   \n",
       "2       말타의 매     4.0                              내 이름은 험프리 보카트.\\n탐정이죠.   \n",
       "3       말타의 매     4.0  허무와 냉소의 수많은 검은 영화들은 검디검은 매를 타고 칠흑같이 어두운 도시의 밤에...   \n",
       "4       말타의 매     3.5    고전적 Film Noir가 무엇인지 알고 싶다면 이 영화를 보는 것도 나쁘지 않아요!   \n",
       "\n",
       "     username main_genre                                           new_text  \n",
       "0       jose0         범죄  필름 누아르의 시작은 관객에 대한 배반이었다탐정 주인공 샘 스페이드 그 남자 흉폭하...  \n",
       "1  Eagleeye17         범죄  그 복잡한 내막을 단 한번도 막힘없이 술술 풀어나가는 존 휴스턴의 스토리텔링 과연 ...  \n",
       "2       sorom         범죄                                  내 이름은 험프리 보카트탐정이죠  \n",
       "3         박진효         범죄  허무와 냉소의 수많은 검은 영화들은 검디검은 매를 타고 칠흑같이 어두운 도시의 밤에...  \n",
       "4  moviemon94         범죄              고전적 가 무엇인지 알고 싶다면 이 영화를 보는 것도 나쁘지 않아요  "
      ]
     },
     "execution_count": 127,
     "metadata": {},
     "output_type": "execute_result"
    }
   ],
   "source": [
    "movie_rating.head()"
   ]
  },
  {
   "cell_type": "code",
   "execution_count": null,
   "metadata": {
    "collapsed": true
   },
   "outputs": [],
   "source": []
  },
  {
   "cell_type": "markdown",
   "metadata": {},
   "source": [
    "# L-R tokener "
   ]
  },
  {
   "cell_type": "code",
   "execution_count": 129,
   "metadata": {
    "collapsed": true
   },
   "outputs": [],
   "source": [
    "#pip3 install gensim\n",
    "#pip3 install tqdm -> for문 progressbar 나타내기\n",
    "\n",
    "import os\n",
    "import logging\n",
    "\n",
    "import itertools\n",
    "import matplotlib.pyplot as plt\n",
    "import seaborn as sns; sns.set(style=\"ticks\", color_codes=True)\n",
    "import matplotlib.font_manager as fm\n",
    "import multiprocessing\n",
    "import warnings\n",
    "\n",
    "warnings.filterwarnings(\"ignore\", category=DeprecationWarning) \n",
    "warnings.filterwarnings(\"ignore\", category=FutureWarning) \n",
    "\n",
    "from collections import Counter\n",
    "\n",
    "from tqdm import tqdm_notebook\n",
    "from gensim.models.doc2vec import LabeledSentence\n",
    "\n",
    "from gensim.models import Word2Vec\n",
    "from gensim.models.doc2vec import Doc2Vec\n",
    "\n",
    "from sklearn.manifold import TSNE\n",
    "from matplotlib import font_manager, rc\n",
    "\n",
    "from sklearn.metrics.pairwise import cosine_similarity\n",
    "\n",
    "from soynlp.noun import LRNounExtractor"
   ]
  },
  {
   "cell_type": "code",
   "execution_count": 131,
   "metadata": {
    "collapsed": true
   },
   "outputs": [],
   "source": [
    "logging.basicConfig(format='%(asctime)s : %(levelname)s : %(message)s', level=logging.INFO)"
   ]
  },
  {
   "cell_type": "code",
   "execution_count": 132,
   "metadata": {
    "collapsed": false
   },
   "outputs": [
    {
     "name": "stdout",
     "output_type": "stream",
     "text": [
      "used default noun predictor; Sejong corpus predictor\n",
      "used noun_predictor_sejong\n",
      "All 2398 r features was loaded\n"
     ]
    }
   ],
   "source": [
    "noun_extractor = LRNounExtractor()"
   ]
  },
  {
   "cell_type": "code",
   "execution_count": 133,
   "metadata": {
    "collapsed": false
   },
   "outputs": [
    {
     "data": {
      "text/html": [
       "<div>\n",
       "<style>\n",
       "    .dataframe thead tr:only-child th {\n",
       "        text-align: right;\n",
       "    }\n",
       "\n",
       "    .dataframe thead th {\n",
       "        text-align: left;\n",
       "    }\n",
       "\n",
       "    .dataframe tbody tr th {\n",
       "        vertical-align: top;\n",
       "    }\n",
       "</style>\n",
       "<table border=\"1\" class=\"dataframe\">\n",
       "  <thead>\n",
       "    <tr style=\"text-align: right;\">\n",
       "      <th></th>\n",
       "      <th>movie_title</th>\n",
       "      <th>rating</th>\n",
       "      <th>text</th>\n",
       "      <th>username</th>\n",
       "      <th>main_genre</th>\n",
       "      <th>new_text</th>\n",
       "    </tr>\n",
       "  </thead>\n",
       "  <tbody>\n",
       "    <tr>\n",
       "      <th>0</th>\n",
       "      <td>말타의 매</td>\n",
       "      <td>4.5</td>\n",
       "      <td>필름 누아르의 시작은 관객에 대한 배반이었다.\\n-\\n탐정 주인공 샘 스페이드. 그...</td>\n",
       "      <td>jose0</td>\n",
       "      <td>범죄</td>\n",
       "      <td>필름 누아르의 시작은 관객에 대한 배반이었다탐정 주인공 샘 스페이드 그 남자 흉폭하...</td>\n",
       "    </tr>\n",
       "    <tr>\n",
       "      <th>1</th>\n",
       "      <td>말타의 매</td>\n",
       "      <td>5.0</td>\n",
       "      <td>그 복잡한 내막을 단 한번도 막힘없이 술술 풀어나가는 존 휴스턴의 스토리텔링. 과연...</td>\n",
       "      <td>Eagleeye17</td>\n",
       "      <td>범죄</td>\n",
       "      <td>그 복잡한 내막을 단 한번도 막힘없이 술술 풀어나가는 존 휴스턴의 스토리텔링 과연 ...</td>\n",
       "    </tr>\n",
       "    <tr>\n",
       "      <th>2</th>\n",
       "      <td>말타의 매</td>\n",
       "      <td>4.0</td>\n",
       "      <td>내 이름은 험프리 보카트.\\n탐정이죠.</td>\n",
       "      <td>sorom</td>\n",
       "      <td>범죄</td>\n",
       "      <td>내 이름은 험프리 보카트탐정이죠</td>\n",
       "    </tr>\n",
       "    <tr>\n",
       "      <th>3</th>\n",
       "      <td>말타의 매</td>\n",
       "      <td>4.0</td>\n",
       "      <td>허무와 냉소의 수많은 검은 영화들은 검디검은 매를 타고 칠흑같이 어두운 도시의 밤에...</td>\n",
       "      <td>박진효</td>\n",
       "      <td>범죄</td>\n",
       "      <td>허무와 냉소의 수많은 검은 영화들은 검디검은 매를 타고 칠흑같이 어두운 도시의 밤에...</td>\n",
       "    </tr>\n",
       "    <tr>\n",
       "      <th>4</th>\n",
       "      <td>말타의 매</td>\n",
       "      <td>3.5</td>\n",
       "      <td>고전적 Film Noir가 무엇인지 알고 싶다면 이 영화를 보는 것도 나쁘지 않아요!</td>\n",
       "      <td>moviemon94</td>\n",
       "      <td>범죄</td>\n",
       "      <td>고전적 가 무엇인지 알고 싶다면 이 영화를 보는 것도 나쁘지 않아요</td>\n",
       "    </tr>\n",
       "  </tbody>\n",
       "</table>\n",
       "</div>"
      ],
      "text/plain": [
       "  movie_title  rating                                               text  \\\n",
       "0       말타의 매     4.5  필름 누아르의 시작은 관객에 대한 배반이었다.\\n-\\n탐정 주인공 샘 스페이드. 그...   \n",
       "1       말타의 매     5.0  그 복잡한 내막을 단 한번도 막힘없이 술술 풀어나가는 존 휴스턴의 스토리텔링. 과연...   \n",
       "2       말타의 매     4.0                              내 이름은 험프리 보카트.\\n탐정이죠.   \n",
       "3       말타의 매     4.0  허무와 냉소의 수많은 검은 영화들은 검디검은 매를 타고 칠흑같이 어두운 도시의 밤에...   \n",
       "4       말타의 매     3.5    고전적 Film Noir가 무엇인지 알고 싶다면 이 영화를 보는 것도 나쁘지 않아요!   \n",
       "\n",
       "     username main_genre                                           new_text  \n",
       "0       jose0         범죄  필름 누아르의 시작은 관객에 대한 배반이었다탐정 주인공 샘 스페이드 그 남자 흉폭하...  \n",
       "1  Eagleeye17         범죄  그 복잡한 내막을 단 한번도 막힘없이 술술 풀어나가는 존 휴스턴의 스토리텔링 과연 ...  \n",
       "2       sorom         범죄                                  내 이름은 험프리 보카트탐정이죠  \n",
       "3         박진효         범죄  허무와 냉소의 수많은 검은 영화들은 검디검은 매를 타고 칠흑같이 어두운 도시의 밤에...  \n",
       "4  moviemon94         범죄              고전적 가 무엇인지 알고 싶다면 이 영화를 보는 것도 나쁘지 않아요  "
      ]
     },
     "execution_count": 133,
     "metadata": {},
     "output_type": "execute_result"
    }
   ],
   "source": [
    "movie_rating.head()"
   ]
  },
  {
   "cell_type": "code",
   "execution_count": 134,
   "metadata": {
    "collapsed": true
   },
   "outputs": [],
   "source": [
    "movie_rating = movie_rating.reset_index()"
   ]
  },
  {
   "cell_type": "code",
   "execution_count": 135,
   "metadata": {
    "collapsed": false
   },
   "outputs": [
    {
     "data": {
      "text/html": [
       "<div>\n",
       "<style>\n",
       "    .dataframe thead tr:only-child th {\n",
       "        text-align: right;\n",
       "    }\n",
       "\n",
       "    .dataframe thead th {\n",
       "        text-align: left;\n",
       "    }\n",
       "\n",
       "    .dataframe tbody tr th {\n",
       "        vertical-align: top;\n",
       "    }\n",
       "</style>\n",
       "<table border=\"1\" class=\"dataframe\">\n",
       "  <thead>\n",
       "    <tr style=\"text-align: right;\">\n",
       "      <th></th>\n",
       "      <th>index</th>\n",
       "      <th>movie_title</th>\n",
       "      <th>rating</th>\n",
       "      <th>text</th>\n",
       "      <th>username</th>\n",
       "      <th>main_genre</th>\n",
       "      <th>new_text</th>\n",
       "    </tr>\n",
       "  </thead>\n",
       "  <tbody>\n",
       "    <tr>\n",
       "      <th>0</th>\n",
       "      <td>0</td>\n",
       "      <td>말타의 매</td>\n",
       "      <td>4.5</td>\n",
       "      <td>필름 누아르의 시작은 관객에 대한 배반이었다.\\n-\\n탐정 주인공 샘 스페이드. 그...</td>\n",
       "      <td>jose0</td>\n",
       "      <td>범죄</td>\n",
       "      <td>필름 누아르의 시작은 관객에 대한 배반이었다탐정 주인공 샘 스페이드 그 남자 흉폭하...</td>\n",
       "    </tr>\n",
       "    <tr>\n",
       "      <th>1</th>\n",
       "      <td>1</td>\n",
       "      <td>말타의 매</td>\n",
       "      <td>5.0</td>\n",
       "      <td>그 복잡한 내막을 단 한번도 막힘없이 술술 풀어나가는 존 휴스턴의 스토리텔링. 과연...</td>\n",
       "      <td>Eagleeye17</td>\n",
       "      <td>범죄</td>\n",
       "      <td>그 복잡한 내막을 단 한번도 막힘없이 술술 풀어나가는 존 휴스턴의 스토리텔링 과연 ...</td>\n",
       "    </tr>\n",
       "    <tr>\n",
       "      <th>2</th>\n",
       "      <td>2</td>\n",
       "      <td>말타의 매</td>\n",
       "      <td>4.0</td>\n",
       "      <td>내 이름은 험프리 보카트.\\n탐정이죠.</td>\n",
       "      <td>sorom</td>\n",
       "      <td>범죄</td>\n",
       "      <td>내 이름은 험프리 보카트탐정이죠</td>\n",
       "    </tr>\n",
       "    <tr>\n",
       "      <th>3</th>\n",
       "      <td>3</td>\n",
       "      <td>말타의 매</td>\n",
       "      <td>4.0</td>\n",
       "      <td>허무와 냉소의 수많은 검은 영화들은 검디검은 매를 타고 칠흑같이 어두운 도시의 밤에...</td>\n",
       "      <td>박진효</td>\n",
       "      <td>범죄</td>\n",
       "      <td>허무와 냉소의 수많은 검은 영화들은 검디검은 매를 타고 칠흑같이 어두운 도시의 밤에...</td>\n",
       "    </tr>\n",
       "    <tr>\n",
       "      <th>4</th>\n",
       "      <td>4</td>\n",
       "      <td>말타의 매</td>\n",
       "      <td>3.5</td>\n",
       "      <td>고전적 Film Noir가 무엇인지 알고 싶다면 이 영화를 보는 것도 나쁘지 않아요!</td>\n",
       "      <td>moviemon94</td>\n",
       "      <td>범죄</td>\n",
       "      <td>고전적 가 무엇인지 알고 싶다면 이 영화를 보는 것도 나쁘지 않아요</td>\n",
       "    </tr>\n",
       "  </tbody>\n",
       "</table>\n",
       "</div>"
      ],
      "text/plain": [
       "   index movie_title  rating  \\\n",
       "0      0       말타의 매     4.5   \n",
       "1      1       말타의 매     5.0   \n",
       "2      2       말타의 매     4.0   \n",
       "3      3       말타의 매     4.0   \n",
       "4      4       말타의 매     3.5   \n",
       "\n",
       "                                                text    username main_genre  \\\n",
       "0  필름 누아르의 시작은 관객에 대한 배반이었다.\\n-\\n탐정 주인공 샘 스페이드. 그...       jose0         범죄   \n",
       "1  그 복잡한 내막을 단 한번도 막힘없이 술술 풀어나가는 존 휴스턴의 스토리텔링. 과연...  Eagleeye17         범죄   \n",
       "2                              내 이름은 험프리 보카트.\\n탐정이죠.       sorom         범죄   \n",
       "3  허무와 냉소의 수많은 검은 영화들은 검디검은 매를 타고 칠흑같이 어두운 도시의 밤에...         박진효         범죄   \n",
       "4    고전적 Film Noir가 무엇인지 알고 싶다면 이 영화를 보는 것도 나쁘지 않아요!  moviemon94         범죄   \n",
       "\n",
       "                                            new_text  \n",
       "0  필름 누아르의 시작은 관객에 대한 배반이었다탐정 주인공 샘 스페이드 그 남자 흉폭하...  \n",
       "1  그 복잡한 내막을 단 한번도 막힘없이 술술 풀어나가는 존 휴스턴의 스토리텔링 과연 ...  \n",
       "2                                  내 이름은 험프리 보카트탐정이죠  \n",
       "3  허무와 냉소의 수많은 검은 영화들은 검디검은 매를 타고 칠흑같이 어두운 도시의 밤에...  \n",
       "4              고전적 가 무엇인지 알고 싶다면 이 영화를 보는 것도 나쁘지 않아요  "
      ]
     },
     "execution_count": 135,
     "metadata": {},
     "output_type": "execute_result"
    }
   ],
   "source": [
    "movie_rating.head()"
   ]
  },
  {
   "cell_type": "code",
   "execution_count": 136,
   "metadata": {
    "collapsed": false
   },
   "outputs": [
    {
     "name": "stdout",
     "output_type": "stream",
     "text": [
      "scanning completed\n",
      "(L,R) has (669730, 395284) tokens\n",
      "building lr-graph completed"
     ]
    }
   ],
   "source": [
    "nouns = noun_extractor.train_extract(movie_rating['new_text'], minimum_noun_score=0.5, min_count=10)"
   ]
  },
  {
   "cell_type": "code",
   "execution_count": 137,
   "metadata": {
    "collapsed": false
   },
   "outputs": [
    {
     "data": {
      "text/plain": [
       "dict"
      ]
     },
     "execution_count": 137,
     "metadata": {},
     "output_type": "execute_result"
    }
   ],
   "source": [
    "type(nouns)"
   ]
  },
  {
   "cell_type": "code",
   "execution_count": 138,
   "metadata": {
    "collapsed": false
   },
   "outputs": [
    {
     "data": {
      "text/plain": [
       "103795"
      ]
     },
     "execution_count": 138,
     "metadata": {},
     "output_type": "execute_result"
    }
   ],
   "source": [
    "len(nouns.keys())"
   ]
  },
  {
   "cell_type": "code",
   "execution_count": 139,
   "metadata": {
    "collapsed": false
   },
   "outputs": [
    {
     "data": {
      "text/plain": [
       "{'새터': NounScore(frequency=12, score=0.999707, known_r_ratio=0.1),\n",
       " '엮임': NounScore(frequency=15, score=0.9287405714285715, known_r_ratio=0.7),\n",
       " '리틀': NounScore(frequency=1349, score=0.7106881803921571, known_r_ratio=0.5368421052631579),\n",
       " '파해': NounScore(frequency=71, score=0.91341159375, known_r_ratio=0.5),\n",
       " '맥동': NounScore(frequency=13, score=0.9516526153846153, known_r_ratio=1.0),\n",
       " '대극': NounScore(frequency=30, score=0.9995746999999999, known_r_ratio=0.3333333333333333),\n",
       " '애바': NounScore(frequency=18, score=0.87547975, known_r_ratio=0.4444444444444444),\n",
       " '사신': NounScore(frequency=102, score=0.689696090909091, known_r_ratio=0.7746478873239436),\n",
       " '쏠쏠': NounScore(frequency=1699, score=0.9920201378923764, known_r_ratio=0.7623931623931623),\n",
       " '인방': NounScore(frequency=193, score=0.8278840530973451, known_r_ratio=0.8625954198473282),\n",
       " '쓰긴': NounScore(frequency=50, score=0.98070225, known_r_ratio=0.8888888888888888),\n",
       " '앙상': NounScore(frequency=1287, score=0.9978272601156072, known_r_ratio=0.14215283483976993),\n",
       " '조롱': NounScore(frequency=1220, score=0.9200232766749377, known_r_ratio=0.7933070866141733),\n",
       " '강조': NounScore(frequency=3057, score=0.9799745829865929, known_r_ratio=0.7643109540636043),\n",
       " '채선': NounScore(frequency=27, score=0.7817351764705882, known_r_ratio=0.7083333333333334),\n",
       " '종구': NounScore(frequency=352, score=0.6623584466666667, known_r_ratio=0.9554140127388535),\n",
       " '희준': NounScore(frequency=121, score=0.61596564, known_r_ratio=0.7142857142857143),\n",
       " '재연': NounScore(frequency=663, score=0.8930043835616439, known_r_ratio=0.5863453815261044),\n",
       " '잡귀': NounScore(frequency=6, score=0.998667, known_r_ratio=0.4),\n",
       " '꽃들': NounScore(frequency=213, score=0.8511439512195123, known_r_ratio=0.9879518072289156),\n",
       " '흥청': NounScore(frequency=100, score=0.9041790666666667, known_r_ratio=0.1875),\n",
       " '매진': NounScore(frequency=125, score=0.9933952739726025, known_r_ratio=0.7448979591836735),\n",
       " '비유': NounScore(frequency=1843, score=0.8611671643952299, known_r_ratio=0.7310087173100872),\n",
       " '다방': NounScore(frequency=200, score=0.9502419, known_r_ratio=0.05847953216374269),\n",
       " '여체': NounScore(frequency=33, score=0.9370063333333334, known_r_ratio=0.9310344827586207),\n",
       " '초석': NounScore(frequency=391, score=0.6913400312499999, known_r_ratio=0.8888888888888888),\n",
       " '왕후': NounScore(frequency=27, score=0.9976674166666667, known_r_ratio=0.48),\n",
       " '현영': NounScore(frequency=38, score=0.7265201052631579, known_r_ratio=0.8260869565217391),\n",
       " '송창': NounScore(frequency=40, score=0.999867, known_r_ratio=0.058823529411764705),\n",
       " '본당': NounScore(frequency=11, score=0.999725, known_r_ratio=0.5),\n",
       " '휘어': NounScore(frequency=413, score=0.7670072165605094, known_r_ratio=0.5432525951557093),\n",
       " '차분': NounScore(frequency=2152, score=0.9955156812039313, known_r_ratio=0.774500475737393),\n",
       " '까뮈': NounScore(frequency=32, score=0.9782172608695652, known_r_ratio=0.92),\n",
       " '약물': NounScore(frequency=263, score=0.7711187604166665, known_r_ratio=0.6233766233766234),\n",
       " '산만': NounScore(frequency=4141, score=0.994133960770578, known_r_ratio=0.7716216216216216),\n",
       " '대그': NounScore(frequency=7, score=1.0, known_r_ratio=0.14285714285714285),\n",
       " '맷형': NounScore(frequency=39, score=0.5643665652173914, known_r_ratio=0.8846153846153846),\n",
       " '지극': NounScore(frequency=4030, score=0.9991827608695653, known_r_ratio=0.0345086271567892),\n",
       " '올로': NounScore(frequency=25, score=1.0, known_r_ratio=0.5555555555555556),\n",
       " '스퇄': NounScore(frequency=11, score=0.7317928333333334, known_r_ratio=0.8571428571428571),\n",
       " '자숙': NounScore(frequency=8, score=0.9972244, known_r_ratio=0.8333333333333334),\n",
       " '타임': NounScore(frequency=6695, score=0.7763500729760547, known_r_ratio=0.18331939799331104),\n",
       " '파업': NounScore(frequency=88, score=0.7628243859649124, known_r_ratio=0.8260869565217391),\n",
       " '편전': NounScore(frequency=12, score=0.999799, known_r_ratio=0.5454545454545454),\n",
       " '안동': NounScore(frequency=43, score=0.6437832857142857, known_r_ratio=0.3684210526315789),\n",
       " '몽이': NounScore(frequency=8, score=0.505755, known_r_ratio=1.0),\n",
       " '번개': NounScore(frequency=305, score=0.8886626062500002, known_r_ratio=0.7692307692307693),\n",
       " '밀면': NounScore(frequency=26, score=1.0, known_r_ratio=1.0),\n",
       " '네오': NounScore(frequency=232, score=0.9228506923076923, known_r_ratio=0.2184873949579832),\n",
       " '야간': NounScore(frequency=159, score=0.8734593846153846, known_r_ratio=0.14942528735632185),\n",
       " '더덕': NounScore(frequency=23, score=0.752362, known_r_ratio=0.1111111111111111),\n",
       " '음난': NounScore(frequency=9, score=0.995436, known_r_ratio=0.25),\n",
       " '감점': NounScore(frequency=753, score=0.7446206860465117, known_r_ratio=0.32950191570881227),\n",
       " '장첸': NounScore(frequency=393, score=0.7721577510548523, known_r_ratio=0.8876404494382022),\n",
       " '퍼시': NounScore(frequency=415, score=0.94338535, known_r_ratio=0.06578947368421052),\n",
       " '승격': NounScore(frequency=29, score=0.8835774285714286, known_r_ratio=0.6086956521739131),\n",
       " '순화': NounScore(frequency=183, score=0.9922839230769229, known_r_ratio=0.5759493670886076),\n",
       " '과속': NounScore(frequency=231, score=0.8018974418604652, known_r_ratio=0.2721518987341772),\n",
       " '만덕': NounScore(frequency=27, score=0.8193547826086955, known_r_ratio=0.92),\n",
       " '재욱': NounScore(frequency=20, score=0.5874492222222223, known_r_ratio=0.6428571428571429),\n",
       " '것방': NounScore(frequency=6, score=0.995316, known_r_ratio=0.16666666666666666),\n",
       " '십계': NounScore(frequency=66, score=0.8532466363636364, known_r_ratio=0.6346153846153846),\n",
       " '조퇴': NounScore(frequency=11, score=0.9899412857142857, known_r_ratio=1.0),\n",
       " '씬나': NounScore(frequency=50, score=0.72859, known_r_ratio=0.2222222222222222),\n",
       " '전력': NounScore(frequency=294, score=0.707913486238532, known_r_ratio=0.43951612903225806),\n",
       " '광범': NounScore(frequency=76, score=1.0, known_r_ratio=0.014285714285714285),\n",
       " '차단': NounScore(frequency=225, score=0.8946517520000001, known_r_ratio=0.6345177664974619),\n",
       " '발들': NounScore(frequency=13, score=0.9447092500000001, known_r_ratio=0.8888888888888888),\n",
       " '은인': NounScore(frequency=58, score=0.8189498205128205, known_r_ratio=0.7959183673469388),\n",
       " '복많': NounScore(frequency=11, score=0.999185, known_r_ratio=1.0),\n",
       " '타더': NounScore(frequency=15, score=0.999197, known_r_ratio=1.0),\n",
       " '제잌': NounScore(frequency=29, score=0.9111284000000002, known_r_ratio=0.5),\n",
       " '불쾌': NounScore(frequency=4922, score=0.9908147700407616, known_r_ratio=0.6411149825783972),\n",
       " '년뒤': NounScore(frequency=286, score=0.9356520794701987, known_r_ratio=0.867816091954023),\n",
       " '오광': NounScore(frequency=48, score=0.7637233636363636, known_r_ratio=0.2682926829268293),\n",
       " '음량': NounScore(frequency=23, score=0.752334125, known_r_ratio=0.9411764705882353),\n",
       " '리나': NounScore(frequency=18, score=0.995666, known_r_ratio=0.1111111111111111),\n",
       " '내년': NounScore(frequency=604, score=0.9320015212765955, known_r_ratio=0.9148418491484185),\n",
       " '만개': NounScore(frequency=282, score=0.9544500218579235, known_r_ratio=0.782051282051282),\n",
       " '재화': NounScore(frequency=40, score=0.67671171875, known_r_ratio=0.9411764705882353),\n",
       " '글램': NounScore(frequency=100, score=0.999867, known_r_ratio=0.024691358024691357),\n",
       " '많이': NounScore(frequency=46510, score=0.5271619072079534, known_r_ratio=0.3879781420765027),\n",
       " '개들': NounScore(frequency=719, score=0.6630206999999999, known_r_ratio=0.8548707753479126),\n",
       " '박리': NounScore(frequency=7, score=1.0, known_r_ratio=0.4),\n",
       " '형세': NounScore(frequency=11, score=0.796327625, known_r_ratio=1.0),\n",
       " '하차': NounScore(frequency=134, score=0.9498044210526316, known_r_ratio=0.6909090909090909),\n",
       " '해시': NounScore(frequency=36, score=0.997334, known_r_ratio=0.03225806451612903),\n",
       " '톱니': NounScore(frequency=353, score=0.8507877931034483, known_r_ratio=0.09508196721311475),\n",
       " '라제': NounScore(frequency=6, score=0.5727059999999999, known_r_ratio=0.6666666666666666),\n",
       " '구름': NounScore(frequency=890, score=0.6537518868312758, known_r_ratio=0.7967213114754098),\n",
       " '엔디': NounScore(frequency=19, score=0.9864324, known_r_ratio=0.45454545454545453),\n",
       " '챠밍': NounScore(frequency=27, score=0.9082993636363637, known_r_ratio=0.5789473684210527),\n",
       " '여장': NounScore(frequency=245, score=0.7122340695652178, known_r_ratio=0.5637254901960784),\n",
       " '시민': NounScore(frequency=2339, score=0.6871575320886816, known_r_ratio=0.4438114966338685),\n",
       " '이씨': NounScore(frequency=62, score=0.999067, known_r_ratio=0.13636363636363635),\n",
       " '촉발': NounScore(frequency=113, score=0.8662825666666664, known_r_ratio=0.5504587155963303),\n",
       " '쾅쾅': NounScore(frequency=215, score=0.6458584285714285, known_r_ratio=0.125),\n",
       " '우ㅏ': NounScore(frequency=5, score=0.995316, known_r_ratio=0.3333333333333333),\n",
       " '어그': NounScore(frequency=291, score=0.9798214054054053, known_r_ratio=0.2868217054263566),\n",
       " '피그': NounScore(frequency=50, score=0.97656175, known_r_ratio=0.13333333333333333),\n",
       " '랩갓': NounScore(frequency=12, score=0.6711836, known_r_ratio=0.7142857142857143),\n",
       " '초특': NounScore(frequency=118, score=0.997334, known_r_ratio=0.018518518518518517),\n",
       " '친것': NounScore(frequency=28, score=0.8533272000000001, known_r_ratio=0.7894736842105263),\n",
       " '맹랑': NounScore(frequency=78, score=0.9953482881355934, known_r_ratio=0.7763157894736842),\n",
       " '매끼': NounScore(frequency=9, score=0.999143, known_r_ratio=0.6666666666666666),\n",
       " '컨셉': NounScore(frequency=2436, score=0.6279641571512654, known_r_ratio=0.8550578761952693),\n",
       " '화실': NounScore(frequency=10, score=0.9996265000000001, known_r_ratio=1.0),\n",
       " '그죄': NounScore(frequency=5, score=0.6747924000000001, known_r_ratio=1.0),\n",
       " '망망': NounScore(frequency=136, score=0.9984846666666667, known_r_ratio=0.02564102564102564),\n",
       " '깜방': NounScore(frequency=12, score=0.7349245, known_r_ratio=0.6),\n",
       " '굴딩': NounScore(frequency=10, score=0.9998735714285714, known_r_ratio=1.0),\n",
       " '씨팍': NounScore(frequency=10, score=0.9118265, known_r_ratio=1.0),\n",
       " '고고': NounScore(frequency=354, score=0.8531299622641509, known_r_ratio=0.6334661354581673),\n",
       " '국방': NounScore(frequency=138, score=0.9045092307692306, known_r_ratio=0.23008849557522124),\n",
       " '봉긋': NounScore(frequency=11, score=0.9993026, known_r_ratio=0.8333333333333334),\n",
       " '혜림': NounScore(frequency=7, score=0.9997572, known_r_ratio=0.8333333333333334),\n",
       " '자게': NounScore(frequency=58, score=0.9992213333333334, known_r_ratio=0.6428571428571429),\n",
       " '뒀음': NounScore(frequency=8, score=0.983903, known_r_ratio=0.3333333333333333),\n",
       " '창백': NounScore(frequency=176, score=0.9980999741935485, known_r_ratio=0.8806818181818182),\n",
       " '서인': NounScore(frequency=121, score=0.6130297, known_r_ratio=0.09174311926605505),\n",
       " '절레': NounScore(frequency=214, score=0.999197, known_r_ratio=0.006097560975609756),\n",
       " '앵벌': NounScore(frequency=18, score=0.9950650000000001, known_r_ratio=0.5882352941176471),\n",
       " '아찔': NounScore(frequency=652, score=0.9963057701863355, known_r_ratio=0.79050736497545),\n",
       " '디올': NounScore(frequency=15, score=0.999867, known_r_ratio=0.5),\n",
       " '비창': NounScore(frequency=25, score=0.9380011874999999, known_r_ratio=0.8421052631578947),\n",
       " '멜먼': NounScore(frequency=6, score=0.9996965, known_r_ratio=0.8),\n",
       " '에고': NounScore(frequency=300, score=0.8981961142857144, known_r_ratio=0.7142857142857143),\n",
       " '비문': NounScore(frequency=37, score=0.937766375, known_r_ratio=0.25806451612903225),\n",
       " '온통': NounScore(frequency=770, score=0.999197, known_r_ratio=0.5),\n",
       " '의자': NounScore(frequency=819, score=0.9470986996402879, known_r_ratio=0.9251247920133111),\n",
       " '표본': NounScore(frequency=1000, score=0.8501821868512109, known_r_ratio=0.672093023255814),\n",
       " '구찌': NounScore(frequency=16, score=0.9906142857142857, known_r_ratio=0.6363636363636364),\n",
       " '없더': NounScore(frequency=1078, score=0.5023151333333333, known_r_ratio=0.3614457831325301),\n",
       " '트론': NounScore(frequency=53, score=0.6762257272727272, known_r_ratio=0.7333333333333333),\n",
       " '해라': NounScore(frequency=923, score=0.6510983333333333, known_r_ratio=0.3684210526315789),\n",
       " '연적': NounScore(frequency=15, score=0.7186702727272728, known_r_ratio=0.7857142857142857),\n",
       " '가짐': NounScore(frequency=55, score=0.7810520000000001, known_r_ratio=0.8666666666666667),\n",
       " '조속': NounScore(frequency=18, score=0.99898975, known_r_ratio=0.4444444444444444),\n",
       " '결들': NounScore(frequency=24, score=0.6365922666666666, known_r_ratio=0.8823529411764706),\n",
       " '장쯔': NounScore(frequency=219, score=0.9112135545454546, known_r_ratio=0.5116279069767442),\n",
       " '화단': NounScore(frequency=18, score=0.9069480625000002, known_r_ratio=1.0),\n",
       " '영은': NounScore(frequency=87, score=0.6843172333333334, known_r_ratio=0.6976744186046512),\n",
       " '시안': NounScore(frequency=11, score=0.7521945, known_r_ratio=0.4444444444444444),\n",
       " '사퇴': NounScore(frequency=16, score=0.998022076923077, known_r_ratio=0.8666666666666667),\n",
       " '건눈': NounScore(frequency=5, score=0.9994525000000001, known_r_ratio=0.5),\n",
       " '시초': NounScore(frequency=590, score=0.6510547471698115, known_r_ratio=0.7162162162162162),\n",
       " '따단': NounScore(frequency=12, score=0.999185, known_r_ratio=0.5),\n",
       " '가카': NounScore(frequency=10, score=0.876208, known_r_ratio=0.5),\n",
       " '저쯤': NounScore(frequency=5, score=0.99992675, known_r_ratio=1.0),\n",
       " '컬킨': NounScore(frequency=146, score=0.8189870416666667, known_r_ratio=0.975609756097561),\n",
       " '것시': NounScore(frequency=54, score=0.9988480000000001, known_r_ratio=0.06),\n",
       " '움찔': NounScore(frequency=359, score=0.9448227216494847, known_r_ratio=0.38492063492063494),\n",
       " '상현': NounScore(frequency=272, score=0.6305510917030568, known_r_ratio=0.9423868312757202),\n",
       " '상주': NounScore(frequency=67, score=0.8834752857142856, known_r_ratio=0.717948717948718),\n",
       " '뒷쪽': NounScore(frequency=14, score=0.8390030000000002, known_r_ratio=0.8333333333333334),\n",
       " '다감': NounScore(frequency=8, score=0.9957086666666667, known_r_ratio=0.6),\n",
       " '일벌': NounScore(frequency=23, score=0.9997935, known_r_ratio=0.11764705882352941),\n",
       " '서슬': NounScore(frequency=230, score=0.9993006666666666, known_r_ratio=0.05263157894736842),\n",
       " '부드': NounScore(frequency=1956, score=0.99883, known_r_ratio=0.0005302226935312832),\n",
       " '암담': NounScore(frequency=283, score=0.9966786995073891, known_r_ratio=0.7660377358490567),\n",
       " '선취': NounScore(frequency=13, score=0.9973995, known_r_ratio=0.6666666666666666),\n",
       " '바든': NounScore(frequency=10, score=1.0, known_r_ratio=0.3333333333333333),\n",
       " '킨나': NounScore(frequency=8, score=0.9757124999999999, known_r_ratio=0.75),\n",
       " '걷던': NounScore(frequency=111, score=1.0, known_r_ratio=0.5),\n",
       " '경험': NounScore(frequency=8426, score=0.7888142258790926, known_r_ratio=0.8181689342403629),\n",
       " '더진': NounScore(frequency=5, score=0.993578, known_r_ratio=0.25),\n",
       " '점호': NounScore(frequency=5, score=0.93776, known_r_ratio=0.5),\n",
       " '업이': NounScore(frequency=83, score=1.0, known_r_ratio=0.14285714285714285),\n",
       " '시온': NounScore(frequency=252, score=0.7388382083333334, known_r_ratio=0.8323699421965318),\n",
       " '애쓸': NounScore(frequency=60, score=1.0, known_r_ratio=0.2),\n",
       " '꾸깃': NounScore(frequency=26, score=0.9983854000000001, known_r_ratio=0.2631578947368421),\n",
       " '부운': NounScore(frequency=19, score=0.6496321666666666, known_r_ratio=0.6666666666666666),\n",
       " '꽃돌': NounScore(frequency=17, score=0.9992665000000001, known_r_ratio=0.6666666666666666),\n",
       " '뉴요': NounScore(frequency=100, score=0.999867, known_r_ratio=0.012345679012345678),\n",
       " '훈늉': NounScore(frequency=11, score=0.998835, known_r_ratio=0.7777777777777778),\n",
       " '크지': NounScore(frequency=915, score=0.5943728, known_r_ratio=0.044642857142857144),\n",
       " '트친': NounScore(frequency=7, score=0.99972, known_r_ratio=0.2857142857142857),\n",
       " '분풀': NounScore(frequency=38, score=0.9551700999999999, known_r_ratio=0.5263157894736842),\n",
       " '피협': NounScore(frequency=6, score=0.504724, known_r_ratio=0.5),\n",
       " '짱마': NounScore(frequency=10, score=0.817389, known_r_ratio=0.1111111111111111),\n",
       " '범이': NounScore(frequency=20, score=0.89711, known_r_ratio=0.6666666666666666),\n",
       " '도박': NounScore(frequency=1087, score=0.714427611553785, known_r_ratio=0.5905882352941176),\n",
       " '부토': NounScore(frequency=12, score=0.6069208333333334, known_r_ratio=0.6),\n",
       " '오기': NounScore(frequency=904, score=0.7564548421052631, known_r_ratio=0.11176470588235295),\n",
       " '멋대': NounScore(frequency=653, score=0.784434, known_r_ratio=0.07692307692307693),\n",
       " '쪼만': NounScore(frequency=5, score=1.0, known_r_ratio=0.3333333333333333),\n",
       " '던칸': NounScore(frequency=84, score=0.7525977333333334, known_r_ratio=0.5),\n",
       " '유퀘': NounScore(frequency=17, score=0.9975991875000001, known_r_ratio=1.0),\n",
       " '협연': NounScore(frequency=51, score=0.7462945217391305, known_r_ratio=0.8846153846153846),\n",
       " '헬름': NounScore(frequency=8, score=0.999867, known_r_ratio=0.2),\n",
       " '식도': NounScore(frequency=26, score=0.8805673076923077, known_r_ratio=0.5909090909090909),\n",
       " '껌값': NounScore(frequency=7, score=0.8021370000000001, known_r_ratio=0.7142857142857143),\n",
       " '고대': NounScore(frequency=670, score=0.9648234363636363, known_r_ratio=0.6088560885608856),\n",
       " '못남': NounScore(frequency=25, score=0.5032026666666667, known_r_ratio=0.631578947368421),\n",
       " '분통': NounScore(frequency=164, score=0.9006818064516128, known_r_ratio=0.543859649122807),\n",
       " '돋을': NounScore(frequency=329, score=0.8859061764705882, known_r_ratio=0.265625),\n",
       " '철렁': NounScore(frequency=94, score=0.9716444090909092, known_r_ratio=0.7213114754098361),\n",
       " '액팅': NounScore(frequency=78, score=0.7848177142857142, known_r_ratio=0.5932203389830508),\n",
       " '충직': NounScore(frequency=43, score=0.9989393888888889, known_r_ratio=0.8780487804878049),\n",
       " '텃세': NounScore(frequency=22, score=0.9849326923076922, known_r_ratio=0.7647058823529411),\n",
       " '진홍': NounScore(frequency=17, score=0.9999049999999999, known_r_ratio=0.4117647058823529),\n",
       " '개강': NounScore(frequency=62, score=0.7596484615384616, known_r_ratio=0.34210526315789475),\n",
       " '생갈': NounScore(frequency=5, score=1.0, known_r_ratio=0.3333333333333333),\n",
       " '몰임': NounScore(frequency=21, score=0.9994525000000001, known_r_ratio=0.10526315789473684),\n",
       " '컬러': NounScore(frequency=1237, score=0.8853285106382979, known_r_ratio=0.5005324813631523),\n",
       " '저체': NounScore(frequency=8, score=0.9989796666666666, known_r_ratio=0.5),\n",
       " '외색': NounScore(frequency=8, score=0.987245, known_r_ratio=1.0),\n",
       " '육류': NounScore(frequency=22, score=0.67910275, known_r_ratio=0.8421052631578947),\n",
       " '연희': NounScore(frequency=652, score=0.6665324805194806, known_r_ratio=0.8235294117647058),\n",
       " '매든': NounScore(frequency=21, score=0.9998339999999999, known_r_ratio=1.0),\n",
       " '직관': NounScore(frequency=486, score=0.8021579074074074, known_r_ratio=0.23478260869565218),\n",
       " '따님': NounScore(frequency=45, score=0.7339593703703704, known_r_ratio=0.7297297297297297),\n",
       " '언쟁': NounScore(frequency=67, score=0.6531947948717948, known_r_ratio=0.7647058823529411),\n",
       " '닥돌': NounScore(frequency=9, score=0.98558, known_r_ratio=0.75),\n",
       " '곰팡': NounScore(frequency=67, score=0.9429872820512821, known_r_ratio=0.6),\n",
       " '건립': NounScore(frequency=6, score=0.997247, known_r_ratio=0.6666666666666666),\n",
       " '솟구': NounScore(frequency=205, score=0.9168930795454546, known_r_ratio=0.4731182795698925),\n",
       " '북미': NounScore(frequency=219, score=0.9745008591549296, known_r_ratio=0.6173913043478261),\n",
       " '허가': NounScore(frequency=59, score=0.9261065862068966, known_r_ratio=0.6304347826086957),\n",
       " '대조': NounScore(frequency=989, score=0.9168718148893359, known_r_ratio=0.5712643678160919),\n",
       " '험난': NounScore(frequency=431, score=0.9980813700787402, known_r_ratio=0.9114832535885168),\n",
       " '교단': NounScore(frequency=14, score=0.9997472500000001, known_r_ratio=1.0),\n",
       " '둘사': NounScore(frequency=71, score=0.8615965625, known_r_ratio=0.2318840579710145),\n",
       " '팽겨': NounScore(frequency=6, score=1.0, known_r_ratio=0.75),\n",
       " '고약': NounScore(frequency=141, score=0.9981074015748029, known_r_ratio=0.9071428571428571),\n",
       " '웅이': NounScore(frequency=6, score=1.0, known_r_ratio=0.5),\n",
       " '록웰': NounScore(frequency=38, score=0.7921979642857143, known_r_ratio=1.0),\n",
       " '반달': NounScore(frequency=25, score=0.9993670000000001, known_r_ratio=0.2222222222222222),\n",
       " '보살': NounScore(frequency=480, score=0.8963789518072288, known_r_ratio=0.23714285714285716),\n",
       " '반자': NounScore(frequency=39, score=0.999185, known_r_ratio=0.21621621621621623),\n",
       " '좌우': NounScore(frequency=560, score=0.95797545, known_r_ratio=0.5217391304347826),\n",
       " '일초': NounScore(frequency=56, score=0.7861382222222223, known_r_ratio=0.9574468085106383),\n",
       " '애련': NounScore(frequency=10, score=0.9905416666666665, known_r_ratio=0.6666666666666666),\n",
       " '호밀': NounScore(frequency=69, score=0.9997265, known_r_ratio=0.028985507246376812),\n",
       " '관객': NounScore(frequency=33662, score=0.6137791827210017, known_r_ratio=0.6555594753215099),\n",
       " '서필': NounScore(frequency=6, score=0.5980967500000001, known_r_ratio=0.8),\n",
       " '전신': NounScore(frequency=189, score=0.8236340483870968, known_r_ratio=0.4806201550387597),\n",
       " '배지': NounScore(frequency=39, score=0.999275, known_r_ratio=0.125),\n",
       " '이입': NounScore(frequency=2326, score=0.9297924032648126, known_r_ratio=0.7857482185273159),\n",
       " '권투': NounScore(frequency=352, score=0.7708201652173912, known_r_ratio=0.49356223175965663),\n",
       " '최적': NounScore(frequency=717, score=0.9844851428571427, known_r_ratio=0.3153153153153153),\n",
       " '성부': NounScore(frequency=45, score=0.8001841304347828, known_r_ratio=0.6764705882352942),\n",
       " '뭐야': NounScore(frequency=3207, score=0.6289345828220858, known_r_ratio=0.33539094650205764),\n",
       " '신전': NounScore(frequency=33, score=0.73097005, known_r_ratio=0.9523809523809523),\n",
       " '제키': NounScore(frequency=5, score=0.9791646666666667, known_r_ratio=1.0),\n",
       " '우아': NounScore(frequency=3980, score=0.99549218957941, known_r_ratio=0.8320710368242361),\n",
       " '거인': NounScore(frequency=576, score=0.75792772, known_r_ratio=0.7972665148063781),\n",
       " '오용': NounScore(frequency=43, score=0.8933682666666664, known_r_ratio=0.9090909090909091),\n",
       " '알싸': NounScore(frequency=86, score=0.997669027027027, known_r_ratio=0.8705882352941177),\n",
       " '마고': NounScore(frequency=1217, score=0.9504235684210528, known_r_ratio=0.31932773109243695),\n",
       " '엔더': NounScore(frequency=185, score=0.8842422394366195, known_r_ratio=0.44936708860759494),\n",
       " '집순': NounScore(frequency=14, score=0.99938875, known_r_ratio=0.6153846153846154),\n",
       " '쟝고': NounScore(frequency=23, score=0.9997706363636364, known_r_ratio=1.0),\n",
       " '바위': NounScore(frequency=542, score=0.8028269310344829, known_r_ratio=0.8706697459584296),\n",
       " '부차': NounScore(frequency=87, score=0.999867, known_r_ratio=0.011494252873563218),\n",
       " '무침': NounScore(frequency=12, score=0.8511179999999999, known_r_ratio=0.9090909090909091),\n",
       " '나쓰': NounScore(frequency=18, score=1.0, known_r_ratio=0.06666666666666667),\n",
       " '비노': NounScore(frequency=131, score=0.5574655555555555, known_r_ratio=0.0743801652892562),\n",
       " '비탄': NounScore(frequency=65, score=0.9490719215686273, known_r_ratio=0.8793103448275862),\n",
       " '먹게': NounScore(frequency=245, score=0.9958490333333333, known_r_ratio=0.42857142857142855),\n",
       " '원단': NounScore(frequency=26, score=0.758981, known_r_ratio=0.95),\n",
       " '순풍': NounScore(frequency=13, score=0.7246842222222223, known_r_ratio=0.9),\n",
       " '딩동': NounScore(frequency=22, score=0.7053913333333334, known_r_ratio=0.3),\n",
       " '강국': NounScore(frequency=42, score=0.8044802105263158, known_r_ratio=0.6333333333333333),\n",
       " '넣음': NounScore(frequency=77, score=1.0, known_r_ratio=0.3333333333333333),\n",
       " '흔녀': NounScore(frequency=7, score=0.7381736666666666, known_r_ratio=0.42857142857142855),\n",
       " '현제': NounScore(frequency=27, score=0.7896155, known_r_ratio=0.7619047619047619),\n",
       " '코너': NounScore(frequency=1015, score=0.6757653241469816, known_r_ratio=0.910394265232975),\n",
       " '현빈': NounScore(frequency=2400, score=0.6941118801874162, known_r_ratio=0.9016294508147255),\n",
       " '연결': NounScore(frequency=6355, score=0.9206193356643358, known_r_ratio=0.5348174532502226),\n",
       " '그윽': NounScore(frequency=140, score=0.9987496328125, known_r_ratio=0.9343065693430657),\n",
       " '콧날': NounScore(frequency=33, score=0.8794730909090909, known_r_ratio=1.0),\n",
       " '친절': NounScore(frequency=4708, score=0.9664789579949595, known_r_ratio=0.7997760358342665),\n",
       " '과함': NounScore(frequency=304, score=0.7408275555555555, known_r_ratio=0.945),\n",
       " '응당': NounScore(frequency=157, score=0.9999572727272728, known_r_ratio=0.9166666666666666),\n",
       " '패튼': NounScore(frequency=27, score=0.76478445, known_r_ratio=0.9523809523809523),\n",
       " '경중': NounScore(frequency=77, score=0.723473492753623, known_r_ratio=1.0),\n",
       " '등심': NounScore(frequency=11, score=0.59810825, known_r_ratio=1.0),\n",
       " '들꽃': NounScore(frequency=68, score=0.7191711842105264, known_r_ratio=0.7450980392156863),\n",
       " '플렛': NounScore(frequency=161, score=0.9999867, known_r_ratio=0.06993006993006994),\n",
       " '광선': NounScore(frequency=238, score=0.6038559565217392, known_r_ratio=0.23),\n",
       " '조감': NounScore(frequency=65, score=0.6435146521739129, known_r_ratio=0.38333333333333336),\n",
       " '일출': NounScore(frequency=119, score=0.7846569130434782, known_r_ratio=0.8932038834951457),\n",
       " '고승': NounScore(frequency=11, score=0.59810825, known_r_ratio=0.36363636363636365),\n",
       " '체격': NounScore(frequency=66, score=0.8681576170212767, known_r_ratio=0.9215686274509803),\n",
       " '안중': NounScore(frequency=206, score=0.9999454685314687, known_r_ratio=0.7566137566137566),\n",
       " '연옥': NounScore(frequency=52, score=0.8089446857142857, known_r_ratio=0.8536585365853658),\n",
       " '부심': NounScore(frequency=51, score=0.6550392758620689, known_r_ratio=0.8787878787878788),\n",
       " '히잡': NounScore(frequency=5, score=1.0, known_r_ratio=1.0),\n",
       " '투생': NounScore(frequency=7, score=0.7516599999999999, known_r_ratio=1.0),\n",
       " '너머': NounScore(frequency=1610, score=0.9785073539232053, known_r_ratio=0.9763651181744091),\n",
       " '병마': NounScore(frequency=21, score=0.9709604545454547, known_r_ratio=0.6470588235294118),\n",
       " '착시': NounScore(frequency=98, score=0.9894226764705881, known_r_ratio=0.4657534246575342),\n",
       " '봄마': NounScore(frequency=28, score=0.817389, known_r_ratio=0.05),\n",
       " '펜촉': NounScore(frequency=24, score=0.7935828, known_r_ratio=0.8823529411764706),\n",
       " '조커': NounScore(frequency=3883, score=0.6756621339517622, known_r_ratio=0.9120135363790186),\n",
       " '출판': NounScore(frequency=144, score=0.9036531136363636, known_r_ratio=0.36363636363636365),\n",
       " '생텀': NounScore(frequency=22, score=0.8346647777777778, known_r_ratio=0.75),\n",
       " '아런': NounScore(frequency=10, score=1.0, known_r_ratio=0.5),\n",
       " '관아': NounScore(frequency=19, score=0.9996625, known_r_ratio=0.2857142857142857),\n",
       " '비릿': NounScore(frequency=229, score=0.9787796968085106, known_r_ratio=0.8392857142857143),\n",
       " '하죠': NounScore(frequency=289, score=0.6605378, known_r_ratio=0.16393442622950818),\n",
       " '악악': NounScore(frequency=36, score=0.8445164285714286, known_r_ratio=0.35),\n",
       " '뒤안': NounScore(frequency=75, score=0.9997216666666667, known_r_ratio=0.04285714285714286),\n",
       " '남지': NounScore(frequency=2508, score=0.9742750967741935, known_r_ratio=0.08611111111111111),\n",
       " '가방': NounScore(frequency=693, score=0.6999485660919542, known_r_ratio=0.7927107061503417),\n",
       " '찰라': NounScore(frequency=52, score=0.9906986052631579, known_r_ratio=0.95),\n",
       " '서연': NounScore(frequency=164, score=0.6607428099173555, known_r_ratio=0.8287671232876712),\n",
       " '한창': NounScore(frequency=640, score=0.8695726842105264, known_r_ratio=0.2714285714285714),\n",
       " '호색': NounScore(frequency=15, score=1.0, known_r_ratio=0.23076923076923078),\n",
       " '떡볶': NounScore(frequency=162, score=0.9770226969696969, known_r_ratio=0.668918918918919),\n",
       " '듯많': NounScore(frequency=6, score=0.999185, known_r_ratio=1.0),\n",
       " '시청': NounScore(frequency=1315, score=0.5027818141025638, known_r_ratio=0.29913710450623204),\n",
       " '깊히': NounScore(frequency=69, score=0.663717, known_r_ratio=0.5),\n",
       " '수리': NounScore(frequency=162, score=0.9126570408163266, known_r_ratio=0.4016393442622951),\n",
       " '단독': NounScore(frequency=842, score=0.9056080098039215, known_r_ratio=0.25757575757575757),\n",
       " '남심': NounScore(frequency=29, score=0.6090601052631578, known_r_ratio=0.9047619047619048),\n",
       " '난징': NounScore(frequency=6, score=0.999867, known_r_ratio=0.5),\n",
       " '그맘': NounScore(frequency=22, score=0.6036161999999999, known_r_ratio=0.2777777777777778),\n",
       " '바하': NounScore(frequency=26, score=0.8404570000000001, known_r_ratio=0.7058823529411765),\n",
       " '권위': NounScore(frequency=627, score=0.7845362204301073, known_r_ratio=0.6584070796460177),\n",
       " '참수': NounScore(frequency=42, score=0.5362564615384616, known_r_ratio=0.3939393939393939),\n",
       " '야영': NounScore(frequency=11, score=0.7483255, known_r_ratio=0.3333333333333333),\n",
       " '짓들': NounScore(frequency=117, score=0.7274291931818181, known_r_ratio=0.946236559139785),\n",
       " '막순': NounScore(frequency=27, score=0.7345889047619046, known_r_ratio=0.9130434782608695),\n",
       " '애수': NounScore(frequency=49, score=0.8764992903225807, known_r_ratio=0.9393939393939394),\n",
       " '웃음': NounScore(frequency=16951, score=0.5461405164576806, known_r_ratio=0.2805012090569356),\n",
       " '게티': NounScore(frequency=169, score=0.5015064268292683, known_r_ratio=0.780952380952381),\n",
       " '홀홀': NounScore(frequency=11, score=1.0, known_r_ratio=0.125),\n",
       " '반공': NounScore(frequency=263, score=0.8049567692307692, known_r_ratio=0.21081081081081082),\n",
       " '새게': NounScore(frequency=10, score=0.989598, known_r_ratio=0.6666666666666666),\n",
       " '갈뻔': NounScore(frequency=34, score=0.9909022608695651, known_r_ratio=1.0),\n",
       " '각박': NounScore(frequency=420, score=0.9987150745856355, known_r_ratio=0.8916256157635468),\n",
       " '관민': NounScore(frequency=13, score=1.0, known_r_ratio=0.08333333333333333),\n",
       " '밀란': NounScore(frequency=52, score=0.999452, known_r_ratio=0.2857142857142857),\n",
       " '현명': NounScore(frequency=1034, score=0.995706288782816, known_r_ratio=0.8280632411067194),\n",
       " '극강': NounScore(frequency=422, score=0.9902493862815884, known_r_ratio=0.8906752411575563),\n",
       " '조우': NounScore(frequency=825, score=0.8415576781250002, known_r_ratio=0.5203252032520326),\n",
       " '칼칼': NounScore(frequency=34, score=0.99509, known_r_ratio=0.8529411764705882),\n",
       " '형님': NounScore(frequency=1552, score=0.663981267792521, known_r_ratio=0.8373737373737373),\n",
       " '팔자': NounScore(frequency=281, score=0.5084743423423422, known_r_ratio=0.676829268292683),\n",
       " '기댜': NounScore(frequency=7, score=0.9966128, known_r_ratio=0.8333333333333334),\n",
       " '구로': NounScore(frequency=583, score=0.8518922127659575, known_r_ratio=0.27011494252873564),\n",
       " '부폐': NounScore(frequency=16, score=0.9941728888888888, known_r_ratio=0.9),\n",
       " '숲과': NounScore(frequency=58, score=1.0, known_r_ratio=0.3333333333333333),\n",
       " '벌충': NounScore(frequency=6, score=0.9990872, known_r_ratio=0.8333333333333334),\n",
       " '시력': NounScore(frequency=170, score=0.6830394852941176, known_r_ratio=0.9444444444444444),\n",
       " '편승': NounScore(frequency=293, score=0.9718529672131146, known_r_ratio=0.8714285714285714),\n",
       " '삶임': NounScore(frequency=19, score=0.582920894736842, known_r_ratio=1.0),\n",
       " '찍듯': NounScore(frequency=34, score=0.989263, known_r_ratio=0.3333333333333333),\n",
       " '자진': NounScore(frequency=71, score=0.9953514054054053, known_r_ratio=0.7708333333333334),\n",
       " '폭식': NounScore(frequency=38, score=0.8425065882352941, known_r_ratio=0.5666666666666667),\n",
       " '카니': NounScore(frequency=589, score=0.6323954492753623, known_r_ratio=0.646875),\n",
       " '비앙': NounScore(frequency=36, score=0.9998669999999998, known_r_ratio=0.21739130434782608),\n",
       " '최거': NounScore(frequency=5, score=0.999867, known_r_ratio=0.3333333333333333),\n",
       " '색칠': NounScore(frequency=137, score=0.7865063375000001, known_r_ratio=0.6611570247933884),\n",
       " '자생': NounScore(frequency=40, score=0.994055, known_r_ratio=0.35135135135135137),\n",
       " '상체': NounScore(frequency=45, score=0.7840041153846152, known_r_ratio=0.896551724137931),\n",
       " '밀정': NounScore(frequency=859, score=0.6553636091954024, known_r_ratio=0.8589562764456982),\n",
       " 'ㅆㅅ': NounScore(frequency=64, score=0.999605, known_r_ratio=0.018867924528301886),\n",
       " '대법': NounScore(frequency=50, score=0.99961, known_r_ratio=0.024390243902439025),\n",
       " '뮈소': NounScore(frequency=82, score=0.9014929433962264, known_r_ratio=1.0),\n",
       " '앞니': NounScore(frequency=72, score=0.8279698627450981, known_r_ratio=0.9444444444444444),\n",
       " '노잼': NounScore(frequency=3774, score=0.8810112029411764, known_r_ratio=0.5379746835443038),\n",
       " '한드': NounScore(frequency=17, score=0.9902991428571429, known_r_ratio=0.6363636363636364),\n",
       " '노후': NounScore(frequency=99, score=0.7668068055555556, known_r_ratio=0.5538461538461539),\n",
       " '윙클': NounScore(frequency=14, score=0.999708, known_r_ratio=0.36363636363636365),\n",
       " '진숙': NounScore(frequency=15, score=0.8389942000000001, known_r_ratio=0.7142857142857143),\n",
       " '퇴화': NounScore(frequency=285, score=0.9669859175824178, known_r_ratio=0.7250996015936255),\n",
       " '조로': NounScore(frequency=97, score=0.9864434285714286, known_r_ratio=0.6),\n",
       " '징병': NounScore(frequency=16, score=0.9175196666666667, known_r_ratio=0.46153846153846156),\n",
       " '안쪽': NounScore(frequency=122, score=0.9379020714285714, known_r_ratio=0.98),\n",
       " '무어': NounScore(frequency=1089, score=0.5807751880998081, known_r_ratio=0.9156414762741653),\n",
       " '갈대': NounScore(frequency=261, score=0.8031086282051283, known_r_ratio=0.39593908629441626),\n",
       " '호기': NounScore(frequency=2346, score=0.9939435765765767, known_r_ratio=0.050226244343891405),\n",
       " '보더': NounScore(frequency=519, score=0.7510116, known_r_ratio=0.2),\n",
       " '심장': NounScore(frequency=7664, score=0.7512293484606155, known_r_ratio=0.8563602122924157),\n",
       " '역사': NounScore(frequency=23741, score=0.7452221199844781, known_r_ratio=0.653265057797607),\n",
       " '투상': NounScore(frequency=5, score=0.999298, known_r_ratio=0.4),\n",
       " '날짜': NounScore(frequency=148, score=0.6888362820512821, known_r_ratio=0.7289719626168224),\n",
       " '스패': NounScore(frequency=576, score=0.9994150000000002, known_r_ratio=0.03802281368821293),\n",
       " '분영': NounScore(frequency=20, score=0.995316, known_r_ratio=0.05263157894736842),\n",
       " '골자': NounScore(frequency=44, score=0.7424189642857143, known_r_ratio=0.8235294117647058),\n",
       " '오존': NounScore(frequency=6, score=0.9994460000000001, known_r_ratio=0.5),\n",
       " '덜도': NounScore(frequency=565, score=1.0, known_r_ratio=0.9431818181818182),\n",
       " '넥본': NounScore(frequency=8, score=0.6495845, known_r_ratio=1.0),\n",
       " '정립': NounScore(frequency=234, score=0.9523148811188811, known_r_ratio=0.7044334975369458),\n",
       " '나뉨': NounScore(frequency=13, score=0.505755, known_r_ratio=0.5),\n",
       " '택시': NounScore(frequency=2775, score=0.9584061790393013, known_r_ratio=0.26067159931701767),\n",
       " '무렵': NounScore(frequency=485, score=0.9352785324675322, known_r_ratio=0.8279569892473119),\n",
       " '개뻔': NounScore(frequency=22, score=0.9988296363636363, known_r_ratio=0.5789473684210527),\n",
       " '모태': NounScore(frequency=168, score=0.7670984838709676, known_r_ratio=0.5486725663716814),\n",
       " '글렌': NounScore(frequency=124, score=0.7985020869565215, known_r_ratio=0.5609756097560976),\n",
       " '백범': NounScore(frequency=53, score=0.9446386666666666, known_r_ratio=0.6),\n",
       " '쎄게': NounScore(frequency=163, score=0.966362, known_r_ratio=0.14285714285714285),\n",
       " '경각': NounScore(frequency=577, score=0.7862151249999999, known_r_ratio=0.0433996383363472),\n",
       " '술김': NounScore(frequency=18, score=0.9996843333333334, known_r_ratio=0.8823529411764706),\n",
       " '캐치': NounScore(frequency=652, score=0.9914670431372548, known_r_ratio=0.5172413793103449),\n",
       " '소즁': NounScore(frequency=11, score=0.9447991111111111, known_r_ratio=0.9),\n",
       " '괴물': NounScore(frequency=10474, score=0.7251495649137809, known_r_ratio=0.8372509247106551),\n",
       " '왕왕': NounScore(frequency=58, score=0.999867, known_r_ratio=0.16666666666666666),\n",
       " '띠용': NounScore(frequency=198, score=0.997272375, known_r_ratio=0.4507042253521127),\n",
       " '술상': NounScore(frequency=5, score=0.75166, known_r_ratio=0.6666666666666666),\n",
       " '한탕': NounScore(frequency=158, score=0.758616611111111, known_r_ratio=0.6067415730337079),\n",
       " '가택': NounScore(frequency=23, score=0.99972, known_r_ratio=0.2727272727272727),\n",
       " '힘합': NounScore(frequency=8, score=0.9997809999999999, known_r_ratio=0.625),\n",
       " '상담': NounScore(frequency=331, score=0.6502307419354839, known_r_ratio=0.484375),\n",
       " '방패': NounScore(frequency=356, score=0.7265210285714285, known_r_ratio=0.8171206225680934),\n",
       " '뽕끼': NounScore(frequency=25, score=0.9271842352941178, known_r_ratio=0.9444444444444444),\n",
       " '몸친': NounScore(frequency=6, score=0.7522555, known_r_ratio=1.0),\n",
       " '봄바': NounScore(frequency=146, score=0.6398762727272728, known_r_ratio=0.16417910447761194),\n",
       " '디쉬': NounScore(frequency=61, score=0.9534747419354839, known_r_ratio=0.8378378378378378),\n",
       " '든든': NounScore(frequency=570, score=0.9980030948081265, known_r_ratio=0.8098720292504571),\n",
       " '피콜': NounScore(frequency=15, score=0.9991225, known_r_ratio=0.2857142857142857),\n",
       " '작작': NounScore(frequency=180, score=0.9978495531914893, known_r_ratio=0.6911764705882353),\n",
       " '깔게': NounScore(frequency=90, score=1.0, known_r_ratio=0.625),\n",
       " '위치': NounScore(frequency=2475, score=0.9672396270644645, known_r_ratio=0.8989463601532567),\n",
       " '경계': NounScore(frequency=5303, score=0.8596741781330287, known_r_ratio=0.7801781737193764),\n",
       " '만분': NounScore(frequency=9, score=0.7785192222222221, known_r_ratio=1.0),\n",
       " '배알': NounScore(frequency=18, score=0.9003959, known_r_ratio=1.0),\n",
       " '코니': NounScore(frequency=141, score=0.786868, known_r_ratio=0.7889908256880734),\n",
       " '돼서': NounScore(frequency=642, score=0.50012625, known_r_ratio=0.23529411764705882),\n",
       " '피쳐': NounScore(frequency=31, score=0.675862, known_r_ratio=0.25),\n",
       " '조깅': NounScore(frequency=52, score=0.7982683076923077, known_r_ratio=0.8478260869565217),\n",
       " '명퇴': NounScore(frequency=5, score=0.9971359999999999, known_r_ratio=1.0),\n",
       " '금괴': NounScore(frequency=28, score=0.8007123749999999, known_r_ratio=0.8888888888888888),\n",
       " '리지': NounScore(frequency=169, score=0.8047477536231885, known_r_ratio=0.8313253012048193),\n",
       " '흑운': NounScore(frequency=9, score=0.999252, known_r_ratio=0.5),\n",
       " '살뻔': NounScore(frequency=8, score=0.9932886666666666, known_r_ratio=0.75),\n",
       " '괴담': NounScore(frequency=180, score=0.7679397777777778, known_r_ratio=0.8244274809160306),\n",
       " '개로': NounScore(frequency=371, score=0.89657, known_r_ratio=0.15384615384615385),\n",
       " '재계': NounScore(frequency=22, score=0.9998944, known_r_ratio=0.45454545454545453),\n",
       " '마파': NounScore(frequency=22, score=0.505755, known_r_ratio=0.35),\n",
       " '써클': NounScore(frequency=49, score=0.760658, known_r_ratio=0.7692307692307693),\n",
       " '번콜': NounScore(frequency=9, score=0.9008476, known_r_ratio=0.8333333333333334),\n",
       " '민담': NounScore(frequency=30, score=0.8433996842105264, known_r_ratio=0.95),\n",
       " '리필': NounScore(frequency=17, score=0.8679315, known_r_ratio=1.0),\n",
       " '총량': NounScore(frequency=31, score=0.7125280769230771, known_r_ratio=0.896551724137931),\n",
       " '설램': NounScore(frequency=31, score=0.7538144210526316, known_r_ratio=0.95),\n",
       " '화분': NounScore(frequency=297, score=0.6792846195121952, known_r_ratio=0.9151785714285714),\n",
       " '재즈': NounScore(frequency=3365, score=0.7851370216086433, known_r_ratio=0.7368421052631579),\n",
       " '긴가': NounScore(frequency=139, score=0.99874325, known_r_ratio=0.047058823529411764),\n",
       " '못됨': NounScore(frequency=39, score=0.724723888888889, known_r_ratio=0.8181818181818182),\n",
       " '기철': NounScore(frequency=7, score=0.9260616666666667, known_r_ratio=0.8571428571428571),\n",
       " '사칭': NounScore(frequency=51, score=0.943597756097561, known_r_ratio=0.8541666666666666),\n",
       " '착붙': NounScore(frequency=25, score=0.544582625, known_r_ratio=0.5714285714285714),\n",
       " '빠꾸': NounScore(frequency=22, score=0.8002700999999999, known_r_ratio=0.6666666666666666),\n",
       " '폐하': NounScore(frequency=20, score=0.9980910000000001, known_r_ratio=1.0),\n",
       " '준혁': NounScore(frequency=9, score=0.670427, known_r_ratio=0.8571428571428571),\n",
       " '다잘': NounScore(frequency=34, score=0.988189, known_r_ratio=0.25),\n",
       " '왕릉': NounScore(frequency=12, score=0.7874869999999999, known_r_ratio=0.7),\n",
       " '틈입': NounScore(frequency=28, score=0.9946675263157894, known_r_ratio=0.8636363636363636),\n",
       " '벽돌': NounScore(frequency=158, score=0.8059572272727272, known_r_ratio=0.584070796460177),\n",
       " '피조': NounScore(frequency=628, score=0.999818, known_r_ratio=0.005067567567567568),\n",
       " '뮤츠': NounScore(frequency=39, score=0.7492622068965518, known_r_ratio=0.9354838709677419),\n",
       " '횟수': NounScore(frequency=115, score=0.7923030454545454, known_r_ratio=0.9887640449438202),\n",
       " '선역': NounScore(frequency=144, score=0.7414600499999999, known_r_ratio=0.78125),\n",
       " '성비': NounScore(frequency=24, score=0.8448669285714285, known_r_ratio=0.9333333333333333),\n",
       " '힐링': NounScore(frequency=5131, score=0.8550739919093849, known_r_ratio=0.5298656759074021),\n",
       " '스런': NounScore(frequency=32, score=0.9980910000000001, known_r_ratio=1.0),\n",
       " '방산': NounScore(frequency=65, score=0.989263, known_r_ratio=0.02),\n",
       " '오툴': NounScore(frequency=20, score=0.9992976666666665, known_r_ratio=1.0),\n",
       " '행차': NounScore(frequency=14, score=0.5519423333333333, known_r_ratio=0.6923076923076923),\n",
       " '단촐': NounScore(frequency=79, score=0.9978242394366198, known_r_ratio=0.922077922077922),\n",
       " '직역': NounScore(frequency=75, score=0.8998385333333334, known_r_ratio=0.8695652173913043),\n",
       " '직캠': NounScore(frequency=6, score=1.0, known_r_ratio=0.5),\n",
       " '고혹': NounScore(frequency=288, score=0.9803321923076922, known_r_ratio=0.09420289855072464),\n",
       " '펌하': NounScore(frequency=11, score=0.9842413333333333, known_r_ratio=0.5),\n",
       " '패미': NounScore(frequency=50, score=0.997334, known_r_ratio=0.02127659574468085),\n",
       " '깜깜': NounScore(frequency=192, score=0.9949080000000001, known_r_ratio=0.8961748633879781),\n",
       " '불길': NounScore(frequency=375, score=0.8152311032028471, known_r_ratio=0.878125),\n",
       " '년버': NounScore(frequency=5, score=1.0, known_r_ratio=0.6666666666666666),\n",
       " '허수': NounScore(frequency=140, score=0.9991272, known_r_ratio=0.05),\n",
       " '거만': NounScore(frequency=220, score=0.9962916956521737, known_r_ratio=0.7131782945736435),\n",
       " '각하': NounScore(frequency=44, score=0.7877562000000001, known_r_ratio=0.9090909090909091),\n",
       " '본내': NounScore(frequency=30, score=0.5980576, known_r_ratio=0.2),\n",
       " '손숙': NounScore(frequency=26, score=0.540701, known_r_ratio=0.4375),\n",
       " '뱀파': NounScore(frequency=1502, score=1.0, known_r_ratio=0.4399075500770416),\n",
       " '점총': NounScore(frequency=13, score=0.999185, known_r_ratio=0.1),\n",
       " '피주': NounScore(frequency=6, score=0.999867, known_r_ratio=0.4),\n",
       " '기각': NounScore(frequency=21, score=0.932692625, known_r_ratio=0.5),\n",
       " '해임': NounScore(frequency=13, score=0.7028344, known_r_ratio=0.38461538461538464),\n",
       " '이역': NounScore(frequency=40, score=0.5515893749999999, known_r_ratio=0.24242424242424243),\n",
       " '짓누': NounScore(frequency=432, score=0.8265523529411763, known_r_ratio=0.0425),\n",
       " '변혁': NounScore(frequency=78, score=0.5718787857142856, known_r_ratio=0.875),\n",
       " '풍화': NounScore(frequency=44, score=0.9999365217391305, known_r_ratio=0.6571428571428571),\n",
       " '명분': NounScore(frequency=1026, score=0.7402114974489797, known_r_ratio=0.9032258064516129),\n",
       " '분발': NounScore(frequency=171, score=0.9431325454545454, known_r_ratio=0.6971830985915493),\n",
       " '전함': NounScore(frequency=108, score=0.8878961428571427, known_r_ratio=0.7924528301886793),\n",
       " '미셀': NounScore(frequency=168, score=0.6130655, known_r_ratio=0.6966292134831461),\n",
       " '개시': NounScore(frequency=92, score=0.675861375, known_r_ratio=0.22535211267605634),\n",
       " '싱숭': NounScore(frequency=114, score=0.9973993333333334, known_r_ratio=0.04838709677419355),\n",
       " '공공': NounScore(frequency=700, score=0.9884408853503184, known_r_ratio=0.4984126984126984),\n",
       " '앞전': NounScore(frequency=18, score=0.9997834375000001, known_r_ratio=1.0),\n",
       " '공유': NounScore(frequency=5399, score=0.7842580427056468, known_r_ratio=0.8178621659634318),\n",
       " '유능': NounScore(frequency=262, score=0.9975083917050692, known_r_ratio=0.8509803921568627),\n",
       " '시후': NounScore(frequency=15, score=0.583563, known_r_ratio=0.7272727272727273),\n",
       " '맥락': NounScore(frequency=1776, score=0.7874639422253923, known_r_ratio=0.9097988319273199),\n",
       " '후광': NounScore(frequency=253, score=0.7271666187845305, known_r_ratio=0.8379629629629629),\n",
       " '결석': NounScore(frequency=16, score=0.9954615384615385, known_r_ratio=0.8666666666666667),\n",
       " '띵띵': NounScore(frequency=11, score=0.996513, known_r_ratio=0.2),\n",
       " '백프': NounScore(frequency=175, score=0.9836591655172414, known_r_ratio=0.90625),\n",
       " '직행': NounScore(frequency=63, score=0.97485065625, known_r_ratio=0.6530612244897959),\n",
       " '궁전': NounScore(frequency=124, score=0.8682945696202531, known_r_ratio=0.8494623655913979),\n",
       " '극치': NounScore(frequency=992, score=0.7650650445103857, known_r_ratio=0.7819025522041764),\n",
       " '삼음': NounScore(frequency=8, score=0.6138865, known_r_ratio=1.0),\n",
       " '어업': NounScore(frequency=5, score=0.999725, known_r_ratio=0.5),\n",
       " '소품': NounScore(frequency=2195, score=0.7872024751693, known_r_ratio=0.6324054246966453),\n",
       " '거들': NounScore(frequency=551, score=0.7918228, known_r_ratio=0.7436708860759493),\n",
       " '야설': NounScore(frequency=97, score=0.72832, known_r_ratio=0.8309859154929577),\n",
       " '네로': NounScore(frequency=28, score=0.9806937142857143, known_r_ratio=0.7777777777777778),\n",
       " '콜링': NounScore(frequency=5, score=0.999185, known_r_ratio=0.25),\n",
       " '병합': NounScore(frequency=12, score=0.937182875, known_r_ratio=0.6666666666666666),\n",
       " '요소': NounScore(frequency=14642, score=0.686833516608299, known_r_ratio=0.706160071942446),\n",
       " '기현': NounScore(frequency=35, score=1.0, known_r_ratio=0.030303030303030304),\n",
       " '시계': NounScore(frequency=1616, score=0.7527197468085104, known_r_ratio=0.7580645161290323),\n",
       " '승천': NounScore(frequency=104, score=0.9119341016949152, known_r_ratio=0.6704545454545454),\n",
       " '투구': NounScore(frequency=54, score=0.7142408484848486, known_r_ratio=0.7857142857142857),\n",
       " '강요': NounScore(frequency=4376, score=0.9572533263570964, known_r_ratio=0.769889224572004),\n",
       " '홍수': NounScore(frequency=539, score=0.6804035846994536, known_r_ratio=0.6019736842105263),\n",
       " '킬빌': NounScore(frequency=551, score=0.8518424857142857, known_r_ratio=0.8536585365853658),\n",
       " '벌금': NounScore(frequency=22, score=0.7522257499999999, known_r_ratio=0.7272727272727273),\n",
       " '존재': NounScore(frequency=35720, score=0.8091687671936362, known_r_ratio=0.6324672016303655),\n",
       " '산개': NounScore(frequency=15, score=0.9935577999999999, known_r_ratio=0.45454545454545453),\n",
       " '올만': NounScore(frequency=139, score=0.9997795555555555, known_r_ratio=0.45),\n",
       " '벤츠': NounScore(frequency=179, score=0.6565665131578946, known_r_ratio=0.6785714285714286),\n",
       " '테헤': NounScore(frequency=9, score=0.548239, known_r_ratio=0.3333333333333333),\n",
       " '말씀': NounScore(frequency=1194, score=0.6977677056962025, known_r_ratio=0.7085201793721974),\n",
       " '쎄야': NounScore(frequency=5, score=0.994928, known_r_ratio=0.6666666666666666),\n",
       " '야식': NounScore(frequency=70, score=0.5510665476190476, known_r_ratio=0.8235294117647058),\n",
       " '산모': NounScore(frequency=28, score=0.9901092142857143, known_r_ratio=0.6363636363636364),\n",
       " '여덕': NounScore(frequency=17, score=0.674990125, known_r_ratio=0.5333333333333333),\n",
       " '통상': NounScore(frequency=99, score=0.9994433333333334, known_r_ratio=0.036585365853658534),\n",
       " '내듯': NounScore(frequency=26, score=1.0, known_r_ratio=0.5),\n",
       " '총칼': NounScore(frequency=102, score=0.8082897500000001, known_r_ratio=0.9014084507042254),\n",
       " '필름': NounScore(frequency=2523, score=0.7694049140070923, known_r_ratio=0.7226137091607944),\n",
       " '버바': NounScore(frequency=11, score=0.9994723333333333, known_r_ratio=0.5),\n",
       " '남양': NounScore(frequency=8, score=0.99883, known_r_ratio=0.6666666666666666),\n",
       " '더줌': NounScore(frequency=346, score=0.994928, known_r_ratio=0.03125),\n",
       " '헹거': NounScore(frequency=5, score=0.967547, known_r_ratio=0.5),\n",
       " '노끈': NounScore(frequency=16, score=0.7620179230769231, known_r_ratio=0.8666666666666667),\n",
       " '왕지': NounScore(frequency=23, score=1.0, known_r_ratio=0.05263157894736842),\n",
       " '만평': NounScore(frequency=9, score=0.9170484999999999, known_r_ratio=0.8571428571428571),\n",
       " '포우': NounScore(frequency=16, score=0.9988726153846154, known_r_ratio=0.8666666666666667),\n",
       " '조셉': NounScore(frequency=780, score=0.7772620400000001, known_r_ratio=0.30864197530864196),\n",
       " '선택': NounScore(frequency=23012, score=0.7266084222715546, known_r_ratio=0.8084105349953922),\n",
       " '심해': NounScore(frequency=878, score=0.7481505449438204, known_r_ratio=0.5313432835820896),\n",
       " '똥과': NounScore(frequency=28, score=1.0, known_r_ratio=0.4),\n",
       " '권고': NounScore(frequency=37, score=0.8043886363636364, known_r_ratio=0.4230769230769231),\n",
       " '한약': NounScore(frequency=21, score=0.69056475, known_r_ratio=0.42105263157894735),\n",
       " '번짐': NounScore(frequency=10, score=0.9004557999999999, known_r_ratio=1.0),\n",
       " '실현': NounScore(frequency=1612, score=0.9103706269744833, known_r_ratio=0.612807148175726),\n",
       " '반삭': NounScore(frequency=18, score=0.6286718749999999, known_r_ratio=0.5),\n",
       " '처음': NounScore(frequency=47778, score=0.912685031203566, known_r_ratio=0.6890273759180948),\n",
       " '오보': NounScore(frequency=61, score=0.8358112666666667, known_r_ratio=0.8823529411764706),\n",
       " '법은': NounScore(frequency=554, score=1.0, known_r_ratio=0.25),\n",
       " '산초': NounScore(frequency=9, score=0.5855324, known_r_ratio=1.0),\n",
       " '물체': NounScore(frequency=120, score=0.7092817241379309, known_r_ratio=0.8529411764705882),\n",
       " '반열': NounScore(frequency=380, score=0.988335854054054, known_r_ratio=0.9946236559139785),\n",
       " '앓이': NounScore(frequency=78, score=0.9637443793103448, known_r_ratio=0.8055555555555556),\n",
       " '손님': NounScore(frequency=752, score=0.6726365842217483, known_r_ratio=0.7432646592709984),\n",
       " '클랜': NounScore(frequency=31, score=0.9995594000000001, known_r_ratio=0.20833333333333334),\n",
       " '입심': NounScore(frequency=8, score=0.9377709999999999, known_r_ratio=1.0),\n",
       " '몰카': NounScore(frequency=235, score=0.7003828058252429, known_r_ratio=0.5953757225433526),\n",
       " '볼록': NounScore(frequency=21, score=0.7303631666666667, known_r_ratio=0.6),\n",
       " '특화': NounScore(frequency=199, score=0.9726172105263158, known_r_ratio=0.12101910828025478),\n",
       " '까치': NounScore(frequency=49, score=0.8719566999999999, known_r_ratio=0.5128205128205128),\n",
       " '인간': NounScore(frequency=66790, score=0.726001014732837, known_r_ratio=0.7289933022122995),\n",
       " '투이': NounScore(frequency=36, score=0.8718259230769232, known_r_ratio=0.8125),\n",
       " '지양': NounScore(frequency=156, score=0.9764030430107528, known_r_ratio=0.6549295774647887),\n",
       " '삶사': NounScore(frequency=19, score=0.5946135, known_r_ratio=0.23529411764705882),\n",
       " '칼슨': NounScore(frequency=15, score=0.7991061250000001, known_r_ratio=0.8888888888888888),\n",
       " '홀몸': NounScore(frequency=9, score=0.7702117142857142, known_r_ratio=1.0),\n",
       " '다크': NounScore(frequency=4923, score=0.9233858823529413, known_r_ratio=0.1056228642435539),\n",
       " '한귝': NounScore(frequency=5, score=0.999867, known_r_ratio=0.5),\n",
       " '순항': NounScore(frequency=46, score=0.8772118636363634, known_r_ratio=0.5789473684210527),\n",
       " '분단': NounScore(frequency=1142, score=0.7934931177685951, known_r_ratio=0.5888077858880778),\n",
       " '진열': NounScore(frequency=92, score=0.7206728965517242, known_r_ratio=0.3411764705882353),\n",
       " '선잠': NounScore(frequency=12, score=0.8896274444444445, known_r_ratio=0.9),\n",
       " '맛집': NounScore(frequency=499, score=0.7133263852140077, known_r_ratio=0.7811550151975684),\n",
       " '연걸': NounScore(frequency=15, score=0.6046828333333333, known_r_ratio=0.46153846153846156),\n",
       " '인하': NounScore(frequency=238, score=0.7480676250000001, known_r_ratio=0.7619047619047619),\n",
       " '뚜쟁': NounScore(frequency=5, score=0.9994606666666667, known_r_ratio=0.6),\n",
       " '지엄': NounScore(frequency=12, score=1.0, known_r_ratio=0.7272727272727273),\n",
       " '오즈': NounScore(frequency=509, score=0.82082998679868, known_r_ratio=0.9181818181818182),\n",
       " '페루': NounScore(frequency=14, score=0.999267, known_r_ratio=0.625),\n",
       " '탐구': NounScore(frequency=852, score=0.8723901663066955, known_r_ratio=0.7652892561983471),\n",
       " '집계': NounScore(frequency=7, score=0.9802293333333333, known_r_ratio=0.42857142857142855),\n",
       " '걸쭉': NounScore(frequency=70, score=0.9982526515151515, known_r_ratio=0.9428571428571428),\n",
       " '타락': NounScore(frequency=1139, score=0.9002817677419357, known_r_ratio=0.7900101936799184),\n",
       " '징집': NounScore(frequency=36, score=0.893161, known_r_ratio=0.5),\n",
       " '합격': NounScore(frequency=574, score=0.8513782129629631, known_r_ratio=0.30857142857142855),\n",
       " '험담': NounScore(frequency=29, score=0.7307699200000001, known_r_ratio=0.9259259259259259),\n",
       " '역광': NounScore(frequency=55, score=0.9031742195121952, known_r_ratio=0.9318181818181818),\n",
       " '암연': NounScore(frequency=29, score=0.9503784, known_r_ratio=0.8333333333333334),\n",
       " '정우': NounScore(frequency=6646, score=0.7826429957264956, known_r_ratio=0.07577720207253887),\n",
       " '리폼': NounScore(frequency=10, score=0.8335387777777777, known_r_ratio=0.9),\n",
       " '양덕': NounScore(frequency=87, score=0.7559892857142858, known_r_ratio=0.4861111111111111),\n",
       " '가키': NounScore(frequency=9, score=0.9980926666666666, known_r_ratio=0.375),\n",
       " '지프': NounScore(frequency=15, score=0.9981753333333333, known_r_ratio=0.3333333333333333),\n",
       " '실들': NounScore(frequency=7, score=0.8346073333333334, known_r_ratio=1.0),\n",
       " '무간': NounScore(frequency=1600, score=0.5025330687499999, known_r_ratio=0.31599736668861095),\n",
       " '테제': NounScore(frequency=31, score=0.7726208095238095, known_r_ratio=0.84),\n",
       " '부디': NounScore(frequency=1251, score=0.9567373333333333, known_r_ratio=0.12),\n",
       " '눈때': NounScore(frequency=8, score=0.505755, known_r_ratio=0.25),\n",
       " '낭낭': NounScore(frequency=266, score=0.9854928707865167, known_r_ratio=0.7841409691629956),\n",
       " '카힐': NounScore(frequency=17, score=0.7321338333333333, known_r_ratio=0.75),\n",
       " '불곰': NounScore(frequency=24, score=0.9973087777777777, known_r_ratio=0.42857142857142855),\n",
       " '교태': NounScore(frequency=11, score=0.7684705714285714, known_r_ratio=0.875),\n",
       " '벅빅': NounScore(frequency=14, score=0.814227375, known_r_ratio=1.0),\n",
       " '래이': NounScore(frequency=11, score=0.93776, known_r_ratio=0.1111111111111111),\n",
       " '일견': NounScore(frequency=129, score=0.504724, known_r_ratio=0.5),\n",
       " '완결': NounScore(frequency=964, score=0.7588264822006471, known_r_ratio=0.37318840579710144),\n",
       " '온조': NounScore(frequency=5, score=0.997334, known_r_ratio=0.5),\n",
       " '간통': NounScore(frequency=61, score=0.7313238400000001, known_r_ratio=0.5),\n",
       " '될순': NounScore(frequency=48, score=1.0, known_r_ratio=0.4166666666666667),\n",
       " '어서': NounScore(frequency=785, score=0.6837732537313432, known_r_ratio=0.5),\n",
       " '가노': NounScore(frequency=13, score=0.999867, known_r_ratio=0.5),\n",
       " '항의': NounScore(frequency=100, score=0.9236356865671641, known_r_ratio=0.8375),\n",
       " '연기': NounScore(frequency=167011, score=0.750133153185759, known_r_ratio=0.2590484911913483),\n",
       " '쎄냐': NounScore(frequency=6, score=0.9992175, known_r_ratio=0.4),\n",
       " '미형': NounScore(frequency=6, score=0.9993963333333333, known_r_ratio=0.75),\n",
       " '미믹': NounScore(frequency=8, score=0.7028509999999999, known_r_ratio=0.8333333333333334),\n",
       " '송수': NounScore(frequency=5, score=1.0, known_r_ratio=0.5),\n",
       " '목도': NounScore(frequency=356, score=0.7401698305785123, known_r_ratio=0.7378048780487805),\n",
       " '뒤따': NounScore(frequency=332, score=0.8094109230769231, known_r_ratio=0.049429657794676805),\n",
       " '순회': NounScore(frequency=28, score=0.9336963999999999, known_r_ratio=0.5),\n",
       " '쫀득': NounScore(frequency=292, score=0.9979852030075188, known_r_ratio=0.540650406504065),\n",
       " '구국': NounScore(frequency=22, score=0.9998560769230769, known_r_ratio=0.7222222222222222),\n",
       " '서야': NounScore(frequency=78, score=0.5969602222222222, known_r_ratio=0.36),\n",
       " '영알': NounScore(frequency=848, score=0.99883, known_r_ratio=0.001272264631043257),\n",
       " '임박': NounScore(frequency=35, score=0.9962161111111113, known_r_ratio=0.8181818181818182),\n",
       " '잡음': NounScore(frequency=212, score=0.6971788947368421, known_r_ratio=0.35185185185185186),\n",
       " '주안': NounScore(frequency=65, score=0.8187221818181819, known_r_ratio=0.21568627450980393),\n",
       " '건빵': NounScore(frequency=30, score=0.780269705882353, known_r_ratio=0.8947368421052632),\n",
       " '오델': NounScore(frequency=15, score=0.7240731666666665, known_r_ratio=0.6666666666666666),\n",
       " '비굴': NounScore(frequency=189, score=0.9911313934426227, known_r_ratio=0.6777777777777778),\n",
       " '현지': NounScore(frequency=219, score=0.8778704, known_r_ratio=0.1724137931034483),\n",
       " '진서': NounScore(frequency=215, score=0.96888, known_r_ratio=0.009708737864077669),\n",
       " '쓸떼': NounScore(frequency=49, score=1.0, known_r_ratio=0.9777777777777777),\n",
       " '상헌': NounScore(frequency=45, score=0.6622020487804878, known_r_ratio=0.9761904761904762),\n",
       " '살로': NounScore(frequency=119, score=0.999605, known_r_ratio=0.1),\n",
       " '민비': NounScore(frequency=10, score=0.99887225, known_r_ratio=1.0),\n",
       " '간주': NounScore(frequency=89, score=0.9945239200000002, known_r_ratio=0.6329113924050633),\n",
       " '신아': NounScore(frequency=10, score=0.997334, known_r_ratio=0.125),\n",
       " '발끝': NounScore(frequency=392, score=0.8535404687499999, known_r_ratio=0.9696969696969697),\n",
       " '혜안': NounScore(frequency=66, score=0.803124274509804, known_r_ratio=0.9107142857142857),\n",
       " '토깽': NounScore(frequency=15, score=0.7171595714285715, known_r_ratio=0.5833333333333334),\n",
       " '키높': NounScore(frequency=5, score=0.9991850000000001, known_r_ratio=1.0),\n",
       " '고인': NounScore(frequency=647, score=0.7058257830687832, known_r_ratio=0.7682926829268293),\n",
       " '물신': NounScore(frequency=54, score=0.6695443333333332, known_r_ratio=0.09375),\n",
       " '괴상': NounScore(frequency=679, score=0.9966805543071162, known_r_ratio=0.8240740740740741),\n",
       " '나성': NounScore(frequency=50, score=0.9997097894736843, known_r_ratio=0.8444444444444444),\n",
       " '왠만': NounScore(frequency=840, score=0.999431296803653, known_r_ratio=0.8051470588235294),\n",
       " '린니': NounScore(frequency=5, score=0.8395230000000001, known_r_ratio=1.0),\n",
       " '연줄': NounScore(frequency=16, score=0.7986188750000001, known_r_ratio=0.7272727272727273),\n",
       " '촌장': NounScore(frequency=14, score=0.8583565714285714, known_r_ratio=0.7),\n",
       " '코빅': NounScore(frequency=25, score=0.944366, known_r_ratio=0.8181818181818182),\n",
       " 'ㅈㅅ': NounScore(frequency=53, score=1.0, known_r_ratio=0.23076923076923078),\n",
       " '오븐': NounScore(frequency=42, score=0.8118787037037039, known_r_ratio=0.84375),\n",
       " '꼬지': NounScore(frequency=46, score=0.99986, known_r_ratio=0.2),\n",
       " '해짐': NounScore(frequency=17, score=0.998596, known_r_ratio=0.5),\n",
       " '꼼짝': NounScore(frequency=142, score=0.7575834155844154, known_r_ratio=0.7129629629629629),\n",
       " '변용': NounScore(frequency=100, score=0.8209973064516131, known_r_ratio=0.8611111111111112),\n",
       " '남말': NounScore(frequency=7, score=0.860212, known_r_ratio=0.8),\n",
       " '경성': NounScore(frequency=270, score=0.7651945074626867, known_r_ratio=0.32057416267942584),\n",
       " '강준': NounScore(frequency=9, score=0.951425, known_r_ratio=0.16666666666666666),\n",
       " '지희': NounScore(frequency=5, score=0.5286575, known_r_ratio=0.4),\n",
       " '디바': NounScore(frequency=93, score=0.9195381538461537, known_r_ratio=0.35135135135135137),\n",
       " '노상': NounScore(frequency=19, score=0.999707, known_r_ratio=0.1),\n",
       " '아슬': NounScore(frequency=1721, score=0.9520151366459629, known_r_ratio=0.09932140653917335),\n",
       " '버선': NounScore(frequency=8, score=1.0, known_r_ratio=0.125),\n",
       " '깻잎': NounScore(frequency=10, score=0.9994525000000001, known_r_ratio=0.8),\n",
       " '경직': NounScore(frequency=195, score=0.9491061428571428, known_r_ratio=0.26344086021505375),\n",
       " '액면': NounScore(frequency=28, score=0.5652452222222223, known_r_ratio=0.6923076923076923),\n",
       " '타켓': NounScore(frequency=37, score=0.5727431818181817, known_r_ratio=0.36666666666666664),\n",
       " '유가': NounScore(frequency=264, score=0.9337293636363637, known_r_ratio=0.048034934497816595),\n",
       " '송은': NounScore(frequency=18, score=0.999185, known_r_ratio=0.4),\n",
       " '색계': NounScore(frequency=164, score=0.67351065, known_r_ratio=0.9375),\n",
       " '말도': NounScore(frequency=6385, score=0.6508088461538463, known_r_ratio=0.012464046021093002),\n",
       " '옴므': NounScore(frequency=104, score=0.800632, known_r_ratio=0.05128205128205128),\n",
       " '도제': NounScore(frequency=8, score=0.9975135, known_r_ratio=0.4),\n",
       " '덕택': NounScore(frequency=105, score=0.9770419545454544, known_r_ratio=0.8888888888888888),\n",
       " '막차': NounScore(frequency=51, score=0.9686118125000001, known_r_ratio=0.6666666666666666),\n",
       " '둘까': NounScore(frequency=17, score=0.999605, known_r_ratio=0.5),\n",
       " '평잼': NounScore(frequency=71, score=0.8468624761904762, known_r_ratio=0.65625),\n",
       " '링안': NounScore(frequency=5, score=0.9997784, known_r_ratio=1.0),\n",
       " '일촌': NounScore(frequency=5, score=0.9995013333333332, known_r_ratio=1.0),\n",
       " '안락': NounScore(frequency=344, score=0.9366848396946565, known_r_ratio=0.39939024390243905),\n",
       " '역할': NounScore(frequency=12082, score=0.6205707708803612, known_r_ratio=0.9239666287447857),\n",
       " '턱살': NounScore(frequency=5, score=0.9999565, known_r_ratio=0.6666666666666666),\n",
       " '속어': NounScore(frequency=23, score=0.767802, known_r_ratio=0.5384615384615384),\n",
       " '랜섬': NounScore(frequency=17, score=0.5165998181818182, known_r_ratio=0.8461538461538461),\n",
       " '없음': NounScore(frequency=7195, score=0.5732785167785236, known_r_ratio=0.1722543352601156),\n",
       " '미겔': NounScore(frequency=83, score=0.7296276, known_r_ratio=0.9420289855072463),\n",
       " '숙명': NounScore(frequency=612, score=0.7953493287197232, known_r_ratio=0.6523702031602708),\n",
       " '왈칵': NounScore(frequency=320, score=0.7818432105263158, known_r_ratio=0.38),\n",
       " '현신': NounScore(frequency=63, score=0.9666130666666667, known_r_ratio=0.6976744186046512),\n",
       " '부과': NounScore(frequency=74, score=0.9934726888888887, known_r_ratio=0.6617647058823529),\n",
       " '위장': NounScore(frequency=429, score=0.947960413669065, known_r_ratio=0.7533875338753387),\n",
       " '투쓰': NounScore(frequency=21, score=0.999867, known_r_ratio=0.0625),\n",
       " '발뺌': NounScore(frequency=13, score=0.8783617777777777, known_r_ratio=0.75),\n",
       " '반듯': NounScore(frequency=164, score=0.9972364135338347, known_r_ratio=0.8926174496644296),\n",
       " '검객': NounScore(frequency=27, score=0.9706941764705883, known_r_ratio=0.9444444444444444),\n",
       " '심대': NounScore(frequency=5, score=1.0, known_r_ratio=0.8),\n",
       " '부인': NounScore(frequency=1715, score=0.7630659902135233, known_r_ratio=0.7821851078636047),\n",
       " '실의': NounScore(frequency=50, score=0.9583814, known_r_ratio=1.0),\n",
       " '찔금': NounScore(frequency=22, score=0.989933, known_r_ratio=0.16666666666666666),\n",
       " '양봉': NounScore(frequency=23, score=0.992842, known_r_ratio=0.15),\n",
       " '핸콕': NounScore(frequency=127, score=0.7489224938271606, known_r_ratio=0.8526315789473684),\n",
       " '혼절': NounScore(frequency=14, score=0.9898355, known_r_ratio=0.3076923076923077),\n",
       " '광해': NounScore(frequency=859, score=0.6426213265306122, known_r_ratio=0.7),\n",
       " '기압': NounScore(frequency=12, score=0.9445017777777777, known_r_ratio=0.75),\n",
       " '니네': NounScore(frequency=402, score=0.7174070000000001, known_r_ratio=0.6057692307692307),\n",
       " '한짓': NounScore(frequency=27, score=0.7153206111111111, known_r_ratio=0.9),\n",
       " '엑소': NounScore(frequency=1982, score=0.7477493928571428, known_r_ratio=0.01680672268907563),\n",
       " '노소': NounScore(frequency=20, score=0.9982948, known_r_ratio=0.35714285714285715),\n",
       " '블리': NounScore(frequency=59, score=0.8781715555555556, known_r_ratio=0.20454545454545456),\n",
       " '쌀밥': NounScore(frequency=30, score=0.8833190000000001, known_r_ratio=0.8947368421052632),\n",
       " '접촉': NounScore(frequency=173, score=0.8252115322580645, known_r_ratio=0.8435374149659864),\n",
       " '집중': NounScore(frequency=19062, score=0.9203948970931641, known_r_ratio=0.7085235052487449),\n",
       " '성정': NounScore(frequency=219, score=0.8771953636363636, known_r_ratio=0.11224489795918367),\n",
       " '탈선': NounScore(frequency=127, score=0.7649646875000002, known_r_ratio=0.8421052631578947),\n",
       " '찍게': NounScore(frequency=122, score=0.9988854285714286, known_r_ratio=0.4117647058823529),\n",
       " '쥬디': NounScore(frequency=41, score=0.8781083157894737, known_r_ratio=0.8260869565217391),\n",
       " '한계': NounScore(frequency=8285, score=0.7532576030807808, known_r_ratio=0.8287071396764139),\n",
       " '포와': NounScore(frequency=361, score=0.9995418674698795, known_r_ratio=0.5236593059936908),\n",
       " '윤우': NounScore(frequency=88, score=0.7462213620689655, known_r_ratio=0.9206349206349206),\n",
       " '때지': NounScore(frequency=61, score=1.0, known_r_ratio=0.04),\n",
       " '주축': NounScore(frequency=114, score=0.897906217821782, known_r_ratio=0.9017857142857143),\n",
       " '통로': NounScore(frequency=165, score=0.9178523131313131, known_r_ratio=0.8918918918918919),\n",
       " '팩션': NounScore(frequency=172, score=0.8657743690476191, known_r_ratio=0.711864406779661),\n",
       " '매력': NounScore(frequency=56362, score=0.601121357423672, known_r_ratio=0.49623311126330866),\n",
       " '캠벨': NounScore(frequency=35, score=0.6625958636363637, known_r_ratio=0.9166666666666666),\n",
       " '여한': NounScore(frequency=93, score=0.8593581325301204, known_r_ratio=0.9540229885057471),\n",
       " '알프': NounScore(frequency=576, score=1.0, known_r_ratio=0.001941747572815534),\n",
       " '차냥': NounScore(frequency=13, score=0.995316, known_r_ratio=0.9),\n",
       " '간디': NounScore(frequency=61, score=0.6777944499999999, known_r_ratio=0.8695652173913043),\n",
       " '짧음': NounScore(frequency=38, score=1.0, known_r_ratio=0.375),\n",
       " '그속': NounScore(frequency=449, score=0.9667929904761904, known_r_ratio=0.9722222222222222),\n",
       " '화법': NounScore(frequency=825, score=0.708287447368421, known_r_ratio=0.9485179407176287),\n",
       " '매튜': NounScore(frequency=1831, score=0.7613372937685462, known_r_ratio=0.5098335854765507),\n",
       " '체험': NounScore(frequency=3658, score=0.7856517424913835, known_r_ratio=0.7295258620689655),\n",
       " '방탄': NounScore(frequency=144, score=0.6668053333333334, known_r_ratio=0.10465116279069768),\n",
       " '생선': NounScore(frequency=507, score=0.6600139861751153, known_r_ratio=0.5977961432506887),\n",
       " '위업': NounScore(frequency=27, score=0.6167955238095237, known_r_ratio=0.9130434782608695),\n",
       " '치게': NounScore(frequency=280, score=0.9964413030303032, known_r_ratio=0.5409836065573771),\n",
       " '협곡': NounScore(frequency=23, score=0.7435532857142857, known_r_ratio=0.9333333333333333),\n",
       " '노아': NounScore(frequency=761, score=0.8485204190064797, known_r_ratio=0.9132149901380671),\n",
       " '한전': NounScore(frequency=6, score=0.99972, known_r_ratio=0.25),\n",
       " '광견': NounScore(frequency=18, score=0.9994772857142856, known_r_ratio=0.4375),\n",
       " '환성': NounScore(frequency=10, score=0.7522955, known_r_ratio=0.2222222222222222),\n",
       " '서니': NounScore(frequency=24, score=0.997334, known_r_ratio=0.2),\n",
       " '길건': NounScore(frequency=12, score=0.999913, known_r_ratio=0.16666666666666666),\n",
       " '진즉': NounScore(frequency=93, score=0.9997315967741935, known_r_ratio=0.9841269841269841),\n",
       " '내포': NounScore(frequency=668, score=0.9886736855203621, known_r_ratio=0.6927899686520376),\n",
       " '젝키': NounScore(frequency=7, score=0.9774760000000001, known_r_ratio=0.75),\n",
       " '군번': NounScore(frequency=18, score=0.5979625, known_r_ratio=0.25),\n",
       " '카렐': NounScore(frequency=690, score=0.7858676590436587, known_r_ratio=0.9339805825242719),\n",
       " '비녜': NounScore(frequency=7, score=0.999605, known_r_ratio=0.3333333333333333),\n",
       " '속살': NounScore(frequency=115, score=0.5279501694915253, known_r_ratio=0.7662337662337663),\n",
       " '깜박': NounScore(frequency=117, score=0.6400688301886792, known_r_ratio=0.5698924731182796),\n",
       " '할떄': NounScore(frequency=6, score=0.752218, known_r_ratio=0.6666666666666666),\n",
       " '열편': NounScore(frequency=15, score=0.5822474444444445, known_r_ratio=0.8181818181818182),\n",
       " '정준': NounScore(frequency=283, score=0.9929592857142857, known_r_ratio=0.05363984674329502),\n",
       " '연류': NounScore(frequency=7, score=1.0, known_r_ratio=0.5),\n",
       " '체모': NounScore(frequency=7, score=0.99883, known_r_ratio=0.3333333333333333),\n",
       " '홍인': NounScore(frequency=22, score=1.0, known_r_ratio=0.058823529411764705),\n",
       " '베라': NounScore(frequency=148, score=0.8923715813953488, known_r_ratio=0.7962962962962963),\n",
       " '돼지': NounScore(frequency=3173, score=0.7596030289855076, known_r_ratio=0.48620082207868465),\n",
       " '새총': NounScore(frequency=16, score=0.6475124615384615, known_r_ratio=0.9285714285714286),\n",
       " '모닝': NounScore(frequency=50, score=0.9997750000000001, known_r_ratio=0.18181818181818182),\n",
       " '박해': NounScore(frequency=2095, score=0.7613320983606556, known_r_ratio=0.03173777315296566),\n",
       " '갈치': NounScore(frequency=11, score=0.537366, known_r_ratio=0.4),\n",
       " '래드': NounScore(frequency=256, score=0.999867, known_r_ratio=0.004694835680751174),\n",
       " '투항': NounScore(frequency=17, score=0.9905366666666667, known_r_ratio=0.8),\n",
       " '포항': NounScore(frequency=107, score=0.8147372962962962, known_r_ratio=0.7714285714285715),\n",
       " '보증': NounScore(frequency=215, score=0.70510014, known_r_ratio=0.3401360544217687),\n",
       " '존못': NounScore(frequency=24, score=0.879937142857143, known_r_ratio=0.5833333333333334),\n",
       " '올란': NounScore(frequency=38, score=0.505755, known_r_ratio=0.4375),\n",
       " '중매': NounScore(frequency=19, score=0.9993739999999999, known_r_ratio=0.3125),\n",
       " '뒤뜰': NounScore(frequency=6, score=0.9996221999999999, known_r_ratio=1.0),\n",
       " '띄엄': NounScore(frequency=192, score=1.0, known_r_ratio=0.006944444444444444),\n",
       " '흠좀': NounScore(frequency=24, score=1.0, known_r_ratio=0.058823529411764705),\n",
       " '테닥': NounScore(frequency=5, score=0.8346073333333334, known_r_ratio=0.6),\n",
       " '녀석': NounScore(frequency=1139, score=0.538791596949891, known_r_ratio=0.5198187995469988),\n",
       " '키티': NounScore(frequency=100, score=0.8357771571428573, known_r_ratio=0.958904109589041),\n",
       " '빵발': NounScore(frequency=85, score=0.564904074074074, known_r_ratio=0.4426229508196721),\n",
       " '시타': NounScore(frequency=10, score=0.999736, known_r_ratio=0.2222222222222222),\n",
       " '능수': NounScore(frequency=401, score=1.0, known_r_ratio=0.0029239766081871343),\n",
       " '쿰쿰': NounScore(frequency=15, score=0.9981696363636363, known_r_ratio=0.8461538461538461),\n",
       " '해고': NounScore(frequency=233, score=0.9617962527472527, known_r_ratio=0.6148648648648649),\n",
       " '애국': NounScore(frequency=3402, score=0.5717297426778244, known_r_ratio=0.16208884367582232),\n",
       " '사장': NounScore(frequency=1045, score=0.7932782150537636, known_r_ratio=0.42033898305084744),\n",
       " '질라': NounScore(frequency=12, score=0.6670073333333333, known_r_ratio=0.6666666666666666),\n",
       " '에릭': NounScore(frequency=725, score=0.5415836177474403, known_r_ratio=0.7234567901234568),\n",
       " '그도': NounScore(frequency=673, score=0.994928, known_r_ratio=0.047619047619047616),\n",
       " '깽깽': NounScore(frequency=30, score=0.999185, known_r_ratio=0.5),\n",
       " '철칙': NounScore(frequency=23, score=0.7596099411764705, known_r_ratio=0.7727272727272727),\n",
       " '딱히': NounScore(frequency=5682, score=0.5216023, known_r_ratio=0.16806722689075632),\n",
       " '학생': NounScore(frequency=3142, score=0.6450719464285715, known_r_ratio=0.43847874720357943),\n",
       " '기왕': NounScore(frequency=164, score=0.9999385423728813, known_r_ratio=0.8939393939393939),\n",
       " '폼만': NounScore(frequency=113, score=0.871160375, known_r_ratio=0.5),\n",
       " '뉴튼': NounScore(frequency=27, score=0.8926606, known_r_ratio=0.8823529411764706),\n",
       " '품위': NounScore(frequency=542, score=0.6634770571428572, known_r_ratio=0.9459459459459459),\n",
       " '금색': NounScore(frequency=58, score=0.9996835454545454, known_r_ratio=0.44),\n",
       " '이쁨': NounScore(frequency=956, score=0.6281603064516128, known_r_ratio=0.3668639053254438),\n",
       " '닿고': NounScore(frequency=59, score=1.0, known_r_ratio=0.3333333333333333),\n",
       " '애교': NounScore(frequency=306, score=0.7979154535519124, known_r_ratio=0.7754237288135594),\n",
       " '칠듯': NounScore(frequency=5, score=0.9994095000000001, known_r_ratio=1.0),\n",
       " '밀회': NounScore(frequency=39, score=0.7757120689655171, known_r_ratio=0.9354838709677419),\n",
       " '발견': NounScore(frequency=7909, score=0.9422553408183632, known_r_ratio=0.7000873362445414),\n",
       " '동향': NounScore(frequency=13, score=0.7875431428571428, known_r_ratio=0.7),\n",
       " '마샬': NounScore(frequency=54, score=0.695814172413793, known_r_ratio=0.7837837837837838),\n",
       " '할짝': NounScore(frequency=6, score=0.558087, known_r_ratio=0.16666666666666666),\n",
       " '식후': NounScore(frequency=10, score=0.99972, known_r_ratio=0.8),\n",
       " '호수': NounScore(frequency=515, score=0.8584471656441717, known_r_ratio=0.8858695652173914),\n",
       " '낫밷': NounScore(frequency=23, score=1.0, known_r_ratio=0.14285714285714285),\n",
       " '버피': NounScore(frequency=6, score=0.9986005, known_r_ratio=1.0),\n",
       " '장롱': NounScore(frequency=52, score=0.9007163499999999, known_r_ratio=0.7142857142857143),\n",
       " '폼페': NounScore(frequency=12, score=0.999185, known_r_ratio=0.4166666666666667),\n",
       " '집개': NounScore(frequency=5, score=0.99900775, known_r_ratio=0.8),\n",
       " '못미': NounScore(frequency=1596, score=0.8948752446428572, known_r_ratio=0.3905160390516039),\n",
       " '편으': NounScore(frequency=993, score=1.0, known_r_ratio=0.046875),\n",
       " '늠름': NounScore(frequency=21, score=0.9966785, known_r_ratio=0.7619047619047619),\n",
       " '충북': NounScore(frequency=5, score=0.9997935, known_r_ratio=0.6666666666666666),\n",
       " '착수': NounScore(frequency=23, score=0.9936000769230768, known_r_ratio=0.7222222222222222),\n",
       " '묘연': NounScore(frequency=40, score=0.940880344827586, known_r_ratio=0.8529411764705882),\n",
       " '그저': NounScore(frequency=24900, score=0.7133917999999999, known_r_ratio=0.014528850145288501),\n",
       " '동굴': NounScore(frequency=384, score=0.9274339944444446, known_r_ratio=0.728744939271255),\n",
       " '폭풍': NounScore(frequency=1620, score=0.6638435405405405, known_r_ratio=0.5211267605633803),\n",
       " '부대': NounScore(frequency=521, score=0.914962, known_r_ratio=0.3058252427184466),\n",
       " '흡혈': NounScore(frequency=282, score=0.8323067500000001, known_r_ratio=0.07511737089201878),\n",
       " '에곤': NounScore(frequency=275, score=0.6651316341463415, known_r_ratio=0.3942307692307692),\n",
       " '허쉬': NounScore(frequency=30, score=0.9873673999999999, known_r_ratio=0.4166666666666667),\n",
       " '본게': NounScore(frequency=1133, score=0.999837, known_r_ratio=0.1111111111111111),\n",
       " '앞칸': NounScore(frequency=68, score=0.9674412391304348, known_r_ratio=0.9787234042553191),\n",
       " '동맹': NounScore(frequency=67, score=0.7349115853658537, known_r_ratio=0.6949152542372882),\n",
       " '쾌변': NounScore(frequency=25, score=0.813261875, known_r_ratio=0.4444444444444444),\n",
       " '컬처': NounScore(frequency=10, score=0.9997796666666666, known_r_ratio=0.5),\n",
       " '면모': NounScore(frequency=1243, score=0.864042633237822, known_r_ratio=0.937332139659803),\n",
       " '아바': NounScore(frequency=1101, score=0.8433461674641146, known_r_ratio=0.2193074501573977),\n",
       " '어텀': NounScore(frequency=165, score=0.7250081360000001, known_r_ratio=0.9191176470588235),\n",
       " '존들': NounScore(frequency=48, score=0.9561049411764706, known_r_ratio=0.8947368421052632),\n",
       " '습성': NounScore(frequency=136, score=0.613906554347826, known_r_ratio=0.8440366972477065),\n",
       " '순직': NounScore(frequency=32, score=0.9994848148148149, known_r_ratio=0.9),\n",
       " '핑클': NounScore(frequency=13, score=0.8582715714285714, known_r_ratio=1.0),\n",
       " '메텔': NounScore(frequency=22, score=0.7526752, known_r_ratio=0.8823529411764706),\n",
       " '터틀': NounScore(frequency=23, score=0.597930125, known_r_ratio=0.5333333333333333),\n",
       " '숙어': NounScore(frequency=7, score=0.9995166666666666, known_r_ratio=0.5),\n",
       " '죠타': NounScore(frequency=6, score=0.99883, known_r_ratio=0.5),\n",
       " '라레': NounScore(frequency=7, score=0.997334, known_r_ratio=0.14285714285714285),\n",
       " '본점': NounScore(frequency=10, score=0.9171695, known_r_ratio=1.0),\n",
       " '은혼': NounScore(frequency=38, score=0.7523883749999999, known_r_ratio=0.6956521739130435),\n",
       " '스팍': NounScore(frequency=434, score=0.8233186288659793, known_r_ratio=0.8533724340175953),\n",
       " '바들': NounScore(frequency=51, score=0.8014006, known_r_ratio=0.12195121951219512),\n",
       " '최초': NounScore(frequency=2062, score=0.9591989493746275, known_r_ratio=0.9566951566951567),\n",
       " '흑룡': NounScore(frequency=15, score=0.999185, known_r_ratio=0.07142857142857142),\n",
       " '조소': NounScore(frequency=357, score=0.9570905329949242, known_r_ratio=0.8242677824267782),\n",
       " '이또': NounScore(frequency=106, score=1.0, known_r_ratio=0.9714285714285714),\n",
       " 'ㅉㅉ': NounScore(frequency=223, score=0.976362, known_r_ratio=0.038461538461538464),\n",
       " '물밖': NounScore(frequency=21, score=0.9997723125, known_r_ratio=1.0),\n",
       " '헨슨': NounScore(frequency=6, score=0.9996034, known_r_ratio=1.0),\n",
       " '큰차': NounScore(frequency=21, score=0.9655463076923078, known_r_ratio=0.65),\n",
       " '소상': NounScore(frequency=21, score=0.996306, known_r_ratio=0.3076923076923077),\n",
       " '모락': NounScore(frequency=35, score=0.995316, known_r_ratio=0.03571428571428571),\n",
       " '크흡': NounScore(frequency=66, score=1.0, known_r_ratio=0.05),\n",
       " '놈아': NounScore(frequency=48, score=0.997334, known_r_ratio=0.25),\n",
       " '세장': NounScore(frequency=23, score=0.8272740909090909, known_r_ratio=0.6111111111111112),\n",
       " '역대': NounScore(frequency=5553, score=0.8944115714285715, known_r_ratio=0.002097692538207971),\n",
       " '저우': NounScore(frequency=22, score=0.622089, known_r_ratio=0.1111111111111111),\n",
       " '벋어': NounScore(frequency=10, score=0.7370589999999999, known_r_ratio=0.2857142857142857),\n",
       " '축도': NounScore(frequency=6, score=0.9841096666666665, known_r_ratio=1.0),\n",
       " '덤보': NounScore(frequency=86, score=0.7805630952380953, known_r_ratio=0.8571428571428571),\n",
       " '쩐내': NounScore(frequency=15, score=0.517249875, known_r_ratio=0.8888888888888888),\n",
       " '장훈': NounScore(frequency=127, score=0.8130541463414634, known_r_ratio=0.6029411764705882),\n",
       " '주더': NounScore(frequency=87, score=0.951425, known_r_ratio=0.25),\n",
       " '우성': NounScore(frequency=367, score=0.9500318358208956, known_r_ratio=0.20743034055727555),\n",
       " '밝고': NounScore(frequency=927, score=1.0, known_r_ratio=0.14285714285714285),\n",
       " '맥피': NounScore(frequency=7, score=0.99939, known_r_ratio=0.6),\n",
       " '돌멩': NounScore(frequency=135, score=0.9401641492537314, known_r_ratio=0.5275590551181102),\n",
       " '불빛': NounScore(frequency=602, score=0.7399120947368423, known_r_ratio=0.8189655172413793),\n",
       " '들불': NounScore(frequency=6, score=0.6496841666666667, known_r_ratio=1.0),\n",
       " '천이': NounScore(frequency=24, score=1.0, known_r_ratio=0.4),\n",
       " '당근': NounScore(frequency=188, score=0.6702980804597701, known_r_ratio=0.7699115044247787),\n",
       " '말끔': NounScore(frequency=287, score=0.9970230117647059, known_r_ratio=0.6007067137809188),\n",
       " '고일': NounScore(frequency=26, score=1.0, known_r_ratio=0.15384615384615385),\n",
       " '깨끗': NounScore(frequency=1367, score=0.9948593558441557, known_r_ratio=0.872356495468278),\n",
       " '분당': NounScore(frequency=115, score=0.7936654999999999, known_r_ratio=0.28125),\n",
       " '뮌헨': NounScore(frequency=31, score=0.8596510666666667, known_r_ratio=0.8333333333333334),\n",
       " '주상': NounScore(frequency=47, score=0.9999477999999999, known_r_ratio=0.1388888888888889),\n",
       " '깼다': NounScore(frequency=276, score=1.0, known_r_ratio=0.05714285714285714),\n",
       " '썸씽': NounScore(frequency=12, score=0.6287860000000001, known_r_ratio=0.875),\n",
       " '역들': NounScore(frequency=23, score=0.7522020624999999, known_r_ratio=0.9411764705882353),\n",
       " '과감': NounScore(frequency=1963, score=0.9969450565253533, known_r_ratio=0.6246105919003115),\n",
       " '오또': NounScore(frequency=14, score=1.0, known_r_ratio=0.75),\n",
       " '때악': NounScore(frequency=5, score=0.999867, known_r_ratio=0.4),\n",
       " '상투': NounScore(frequency=1330, score=0.7907854285714284, known_r_ratio=0.027386541471048513),\n",
       " '교토': NounScore(frequency=52, score=0.9184832272727274, known_r_ratio=0.8148148148148148),\n",
       " '강냉': NounScore(frequency=31, score=0.9734298235294119, known_r_ratio=0.6296296296296297),\n",
       " '켄트': NounScore(frequency=39, score=0.8516399642857143, known_r_ratio=0.9655172413793104),\n",
       " '치아': NounScore(frequency=225, score=0.9120199000000001, known_r_ratio=0.5063291139240507),\n",
       " '매덕': NounScore(frequency=7, score=0.9172448333333333, known_r_ratio=0.8571428571428571),\n",
       " '네간': NounScore(frequency=11, score=0.6991595714285713, known_r_ratio=0.7777777777777778),\n",
       " '좌파': NounScore(frequency=161, score=0.584284425925926, known_r_ratio=0.4954128440366973),\n",
       " '북군': NounScore(frequency=7, score=0.9996993333333334, known_r_ratio=1.0),\n",
       " '두상': NounScore(frequency=28, score=0.8264592666666669, known_r_ratio=0.8823529411764706),\n",
       " '시경': NounScore(frequency=10, score=0.763817, known_r_ratio=0.8571428571428571),\n",
       " '선고': NounScore(frequency=165, score=0.9731282978723402, known_r_ratio=0.7899159663865546),\n",
       " '붕붕': NounScore(frequency=100, score=0.63067425, known_r_ratio=0.27586206896551724),\n",
       " '숙자': NounScore(frequency=5, score=0.999867, known_r_ratio=0.3333333333333333),\n",
       " '버치': NounScore(frequency=31, score=0.9401782631578947, known_r_ratio=0.95),\n",
       " '쫀잼': NounScore(frequency=16, score=0.999197, known_r_ratio=0.16666666666666666),\n",
       " '부강': NounScore(frequency=12, score=0.9907103333333334, known_r_ratio=0.5454545454545454),\n",
       " '횟감': NounScore(frequency=38, score=0.7987232647058824, known_r_ratio=0.9714285714285714),\n",
       " '화대': NounScore(frequency=5, score=0.75268, known_r_ratio=0.6666666666666666),\n",
       " '임지': NounScore(frequency=298, score=1.0, known_r_ratio=0.0035460992907801418),\n",
       " '치성': NounScore(frequency=8, score=0.9007285999999999, known_r_ratio=0.8333333333333334),\n",
       " '무참': NounScore(frequency=321, score=0.9970298823529411, known_r_ratio=0.1608832807570978),\n",
       " '솔찍': NounScore(frequency=126, score=0.9950198695652172, known_r_ratio=0.19658119658119658),\n",
       " '간절': NounScore(frequency=3370, score=0.9937845254237284, known_r_ratio=0.37751371115173676),\n",
       " '원함': NounScore(frequency=17, score=0.6496551666666666, known_r_ratio=0.75),\n",
       " '표지': NounScore(frequency=287, score=0.8114829718309859, known_r_ratio=0.5298507462686567),\n",
       " '접대': NounScore(frequency=59, score=0.933991260869565, known_r_ratio=0.5348837209302325),\n",
       " '파탈': NounScore(frequency=58, score=0.836151258064516, known_r_ratio=0.9117647058823529),\n",
       " '랭킹': NounScore(frequency=27, score=0.9502833, known_r_ratio=0.7692307692307693),\n",
       " '이슌': NounScore(frequency=10, score=0.5980967500000001, known_r_ratio=0.8),\n",
       " '적의': NounScore(frequency=348, score=0.7225176111111112, known_r_ratio=0.8571428571428571),\n",
       " '착장': NounScore(frequency=29, score=0.9233926153846153, known_r_ratio=0.8666666666666667),\n",
       " '산제': NounScore(frequency=12, score=0.9991880000000001, known_r_ratio=0.3333333333333333),\n",
       " '쟁취': NounScore(frequency=537, score=0.97248075900277, known_r_ratio=0.7234468937875751),\n",
       " '명품': NounScore(frequency=1986, score=0.8348719965753424, known_r_ratio=0.3048016701461378),\n",
       " '짝을': NounScore(frequency=191, score=0.9959635, known_r_ratio=0.6666666666666666),\n",
       " '공병': NounScore(frequency=21, score=0.752362, known_r_ratio=0.15384615384615385),\n",
       " '요동': NounScore(frequency=632, score=0.869944331444759, known_r_ratio=0.6065292096219931),\n",
       " '트램': NounScore(frequency=53, score=0.999787, known_r_ratio=0.058823529411764705),\n",
       " '질지': NounScore(frequency=20, score=0.957621, known_r_ratio=0.5),\n",
       " '콧대': NounScore(frequency=55, score=0.8444324827586207, known_r_ratio=0.8529411764705882),\n",
       " '열전': NounScore(frequency=60, score=0.5159362399999999, known_r_ratio=0.8620689655172413),\n",
       " '햄보': NounScore(frequency=24, score=1.0, known_r_ratio=0.2),\n",
       " '신뢰': NounScore(frequency=1734, score=0.8315491178509533, known_r_ratio=0.7739771965124078),\n",
       " '커다': NounScore(frequency=1512, score=0.5486498844476745, known_r_ratio=0.9297297297297298),\n",
       " '시혜': NounScore(frequency=89, score=0.7997373333333334, known_r_ratio=0.2441860465116279),\n",
       " '광도': NounScore(frequency=7, score=0.99972, known_r_ratio=0.3333333333333333),\n",
       " '티저': NounScore(frequency=169, score=0.7720828295454545, known_r_ratio=0.7096774193548387),\n",
       " '위자': NounScore(frequency=28, score=0.9174836666666667, known_r_ratio=0.2727272727272727),\n",
       " '묻게': NounScore(frequency=111, score=0.9940775000000001, known_r_ratio=0.5128205128205128),\n",
       " '광포': NounScore(frequency=7, score=0.9983872857142858, known_r_ratio=1.0),\n",
       " '받고': NounScore(frequency=2653, score=0.6601749411764706, known_r_ratio=0.3333333333333333),\n",
       " '갇힘': NounScore(frequency=16, score=0.954703818181818, known_r_ratio=0.9166666666666666),\n",
       " '밀도': NounScore(frequency=1151, score=0.7211863027166882, known_r_ratio=0.9062133645955451),\n",
       " '멸시': NounScore(frequency=213, score=0.9680219402985075, known_r_ratio=0.8271604938271605),\n",
       " '분속': NounScore(frequency=7, score=0.9997373333333334, known_r_ratio=1.0),\n",
       " '크긴': NounScore(frequency=75, score=0.9860964285714285, known_r_ratio=0.6086956521739131),\n",
       " '미관': NounScore(frequency=8, score=0.87593375, known_r_ratio=0.5714285714285714),\n",
       " '에로': NounScore(frequency=1413, score=0.7254319464285713, known_r_ratio=0.10526315789473684),\n",
       " '연속': NounScore(frequency=4865, score=0.9248939807576666, known_r_ratio=0.5911837895485247),\n",
       " '포탄': NounScore(frequency=143, score=0.8895434731182795, known_r_ratio=0.8773584905660378),\n",
       " '성적': NounScore(frequency=2351, score=0.7624116859504135, known_r_ratio=0.4029975020815987),\n",
       " '처키': NounScore(frequency=75, score=0.8760339607843136, known_r_ratio=0.8947368421052632),\n",
       " '등빨': NounScore(frequency=32, score=0.8254106111111112, known_r_ratio=0.8181818181818182),\n",
       " '투정': NounScore(frequency=193, score=0.8095292962962964, known_r_ratio=0.5704225352112676),\n",
       " '관대': NounScore(frequency=546, score=0.993409016438356, known_r_ratio=0.6978967495219885),\n",
       " '죄가': NounScore(frequency=782, score=0.9999736666666668, known_r_ratio=0.5769230769230769),\n",
       " '알랜': NounScore(frequency=30, score=0.798942125, known_r_ratio=0.8421052631578947),\n",
       " '롱컷': NounScore(frequency=8, score=0.7319491666666668, known_r_ratio=0.8571428571428571),\n",
       " '니뎁': NounScore(frequency=5, score=0.999185, known_r_ratio=0.4),\n",
       " '적용': NounScore(frequency=803, score=0.9870606689497718, known_r_ratio=0.6125874125874126),\n",
       " '한벌': NounScore(frequency=17, score=0.8304033846153847, known_r_ratio=1.0),\n",
       " '로니': NounScore(frequency=94, score=0.652517463768116, known_r_ratio=0.9583333333333334),\n",
       " '쿠보': NounScore(frequency=41, score=0.967547, known_r_ratio=0.0625),\n",
       " '끝칸': NounScore(frequency=5, score=0.999685, known_r_ratio=1.0),\n",
       " '똘끼': NounScore(frequency=745, score=0.7156448436657682, known_r_ratio=0.7586912065439673),\n",
       " '각주': NounScore(frequency=23, score=0.8764683846153847, known_r_ratio=0.9285714285714286),\n",
       " '짱짱': NounScore(frequency=2095, score=0.96855724535316, known_r_ratio=0.22398001665278935),\n",
       " '눈뭉': NounScore(frequency=5, score=0.9082870000000001, known_r_ratio=0.6666666666666666),\n",
       " '탁상': NounScore(frequency=103, score=0.9997113333333334, known_r_ratio=0.043478260869565216),\n",
       " '금서': NounScore(frequency=11, score=0.9907321428571427, known_r_ratio=0.7),\n",
       " '갈뿐': NounScore(frequency=22, score=1.0, known_r_ratio=0.2857142857142857),\n",
       " '민지': NounScore(frequency=40, score=0.5548868461538461, known_r_ratio=0.5416666666666666),\n",
       " '항준': NounScore(frequency=9, score=0.9991850000000001, known_r_ratio=0.3333333333333333),\n",
       " '케롤': NounScore(frequency=10, score=0.9996993333333334, known_r_ratio=0.3333333333333333),\n",
       " '꽃과': NounScore(frequency=130, score=1.0, known_r_ratio=0.16666666666666666),\n",
       " '얼탱': NounScore(frequency=123, score=0.9996133974358974, known_r_ratio=0.7222222222222222),\n",
       " '어창': NounScore(frequency=12, score=0.999750125, known_r_ratio=0.8888888888888888),\n",
       " '문앞': NounScore(frequency=24, score=0.9996639090909092, known_r_ratio=0.9565217391304348),\n",
       " '터보': NounScore(frequency=31, score=0.8389138181818182, known_r_ratio=0.5238095238095238),\n",
       " '람보': NounScore(frequency=247, score=0.9014322282608696, known_r_ratio=0.6666666666666666),\n",
       " '라미': NounScore(frequency=302, score=0.55227086, known_r_ratio=0.3831417624521073),\n",
       " '레픈': NounScore(frequency=34, score=0.8231423333333334, known_r_ratio=0.9545454545454546),\n",
       " '남해': NounScore(frequency=15, score=0.9996628750000001, known_r_ratio=0.8),\n",
       " '홀트': NounScore(frequency=551, score=0.7093211020408163, known_r_ratio=0.9295392953929539),\n",
       " '몹시': NounScore(frequency=1090, score=0.505755, known_r_ratio=0.8923076923076924),\n",
       " '피비': NounScore(frequency=401, score=0.956748, known_r_ratio=0.0391566265060241),\n",
       " '다운': NounScore(frequency=2420, score=0.8004458485639685, known_r_ratio=0.3205020920502092),\n",
       " '긍정': NounScore(frequency=4156, score=0.8981589640666082, known_r_ratio=0.30105540897097627),\n",
       " '통달': NounScore(frequency=79, score=0.9808548888888889, known_r_ratio=0.84),\n",
       " '착신': NounScore(frequency=8, score=0.999185, known_r_ratio=0.14285714285714285),\n",
       " '셀렙': NounScore(frequency=12, score=0.9996136666666667, known_r_ratio=0.5454545454545454),\n",
       " '해남': NounScore(frequency=6, score=1.0, known_r_ratio=0.5),\n",
       " ...}"
      ]
     },
     "execution_count": 139,
     "metadata": {},
     "output_type": "execute_result"
    }
   ],
   "source": [
    "nouns"
   ]
  },
  {
   "cell_type": "code",
   "execution_count": 140,
   "metadata": {
    "collapsed": true
   },
   "outputs": [],
   "source": [
    "\n",
    "nouns2 = {}\n",
    "\n",
    "\n",
    "#rscore와 frequency 기준으로 잘라본다.\n",
    "#rscore가 작다는 것은 조사일 가능성이 높다\n",
    "for w in nouns:\n",
    "    if list(nouns[w])[2] > 0.8 and list(nouns[w])[0] > 100:\n",
    "        nouns2[w] = list(nouns[w])[0]\n",
    "\n",
    "\n"
   ]
  },
  {
   "cell_type": "code",
   "execution_count": 141,
   "metadata": {
    "collapsed": false
   },
   "outputs": [
    {
     "data": {
      "text/plain": [
       "6762"
      ]
     },
     "execution_count": 141,
     "metadata": {},
     "output_type": "execute_result"
    }
   ],
   "source": [
    "len(nouns2.keys())"
   ]
  },
  {
   "cell_type": "code",
   "execution_count": 142,
   "metadata": {
    "collapsed": false
   },
   "outputs": [
    {
     "data": {
      "text/plain": [
       "dict_items([('인방', 193), ('종구', 352), ('꽃들', 213), ('초석', 391), ('장첸', 393), ('년뒤', 286), ('내년', 604), ('개들', 719), ('컨셉', 2436), ('창백', 176), ('의자', 819), ('컬킨', 146), ('상현', 272), ('경험', 8426), ('시온', 252), ('연희', 652), ('험난', 431), ('고약', 141), ('우아', 3980), ('바위', 542), ('코너', 1015), ('현빈', 2400), ('그윽', 140), ('과함', 304), ('응당', 157), ('일출', 119), ('너머', 1610), ('조커', 3883), ('비릿', 229), ('서연', 164), ('짓들', 117), ('각박', 420), ('현명', 1034), ('극강', 422), ('형님', 1552), ('시력', 170), ('편승', 293), ('밀정', 859), ('안쪽', 122), ('무어', 1089), ('심장', 7664), ('덜도', 565), ('무렵', 485), ('괴물', 10474), ('방패', 356), ('든든', 570), ('위치', 2475), ('리지', 169), ('괴담', 180), ('화분', 297), ('횟수', 115), ('깜깜', 192), ('불길', 375), ('명분', 1026), ('공유', 5399), ('유능', 262), ('맥락', 1776), ('후광', 253), ('백프', 175), ('궁전', 124), ('킬빌', 551), ('총칼', 102), ('선택', 23012), ('물체', 120), ('반열', 380), ('오즈', 509), ('발끝', 392), ('괴상', 679), ('왠만', 840), ('색계', 164), ('덕택', 105), ('역할', 12082), ('반듯', 164), ('핸콕', 127), ('접촉', 173), ('탈선', 127), ('한계', 8285), ('주축', 114), ('통로', 165), ('그속', 449), ('화법', 825), ('노아', 761), ('카렐', 690), ('기왕', 164), ('품위', 542), ('호수', 515), ('면모', 1243), ('어텀', 165), ('습성', 136), ('스팍', 434), ('최초', 2062), ('조소', 357), ('이또', 106), ('불빛', 602), ('깨끗', 1367), ('적의', 348), ('커다', 1512), ('밀도', 1151), ('멸시', 213), ('포탄', 143), ('홀트', 551), ('몹시', 1090), ('훌룡', 197), ('셔츠', 214), ('격동', 299), ('두편', 389), ('기이', 981), ('마디', 2153), ('중점', 907), ('희망', 14895), ('주위', 2150), ('구도', 2699), ('꿈들', 250), ('단테', 316), ('닥스', 207), ('기담', 147), ('화차', 230), ('병원', 961), ('쉴틈', 489), ('동생', 4085), ('핏물', 113), ('헌터', 101), ('열연', 4089), ('글들', 125), ('유무', 287), ('쾌락', 1339), ('초장', 196), ('통념', 299), ('무해', 124), ('주문', 666), ('숨결', 350), ('네게', 243), ('동경', 2465), ('폭포', 529), ('최근', 5002), ('냄새', 3134), ('선로', 105), ('공평', 364), ('문체', 162), ('인극', 147), ('단숨', 204), ('방안', 330), ('실화', 14555), ('족쇄', 320), ('거래', 853), ('재치', 2489), ('나름', 19583), ('경종', 249), ('담요', 103), ('귀향', 682), ('충만', 1173), ('켠이', 125), ('무늬', 126), ('평범', 16943), ('사랑', 188994), ('담백', 5371), ('동전', 467), ('척도', 164), ('절정', 2778), ('볼륨', 398), ('음지', 159), ('준것', 206), ('헌팅', 204), ('만인', 275), ('악몽', 1602), ('루머', 108), ('박수', 10496), ('육중', 149), ('함의', 266), ('뒷전', 201), ('점수', 5758), ('수위', 843), ('년전', 2579), ('커쳐', 111), ('설정', 23674), ('고독', 4437), ('형체', 142), ('리슨', 106), ('작금', 201), ('음침', 379), ('텔링', 276), ('똥폼', 193), ('왕비', 267), ('승자', 842), ('정갈', 514), ('압력', 130), ('행간', 101), ('개혁', 116), ('파장', 323), ('불구', 12844), ('그말', 192), ('망정', 255), ('애증', 864), ('기내', 193), ('불운', 349), ('토드', 171), ('애도', 781), ('플롯', 8457), ('뒤끝', 133), ('시내', 128), ('훈훈', 3520), ('죽빵', 104), ('인성', 691), ('왓슨', 1846), ('쉼표', 204), ('그안', 389), ('다양', 8600), ('음습', 139), ('준하', 101), ('상흔', 255), ('속죄', 1080), ('방면', 195), ('물가', 101), ('각오', 607), ('탄성', 539), ('경향', 683), ('아낌', 422), ('리사', 230), ('함선', 105), ('육신', 251), ('희열', 1020), ('영혼', 4512), ('뉴스', 1364), ('듬직', 156), ('오베', 653), ('천상', 296), ('템포', 1180), ('오류', 865), ('지면', 149), ('분투', 376), ('부엌', 127), ('교재', 109), ('깜찍', 798), ('래리', 172), ('저놈', 111), ('과격', 520), ('구애', 249), ('심정', 2057), ('왓츠', 232), ('더도', 599), ('모종', 114), ('살벌', 610), ('동심', 3436), ('국물', 189), ('체온', 134), ('모정', 242), ('될뻔', 383), ('완주', 173), ('손색', 1438), ('이쯤', 1381), ('저절', 814), ('혹평', 1560), ('저변', 113), ('만섭', 310), ('댓가', 418), ('켄토', 149), ('낸시', 328), ('정곡', 121), ('키린', 112), ('서로', 23668), ('쟁쟁', 280), ('매사', 174), ('유일', 6791), ('자격', 1875), ('타키', 510), ('관심', 7178), ('용도', 230), ('검프', 864), ('설현', 459), ('여친', 881), ('설렘', 1988), ('깁슨', 307), ('벤허', 194), ('이때', 3617), ('씨앗', 440), ('밥상', 593), ('좌석', 259), ('숫자', 1100), ('악보', 166), ('처절', 5224), ('숏컷', 103), ('분간', 794), ('기태', 700), ('유려', 1071), ('가련', 264), ('품격', 994), ('평생', 5780), ('비밥', 132), ('산뜻', 647), ('판권', 209), ('연민', 2081), ('어둠', 3437), ('준호', 355), ('출중', 374), ('몰락', 998), ('더든', 109), ('반전', 33488), ('방법', 10056), ('카셀', 150), ('서리', 182), ('영재', 468), ('팽이', 289), ('선명', 2357), ('양말', 267), ('욕심', 5454), ('사죄', 290), ('전말', 241), ('각본', 10099), ('화사', 198), ('썸머', 2756), ('편견', 7172), ('신물', 180), ('간섭', 230), ('연연', 187), ('커크', 440), ('전편', 6052), ('의외', 7321), ('야유', 113), ('조화', 6206), ('굿맨', 155), ('미묘', 2542), ('스팟', 130), ('화력', 117), ('작전', 1262), ('머신', 188), ('현란', 1106), ('상태', 3758), ('머드', 141), ('또렷', 545), ('기법', 1930), ('행적', 201), ('찬란', 2433), ('흑막', 114), ('장소', 2885), ('핸들', 124), ('비운', 511), ('계절', 1786), ('이용', 5829), ('추위', 271), ('능력', 10512), ('풀샷', 118), ('축제', 486), ('호평', 982), ('나쁨', 167), ('낱낱', 157), ('켜켜', 217), ('짐머', 747), ('개콘', 166), ('소파', 200), ('언덕', 550), ('혈육', 130), ('존과', 116), ('혹독', 347), ('캐붕', 156), ('속절', 158), ('논란', 1545), ('나중', 5563), ('백숙', 114), ('시절', 13190), ('서점', 109), ('전율', 3720), ('후자', 919), ('마력', 648), ('활극', 602), ('한탄', 328), ('변수', 271), ('예우', 156), ('경치', 208), ('왈츠', 478), ('토냐', 370), ('역습', 228), ('미신', 179), ('희안', 180), ('신념', 6189), ('강물', 560), ('애인', 1139), ('타령', 403), ('나체', 287), ('의혹', 173), ('대우', 351), ('상자', 827), ('단어', 6068), ('양파', 160), ('애초', 3505), ('틀림', 2074), ('들판', 267), ('볼때', 5295), ('문턱', 195), ('베티', 360), ('호크', 898), ('라슨', 126), ('에라', 292), ('야수', 5451), ('승민', 151), ('재주', 1396), ('앨런', 3039), ('애석', 242), ('탈피', 651), ('태도', 4115), ('셰인', 101), ('맘속', 217), ('순이', 114), ('대책', 756), ('마빈', 134), ('어제', 1658), ('구절', 535), ('화합', 533), ('눈밭', 182), ('느긋', 391), ('우위', 241), ('양갱', 191), ('아내', 5344), ('샬롯', 236), ('현재', 11224), ('규율', 215), ('키라', 147), ('집념', 754), ('고니', 266), ('번잡', 221), ('것들', 17770), ('퓨리', 605), ('지장', 186), ('미천', 106), ('근거', 1048), ('연아', 113), ('옷들', 170), ('남짓', 341), ('년후', 352), ('강단', 171), ('노력', 13710), ('하디', 1650), ('볼법', 117), ('실제', 13256), ('자궁', 162), ('애들', 5075), ('실력', 1536), ('영광', 1288), ('미녀', 3054), ('과언', 558), ('본즈', 112), ('한심', 1466), ('이목', 267), ('쓴듯', 136), ('레토', 605), ('톰형', 309), ('포맷', 332), ('미자', 1474), ('망토', 431), ('애착', 543), ('뒤주', 159), ('사정', 1190), ('가발', 121), ('울수', 180), ('한놈', 105), ('설화', 197), ('트릭', 663), ('러쉬', 185), ('저렴', 364), ('정취', 152), ('귀감', 127), ('욕정', 307), ('호쾌', 548), ('번정', 152), ('베프', 108), ('음색', 173), ('분야', 631), ('싸늘', 344), ('탄탄', 6739), ('산트', 175), ('막말', 162), ('공짜', 614), ('방황', 2694), ('정교', 1401), ('토르', 5597), ('로비', 597), ('네드', 164), ('가차', 244), ('용감', 1238), ('광인', 210), ('스톤', 1373), ('두서', 412), ('패자', 289), ('달걀', 340), ('질타', 144), ('인생', 51485), ('필두', 177), ('가량', 297), ('호퍼', 126), ('대낮', 149), ('패닝', 607), ('이별', 5401), ('그후', 264), ('손발', 1060), ('핀처', 2102), ('만물', 147), ('당시', 9152), ('아들', 10641), ('손자', 387), ('풍경', 5231), ('낯섦', 122), ('공백', 593), ('흑화', 131), ('헛간', 198), ('만감', 110), ('발루', 337), ('문장', 1411), ('낙원', 331), ('처벌', 636), ('섬머', 115), ('후편', 350), ('여유', 2361), ('겹겹', 194), ('완수', 125), ('사태', 663), ('은은', 797), ('탁월', 4002), ('역경', 751), ('여론', 435), ('그곳', 2947), ('태양', 1689), ('가을', 2168), ('교실', 389), ('시즌', 1012), ('급급', 900), ('딜런', 261), ('황제', 453), ('묵직', 6101), ('셀마', 192), ('도처', 139), ('이왕', 424), ('염치', 178), ('워낙', 2786), ('새들', 227), ('잡스', 1153), ('확고', 886), ('다채', 1333), ('뒷면', 212), ('잣대', 947), ('심오', 1888), ('녹록', 168), ('서론', 299), ('꽃길', 182), ('짤막', 190), ('잭슨', 1097), ('현수', 349), ('귓가', 897), ('살점', 140), ('저택', 266), ('찬미', 134), ('분들', 4544), ('장막', 106), ('로치', 188), ('희수', 299), ('캄캄', 136), ('연료', 166), ('무난', 6922), ('범작', 781), ('혼돈', 1157), ('장중', 236), ('희대', 833), ('판이', 333), ('핏줄', 355), ('가책', 153), ('니모', 745), ('역행', 282), ('총질', 570), ('알렌', 187), ('성욕', 548), ('지위', 443), ('촛점', 175), ('막대', 295), ('조국', 799), ('고비', 183), ('경로', 119), ('입술', 677), ('다름', 2595), ('말듯', 337), ('팔뚝', 231), ('본래', 759), ('하품', 1018), ('본인', 6043), ('경우', 4062), ('쇼코', 175), ('장착', 325), ('의지', 5452), ('테론', 634), ('욘두', 1313), ('자잘', 365), ('분전', 243), ('대의', 1457), ('건반', 160), ('티비', 2709), ('렌즈', 333), ('비수', 245), ('일산', 102), ('탐닉', 267), ('노을', 672), ('폐부', 168), ('떨림', 580), ('요상', 490), ('염증', 113), ('충고', 375), ('허공', 654), ('쥐뿔', 102), ('화려', 20608), ('선의', 766), ('거나', 210), ('자크', 207), ('대호', 303), ('공간', 10748), ('피트', 2076), ('원죄', 275), ('찬물', 165), ('햇볕', 304), ('철우', 358), ('다노', 141), ('종수', 5036), ('지수', 407), ('쓸모', 1386), ('스멜', 151), ('곳곳', 2797), ('차악', 143), ('내공', 765), ('성자', 154), ('두명', 1177), ('폐해', 458), ('무드', 355), ('헐렁', 139), ('선망', 159), ('총성', 683), ('끊임', 5577), ('적들', 285), ('항쟁', 179), ('적확', 113), ('애환', 418), ('동요', 446), ('팬덤', 122), ('굿바', 463), ('여파', 127), ('잉크', 115), ('갈구', 1069), ('태풍', 841), ('뮬란', 488), ('소신', 674), ('입맛', 828), ('코드', 3662), ('니슨', 1197), ('분장', 1700), ('여담', 361), ('거창', 1262), ('한적', 241), ('췌장', 346), ('갈채', 147), ('한권', 270), ('루벤', 149), ('경관', 137), ('성품', 108), ('세태', 298), ('혜성', 380), ('성향', 946), ('팽팽', 1138), ('무고', 476), ('예법', 135), ('때깔', 656), ('염력', 607), ('미래', 11827), ('년판', 138), ('저주', 1960), ('손길', 890), ('인장', 192), ('균열', 612), ('게임', 5823), ('작년', 759), ('발목', 706), ('가설', 181), ('레옹', 1791), ('보영', 539), ('레저', 412), ('튼튼', 482), ('끝맛', 188), ('소질', 104), ('원석', 212), ('탐욕', 1490), ('저쪽', 154), ('허투', 345), ('통째', 351), ('궤적', 130), ('뚝심', 877), ('질서', 972), ('두눈', 145), ('맥퀸', 217), ('생애', 1348), ('부문', 130), ('난간', 101), ('마야', 123), ('와중', 3104), ('열매', 425), ('청이', 102), ('왕좌', 203), ('킹콩', 1293), ('근간', 143), ('적군', 351), ('테잎', 118), ('곡들', 258), ('단점', 5887), ('양념', 1100), ('울긴', 179), ('남탓', 108), ('원칙', 660), ('화원', 110), ('이전', 6052), ('기운', 905), ('웬만', 1073), ('쿨내', 118), ('저들', 702), ('버프', 492), ('논문', 170), ('숨통', 410), ('전선', 104), ('펫들', 112), ('숙희', 1401), ('울분', 560), ('악행', 526), ('변화', 8124), ('홍매', 135), ('진구', 602), ('악평', 614), ('명함', 213), ('교사', 656), ('버릇', 318), ('소킨', 265), ('손끝', 293), ('올때', 153), ('스콧', 1839), ('방탕', 153), ('이쪽', 578), ('입김', 208), ('쉴새', 695), ('꿋꿋', 489), ('잠시', 4505), ('우열', 120), ('패턴', 1075), ('기쁨', 5336), ('의미', 30757), ('억장', 109), ('불통', 109), ('될때', 364), ('범주', 469), ('알몸', 159), ('달러', 428), ('말빨', 474), ('개밥', 170), ('지문', 141), ('추구', 2696), ('빠심', 112), ('진창', 158), ('통증', 168), ('과도', 2687), ('총구', 403), ('밀양', 440), ('강함', 397), ('간결', 1092), ('독특', 7989), ('베놈', 132), ('명제', 368), ('자루', 107), ('성의', 771), ('마미', 259), ('새싹', 182), ('풍파', 144), ('셰프', 546), ('한결', 1297), ('목표', 2695), ('선곡', 441), ('모드', 1820), ('실태', 226), ('수시', 217), ('위로', 10301), ('유산', 588), ('발상', 2713), ('밧줄', 184), ('쓸때', 200), ('니로', 723), ('년대', 9163), ('포함', 2603), ('도약', 518), ('태수', 215), ('귀인', 350), ('숙모', 159), ('케잌', 129), ('소재', 50488), ('리타', 286), ('병운', 207), ('통수', 878), ('일화', 210), ('번복', 103), ('남들', 3337), ('상훈', 112), ('동력', 583), ('상술', 123), ('홈즈', 702), ('어깨', 1726), ('사상', 2073), ('하녀', 483), ('백조', 419), ('시인', 2052), ('숲속', 336), ('불변', 213), ('알량', 191), ('경쾌', 1934), ('장대', 559), ('년도', 2531), ('지표', 203), ('풍미', 340), ('부제', 745), ('몸매', 1440), ('사단', 338), ('입담', 556), ('히컵', 360), ('우먼', 542), ('이브', 892), ('루피', 115), ('정인', 115), ('흑조', 286), ('향취', 101), ('밋밋', 3387), ('측면', 1754), ('답변', 402), ('화질', 301), ('기질', 218), ('줏대', 155), ('심신', 168), ('핫세', 523), ('마찰', 168), ('포즈', 159), ('미미', 513), ('눈살', 576), ('베일', 1699), ('가감', 443), ('일임', 161), ('종목', 122), ('시류', 117), ('주님', 166), ('본작', 368), ('증오', 2070), ('위엄', 695), ('정청', 253), ('생소', 704), ('은밀', 904), ('콩트', 140), ('깃털', 314), ('소굴', 115), ('수명', 305), ('로랑', 165), ('김훈', 181), ('헌트', 176), ('흐믓', 179), ('고난', 1217), ('구차', 223), ('힌트', 394), ('심연', 921), ('선량', 408), ('계단', 776), ('섭리', 240), ('숀펜', 155), ('낭자', 411), ('청아', 107), ('사건', 15303), ('아귀', 522), ('핀트', 174), ('마당', 389), ('세심', 1145), ('종류', 1349), ('마션', 810), ('돌란', 1499), ('본성', 2247), ('급박', 410), ('찻잔', 178), ('자태', 136), ('싸인', 200), ('흔적', 2390), ('양지', 127), ('이끼', 221), ('딴짓', 239), ('담보', 233), ('거대', 6825), ('순조', 172), ('수아', 133), ('민아', 402), ('평소', 1821), ('기량', 123), ('런던', 705), ('지갑', 254), ('저의', 265), ('괴팍', 324), ('사슴', 384), ('엘사', 1164), ('화끈', 1753), ('안목', 595), ('호응', 139), ('최고', 59493), ('색감', 8178), ('냉철', 630), ('태초', 269), ('가난', 1937), ('안위', 236), ('아몰', 128), ('자상', 189), ('열망', 1102), ('태그', 137), ('본편', 1246), ('목적', 5546), ('방심', 423), ('다툼', 302), ('텐션', 687), ('일생', 2160), ('방대', 698), ('시국', 658), ('눈물', 36414), ('의견', 1508), ('여분', 285), ('진태', 195), ('내안', 353), ('착취', 741), ('육성', 218), ('쓴것', 120), ('휴식', 377), ('과정', 15711), ('내옆', 121), ('샤넬', 247), ('여정', 2760), ('스완', 176), ('훌륭', 25256), ('한곡', 207), ('베송', 439), ('염원', 367), ('과욕', 334), ('점들', 522), ('인류', 4647), ('유형', 350), ('능숙', 594), ('몸집', 172), ('눈꼽', 163), ('등골', 146), ('별도', 171), ('광구', 238), ('수현', 253), ('러드', 108), ('멱살', 1153), ('터널', 6600), ('소현', 487), ('모세', 237), ('총탄', 149), ('구관', 118), ('숭배', 194), ('뼈대', 391), ('세밀', 980), ('전장', 842), ('질감', 605), ('수렁', 185), ('차들', 122), ('혼신', 276), ('버질', 101), ('불우', 206), ('부패', 867), ('시퀄', 177), ('불멸', 496), ('기세', 288), ('무빙', 271), ('여인', 2381), ('루트', 159), ('창대', 472), ('장엄', 1104), ('미약', 798), ('불신', 1005), ('크록', 145), ('명암', 207), ('켈리', 271), ('구간', 214), ('욕구', 1663), ('이름', 19719), ('지대', 319), ('번뇌', 199), ('치코', 110), ('분쯤', 143), ('터치', 503), ('활약', 1640), ('채움', 106), ('역량', 1925), ('소송', 136), ('자들', 3799), ('제리', 351), ('명성', 1644), ('외침', 1227), ('원빈', 2287), ('등급', 586), ('왜색', 274), ('경례', 119), ('손실', 143), ('별명', 234), ('등대', 240), ('록키', 848), ('견해', 282), ('자말', 118), ('때문', 46036), ('월터', 1276), ('빛깔', 316), ('병구', 209), ('나또', 231), ('어김', 539), ('감회', 215), ('날씬', 104), ('기교', 724), ('칭호', 118), ('흠집', 123), ('중심', 5020), ('침대', 889), ('극심', 203), ('푸이', 109), ('폐허', 454), ('공원', 1225), ('헛점', 467), ('적합', 906), ('신명', 337), ('컷들', 251), ('진범', 132), ('한쪽', 1101), ('한치', 683), ('렉터', 233), ('정권', 468), ('침묵', 2923), ('달빛', 1507), ('똑똑', 2996), ('성찰', 1584), ('등짝', 138), ('얼굴', 18609), ('절묘', 1782), ('엄마', 19654), ('사탄', 209), ('솜씨', 1234), ('욕설', 709), ('버즈', 116), ('황해', 428), ('강릉', 129), ('순탄', 219), ('유익', 277), ('논외', 173), ('병수', 151), ('학교', 3797), ('세자', 657), ('수화', 395), ('모금', 216), ('내곁', 130), ('틈새', 275), ('마트', 239), ('반응', 2321), ('갑질', 233), ('가돗', 1340), ('날들', 810), ('의향', 227), ('만행', 478), ('흉터', 373), ('홉스', 111), ('무척', 3150), ('주옥', 1329), ('납작', 148), ('입구', 165), ('광활', 844), ('순도', 259), ('세명', 573), ('원대', 128), ('텔러', 115), ('시동', 144), ('즐비', 165), ('음울', 659), ('박자', 653), ('행세', 122), ('다룸', 123), ('외피', 203), ('분노', 10960), ('지점', 2838), ('파커', 831), ('털털', 109), ('흐름', 9958), ('년엔', 123), ('스승', 1324), ('카페', 1047), ('맹신', 262), ('본듯', 2417), ('독전', 301), ('역린', 181), ('주로', 659), ('쾌감', 3810), ('화해', 1320), ('느낌', 91373), ('가뭄', 154), ('케미', 5579), ('재산', 300), ('발군', 431), ('결함', 396), ('누님', 379), ('로켓', 703), ('쿨함', 219), ('컨닝', 148), ('합당', 212), ('이견', 224), ('결심', 1044), ('정직', 1393), ('활보', 127), ('선율', 1450), ('안노', 206), ('뚱뚱', 341), ('칙칙', 357), ('틸리', 142), ('결점', 418), ('여럿', 739), ('속내', 400), ('타잔', 185), ('실물', 185), ('뻣뻣', 160), ('공부', 3404), ('의식', 3272), ('타인', 5465), ('재물', 107), ('문법', 487), ('수애', 332), ('이땅', 130), ('테오', 238), ('온화', 146), ('니들', 740), ('박력', 511), ('드루', 315), ('처칠', 570), ('여부', 412), ('번뜩', 448), ('투박', 2378), ('취지', 333), ('오롯', 1884), ('구입', 220), ('과거', 16781), ('인연', 3553), ('바론', 140), ('노먼', 331), ('종로', 133), ('난무', 1930), ('망각', 1317), ('딸들', 294), ('농밀', 125), ('눈앞', 1190), ('고흐', 186), ('랜디', 111), ('성격', 4179), ('대목', 495), ('승진', 107), ('순박', 430), ('갈망', 2072), ('저희', 209), ('때때', 760), ('감독', 88464), ('손톱', 296), ('난세', 102), ('심도', 534), ('창밖', 213), ('온몸', 1634), ('창고', 164), ('살의', 659), ('느닷', 301), ('자리', 7865), ('동안', 7311), ('불의', 635), ('겨냥', 413), ('화자', 305), ('잔상', 1134), ('일침', 687), ('간편', 124), ('정세', 132), ('특색', 746), ('스팅', 165), ('미터', 126), ('위주', 883), ('쥬리', 124), ('신발', 911), ('종두', 163), ('난뒤', 130), ('미아', 1520), ('고찰', 2241), ('본부', 143), ('포트', 1222), ('왕년', 160), ('예산', 646), ('생전', 241), ('냉혹', 749), ('당장', 1938), ('해머', 135), ('대게', 206), ('범인', 4755), ('헌것', 110), ('허름', 138), ('미소', 8861), ('삼촌', 810), ('저곳', 146), ('속박', 418), ('표정', 9905), ('실체', 1682), ('여과', 376), ('조조', 752), ('꼽고', 135), ('낙엽', 236), ('장벽', 353), ('경의', 1579), ('몇안', 390), ('효민', 126), ('한숨', 1928), ('갈피', 571), ('표방', 663), ('카일', 504), ('빗물', 169), ('이솜', 276), ('맹점', 132), ('여명', 257), ('밀러', 667), ('말들', 1957), ('갑옷', 161), ('염려', 213), ('순백', 149), ('오늘', 10755), ('몸짓', 1142), ('책들', 149), ('아맥', 301), ('콘돔', 105), ('원인', 1767), ('별빛', 192), ('자칫', 1927), ('뗄수', 437), ('사공', 266), ('왕국', 609), ('특종', 218), ('각각', 2963), ('진가', 796), ('작법', 320), ('랭보', 498), ('공식', 2436), ('사족', 1387), ('앞날', 260), ('갈길', 263), ('위시', 152), ('파리', 4163), ('호칭', 135), ('시련', 949), ('조던', 194), ('최후', 1886), ('체념', 415), ('버니', 197), ('먹칠', 220), ('기로', 468), ('세상', 48685), ('내것', 173), ('일련', 567), ('간격', 277), ('로키', 1011), ('층위', 121), ('딕션', 203), ('와꾸', 209), ('주긴', 246), ('푸근', 236), ('업계', 115), ('확률', 800), ('의중', 114), ('그늘', 850), ('약속', 1562), ('극명', 755), ('행태', 298), ('몸값', 124), ('과분', 353), ('할말', 1556), ('부류', 559), ('부재', 2656), ('어눌', 262), ('빌미', 114), ('만명', 319), ('리그', 960), ('멘탈', 1126), ('근처', 477), ('존슨', 810), ('연륜', 562), ('엄두', 214), ('끔직', 134), ('중력', 1000), ('우정', 6047), ('캘빈', 326), ('끔찍', 5557), ('지분', 125), ('폭언', 156), ('전철', 166), ('해법', 130), ('빈약', 2742), ('행위', 2562), ('통렬', 422), ('스산', 357), ('바닥', 1932), ('타짜', 1972), ('우직', 796), ('올해', 4561), ('이익', 1092), ('대미', 163), ('군도', 211), ('입밖', 104), ('료코', 627), ('갈때', 339), ('예감', 469), ('경배', 252), ('말그', 1109), ('명령', 432), ('물감', 387), ('시저', 1775), ('민감', 804), ('듀크', 111), ('잔치', 1118), ('짠함', 139), ('절벽', 376), ('진품', 398), ('나라', 10959), ('매끈', 652), ('술취', 118), ('찰나', 1489), ('로망', 1948), ('휘쇼', 106), ('탄식', 910), ('냉정', 1812), ('날때', 132), ('맨손', 175), ('비화', 105), ('예리', 435), ('복근', 156), ('날것', 975), ('린치', 776), ('페그', 379), ('안팎', 181), ('담론', 525), ('심플', 906), ('설움', 155), ('매체', 1272), ('기준', 3925), ('헬멧', 200), ('침울', 141), ('사인', 161), ('미마', 195), ('시점', 5076), ('식욕', 270), ('휼륭', 235), ('극본', 357), ('그점', 187), ('말투', 1727), ('곡성', 2139), ('얼개', 294), ('군단', 131), ('영수', 284), ('기꺼', 1063), ('단번', 305), ('울림', 3768), ('앨범', 544), ('고충', 260), ('출생', 290), ('비슷', 14751), ('윤아', 372), ('구수', 211), ('양날', 260), ('악단', 138), ('둘째', 1336), ('배분', 219), ('가문', 443), ('깊이', 7755), ('진전', 177), ('총알', 1535), ('횡포', 278), ('일영', 475), ('발칙', 1051), ('순결', 277), ('머피', 574), ('후안', 417), ('불후', 143), ('알약', 105), ('웹툰', 3547), ('덕분', 7121), ('강력', 4160), ('기복', 207), ('삶속', 242), ('카터', 303), ('옥자', 2735), ('오딘', 180), ('과오', 316), ('더락', 145), ('권리', 2004), ('귀도', 634), ('조합', 6070), ('훗날', 812), ('뱃속', 171), ('뒷심', 859), ('대들', 357), ('거울', 2029), ('격차', 191), ('구멍', 2711), ('황소', 115), ('기묘', 1427), ('단추', 335), ('종말', 1201), ('쓸대', 122), ('고레', 1076), ('거름', 111), ('그쪽', 248), ('보람', 497), ('똑바', 756), ('디워', 421), ('어투', 115), ('재력', 192), ('진솔', 589), ('향후', 215), ('척만', 123), ('당신', 21612), ('초점', 3010), ('그날', 2243), ('헵번', 332), ('배회', 116), ('관통', 1955), ('누구', 29500), ('브금', 750), ('난관', 156), ('진득', 475), ('뚜렷', 2556), ('빡침', 423), ('발성', 440), ('욕망', 11505), ('헨리', 945), ('영남', 113), ('성당', 248), ('자명', 151), ('별것', 282), ('약사', 136), ('아래', 3838), ('유종', 212), ('호프', 546), ('바탕', 4177), ('옥상', 384), ('사연', 2612), ('노년', 910), ('변함', 1222), ('열거', 104), ('광란', 183), ('제외', 4814), ('미모', 4564), ('칼질', 176), ('수단', 1688), ('고수', 1597), ('서재', 149), ('전생', 273), ('비중', 3519), ('고통', 11239), ('임무', 613), ('흉측', 119), ('대비', 2825), ('최악', 8882), ('상처', 14290), ('파동', 250), ('참맛', 124), ('줄스', 273), ('만약', 3510), ('경력', 253), ('세간', 162), ('동주', 1447), ('버그', 228), ('탱이', 648), ('광수', 263), ('심금', 394), ('정조', 801), ('상우', 448), ('접점', 388), ('쇼트', 909), ('세세', 931), ('톰슨', 212), ('모디', 163), ('그전', 470), ('정도', 43077), ('뉴트', 950), ('남발', 1045), ('맨발', 180), ('영생', 268), ('다수', 1657), ('예전', 5010), ('셰릴', 190), ('헤니', 149), ('망령', 206), ('한줌', 158), ('교류', 269), ('관문', 120), ('극한', 2755), ('오묘', 1111), ('더위', 152), ('헐크', 2243), ('놀런', 120), ('전례', 101), ('토끼', 2312), ('빠짐', 926), ('원수', 336), ('농도', 293), ('관록', 154), ('앵글', 1424), ('형들', 102), ('록시', 207), ('날카', 2351), ('단계', 1089), ('야근', 168), ('박열', 1514), ('어미', 274), ('의리', 2721), ('손짓', 458), ('도스', 274), ('근래', 1976), ('채널', 878), ('주원', 257), ('나위', 735), ('본후', 202), ('척박', 180), ('선함', 276), ('자신', 53159), ('비애', 364), ('고민', 11077), ('겸비', 332), ('양상', 299), ('그놈', 1616), ('족장', 104), ('가혹', 1166), ('아집', 178), ('색상', 167), ('미덕', 1353), ('타국', 137), ('정밀', 119), ('고심', 280), ('발악', 613), ('절차', 439), ('출처', 141), ('순서', 690), ('위용', 108), ('보냐', 110), ('신카', 2256), ('창가', 136), ('오후', 491), ('오감', 506), ('해변', 1085), ('바램', 677), ('수법', 145), ('결제', 146), ('눈빛', 11097), ('끊김', 146), ('쌔끈', 128), ('멀린', 411), ('그뒤', 148), ('고뇌', 3708), ('강변', 173), ('점씩', 177), ('이곳', 1258), ('독백', 1222), ('니체', 278), ('굵직', 363), ('음산', 364), ('명맥', 105), ('표적', 187), ('별개', 4238), ('복권', 181), ('남쪽', 131), ('로건', 3766), ('유쾌', 23706), ('일말', 638), ('양들', 325), ('장고', 272), ('샷건', 130), ('자막', 4510), ('노쇠', 144), ('상황', 24110), ('재료', 3332), ('막론', 279), ('곧바', 183), ('깔끔', 9623), ('예승', 175), ('녹차', 116), ('치밀', 4247), ('악함', 184), ('현존', 221), ('출구', 403), ('한둘', 142), ('주디', 1175), ('한잔', 913), ('트럭', 578), ('완벽', 30746), ('수건', 111), ('굿판', 159), ('알만', 260), ('언행', 251), ('객석', 148), ('빈틈', 1486), ('오종', 200), ('경지', 1495), ('보위', 239), ('실수', 3514), ('혜미', 459), ('콤보', 121), ('웬디', 412), ('휴일', 258), ('우애', 241), ('벌쳐', 226), ('번민', 127), ('뒷목', 113), ('황야', 192), ('방식', 12599), ('그밖', 136), ('사울', 851), ('만찬', 230), ('써머', 111), ('뭔가', 25760), ('레먼', 180), ('최선', 3992), ('소리', 15592), ('제인', 2392), ('뿐임', 102), ('위쇼', 133), ('착함', 114), ('만연', 623), ('틀안', 143), ('계곡', 180), ('일광', 214), ('막판', 2751), ('위버', 188), ('리치', 392), ('클럽', 829), ('추잡', 450), ('본론', 157), ('운율', 260), ('물결', 718), ('놈들', 1752), ('끝도', 1327), ('이득', 434), ('책장', 254), ('열병', 149), ('버림', 684), ('죽임', 405), ('엄격', 290), ('야망', 660), ('미진', 132), ('네명', 201), ('한획', 119), ('하쿠', 334), ('전설', 3349), ('아빠', 10114), ('평등', 910), ('조절', 1335), ('외도', 318), ('투쟁', 1532), ('사루', 375), ('눈길', 1221), ('만추', 142), ('속성', 509), ('미련', 1546), ('푸딩', 102), ('번영', 114), ('설파', 177), ('르푸', 150), ('버젓', 107), ('강렬', 10382), ('신랄', 749), ('생사', 450), ('풍성', 1078), ('아성', 243), ('우매', 179), ('개태', 135), ('진진', 138), ('섬세', 7357), ('시신', 239), ('춘희', 132), ('앤디', 1298), ('후대', 264), ('동선', 322), ('그럼', 13724), ('거침', 882), ('그룹', 229), ('조악', 1019), ('둔탁', 134), ('어떠', 4457), ('포터', 433), ('남편', 4819), ('여운', 14708), ('겨를', 186), ('배속', 235), ('대접', 337), ('분배', 321), ('그간', 937), ('은수', 399), ('끌림', 328), ('챕터', 373), ('떡잎', 258), ('물의', 228), ('그치', 3016), ('희한', 538), ('야경', 175), ('현서', 117), ('한방', 3099), ('노선', 378), ('전개', 38063), ('벌판', 102), ('내삶', 117), ('꽃잎', 341), ('모린', 242), ('쿠퍼', 950), ('준수', 745), ('정으', 159), ('주노', 227), ('스킬', 340), ('본분', 325), ('뜻밖', 978), ('명료', 459), ('깔쌈', 101), ('굴레', 1392), ('기구', 495), ('감옥', 1590), ('작정', 1437), ('사유', 829), ('교활', 209), ('일행', 226), ('링컨', 442), ('눈쌀', 250), ('존스', 1088), ('가사', 1632), ('궁지', 217), ('질문', 6796), ('수첩', 123), ('그름', 619), ('재하', 142), ('욕쟁', 106), ('침잠', 186), ('채도', 166), ('캐롤', 388), ('원리', 319), ('뒷편', 147), ('자네', 324), ('뚜껑', 343), ('흡사', 1120), ('벽지', 101), ('식당', 1232), ('나락', 535), ('영리', 3071), ('친숙', 570), ('격려', 402), ('척은', 132), ('팬티', 471), ('그때', 9594), ('독약', 132), ('고사', 178), ('두일', 103), ('기적', 5161), ('자켓', 108), ('곤경', 123), ('료타', 170), ('빙자', 485), ('추함', 142), ('빗속', 310), ('약점', 1034), ('박쥐', 631), ('결핍', 2041), ('풍광', 600), ('클릭', 142), ('년간', 1164), ('직전', 1450), ('필자', 222), ('더킹', 169), ('목숨', 4253), ('시야', 593), ('문신', 278), ('피셔', 113), ('바흐', 104), ('암울', 1635), ('뮤즈', 698), ('누명', 284), ('글자', 799), ('사소', 2400), ('왕관', 112), ('양쪽', 407), ('교본', 270), ('국익', 170), ('천장', 277), ('거윅', 245), ('취권', 102), ('부분', 35087), ('회한', 348), ('세금', 200), ('제목', 21059), ('쓸데', 4851), ('도슨', 158), ('격렬', 683), ('의의', 1591), ('속세', 114), ('쓴맛', 246), ('투혼', 136), ('하늘', 5982), ('노릇', 305), ('파도', 2216), ('기행', 126), ('막힘', 171), ('불행', 4549), ('향수', 3908), ('난데', 438), ('예사', 138), ('이면', 1821), ('재키', 312), ('창문', 1052), ('따듯', 2046), ('문영', 204), ('고증', 1803), ('디젤', 199), ('로라', 1069), ('평점', 6523), ('행성', 906), ('진작', 880), ('소냐', 171), ('렉스', 184), ('장혁', 619), ('쾌활', 149), ('백작', 259), ('육지', 205), ('일탈', 1579), ('교감', 1499), ('품질', 109), ('픽사', 7250), ('갠적', 619), ('윙크', 117), ('시선', 14539), ('순리', 239), ('문구', 927), ('지선', 181), ('칼날', 631), ('담담', 6744), ('한폭', 120), ('색깔', 3144), ('경유', 107), ('남친', 811), ('단위', 284), ('학대', 962), ('하필', 1142), ('삼삼', 107), ('속편', 7238), ('발판', 459), ('업적', 599), ('바넘', 906), ('열악', 196), ('페북', 257), ('튜닝', 132), ('후각', 160), ('팀웍', 117), ('사슬', 205), ('아픔', 6689), ('화두', 567), ('숨죽', 923), ('폭동', 152), ('혜택', 109), ('아벨', 205), ('일들', 3362), ('감안', 2084), ('명예', 1105), ('킹덤', 157), ('터너', 171), ('도움', 2895), ('계보', 309), ('뱃살', 109), ('버전', 3951), ('체제', 807), ('아톰', 111), ('마성', 414), ('항구', 109), ('지독', 4661), ('요란', 850), ('첫편', 269), ('괴력', 115), ('투샷', 235), ('코난', 1674), ('기회', 4201), ('자처', 355), ('쉴레', 175), ('회개', 232), ('형태', 2242), ('감흥', 2567), ('쇼파', 124), ('선상', 190), ('몇번', 4603), ('밀접', 155), ('음악', 51272), ('파국', 1109), ('센스', 2610), ('만남', 5425), ('겨털', 136), ('활자', 166), ('기특', 284), ('백신', 127), ('아델', 1649), ('어조', 149), ('오금', 216), ('기반', 2134), ('과묵', 163), ('각자', 8588), ('충돌', 1708), ('코앞', 125), ('포옹', 497), ('태아', 123), ('원호', 145), ('끝임', 106), ('설원', 560), ('서막', 662), ('단비', 306), ('집밥', 127), ('도쿄', 688), ('잡다', 433), ('핀쳐', 419), ('노화', 101), ('버튼', 2031), ('범람', 255), ('오해', 2050), ('작중', 599), ('화목', 169), ('러너', 824), ('슬픔', 14980), ('점평', 1149), ('열정', 7386), ('장점', 6289), ('동시', 8556), ('치열', 2327), ('면들', 126), ('선으', 153), ('영롱', 222), ('건조', 1870), ('활력', 575), ('배움', 280), ('아휘', 364), ('헛되', 377), ('형벌', 200), ('명징', 124), ('낮잠', 114), ('건전', 350), ('사막', 901), ('공조', 629), ('명쾌', 588), ('유진', 244), ('성과', 771), ('이맛', 135), ('차용', 846), ('연약', 871), ('역활', 540), ('나물', 111), ('목록', 244), ('원스', 1389), ('반격', 275), ('전적', 453), ('윤주', 260), ('헬라', 1018), ('정색', 192), ('대령', 395), ('소설', 13629), ('고로', 503), ('상응', 108), ('본적', 1008), ('헥터', 386), ('자꾸', 10583), ('각색', 3720), ('정처', 198), ('색들', 139), ('잔잔', 16328), ('날씨', 711), ('아릿', 250), ('말년', 189), ('덕심', 345), ('써니', 437), ('캐미', 1354), ('관점', 3734), ('미각', 130), ('농사', 298), ('배너', 189), ('작화', 2764), ('다리', 2974), ('영역', 1575), ('한끼', 154), ('뇌리', 1174), ('루크', 532), ('법칙', 1054), ('주장', 1398), ('된듯', 539), ('이들', 11731), ('정수', 1338), ('하울', 950), ('덴트', 122), ('규모', 767), ('춘화', 103), ('입장', 6251), ('거실', 214), ('의욕', 370), ('르노', 163), ('결말', 47510), ('불씨', 731), ('잭맨', 904), ('치중', 1261), ('물론', 11246), ('행보', 903), ('근성', 205), ('고향', 1468), ('윌슨', 292), ('조치', 114), ('뼛속', 288), ('얄팍', 804), ('파멸', 1787), ('민낯', 882), ('따름', 1840), ('심성', 123), ('햄릿', 103), ('직구', 216), ('미려', 123), ('정점', 2652), ('기장', 417), ('함부', 1683), ('거룩', 223), ('기발', 3463), ('호텔', 894), ('열차', 1553), ('석양', 402), ('미끼', 1434), ('상암', 141), ('꾸밈', 544), ('천국', 1758), ('한켠', 675), ('따뜻', 20548), ('글귀', 202), ('케인', 297), ('이후', 14701), ('참극', 239), ('개성', 5486), ('벌써', 1884), ('술집', 432), ('노고', 482), ('테드', 326), ('반주', 108), ('고유', 821), ('파문', 107), ('두분', 288), ('씩씩', 315), ('그걸', 9197), ('제제', 124), ('별들', 658), ('웜홀', 171), ('허상', 1301), ('석현', 172), ('자체', 29487), ('가뜩', 161), ('형만', 190), ('마을', 2601), ('소식', 713), ('집착', 5468), ('모습', 50861), ('궁합', 573), ('적응', 1950), ('각도', 387), ('고도', 336), ('모션', 696), ('그웬', 254), ('식품', 117), ('햇살', 1215), ('조언', 736), ('진술', 191), ('유코', 256), ('위상', 168), ('그물', 553), ('조엘', 441), ('두통', 195), ('드론', 221), ('축축', 428), ('주리', 336), ('몽규', 501), ('원귀', 211), ('죠스', 161), ('이외', 1201), ('병폐', 239), ('일종', 1322), ('몇명', 443), ('호연', 1374), ('참석', 125), ('끈끈', 468), ('웨던', 110), ('방향', 4549), ('고개', 2225), ('타운', 121), ('규범', 177), ('악마', 5878), ('핑계', 855), ('진심', 10219), ('국적', 321), ('제왕', 606), ('결실', 297), ('길목', 105), ('억양', 560), ('온듯', 115), ('노래', 32880), ('힛걸', 796), ('팬텀', 155), ('여심', 133), ('근사', 809), ('덕춘', 143), ('빵형', 337), ('군무', 234), ('정부', 3416), ('이념', 1351), ('의심', 8032), ('팬심', 1328), ('겉멋', 953), ('콤비', 1211), ('조건', 1496), ('간극', 1130), ('참상', 613), ('가닥', 124), ('뻔함', 1007), ('동등', 386), ('삶들', 269), ('거장', 2154), ('리건', 254), ('그중', 1027), ('것임', 1236), ('경멸', 450), ('전경', 218), ('앞뒤', 915), ('찰스', 691), ('응답', 535), ('범상', 198), ('차치', 695), ('제안', 413), ('신애', 174), ('차안', 172), ('갈증', 964), ('햇빛', 978), ('새것', 199), ('무식', 836), ('갈등', 7535), ('앞길', 114), ('재앙', 1182), ('뒷맛', 728), ('미간', 244), ('나른', 588), ('부름', 152), ('기용', 145), ('운운', 495), ('환희', 463), ('토로', 792), ('모두', 46176), ('실소', 1660), ('풍부', 1965), ('파렐', 222), ('수려', 432), ('내일', 3495), ('야릇', 189), ('투수', 112), ('왓차', 324), ('조하', 134), ('증상', 133), ('선셋', 148), ('기미', 145), ('걸출', 230), ('햅번', 365), ('개떡', 169), ('총리', 101), ('사방', 335), ('협업', 142), ('숙면', 136), ('큐타', 133), ('진정', 15703), ('입각', 125), ('할때', 1892), ('본뒤', 107), ('대본', 990), ('초심', 534), ('노튼', 977), ('승패', 131), ('먼로', 580), ('슈슈', 112), ('쇼팽', 198), ('제품', 179), ('싱싱', 176), ('흐뭇', 1572), ('오빠', 2043), ('드한', 1614), ('란초', 124), ('그것', 29988), ('유감', 537), ('민정', 294), ('성별', 917), ('비율', 568), ('환경', 3032), ('선선', 120), ('플룻', 170), ('악착', 158), ('슌지', 574), ('접시', 223), ('혼동', 290), ('원작', 40986), ('한매', 391), ('맥스', 749), ('섬들', 179), ('원본', 240), ('처지', 959), ('기존', 4499), ('잔향', 128), ('통장', 129), ('열쇠', 619), ('그녀', 30666), ('쇼야', 103), ('한해', 248), ('기점', 383), ('본연', 896), ('리본', 141), ('케익', 246), ('배짱', 252), ('화살', 911), ('찬사', 2527), ('자백', 124), ('업보', 190), ('벅참', 200), ('터전', 170), ('발언', 475), ('막강', 276), ('일간', 170), ('짝패', 140), ('월가', 243), ('오명', 110), ('입안', 217), ('코끝', 349), ('소율', 311), ('호킹', 581), ('물속', 243), ('토템', 107), ('영조', 992), ('낙태', 173), ('자넷', 111), ('개념', 1527), ('로넌', 135), ('재능', 4533), ('엉성', 4913), ('삽질', 239), ('정책', 169), ('지혜', 971), ('듀오', 186), ('직면', 661), ('입가', 527), ('은희', 831), ('빅터', 214), ('뉴욕', 2631), ('호흡', 4121), ('실낱', 134), ('해미', 3278), ('극도', 1147), ('간수', 121), ('정원', 849), ('기껏', 310), ('껍질', 453), ('악수', 272), ('기류', 114), ('여백', 996), ('편들', 197), ('성물', 123), ('인식', 2439), ('저력', 421), ('그들', 37426), ('원곡', 112), ('은교', 213), ('키키', 758), ('궤도', 292), ('군대', 2139), ('느림', 208), ('한곳', 202), ('자홍', 215), ('호탕', 134), ('규칙', 835), ('이하', 4349), ('가젤', 135), ('핍박', 234), ('소박', 1701), ('배역', 3026), ('일갈', 238), ('장황', 893), ('대화', 7272), ('시설', 111), ('분량', 2191), ('비용', 230), ('열풍', 263), ('코브', 118), ('웨인', 335), ('직후', 617), ('깃발', 152), ('한편', 7574), ('한점', 182), ('제물', 289), ('속담', 119), ('따땃', 105), ('꿈속', 756), ('악장', 119), ('자욱', 237), ('하염', 541), ('델마', 470), ('팔마', 225), ('첨예', 167), ('올슨', 138), ('부진', 152), ('멘토', 592), ('우수', 652), ('거꾸', 958), ('테사', 126), ('탄압', 221), ('평탄', 172), ('칠월', 307), ('옐친', 264), ('레빗', 256), ('구실', 133), ('당대', 482), ('나발', 304), ('도중', 948), ('억원', 171), ('미움', 371), ('뮤비', 513), ('관계', 15545), ('레논', 170), ('원점', 179), ('절규', 1043), ('평들', 439), ('토토', 516), ('특유', 13908), ('오랜', 14447), ('할지', 2303), ('광경', 478), ('저편', 234), ('번방', 350), ('땅을', 549), ('티거', 172), ('키튼', 953), ('새해', 400), ('희곡', 232), ('염두', 454), ('수잔', 501), ('팬들', 1840), ('진실', 16157), ('남매', 602), ('튜링', 966), ('단맛', 272), ('색채', 2378), ('슈렉', 627), ('첫눈', 305), ('발톱', 177), ('조이', 2089), ('꿈결', 170), ('질병', 373), ('신디', 265), ('국경', 267), ('선혈', 155), ('센터', 165), ('내면', 6920), ('복도', 207), ('위트', 2881), ('골고', 353), ('로한', 370), ('계모', 747), ('프랫', 495), ('투철', 177), ('코트', 482), ('평이', 3499), ('포드', 644), ('화술', 176), ('발단', 358), ('범위', 583), ('여타', 653), ('캡아', 205), ('덩치', 388), ('씬들', 1351), ('기둥', 286), ('유래', 106), ('재호', 194), ('듀폰', 130), ('소통', 3163), ('팽배', 108), ('악녀', 956), ('소소', 6161), ('중시', 361), ('개스톤', 519), ('아우라', 933), ('마침표', 652), ('바다속', 109), ('많은것', 937), ('사회속', 141), ('탄탄함', 264), ('살인마', 1108), ('여교사', 134), ('무지함', 170), ('황홀함', 452), ('앞부분', 1075), ('당신들', 1134), ('되고자', 274), ('성선설', 107), ('인간성', 1800), ('장발장', 211), ('초상화', 169), ('임지연', 283), ('의미들', 310), ('제작비', 2024), ('기차역', 156), ('죽음앞', 139), ('유우머', 177), ('임권택', 143), ('엘튼존', 148), ('학생들', 1283), ('애잔함', 289), ('모욕감', 359), ('김동욱', 814), ('쿠데타', 145), ('바기라', 192), ('테일러', 478), ('결론적', 393), ('봉태규', 173), ('새로움', 1129), ('허탈감', 212), ('마츠코', 2095), ('곡소리', 144), ('시퀸스', 192), ('윤동주', 1540), ('마사오', 129), ('증후군', 239), ('채플린', 659), ('에어컨', 123), ('동화책', 867), ('담아냄', 115), ('찬란함', 125), ('미야자', 1965), ('파급력', 230), ('나이차', 141), ('오로라', 392), ('부텔라', 351), ('녀석들', 422), ('세월호', 2590), ('막바지', 391), ('플레처', 127), ('배터리', 251), ('멜로물', 352), ('몰입력', 608), ('이런류', 1155), ('파시즘', 300), ('선과악', 243), ('자부심', 380), ('배경들', 239), ('이연걸', 379), ('유승호', 844), ('머리속', 1330), ('개연성', 17740), ('오른쪽', 345), ('맞춘듯', 109), ('살고자', 584), ('배신감', 509), ('임금님', 175), ('소박함', 103), ('우아함', 451), ('클라라', 142), ('자장가', 134), ('경계선', 591), ('거리낌', 210), ('갈림길', 412), ('크루들', 182), ('제자리', 837), ('제스처', 125), ('한니발', 607), ('혼잣말', 214), ('강박증', 459), ('비스트', 417), ('이병현', 110), ('헥토르', 163), ('드랙스', 249), ('교도소', 605), ('배우들', 48621), ('권상우', 307), ('상실감', 723), ('세이두', 542), ('의무감', 302), ('오락성', 2466), ('테두리', 254), ('존엄성', 873), ('환상속', 161), ('반대편', 367), ('섹스신', 210), ('시퀀스', 4257), ('백성들', 362), ('노래방', 221), ('상징성', 507), ('토끼발', 126), ('먹은듯', 116), ('포커스', 992), ('보는맛', 266), ('독특함', 447), ('생김새', 250), ('말싸움', 142), ('정체성', 2954), ('노다메', 235), ('디아즈', 407), ('계륜미', 103), ('스틸러', 617), ('마르코', 276), ('직원들', 227), ('강지환', 154), ('브룩스', 104), ('나역시', 138), ('속편들', 123), ('변호인', 805), ('모래알', 125), ('현실들', 120), ('웨슬리', 134), ('강력함', 108), ('연가시', 354), ('김태리', 1755), ('똥파리', 243), ('장엄함', 129), ('경쾌함', 192), ('스릴감', 905), ('보랏빛', 125), ('타이틀', 1854), ('세가지', 691), ('생동감', 1025), ('칵테일', 167), ('일본판', 680), ('강예원', 295), ('멍청함', 225), ('설득력', 4494), ('진실성', 132), ('하수구', 150), ('시의성', 146), ('참담함', 141), ('활용법', 109), ('원나잇', 183), ('십자가', 489), ('사생활', 527), ('무능함', 300), ('물음표', 963), ('급전개', 617), ('한여자', 137), ('범죄물', 433), ('그녀들', 1531), ('톰포드', 256), ('사건들', 1717), ('이따구', 302), ('저수지', 375), ('한계점', 267), ('사물들', 125), ('있을법', 831), ('재해석', 1547), ('토스트', 125), ('바닷물', 201), ('컨디션', 124), ('독창성', 379), ('동막골', 176), ('어두움', 339), ('사장님', 384), ('팀원들', 127), ('빈자리', 554), ('참신함', 1344), ('최강희', 225), ('이끌림', 126), ('류준열', 1876), ('유치함', 1840), ('정우성', 5819), ('젠다야', 129), ('잡생각', 105), ('평범함', 1058), ('케스팅', 168), ('우리들', 5062), ('던스트', 178), ('연계성', 259), ('되기위', 220), ('위기감', 142), ('상처들', 270), ('엄태구', 459), ('개인사', 247), ('스타들', 219), ('미쟝셴', 110), ('불쾌감', 449), ('가족애', 2916), ('콧수염', 108), ('영화속', 3886), ('푸른색', 215), ('행동들', 1478), ('불면증', 197), ('싶을때', 567), ('뒤통수', 1467), ('기생수', 160), ('인터뷰', 1633), ('필요성', 492), ('리턴즈', 107), ('짐캐리', 1891), ('영향력', 644), ('거부감', 2136), ('숭고함', 447), ('콜린스', 262), ('장산범', 260), ('장애물', 436), ('박탈감', 232), ('이사벨', 153), ('피눈물', 163), ('평온함', 102), ('창조자', 217), ('느슨함', 106), ('부러움', 370), ('그림자', 2666), ('연기또', 121), ('벤자민', 568), ('깔끔함', 354), ('서부극', 1236), ('거장들', 119), ('이주승', 103), ('케이지', 533), ('맥베스', 361), ('슈퍼맨', 3448), ('어느때', 157), ('융통성', 121), ('주사위', 138), ('속임수', 317), ('블랙홀', 899), ('단점들', 458), ('보는이', 405), ('선수들', 261), ('주진모', 200), ('컵라면', 109), ('성관계', 147), ('이럴수', 267), ('본모습', 181), ('선조들', 110), ('특징들', 107), ('크루즈', 2257), ('대중성', 963), ('뒤틀림', 129), ('연관성', 501), ('좀비들', 1056), ('창의성', 393), ('수사물', 331), ('국민들', 1194), ('조나단', 202), ('엄지원', 554), ('꼰대들', 163), ('스트립', 922), ('존재감', 3574), ('행복감', 355), ('루시엔', 755), ('트럼프', 428), ('음악성', 111), ('마코토', 2151), ('김다미', 833), ('바닷속', 236), ('공드리', 1006), ('상당수', 125), ('프레디', 225), ('추악함', 616), ('황정민', 7035), ('변곡점', 118), ('쓰나미', 474), ('순간들', 2704), ('쎄시봉', 207), ('식구들', 104), ('역주행', 135), ('그것들', 1253), ('공간속', 162), ('절대선', 151), ('영화값', 119), ('추억속', 247), ('전달력', 539), ('속사포', 131), ('창의력', 583), ('터무니', 639), ('벼랑끝', 136), ('자기애', 218), ('연령층', 144), ('아키라', 518), ('이민정', 146), ('살아감', 118), ('나란히', 386), ('묠니르', 103), ('놀라움', 1204), ('다른것', 540), ('미장셴', 594), ('뒷부분', 744), ('어둠속', 362), ('가능성', 3563), ('지점들', 262), ('이정진', 106), ('제작사', 643), ('역사물', 210), ('화염병', 116), ('자식들', 701), ('생지옥', 134), ('성악설', 147), ('인형들', 124), ('라이즈', 369), ('사이즈', 582), ('끝자락', 526), ('오스틴', 493), ('담담함', 346), ('창조주', 609), ('정사씬', 262), ('투박함', 223), ('자존심', 1650), ('적당함', 119), ('이해력', 252), ('쓰려고', 160), ('현장감', 894), ('전작들', 2088), ('넣은것', 109), ('조진웅', 2746), ('종지부', 162), ('작품속', 112), ('도롱뇽', 204), ('고마움', 438), ('뉴월드', 126), ('잡화점', 111), ('익숙함', 975), ('데미안', 244), ('디즈니', 21018), ('김무열', 367), ('중요함', 286), ('댓글들', 143), ('진정성', 1360), ('황당함', 245), ('캠코더', 148), ('게바라', 132), ('우월감', 133), ('않는것', 510), ('마이크', 442), ('한꺼번', 435), ('에플렉', 262), ('플러버', 107), ('불투명', 172), ('레거시', 120), ('터미널', 178), ('사람임', 188), ('신앙심', 108), ('조그마', 289), ('불필요', 2299), ('무게감', 2251), ('일상들', 172), ('타일러', 278), ('뻔한듯', 158), ('올라프', 709), ('역발상', 131), ('게이고', 156), ('년동안', 729), ('그로인', 598), ('매뉴얼', 120), ('멘데스', 145), ('바이크', 165), ('중무장', 104), ('플렛처', 104), ('민망함', 136), ('중압감', 185), ('코코넛', 134), ('윌리스', 422), ('광해군', 220), ('남녀간', 320), ('장만옥', 150), ('맥카시', 243), ('플래쳐', 115), ('박성웅', 625), ('기즈모', 133), ('페이지', 840), ('제우스', 121), ('연합군', 151), ('이웃집', 253), ('한가인', 240), ('참혹함', 1200), ('김자홍', 376), ('겉모습', 830), ('흑역사', 603), ('농담들', 127), ('박소담', 1373), ('올바름', 169), ('의아함', 143), ('외지인', 313), ('긴박감', 1236), ('공허함', 1780), ('멤버들', 475), ('나부터', 102), ('펭귄맨', 132), ('신현준', 148), ('히로스', 390), ('빠진듯', 214), ('로버츠', 438), ('설경구', 3080), ('수식어', 749), ('미츠하', 520), ('고독함', 329), ('건조함', 195), ('영혼들', 379), ('정글북', 827), ('이소룡', 445), ('자존감', 947), ('스즈코', 170), ('킹스맨', 2460), ('김윤석', 2988), ('무난함', 246), ('오른손', 203), ('생명들', 138), ('롤리타', 163), ('노하우', 110), ('테이큰', 1206), ('그랜트', 406), ('마블리', 693), ('레오네', 116), ('프랭크', 1722), ('이하늬', 431), ('사야카', 134), ('기차씬', 109), ('궁금증', 1253), ('김아중', 461), ('당혹감', 268), ('이어폰', 269), ('강혜정', 240), ('공효진', 1015), ('그부분', 238), ('컨택트', 206), ('영감님', 173), ('군인들', 929), ('답답함', 2432), ('피스톨', 134), ('고아성', 463), ('클라크', 321), ('디자인', 1342), ('유머들', 345), ('루카스', 206), ('웅장함', 600), ('솔로몬', 187), ('시리즈', 32769), ('요리사', 549), ('전진호', 110), ('길거리', 495), ('막막함', 145), ('의구심', 710), ('주연들', 936), ('주윤발', 218), ('도둑질', 395), ('유쾌함', 2700), ('올가미', 132), ('공간안', 145), ('주걸륜', 108), ('접근법', 129), ('조정석', 2393), ('가치관', 1815), ('괴수들', 181), ('재스민', 769), ('결과물', 1930), ('매튜본', 211), ('씬시티', 165), ('그럴때', 131), ('키워드', 636), ('필립스', 107), ('기괴함', 663), ('화면들', 262), ('방향성', 707), ('결과적', 772), ('처참함', 102), ('세대간', 106), ('트뤼포', 171), ('아무로', 124), ('허망함', 405), ('추리극', 316), ('문장들', 129), ('대단함', 594), ('미구엘', 431), ('샌들러', 670), ('뜨거움', 443), ('배려심', 117), ('수용소', 254), ('그럴리', 104), ('봉테일', 272), ('감상평', 804), ('그런점', 154), ('웃기도', 192), ('관찰력', 112), ('김선아', 340), ('삶에대', 146), ('효과들', 134), ('과거사', 194), ('살린것', 154), ('반란군', 111), ('통쾌함', 1653), ('친구들', 6144), ('한국말', 380), ('방사능', 228), ('위대함', 1628), ('박태수', 134), ('억지성', 105), ('카나코', 176), ('날개짓', 267), ('코알라', 104), ('강원도', 155), ('그네들', 133), ('기술력', 1269), ('주전자', 125), ('공룡들', 533), ('내용임', 159), ('유의미', 301), ('허삼관', 134), ('고무줄', 120), ('팀버튼', 2736), ('장진식', 139), ('모든일', 159), ('백일몽', 109), ('공권력', 642), ('완전체', 161), ('양다리', 124), ('리모콘', 123), ('동물들', 3034), ('스케일', 7123), ('성숙함', 152), ('당위성', 889), ('밥그릇', 121), ('강동원', 13501), ('강간범', 137), ('북한군', 130), ('오락실', 153), ('이수경', 140), ('충실함', 149), ('온도차', 146), ('챔피언', 316), ('신은경', 107), ('카프카', 150), ('마돈나', 222), ('책임감', 1375), ('보라색', 209), ('신하균', 1645), ('그마저', 904), ('캐서린', 737), ('인간애', 439), ('블란쳇', 1642), ('게이샤', 128), ('즐거움', 4170), ('요즈음', 135), ('경험들', 142), ('케이크', 494), ('서울역', 496), ('고단함', 156), ('귀여움', 4493), ('짜장면', 625), ('황산벌', 134), ('터널안', 204), ('조윤희', 233), ('인물간', 425), ('사실상', 1072), ('서러움', 131), ('해운대', 774), ('선구안', 182), ('지금으', 136), ('꺼이꺼', 102), ('삼총사', 126), ('최고점', 154), ('보일때', 117), ('견자단', 181), ('색다름', 133), ('유투브', 209), ('파괴력', 317), ('흑인들', 415), ('일관성', 644), ('짜임새', 3104), ('배고픔', 143), ('도경수', 825), ('리뷰들', 152), ('파편들', 209), ('자취방', 119), ('예상못', 211), ('해보려', 210), ('설명서', 132), ('적나라', 2847), ('감성들', 125), ('컬렉션', 122), ('역할들', 168), ('유해진', 4495), ('골목길', 164), ('모가지', 101), ('두기봉', 205), ('차인표', 115), ('그래픽', 3784), ('검정색', 108), ('부하들', 137), ('지름길', 188), ('연애담', 383), ('마라톤', 233), ('터널속', 124), ('독일어', 121), ('명불허', 1465), ('카포티', 104), ('두남자', 233), ('앤더슨', 1209), ('음모론', 492), ('드러머', 139), ('대체적', 363), ('먹을때', 155), ('여러면', 111), ('당나귀', 117), ('넌지시', 139), ('천재성', 957), ('순식간', 1059), ('있을리', 159), ('문정희', 179), ('베드씬', 400), ('무서움', 2146), ('류승룡', 1596), ('강인함', 220), ('다이안', 189), ('무모함', 235), ('도그빌', 202), ('유인영', 121), ('영웅물', 543), ('과정들', 363), ('손오공', 129), ('에버렛', 740), ('노련함', 218), ('지인들', 195), ('브래너', 117), ('장백지', 171), ('치정극', 397), ('모티브', 1551), ('시그널', 404), ('풋풋함', 781), ('그장면', 275), ('나이대', 268), ('프라임', 321), ('덕후들', 339), ('최루탄', 203), ('파스타', 316), ('청년들', 782), ('쉬운일', 116), ('불가피', 278), ('조물주', 111), ('어머니', 5979), ('예상외', 688), ('현시대', 454), ('모양새', 472), ('퀄리티', 3017), ('새엄마', 161), ('사랑앞', 145), ('포스터', 9255), ('끝난뒤', 200), ('대기업', 404), ('흐름상', 103), ('허탈함', 240), ('불가능', 3274), ('트럼보', 302), ('사실성', 216), ('상상속', 405), ('액션들', 365), ('수채화', 545), ('비정함', 107), ('킬링용', 133), ('형제애', 428), ('풍경화', 132), ('회고록', 118), ('공간들', 125), ('구멍들', 144), ('예상밖', 128), ('정규직', 112), ('요리들', 105), ('색채감', 174), ('샤이론', 1178), ('분기점', 109), ('아들들', 168), ('애절함', 327), ('미혼모', 397), ('불편함', 2656), ('서글픔', 150), ('절망속', 115), ('쓸쓸함', 837), ('누군가', 19314), ('힘들때', 337), ('금자씨', 297), ('피에타', 137), ('개스통', 117), ('유리창', 282), ('베를린', 622), ('송곳니', 180), ('베트맨', 358), ('여주들', 134), ('에반스', 308), ('차승원', 1324), ('멀리건', 152), ('파이퍼', 207), ('무리를', 106), ('그대들', 433), ('섹시미', 120), ('심은경', 1907), ('시간들', 1479), ('아는것', 234), ('작가들', 269), ('피에르', 248), ('어려움', 1240), ('밤거리', 173), ('씁쓸함', 1490), ('코스튬', 192), ('고슬링', 1322), ('피사체', 178), ('역사극', 214), ('서늘함', 262), ('수사극', 136), ('연기톤', 253), ('마음속', 2068), ('부분들', 2708), ('에그시', 305), ('그여자', 160), ('문제들', 764), ('데자뷰', 387), ('소동극', 279), ('식상함', 642), ('괴리감', 1057), ('단원들', 233), ('가오갤', 1988), ('다아시', 1005), ('나라고', 154), ('떡밥들', 512), ('주머니', 314), ('어색함', 1330), ('웃을때', 221), ('한모금', 136), ('갤가돗', 735), ('독과점', 174), ('나이듦', 116), ('위키드', 178), ('재난물', 185), ('김성오', 213), ('글리슨', 109), ('친절함', 423), ('잘생김', 1831), ('큰기대', 144), ('변호사', 1546), ('차분함', 124), ('지우개', 220), ('보는것', 1981), ('드레스', 1761), ('빗소리', 266), ('최명길', 300), ('마티즈', 124), ('회의감', 322), ('이시대', 510), ('작가님', 163), ('그런데', 8586), ('룸싸롱', 107), ('헤어짐', 698), ('잊을수', 1149), ('패틴슨', 188), ('수퍼맨', 265), ('어디선', 1540), ('억울함', 397), ('으스스', 168), ('전대물', 111), ('민중들', 117), ('집주인', 134), ('기억들', 1548), ('자의식', 543), ('무관심', 1000), ('진지함', 895), ('당당함', 195), ('노인들', 249), ('이름하', 109), ('동료들', 451), ('치열함', 183), ('전쟁속', 224), ('홍길동', 186), ('크레딧', 4179), ('시카고', 347), ('잔재미', 344), ('창작자', 339), ('핸드폰', 882), ('김영하', 125), ('폭력성', 1004), ('고아라', 108), ('언니들', 556), ('이질감', 1356), ('피고인', 104), ('전남친', 164), ('수면제', 118), ('윤계상', 1916), ('대니얼', 144), ('예술품', 128), ('조토끼', 511), ('모리스', 148), ('엄마들', 311), ('이동휘', 208), ('쳇바퀴', 186), ('매순간', 722), ('후까시', 224), ('파수꾼', 491), ('긴박함', 534), ('중국어', 317), ('선원들', 152), ('우울감', 140), ('독재자', 266), ('영화판', 833), ('미숙함', 235), ('테러범', 204), ('말할때', 211), ('유준상', 345), ('캐스팅', 11237), ('왜때문', 325), ('베이스', 683), ('최두일', 118), ('어린날', 196), ('한지민', 869), ('양극단', 115), ('걸림돌', 182), ('시스템', 3160), ('특수성', 207), ('남성성', 411), ('마술쇼', 224), ('경찰서', 310), ('백화점', 122), ('이선생', 663), ('아역들', 419), ('분짜리', 951), ('못한것', 587), ('김기영', 154), ('작품성', 4049), ('따스함', 505), ('오달수', 2547), ('박시연', 211), ('에이즈', 248), ('데이먼', 1766), ('로리타', 521), ('이런건', 856), ('김우진', 192), ('티파니', 275), ('춤사위', 408), ('이성민', 589), ('한마디', 5243), ('도덕성', 353), ('여러명', 199), ('컬러풀', 384), ('위험성', 439), ('흔들림', 409), ('움직임', 1716), ('어게인', 439), ('가성비', 207), ('머니볼', 106), ('루프물', 161), ('마들렌', 282), ('버호벤', 266), ('받을만', 468), ('평행선', 134), ('헤일리', 173), ('잔혹성', 251), ('감정들', 4369), ('우뢰매', 125), ('클로드', 154), ('거대함', 164), ('일처리', 114), ('범인들', 143), ('매개체', 532), ('춤출때', 122), ('전쟁터', 662), ('유연석', 641), ('방정식', 131), ('요소들', 3680), ('베이커', 608), ('아픔들', 117), ('안식처', 259), ('상큼함', 112), ('오묘함', 102), ('느낌표', 204), ('심각성', 159), ('고질라', 879), ('박보영', 1931), ('고추장', 116), ('급감성', 220), ('전편들', 428), ('오정세', 535), ('황금빛', 109), ('명곡들', 183), ('의외성', 126), ('해본적', 147), ('고다르', 367), ('저런일', 120), ('다를바', 430), ('세심함', 125), ('판단력', 221), ('공연장', 119), ('그럴듯', 1450), ('이도저', 1479), ('루즈함', 412), ('박신혜', 486), ('대도시', 103), ('향신료', 109), ('찌질함', 1442), ('잊혀짐', 152), ('적막함', 136), ('그림체', 1016), ('지향점', 237), ('상대방', 1649), ('일상속', 245), ('종소리', 112), ('세계관', 7107), ('무용담', 119), ('무력함', 317), ('사회상', 232), ('하정우', 15393), ('불안정', 817), ('뒷모습', 1561), ('포커싱', 115), ('네이든', 184), ('피아프', 109), ('호기심', 2181), ('세상속', 317), ('정진영', 122), ('잔재주', 106), ('박해일', 1818), ('무뚝뚝', 236), ('내용면', 144), ('하는듯', 398), ('사명감', 381), ('허벅지', 168), ('주지훈', 1353), ('우선시', 230), ('영화밖', 184), ('보내면', 101), ('부작용', 421), ('방법들', 111), ('남주들', 170), ('연출력', 6637), ('무리수', 1485), ('노부부', 323), ('악센트', 175), ('송지효', 190), ('클루니', 580), ('정교함', 130), ('도서관', 450), ('교육용', 206), ('터지게', 178), ('이세상', 490), ('반려견', 111), ('도시락', 321), ('손예진', 4452), ('유전자', 578), ('잔잔함', 1155), ('언저리', 199), ('제이콥', 498), ('헛발질', 102), ('유명세', 212), ('지울수', 630), ('눈속임', 156), ('영상미', 22927), ('두배우', 743), ('개인들', 304), ('포인트', 3983), ('옆동네', 110), ('갔을때', 114), ('법정물', 176), ('에미넴', 514), ('사는것', 448), ('선배들', 115), ('강하늘', 1429), ('미친듯', 2408), ('미스미', 229), ('잔인함', 2452), ('나나미', 230), ('성동일', 409), ('겟아웃', 253), ('페티쉬', 156), ('여행자', 200), ('전쟁씬', 302), ('요한슨', 1314), ('부속품', 108), ('어떤일', 113), ('하균신', 104), ('베토벤', 364), ('의뢰인', 110), ('갑툭튀', 371), ('남을것', 175), ('않은채', 162), ('숨기려', 197), ('삼천포', 158), ('지루함', 6266), ('모험담', 178), ('미장센', 3698), ('모성애', 2395), ('우리말', 128), ('쥬만지', 771), ('타이트', 406), ('괴로움', 599), ('숨막힘', 143), ('손님들', 142), ('대원들', 192), ('엔딩씬', 1004), ('케이블', 679), ('너도나', 108), ('아리송', 289), ('수트빨', 179), ('아가들', 141), ('대통령', 1879), ('전도연', 2979), ('런타임', 138), ('눈동자', 1461), ('거짓말', 4541), ('타케시', 129), ('섹시함', 982), ('또한번', 384), ('성역할', 162), ('교집합', 213), ('명작들', 174), ('패트릭', 762), ('앨리스', 1852), ('펭귄들', 289), ('바꾸게', 104), ('무리들', 122), ('빌런들', 349), ('무력감', 759), ('가정사', 196), ('톰하디', 1684), ('욕해도', 118), ('교차점', 147), ('중점적', 113), ('선택들', 426), ('캐릭들', 127), ('가슴속', 799), ('조보아', 118), ('울화통', 123), ('면죄부', 348), ('이름모', 105), ('나오키', 117), ('중헌지', 167), ('연출들', 527), ('허술함', 906), ('옆자리', 477), ('라이토', 102), ('홉킨스', 244), ('갑갑함', 163), ('안일함', 180), ('노오력', 135), ('험버트', 386), ('사실감', 338), ('엑기스', 152), ('놀란식', 112), ('없을것', 598), ('먹먹함', 1427), ('재미들', 105), ('다방면', 139), ('명감독', 200), ('안도감', 457), ('최소화', 251), ('복선들', 298), ('돌직구', 240), ('교수님', 675), ('고현정', 111), ('장예모', 195), ('클래식', 3875), ('불쾌함', 734), ('중산층', 270), ('솔직함', 586), ('돼지들', 273), ('영화들', 11241), ('이기심', 1579), ('전우애', 286), ('트레버', 370), ('통찰력', 432), ('뭉클함', 396), ('절제미', 190), ('옆구리', 107), ('페리스', 109), ('영화또', 155), ('히로인', 499), ('삼부작', 340), ('마인드', 732), ('샴페인', 114), ('라이터', 226), ('괴롭힘', 153), ('주제들', 228), ('앞머리', 150), ('숨쉴틈', 101), ('일자리', 167), ('단막극', 160), ('임산부', 199), ('타임용', 443), ('백인들', 469), ('기발함', 381), ('거북함', 120), ('월요일', 235), ('브루노', 143), ('프릭쇼', 122), ('덱스터', 259), ('표현함', 318), ('사연들', 192), ('몰입감', 5644), ('호불호', 2555), ('차별성', 197), ('임원희', 219), ('테이프', 478), ('청량감', 234), ('다음날', 463), ('행위들', 125), ('애들용', 119), ('추억들', 640), ('젊은날', 174), ('특별함', 959), ('그로밋', 280), ('노조미', 158), ('도구일', 114), ('한공주', 350), ('콘택트', 137), ('랍스터', 343), ('비쥬얼', 2304), ('서민들', 186), ('보기위', 606), ('건진건', 130), ('모래성', 138), ('놈놈놈', 181), ('큰소리', 132), ('앤드류', 1849), ('한도경', 161), ('강렬함', 870), ('르와르', 109), ('소품들', 365), ('리모컨', 112), ('인격체', 200), ('명작중', 145), ('무수히', 415), ('류승범', 2350), ('네이딘', 160), ('손바닥', 496), ('이범수', 428), ('왕가위', 1048), ('좌절감', 158), ('피곤함', 214), ('얼마전', 461), ('한장면', 844), ('동질감', 374), ('한평생', 129), ('죄책감', 2533), ('올리브', 162), ('임팩트', 4060), ('이모텝', 151), ('불분명', 529), ('텍사스', 425), ('사랑임', 138), ('건카타', 105), ('천재들', 519), ('용가리', 111), ('간호사', 211), ('찾아줘', 525), ('이영애', 258), ('학원물', 191), ('바느질', 107), ('이현우', 303), ('신세계', 2994), ('스위치', 107), ('부담감', 319), ('고즈넉', 133), ('부족함', 2446), ('애플렉', 475), ('약혼자', 105), ('세대들', 293), ('생생함', 251), ('마이펫', 116), ('편집점', 103), ('손수건', 633), ('부모들', 325), ('메아리', 203), ('타노스', 2540), ('포근함', 129), ('떼거지', 151), ('쌉싸름', 203), ('기억속', 919), ('지지리', 104), ('시빌워', 512), ('시니컬', 447), ('고지식', 154), ('스틸컷', 186), ('정사신', 133), ('욕망들', 173), ('엇갈림', 229), ('프랑코', 118), ('푸티지', 204), ('안소희', 210), ('김지원', 219), ('공주님', 508), ('소설속', 142), ('모습들', 1919), ('여성상', 534), ('유오성', 165), ('후계자', 133), ('베니스', 126), ('머리칼', 134), ('있을때', 894), ('배우임', 194), ('문화권', 115), ('김혜수', 2535), ('리더십', 173), ('미묘함', 136), ('독일군', 569), ('생물체', 109), ('장동건', 804), ('적정선', 109), ('환호성', 154), ('피로감', 689), ('관객들', 9541), ('김윤식', 234), ('미성숙', 596), ('소소함', 221), ('자전거', 972), ('조폭물', 132), ('그이하', 297), ('황량함', 122), ('가진것', 147), ('희생양', 344), ('달나라', 192), ('스탠스', 133), ('연인들', 563), ('왜이리', 1612), ('잔인성', 195), ('잉여들', 118), ('찝찝함', 1483), ('인생관', 142), ('무분별', 171), ('모험심', 133), ('단역들', 101), ('마운틴', 108), ('주유소', 208), ('작위성', 151), ('대부분', 4876), ('대마초', 110), ('수족관', 189), ('오프닝', 6594), ('동물원', 575), ('리더쉽', 172), ('아기들', 154), ('지창욱', 358), ('담백함', 406), ('성장통', 745), ('경외심', 147), ('이상형', 665), ('장점들', 288), ('검은색', 250), ('워킹맘', 184), ('어설픔', 403), ('따듯함', 184), ('이상향', 369), ('그시대', 385), ('복학생', 114), ('길버트', 182), ('좋아라', 224), ('소년들', 624), ('배우빨', 311), ('사용법', 171), ('시대상', 1021), ('마무리', 14618), ('실험실', 187), ('암세포', 106), ('박희순', 452), ('노출씬', 104), ('브리짓', 1832), ('기억력', 175), ('악당들', 1194), ('의문점', 576), ('괴수물', 445), ('다케시', 563), ('버팀목', 171), ('개개인', 1068), ('한구석', 315), ('배두나', 2019), ('고어물', 290), ('알렉스', 630), ('길이길', 201), ('비빔밥', 641), ('혹시나', 875), ('일회성', 106), ('김성령', 186), ('자신들', 1706), ('불시착', 200), ('베이더', 267), ('컨텐츠', 416), ('앤트맨', 1941), ('말장난', 594), ('김정은', 204), ('암울함', 139), ('내시간', 117), ('애완견', 168), ('첫키스', 130), ('발가락', 197), ('약자들', 524), ('범블비', 290), ('실화임', 120), ('해적들', 133), ('남편들', 103), ('식재료', 154), ('김영철', 116), ('그분들', 616), ('말레나', 256), ('아레스', 404), ('임시완', 1591), ('치밀함', 524), ('배드씬', 106), ('더스트', 118), ('여행지', 151), ('앙투안', 118), ('역사속', 235), ('젤위거', 310), ('나날들', 294), ('꼬마들', 143), ('낯설게', 280), ('의상들', 144), ('팬더들', 195), ('반동안', 222), ('다단계', 109), ('상업성', 533), ('소공녀', 157), ('북한말', 189), ('피조물', 615), ('테츠야', 455), ('로봇들', 408), ('클리세', 215), ('않을때', 168), ('총소리', 434), ('모레츠', 519), ('포핀스', 161), ('겉치레', 125), ('반전들', 230), ('운동화', 201), ('예수님', 245), ('병신년', 107), ('열등감', 1234), ('것일수', 141), ('김원봉', 117), ('사제복', 410), ('디킨스', 173), ('한그릇', 126), ('김윤진', 300), ('이연희', 266), ('잔혹함', 948), ('레시피', 414), ('도마뱀', 130), ('교향곡', 209), ('내려고', 129), ('유아인', 4612), ('비욘드', 194), ('일본풍', 170), ('전환점', 280), ('전개들', 173), ('그럴만', 361), ('삼박자', 592), ('남성들', 777), ('랩터들', 112), ('기대감', 2665), ('한복판', 353), ('아나킨', 233), ('노트북', 517), ('질렌할', 2454), ('육해공', 103), ('변화들', 103), ('오뉴월', 105), ('부자간', 173), ('미쟝센', 1154), ('화려함', 2052), ('편만큼', 275), ('전사들', 129), ('완성형', 142), ('허무함', 1426), ('클레어', 397), ('모든것', 5162), ('밤하늘', 465), ('인형극', 115), ('신기원', 157), ('우주선', 949), ('아니한', 389), ('서키스', 155), ('느낌들', 208), ('모니터', 356), ('기자들', 477), ('소원은', 144), ('아빠들', 167), ('머리통', 146), ('호킨스', 385), ('이제훈', 1414), ('쉐리던', 134), ('엄정화', 833), ('추진력', 286), ('비린내', 180), ('편집자', 134), ('죄의식', 528), ('얻고자', 128), ('가정하', 109), ('느끼긴', 115), ('최우식', 594), ('베이컨', 348), ('도피처', 138), ('참교육', 150), ('이런일', 430), ('여신님', 138), ('도화지', 236), ('근대사', 157), ('잘라서', 117), ('그따위', 125), ('깊은곳', 111), ('김고은', 1901), ('브로디', 409), ('게이트', 302), ('하이힐', 366), ('신드롬', 344), ('하는것', 1557), ('가구들', 114), ('목소리', 11389), ('상상들', 108), ('구심점', 112), ('거리감', 426), ('피닉스', 357), ('감독님', 6636), ('원더풀', 105), ('까락스', 142), ('파충류', 173), ('고귀함', 112), ('전반부', 1942), ('우주속', 106), ('티비판', 129), ('스토킹', 198), ('박물관', 430), ('유재하', 111), ('스노든', 351), ('산만함', 403), ('지저분', 743), ('재료들', 544), ('기관총', 119), ('따돌림', 134), ('복잡함', 211), ('레이미', 263), ('이펙트', 181), ('멜깁슨', 227), ('부산행', 2206), ('편집본', 117), ('실시간', 162), ('조각들', 588), ('대자연', 394), ('듣는것', 122), ('테이크', 310), ('냉장고', 244), ('남자들', 4942), ('칼부림', 228), ('대장정', 124), ('하느님', 289), ('용아맥', 154), ('이름값', 761), ('일순간', 108), ('왓치맨', 111), ('우직함', 122), ('대사들', 4437), ('아가씨', 1981), ('탁월함', 204), ('해럴슨', 131), ('끔찍함', 270), ('불평등', 194), ('채찍질', 439), ('트위터', 292), ('순기능', 132), ('파이크', 300), ('서로간', 169), ('작품들', 2740), ('극영화', 222), ('존재들', 819), ('팀워크', 162), ('거리로', 146), ('수류탄', 132), ('박진감', 1954), ('단어들', 353), ('정신력', 174), ('이민호', 223), ('손잡이', 127), ('가치들', 198), ('먹음직', 113), ('민효린', 126), ('액기스', 117), ('장면들', 11474), ('붉은색', 207), ('애기들', 530), ('대화들', 341), ('관중들', 108), ('영상물', 253), ('연애질', 103), ('사람간', 134), ('데드샷', 245), ('고요함', 371), ('부끄럼', 272), ('생명력', 714), ('불친절', 2880), ('미이라', 1832), ('빅쇼트', 183), ('판도라', 460), ('핀란드', 385), ('그림들', 417), ('인류애', 496), ('비지엠', 230), ('니키타', 194), ('무심함', 129), ('애매함', 360), ('윈슬렛', 650), ('시민들', 884), ('대다수', 574), ('추격전', 792), ('페이즈', 149), ('마리안', 153), ('색감들', 103), ('순수성', 191), ('애틋함', 923), ('만화책', 880), ('먹을것', 137), ('피날레', 518), ('이웃들', 237), ('타인들', 176), ('김성균', 221), ('김강우', 682), ('일본어', 661), ('않기위', 118), ('고딩들', 111), ('시선들', 360), ('집중력', 1489), ('오페라', 788), ('감독임', 108), ('어중간', 1045), ('퍼거슨', 123), ('초딩들', 150), ('독자들', 101), ('미칠듯', 456), ('보잘것', 288), ('배우중', 117), ('잭블랙', 1013), ('화요일', 103), ('시원함', 361), ('싶은것', 244), ('인생사', 511), ('첫장면', 724), ('주먹밥', 144), ('전여친', 108), ('고독감', 111), ('늘어짐', 303), ('정유미', 898), ('무표정', 740), ('음악들', 1434), ('하기위', 197), ('인간미', 809), ('목구멍', 164), ('로미오', 934), ('가스통', 140), ('동화속', 373), ('연령대', 218), ('절실함', 277), ('장르물', 467), ('옳은가', 140), ('오만함', 496), ('동영상', 337), ('후폭풍', 124), ('초집중', 119), ('오래전', 953), ('터질듯', 217), ('아우성', 293), ('위화감', 608), ('보편성', 211), ('선입견', 1062), ('이네스', 123), ('아쉬움', 17209), ('마케팅', 1330), ('설정들', 1474), ('소녀들', 1223), ('평가들', 115), ('송승헌', 613), ('주고자', 233), ('디렉팅', 172), ('조니뎁', 1266), ('이창동', 1979), ('시드니', 247), ('사회성', 238), ('모처럼', 234), ('목마름', 118), ('관계성', 215), ('상품화', 139), ('수컷들', 139), ('이분들', 128), ('아저씨', 7296), ('의형제', 280), ('긴장감', 26602), ('가기위', 112), ('필요함', 230), ('심은하', 378), ('모든면', 330), ('가정부', 135), ('장단점', 281), ('집요함', 164), ('건축물', 142), ('풍경들', 390), ('운동장', 171), ('여인들', 223), ('테마곡', 293), ('음료수', 114), ('에이사', 108), ('티셔츠', 134), ('주체성', 366), ('조악함', 102), ('스미스', 895), ('이성재', 226), ('안할수', 142), ('다카시', 109), ('플롯들', 158), ('퀴즈쇼', 145), ('유튜브', 450), ('울버린', 3972), ('공감대', 727), ('삼형제', 135), ('뿌듯함', 123), ('서태우', 249), ('없을수', 165), ('버디물', 104), ('아부지', 346), ('부당함', 181), ('고경표', 156), ('여성성', 419), ('음식들', 491), ('외로움', 3695), ('두글자', 103), ('전염병', 251), ('안락사', 128), ('빅피쉬', 126), ('한순간', 1839), ('섹드립', 381), ('이순간', 352), ('타이탄', 138), ('윤제문', 228), ('오락물', 418), ('성우들', 230), ('비장미', 393), ('콘텐츠', 216), ('에테르', 145), ('흐름속', 106), ('조폭들', 150), ('넘버들', 170), ('지난날', 291), ('대참사', 152), ('레슬러', 165), ('스쿼드', 537), ('트렌드', 526), ('불안감', 925), ('모른체', 126), ('바이블', 336), ('자유인', 142), ('한방울', 483), ('배대슈', 230), ('무채색', 483), ('브란도', 275), ('케이티', 247), ('나쁜짓', 244), ('김수안', 145), ('재결합', 142), ('보는듯', 1685), ('개성넘', 247), ('김우빈', 2473), ('임창정', 1529), ('역사책', 163), ('이니드', 154), ('절망감', 301), ('햄버거', 525), ('믿음직', 173), ('질투심', 151), ('말도안', 1093), ('지겨움', 177), ('데이브', 378), ('외부인', 281), ('기시감', 850), ('형제들', 271), ('스무스', 150), ('알라딘', 161), ('독수리', 183), ('색안경', 297), ('성인들', 214), ('요괴들', 132), ('비틀즈', 561), ('특촬물', 132), ('배성우', 328), ('실루엣', 225), ('불장난', 133), ('연결점', 127), ('자무쉬', 332), ('병신들', 210), ('김하늘', 924), ('알려고', 144), ('한남자', 328), ('중독성', 467), ('스토리', 102529), ('몇년간', 224), ('과감함', 112), ('곽도원', 1478), ('미안함', 475), ('눈물샘', 804), ('박유천', 210), ('하야오', 1625), ('안상구', 114), ('의문들', 124), ('이정출', 445), ('스피디', 495), ('테레즈', 115), ('개싸움', 159), ('최민식', 3716), ('베리드', 537), ('환자들', 219), ('인연들', 156), ('집중적', 118), ('동서양', 189), ('양조위', 793), ('지켜라', 235), ('휠체어', 184), ('이중성', 468), ('눈보라', 180), ('서정성', 119), ('스타뎀', 397), ('편의점', 230), ('한효주', 3431), ('나올때', 2276), ('잡기위', 126), ('조연들', 2350), ('무심히', 171), ('처연함', 232), ('어수룩', 158), ('첫경험', 107), ('부실함', 187), ('이딴식', 171), ('리스트', 643), ('여동생', 547), ('들정도', 290), ('박용우', 139), ('나자신', 249), ('쿨한척', 116), ('원동력', 624), ('갤럭시', 751), ('테이블', 736), ('이름들', 293), ('감독판', 1522), ('심심함', 143), ('성실함', 163), ('정당성', 483), ('냉정함', 202), ('맥거핀', 714), ('모텐슨', 226), ('왕십리', 459), ('은하계', 109), ('고스톱', 253), ('그런면', 173), ('항마력', 157), ('감수성', 1117), ('게스톤', 108), ('코멘트', 4051), ('찾고자', 166), ('에프론', 289), ('이딴거', 123), ('가벼움', 1140), ('여러모', 2566), ('박정희', 130), ('현주소', 250), ('코드들', 111), ('악역들', 255), ('레베카', 437), ('아리랑', 330), ('데드풀', 4127), ('죽는것', 139), ('어디론', 216), ('어리숙', 482), ('아이폰', 341), ('입소문', 403), ('발랄함', 301), ('공포감', 1553), ('최동원', 145), ('레이스', 158), ('발자취', 215), ('조미료', 1127), ('나루토', 449), ('문과생', 109), ('니콜슨', 302), ('유니콘', 137), ('버드맨', 1114), ('혐오감', 203), ('지도자', 480), ('츠네오', 705), ('눈망울', 443), ('지리산', 148), ('여자들', 3668), ('될것인', 104), ('가산점', 239), ('트렌디', 280), ('까마귀', 195), ('시간대', 353), ('견줄만', 158), ('난잡함', 198), ('깊이감', 246), ('크래딧', 195), ('스크린', 7641), ('최첨단', 292), ('푸른빛', 175), ('살인자', 1342), ('내자신', 246), ('요원들', 134), ('에너지', 2474), ('노래들', 1770), ('가해자', 3670), ('나침반', 127), ('김상경', 341), ('키보드', 158), ('단서들', 145), ('뜀박질', 157), ('유지태', 650), ('그리움', 1779), ('송강호', 7847), ('이에는', 159), ('청와대', 105), ('나약함', 567), ('정치판', 311), ('감탄사', 347), ('관계속', 132), ('스캔들', 352), ('네뷸라', 121), ('시공간', 1373), ('작품임', 348), ('전형성', 334), ('현실성', 2680), ('난해함', 308), ('어퍼컷', 114), ('지하실', 229), ('스코어', 289), ('비열함', 142), ('마음들', 392), ('출발점', 241), ('아무것', 7211), ('청춘물', 378), ('전국민', 124), ('스텔론', 121), ('시청률', 129), ('도망자', 121), ('히데오', 165), ('아닌걸', 358), ('종착점', 115), ('자그마', 233), ('천사들', 142), ('무질서', 211), ('배드신', 181), ('인질극', 109), ('송새벽', 387), ('팔씨름', 254), ('시몬스', 220), ('대척점', 187), ('저격수', 176), ('미술팀', 167), ('공포심', 321), ('스타킹', 131), ('본인들', 430), ('이타심', 107), ('마지막', 76980), ('행오버', 296), ('며느리', 160), ('하워드', 425), ('포르쉐', 285), ('비범함', 163), ('배트맨', 4802), ('이정표', 293), ('무책임', 1283), ('생태계', 204), ('세련됨', 350), ('메타포', 2607), ('조여정', 171), ('헤이즐', 409), ('이정재', 2668), ('민초들', 110), ('만듬새', 167), ('지휘자', 102), ('악영향', 101), ('그럴싸', 969), ('박중훈', 481), ('기대안', 1653), ('주민들', 206), ('몇번씩', 160), ('스탤론', 140), ('결단력', 136), ('신세경', 491), ('부모님', 3314), ('해준것', 108), ('김민희', 3144), ('바뀔때', 182), ('딸내미', 231), ('행복함', 370), ('술자리', 290), ('사제들', 165), ('존엄사', 210), ('이따위', 698), ('루이스', 1445), ('비장함', 389), ('보자고', 542), ('로큰롤', 103), ('워싱턴', 329), ('아담스', 430), ('바네사', 144), ('그루트', 2888), ('리한나', 101), ('돈지랄', 131), ('모모코', 104), ('브랜든', 397), ('했을때', 455), ('개봉일', 294), ('김래원', 1652), ('여진구', 292), ('바람직', 576), ('어느것', 595), ('별생각', 262), ('헬조선', 988), ('천우희', 1019), ('세련미', 305), ('다양성', 919), ('승객들', 221), ('들을때', 218), ('불공평', 260), ('현실속', 418), ('울트론', 117), ('조인성', 1513), ('엄태웅', 232), ('표현력', 1327), ('해질녘', 118), ('묵직함', 747), ('개미들', 236), ('뜬구름', 192), ('부자들', 116), ('킥애스', 342), ('통조림', 154), ('런닝맨', 180), ('꼬리표', 132), ('신하들', 122), ('프리먼', 237), ('염석진', 271), ('다른곳', 114), ('입체감', 248), ('탭댄스', 238), ('만날때', 195), ('황무지', 122), ('공주들', 251), ('머릿속', 3538), ('행크스', 1149), ('아닐것', 165), ('감독들', 1001), ('산낙지', 115), ('압도감', 133), ('나올법', 322), ('동시대', 459), ('리액션', 306), ('도미노', 330), ('무자비', 756), ('찍은듯', 135), ('에리카', 314), ('가창력', 180), ('옷차림', 168), ('선샤인', 374), ('수차례', 145), ('너저분', 171), ('휘태커', 116), ('한자리', 159), ('세포들', 101), ('에이미', 1633), ('점만점', 200), ('줄거리', 4433), ('두려움', 4659), ('않을것', 429), ('히치콕', 1700), ('앙상블', 1090), ('파워풀', 202), ('경찰들', 515), ('찜찜함', 283), ('월드워', 389), ('샌드맨', 166), ('구역질', 432), ('표현들', 430), ('머리색', 157), ('아바타', 805), ('김새론', 229), ('북소리', 113), ('일기장', 443), ('상위권', 111), ('선생님', 3463), ('내용들', 792), ('실망감', 962), ('무거움', 688), ('끝부분', 483), ('데니스', 356), ('케이타', 159), ('깡패들', 103), ('모아나', 1551), ('김유정', 227), ('김상헌', 349), ('마요미', 265), ('인내심', 571), ('신민아', 986), ('디샤넬', 153), ('신선함', 3480), ('기숙사', 172), ('배우자', 395), ('원피스', 765), ('홀랜드', 488), ('구로사', 350), ('건물들', 104), ('허영심', 325), ('너무나', 28339), ('커플들', 237), ('만족감', 541), ('했을것', 105), ('날갯짓', 131), ('와이프', 638), ('바보들', 601), ('도화선', 114), ('싱글맘', 128), ('주도권', 153), ('아재들', 180), ('상징들', 384), ('쓰리디', 297), ('아무말', 488), ('예술혼', 111), ('로다주', 983), ('에디트', 128), ('이희준', 324), ('애나벨', 362), ('회상씬', 556), ('타협점', 109), ('잠깐씩', 110), ('밋밋함', 253), ('루시퍼', 113), ('다섯명', 107), ('퇴폐미', 357), ('마동석', 5233), ('삼국지', 274), ('멜로디', 887), ('조잡함', 197), ('마음씨', 191), ('천조국', 132), ('후미코', 991), ('사람들', 52871), ('리듬감', 700), ('진실들', 160), ('로렌스', 2847), ('또하나', 410), ('감사함', 743), ('임펙트', 391), ('시대극', 833), ('가득히', 211), ('위르겐', 102), ('지브리', 2195), ('케네디', 179), ('테레사', 160), ('토마토', 474), ('첫만남', 285), ('아련함', 918), ('스피커', 156), ('빈센트', 239), ('악인들', 195), ('실마리', 346), ('안간힘', 283), ('집안일', 125), ('사계절', 485), ('전우치', 383), ('피렌체', 350), ('노란색', 281), ('애드립', 271), ('후손들', 224), ('고통속', 118), ('선정성', 193), ('찾기위', 263), ('문소리', 1059), ('완벽함', 771), ('매니저', 131), ('다섯개', 1944), ('죄수들', 105), ('목격자', 182), ('뒷통수', 1102), ('이런식', 1330), ('알파고', 131), ('모글리', 1590), ('객관성', 1257), ('신부님', 186), ('익명성', 119), ('대학살', 152), ('이선균', 2500), ('복고풍', 129), ('차기작', 833), ('자괴감', 424), ('여의도', 261), ('쿠아론', 316), ('실타래', 496), ('패터슨', 930), ('클리쉐', 495), ('트리사', 147), ('노림수', 164), ('족구왕', 238), ('얼굴들', 657), ('그자리', 184), ('라이더', 204), ('비노쉬', 121), ('형사물', 230), ('사카구', 124), ('소화력', 113), ('해리스', 120), ('섬세함', 922), ('질문들', 448), ('양익준', 122), ('안정감', 435), ('상영관', 1381), ('어거지', 713), ('기싸움', 183), ('사랑들', 209), ('다른말', 101), ('박보검', 563), ('스탭들', 128), ('립스틱', 174), ('내용상', 171), ('쉬어칸', 177), ('허전함', 234), ('아버지', 18894), ('다음편', 2104), ('인간임', 182), ('켄드릭', 140), ('금성무', 105), ('역차별', 194), ('여름밤', 268), ('처절함', 734), ('이시영', 180), ('목요일', 122), ('후속작', 3037), ('가족간', 280), ('일본군', 632), ('비극성', 120), ('어수선', 812), ('그런식', 187), ('화장실', 1664), ('유난히', 557), ('정의감', 444), ('다프네', 109), ('개사료', 105), ('이유들', 210), ('리바인', 265), ('부조화', 577), ('이나라', 162), ('진부함', 1813), ('생각외', 375), ('갈등들', 127), ('아이들', 12538), ('호소력', 257), ('월레스', 300), ('약혼녀', 107), ('크로우', 472), ('걸음마', 137), ('상대적', 1196), ('것그것', 145), ('비기닝', 242), ('악순환', 297), ('타이밍', 2297), ('류덕환', 191), ('마사미', 152), ('동료애', 198), ('공동체', 821), ('이시다', 123), ('양면성', 420), ('에펠탑', 136), ('상황속', 361), ('아이즈', 161), ('선택권', 189), ('끝날때', 1620), ('가능함', 109), ('매력들', 143), ('김희애', 166), ('부적절', 227), ('살인범', 476), ('악마들', 160), ('역동성', 136), ('피카소', 132), ('개츠비', 1779), ('염정아', 143), ('짜릿함', 1019), ('버틀러', 174), ('상상력', 13245), ('로코물', 446), ('해석들', 142), ('성공담', 168), ('흥겨움', 159), ('하룻밤', 368), ('전유물', 223), ('박정민', 861), ('미지근', 489), ('포장지', 516), ('모티프', 266), ('출연료', 200), ('문채원', 909), ('컨저링', 669), ('시도들', 170), ('극장안', 131), ('입꼬리', 334), ('시사점', 134), ('탈출구', 260), ('무슨일', 485), ('복수심', 320), ('설정상', 141), ('연기들', 1254), ('우리집', 647), ('달달함', 320), ('미사일', 160), ('단순함', 313), ('못마땅', 111), ('여성들', 1865), ('빈약함', 231), ('사이트', 122), ('주마등', 175), ('비욘세', 187), ('카이주', 181), ('일대일', 136), ('이런말', 127), ('마누라', 284), ('사냥꾼', 240), ('표정들', 238), ('스위스', 154), ('영화관', 15746), ('주제곡', 374), ('성취감', 141), ('소외감', 145), ('전시회', 142), ('이자성', 183), ('에너미', 123), ('조디악', 106), ('데이터', 184), ('대지진', 156), ('줄리엣', 1128), ('한예리', 865), ('김명민', 1461), ('극장관', 401), ('달콤함', 492), ('원작자', 410), ('소재들', 817), ('우중충', 189), ('이영화', 11456), ('에저튼', 149), ('신비함', 187), ('스러움', 147), ('어정쩡', 1215), ('그누구', 112), ('피터팬', 339), ('이광수', 271), ('병사들', 409), ('경각심', 541), ('쇼트들', 113), ('영화계', 1707), ('일레븐', 284), ('에이바', 177), ('도입부', 1304), ('라인업', 462), ('가필드', 635), ('생명체', 892), ('아이콘', 463), ('영웅들', 1376), ('리브스', 554), ('송혜교', 270), ('진흙탕', 364), ('로보트', 230), ('순진함', 138), ('현실감', 2707), ('마르소', 161), ('무한함', 115), ('박신양', 300), ('진일보', 281), ('어른들', 5608), ('엇박자', 167), ('사형수', 156), ('절대악', 315), ('못할것', 277), ('오태식', 158), ('주먹질', 205), ('그럴것', 159), ('안재홍', 479), ('기준점', 121), ('판소리', 352), ('동정심', 452), ('대단원', 131), ('대가리', 347), ('아무일', 200), ('거미줄', 449), ('절대자', 183), ('타당성', 130), ('드립들', 133), ('액션물', 856), ('황홀경', 285), ('바르뎀', 303), ('밑바닥', 1039), ('아닌척', 132), ('부를때', 199), ('와스프', 441), ('망원경', 103), ('이진욱', 472), ('끝난후', 276), ('동생들', 131), ('즐길만', 485), ('벨소리', 186), ('경찰관', 171), ('활약상', 123), ('편안함', 495), ('위페르', 600), ('데이지', 632), ('흔적들', 275), ('몇마디', 221), ('간접적', 695), ('대재앙', 106), ('자신감', 1297), ('배급사', 567), ('단단히', 415), ('잠수함', 163), ('라일리', 674), ('흡입력', 2610), ('확장판', 376), ('스윈튼', 454), ('특이점', 182), ('연결성', 173), ('큐브릭', 667), ('맨얼굴', 124), ('그남자', 187), ('감정선', 6420), ('안되면', 211), ('조태오', 456), ('가족들', 3021), ('예이츠', 125), ('근육질', 175), ('국정원', 297), ('매운탕', 141), ('후유증', 495), ('단편들', 121), ('것우리', 107), ('생각들', 1234), ('메멘토', 613), ('수요일', 161), ('목적지', 551), ('정재영', 1294), ('블런트', 631), ('후련함', 116), ('장악력', 132), ('고길동', 122), ('섹스씬', 132), ('역겨움', 491), ('엔딩곡', 781), ('안옥윤', 112), ('흡혈귀', 193), ('은연중', 148), ('간절함', 818), ('가르침', 518), ('애국심', 1941), ('남아공', 108), ('데커드', 168), ('전투력', 136), ('무인도', 235), ('이병헌', 8994), ('지구상', 222), ('성장담', 442), ('패션쇼', 141), ('그순간', 203), ('리스크', 116), ('숟가락', 368), ('예술성', 551), ('바인즈', 160), ('피규어', 199), ('진중함', 292), ('존재함', 186), ('말할것', 626), ('뉘앙스', 340), ('한마리', 648), ('회색빛', 287), ('아파트', 507), ('히데코', 697), ('피칠갑', 357), ('웃을수', 517), ('아닐수', 279), ('어느곳', 119), ('성폭력', 196), ('지극히', 3858), ('노익장', 127), ('엉뚱함', 173), ('방아쇠', 344), ('구세주', 111), ('완결성', 185), ('걸어도', 233), ('카르텔', 204), ('전쟁통', 164), ('영국군', 152), ('비주얼', 6060), ('올드먼', 136), ('이음새', 205), ('무의미', 1857), ('뒷골목', 279), ('짐승들', 176), ('보스턴', 172), ('영리함', 282), ('본드걸', 354), ('코믹함', 384), ('압박감', 480), ('대중들', 815), ('사투리', 2065), ('개그들', 218), ('언젠가', 4526), ('주는것', 263), ('작품중', 675), ('미켈슨', 237), ('시체들', 128), ('송몽규', 602), ('반가움', 383), ('숨소리', 594), ('않을수', 494), ('평범성', 107), ('무덤덤', 525), ('배역들', 279), ('정공법', 341), ('장치들', 1020), ('살인을', 881), ('따뜻함', 2109), ('정치색', 272), ('잠재력', 243), ('무슨짓', 132), ('올드팝', 255), ('어느쪽', 354), ('형용사', 117), ('김정호', 209), ('이종석', 889), ('존재임', 157), ('박사님', 143), ('태평양', 145), ('루이자', 310), ('김남길', 1164), ('그와중', 738), ('꼬마애', 133), ('있는척', 102), ('고지라', 160), ('훈훈함', 379), ('히로키', 145), ('남동생', 239), ('자베르', 161), ('주기위', 122), ('어렴풋', 731), ('할리퀸', 2471), ('케이시', 446), ('남영동', 105), ('인간들', 3561), ('가위손', 198), ('만듦새', 969), ('가는길', 124), ('연속성', 179), ('부성애', 1877), ('킬러들', 151), ('표현법', 144), ('조울증', 101), ('쳐주고', 268), ('멈출수', 201), ('소중함', 3261), ('스텝들', 135), ('상류층', 387), ('미디어', 970), ('잠자리', 196), ('퍼센트', 594), ('반짝임', 131), ('앞자리', 164), ('비참함', 374), ('장군님', 293), ('소리들', 256), ('울타리', 564), ('휴대폰', 344), ('울라프', 118), ('원제목', 101), ('해방감', 300), ('꾸뻬씨', 117), ('우주복', 133), ('시발점', 446), ('소홀히', 103), ('서양식', 104), ('불균형', 236), ('조만간', 343), ('이부분', 200), ('삼겹살', 246), ('속도감', 1869), ('청춘들', 1871), ('미란도', 185), ('광선검', 143), ('가까스', 197), ('로보캅', 174), ('못한채', 394), ('흡인력', 389), ('마리아', 495), ('섬뜩함', 444), ('예상은', 470), ('고민들', 309), ('가까이', 2489), ('보는걸', 520), ('그동안', 2664), ('중국집', 125), ('주니어', 400), ('고전미', 139), ('분동안', 816), ('시간속', 245), ('건너편', 108), ('자장면', 111), ('아버님', 115), ('뻔뻔함', 370), ('피지컬', 242), ('리얼함', 263), ('절름발', 131), ('인간상', 308), ('관계들', 409), ('자폐증', 129), ('베드신', 924), ('형사들', 188), ('어디인', 477), ('이나영', 600), ('징크스', 174), ('지평선', 111), ('사실들', 250), ('눈시울', 433), ('이다윗', 184), ('어떤식', 205), ('렛잇고', 486), ('홈커밍', 474), ('잿더미', 127), ('라틴어', 116), ('히틀러', 270), ('루저들', 268), ('경찰차', 194), ('진주댁', 101), ('되도록', 347), ('치료제', 147), ('사무실', 256), ('허무감', 126), ('병신미', 178), ('조르주', 146), ('블러드', 121), ('코르셋', 224), ('시간안', 218), ('방법론', 211), ('인생들', 285), ('놀이터', 219), ('보안관', 232), ('좀비물', 2457), ('개인적', 18525), ('너희들', 694), ('셀린느', 137), ('딜레마', 1174), ('후반부', 14819), ('키드먼', 746), ('라쇼몽', 206), ('우연성', 178), ('등근육', 121), ('강철중', 488), ('구성력', 182), ('박서준', 710), ('불안함', 520), ('모자람', 321), ('공포증', 103), ('로다쥬', 104), ('노력들', 192), ('가슴깊', 146), ('담고자', 176), ('소유물', 147), ('영상들', 548), ('공간감', 104), ('머리채', 170), ('우연들', 135), ('왕자님', 679), ('죽음들', 111), ('여름날', 322), ('모호함', 617), ('용의자', 475), ('망설임', 503), ('담당자', 105), ('시월애', 132), ('커티스', 318), ('설레임', 783), ('영국뽕', 115), ('양동근', 178), ('뤽베송', 436), ('물건들', 223), ('소지섭', 1381), ('폭풍우', 234), ('적절함', 110), ('티렉스', 326), ('프레임', 1966), ('발자국', 575), ('얘기들', 276), ('나마에', 120), ('종반부', 267), ('레퀴엠', 208), ('기성품', 145), ('어느샌', 401), ('렛미인', 114), ('코폴라', 265), ('도둑들', 1225), ('포지션', 304), ('롤모델', 175), ('후속편', 1927), ('그레타', 593), ('눈빛들', 122), ('내모습', 242), ('테크닉', 456), ('위압감', 183), ('자매들', 129), ('김옥빈', 1400), ('마스크', 1039), ('비긴즈', 453), ('사진들', 265), ('영화임', 3131), ('가모라', 340), ('오락용', 212), ('유행어', 289), ('영웅담', 436), ('파치노', 600), ('패딩턴', 287), ('왕대륙', 527), ('오늘날', 893), ('의무적', 108), ('절박함', 501), ('한석규', 1851), ('실사판', 884), ('감칠맛', 430), ('백윤식', 575), ('장난질', 196), ('시상식', 275), ('빈디젤', 136), ('조종사', 208), ('반응들', 110), ('얘네들', 155), ('사법부', 116), ('무한대', 330), ('라보프', 236), ('길리엄', 122), ('인물들', 11018), ('허접함', 168), ('빌뇌브', 969), ('창작물', 241), ('빨간색', 318), ('장국영', 791), ('웃기만', 110), ('프랭코', 167), ('엘리스', 183), ('문근영', 621), ('연산군', 302), ('디저트', 304), ('노바디', 167), ('수트핏', 171), ('살기위', 626), ('저울질', 288), ('첩보물', 668), ('비겁함', 174), ('두남녀', 101), ('최선은', 146), ('모른채', 425), ('어긋남', 165), ('입맞춤', 125), ('기다림', 1250), ('유덕화', 301), ('밸런스', 1205), ('조승우', 1957), ('다를것', 158), ('김태희', 181), ('라푼젤', 1043), ('김희원', 187), ('소설책', 227), ('구슬들', 106), ('차가움', 286), ('감우성', 157), ('편견들', 107), ('휴잭맨', 1523), ('혓바닥', 120), ('군상들', 232), ('팔다리', 133), ('와이즈', 134), ('하여간', 276), ('대담함', 149), ('그시절', 965), ('세트장', 317), ('노랫말', 139), ('우울증', 319), ('소유욕', 178), ('설명들', 122), ('순수함', 3300), ('절절함', 190), ('늑대들', 293), ('놀란표', 115), ('추리물', 619), ('두오모', 115), ('신파극', 2103), ('한부분', 151), ('슬럼프', 111), ('미술관', 263), ('존경심', 262), ('엉성함', 400), ('유대감', 331), ('할정도', 193), ('사토시', 318), ('니플러', 143), ('상황들', 1348), ('폰부스', 281), ('소재임', 237), ('시애틀', 249), ('피부색', 225), ('월드컵', 189), ('나뿐인', 703), ('최민수', 171), ('추격자', 620), ('심오함', 140), ('최고조', 276), ('테이텀', 468), ('노홍철', 104), ('디테일', 6654), ('텍스트', 691), ('다정함', 117), ('브랜드', 476), ('온가족', 203), ('죽을때', 632), ('타격감', 357), ('할배들', 116), ('메이지', 209), ('연출법', 139), ('하지원', 781), ('임수정', 1262), ('샤이닝', 186), ('연기력', 21667), ('경외감', 210), ('연구소', 101), ('중요성', 1968), ('바둑판', 116), ('백치미', 247), ('인셉션', 2301), ('괴물들', 502), ('찾는것', 122), ('정은채', 153), ('오바마', 150), ('한조각', 161), ('와트니', 350), ('각본상', 117), ('큰그림', 225), ('빙봉들', 120), ('로데오', 128), ('우울함', 772), ('김인권', 166), ('뒷자리', 170), ('더빙판', 518), ('자무시', 103), ('믿는것', 103), ('더러움', 357), ('여러개', 253), ('하나님', 709), ('패션왕', 112), ('누아르', 588), ('예고편', 7019), ('임파서블', 321), ('범죄도시', 252), ('몽상가들', 245), ('동기부여', 318), ('구마의식', 118), ('아그네스', 134), ('비칸데르', 150), ('프란시스', 1010), ('여러가지', 3293), ('여성인권', 182), ('평균이상', 104), ('젊은시절', 171), ('어마무시', 618), ('한여름밤', 113), ('스캐맨더', 135), ('사랑에대', 139), ('유머코드', 1569), ('늑대소년', 231), ('어마어마', 2105), ('생각할때', 128), ('우주전쟁', 213), ('잊지않고', 145), ('완급조절', 695), ('어우러짐', 118), ('연기력들', 156), ('유머감각', 435), ('슬랩스틱', 483), ('싱그러움', 114), ('베네딕트', 1549), ('초중반부', 419), ('보자마자', 539), ('일본인들', 343), ('기본으로', 126), ('스페로우', 105), ('떡밥회수', 251), ('버스터즈', 102), ('수동적으', 144), ('노랫소리', 154), ('인과관계', 471), ('내용전개', 594), ('오락영화', 5740), ('엠마스톤', 768), ('슈퍼배드', 423), ('스파게티', 278), ('플레이북', 119), ('흥미로움', 466), ('맥도날드', 614), ('영화감독', 936), ('양아치들', 138), ('셀레스틴', 111), ('라이온킹', 238), ('심야식당', 446), ('현대사회', 714), ('예술가들', 467), ('뱅상카셀', 118), ('우리사회', 411), ('자격지심', 169), ('자기복제', 328), ('세대교체', 245), ('개그요소', 314), ('심리상태', 229), ('뻔한결말', 151), ('윌리암스', 273), ('좀비랜드', 116), ('제작자들', 221), ('무엇일지', 115), ('스마트폰', 396), ('테마파크', 217), ('말한마디', 174), ('이중생활', 214), ('약육강식', 238), ('비판의식', 111), ('스테이크', 232), ('부모님들', 199), ('어른이들', 137), ('레드포드', 137), ('매트릭스', 1071), ('소설원작', 180), ('영화제목', 771), ('되새김질', 206), ('액션활극', 148), ('보여준것', 282), ('어느순간', 733), ('없다영화', 205), ('이냐리투', 224), ('캐리비안', 713), ('지긋지긋', 658), ('슈나이더', 153), ('부정부패', 131), ('스타트랙', 318), ('연결고리', 1266), ('같다영화', 316), ('들어갈때', 111), ('톰크루즈', 1409), ('이해관계', 405), ('장난감들', 319), ('다른이들', 131), ('아쉬운듯', 105), ('페이소스', 316), ('스카우트', 104), ('사람사이', 113), ('휴머니즘', 1637), ('사라질때', 114), ('외국인들', 164), ('늑대인간', 174), ('바스터즈', 276), ('배경음악', 2327), ('고유명사', 102), ('에이전트', 153), ('영화무엇', 111), ('지지부진', 323), ('장례식장', 246), ('사고방식', 413), ('티격태격', 199), ('바퀴벌레', 382), ('백설공주', 547), ('감정몰입', 131), ('브라이언', 942), ('해리포터', 5620), ('촌스러움', 606), ('자기자신', 741), ('새드니스', 106), ('대한극장', 176), ('캐릭터들', 16187), ('아스팔트', 140), ('마법사들', 136), ('미니언들', 587), ('실사영화', 588), ('스타로드', 458), ('덤앤더머', 139), ('강아지들', 153), ('모든이들', 167), ('아름다움', 8653), ('새로울것', 112), ('지루한감', 305), ('교통사고', 288), ('칭찬할만', 155), ('모를정도', 128), ('기승전결', 1811), ('감정선들', 189), ('수업시간', 252), ('저메키스', 244), ('호그와트', 392), ('벅차오름', 123), ('로맨틱함', 118), ('괴물영화', 196), ('어머니들', 147), ('현실감각', 102), ('선라이즈', 211), ('강박관념', 240), ('대학생활', 111), ('홍콩영화', 364), ('푸드트럭', 176), ('영화볼때', 186), ('지금처럼', 220), ('어디에선', 107), ('베리모어', 193), ('조선인들', 207), ('직업정신', 146), ('에이프릴', 207), ('시리즈중', 1030), ('복제인간', 330), ('역사공부', 118), ('배우때문', 129), ('타이타닉', 1249), ('인간세상', 119), ('미사여구', 161), ('극장판중', 141), ('소스코드', 301), ('잡으려고', 155), ('일본감성', 312), ('두뇌싸움', 170), ('보디가드', 204), ('우여곡절', 195), ('순간이동', 280), ('시리즈들', 382), ('노동자들', 186), ('학교폭력', 152), ('심리변화', 190), ('놀이동산', 140), ('이런장르', 173), ('첩보영화', 350), ('레오나르', 617), ('추리소설', 385), ('뻔한전개', 159), ('히스레져', 294), ('스패로우', 493), ('톰아저씨', 206), ('억지설정', 186), ('미친놈들', 391), ('정체불명', 133), ('연기자들', 945), ('필요할때', 167), ('지키기위', 243), ('고양이들', 151), ('엠마왓슨', 2574), ('가부장제', 242), ('자유로움', 299), ('있다는것', 589), ('제작진들', 252), ('매니아들', 129), ('제이슨본', 274), ('구질구질', 684), ('스펙타클', 1048), ('정신건강', 214), ('병맛코드', 118), ('레이놀즈', 1096), ('영화에대', 131), ('아프리카', 657), ('트레이시', 105), ('위태위태', 141), ('전개과정', 153), ('레퍼런스', 411), ('맷데이먼', 890), ('인간관계', 902), ('이런영화', 2471), ('플로렌스', 183), ('장르영화', 834), ('짜파게티', 101), ('유색인종', 223), ('시험기간', 119), ('연극무대', 113), ('콜린파렐', 131), ('무슨생각', 191), ('레퍼토리', 188), ('그런것들', 145), ('피비린내', 326), ('시의적절', 136), ('보일정도', 103), ('좋아할수', 116), ('재즈음악', 195), ('연출때문', 136), ('전개방식', 657), ('하루아침', 107), ('스페이시', 368), ('어벤져스', 4758), ('생존본능', 222), ('단독영화', 106), ('액션배우', 130), ('봉준호식', 183), ('시기적절', 108), ('에어리언', 203), ('미국인들', 366), ('기대한것', 202), ('중간부분', 115), ('불확실성', 142), ('쓰잘데기', 135), ('피해의식', 171), ('흥망성쇠', 130), ('프라이빗', 101), ('혹성탈출', 532), ('바이러스', 729), ('부조리함', 289), ('설마설마', 240), ('젤소미나', 114), ('미적지근', 364), ('톰홀랜드', 104), ('크리스틴', 858), ('가졌다고', 103), ('단편영화', 474), ('전투장면', 279), ('샘레이미', 117), ('갈팡질팡', 635), ('만들기위', 153), ('마리우스', 105), ('어디가서', 131), ('타임라인', 182), ('윈터솔져', 150), ('멍청이들', 167), ('파노라마', 117), ('인간다움', 464), ('팝콘무비', 533), ('재미요소', 225), ('히어로물', 6178), ('부럽기도', 203), ('남녀관계', 130), ('블랙스완', 357), ('대서사시', 347), ('러브레터', 349), ('시대정신', 164), ('네버랜드', 140), ('끝마무리', 127), ('흥미진진', 5037), ('시도때도', 255), ('데이비스', 275), ('모르는것', 103), ('보드게임', 162), ('기막히게', 186), ('아이맥스', 3270), ('하루종일', 552), ('비오는날', 166), ('베이맥스', 1079), ('파스텔톤', 118), ('컬트영화', 111), ('영화한편', 197), ('상업영화', 3210), ('어지간히', 127), ('내적갈등', 190), ('러블리함', 104), ('특별할것', 132), ('희생자들', 208), ('거대로봇', 215), ('근현대사', 552), ('설국열차', 781), ('워킹데드', 217), ('트라우마', 2280), ('삼각관계', 299), ('플래시백', 596), ('러브라인', 1246), ('어린왕자', 942), ('얼간이들', 112), ('구강액션', 137), ('관람객들', 173), ('기성세대', 353), ('프레데터', 321), ('문제점들', 170), ('스펙터클', 736), ('중반이후', 286), ('대배우들', 142), ('권선징악', 1801), ('삶이라고', 109), ('무성영화', 561), ('판타스틱', 631), ('투자자들', 172), ('연기대결', 143), ('액션신들', 101), ('스파이디', 1183), ('어떤영화', 147), ('최다니엘', 206), ('샤머니즘', 143), ('상관관계', 199), ('패스벤더', 644), ('있기때문', 171), ('페스티벌', 103), ('바이올린', 333), ('비디오방', 118), ('심리묘사', 908), ('크레덴스', 129), ('다이나믹', 337), ('물량공세', 195), ('가족관계', 106), ('이야기들', 2652), ('원주민들', 122), ('코카콜라', 142), ('표현방식', 326), ('생각거리', 126), ('연기덕분', 116), ('관계자들', 141), ('세스로건', 177), ('일본영화', 3255), ('온데간데', 274), ('캐릭터성', 984), ('메타포들', 197), ('우디앨런', 1616), ('예상별점', 755), ('홀로그램', 125), ('새로운것', 148), ('영화때문', 236), ('신파영화', 157), ('물고기들', 246), ('프로페서', 115), ('무시무시', 1060), ('영화음악', 603), ('선생님들', 164), ('영화들중', 178), ('페이스북', 447), ('트라볼타', 174), ('쿠마테츠', 189), ('상당부분', 118), ('피터파커', 276), ('구성원들', 147), ('위태로움', 148), ('소녀감성', 173), ('넷플릭스', 524), ('시카리오', 412), ('지들끼리', 287), ('스토리들', 231), ('네트워크', 268), ('신데렐라', 2948), ('패러독스', 184), ('범죄자들', 310), ('징글징글', 222), ('하정우씨', 159), ('좋아할지', 112), ('손가락질', 407), ('여유로움', 151), ('번지점프', 113), ('야한장면', 119), ('찾아가서', 168), ('프리퀀시', 178), ('찌질이들', 166), ('공감할만', 144), ('역사왜곡', 317), ('없었던것', 132), ('미국사회', 192), ('엔딩부분', 106), ('시원시원', 1075), ('순진무구', 159), ('보기시작', 102), ('지구인들', 106), ('초식동물', 156), ('남자친구', 1099), ('성장과정', 221), ('부당거래', 781), ('한참동안', 171), ('스터게스', 112), ('브로맨스', 795), ('엑소시즘', 1123), ('우주여행', 306), ('음악시간', 111), ('보는재미', 199), ('가슴따뜻', 138), ('음악때문', 128), ('비현실성', 181), ('미술감독', 109), ('코엑스점', 216), ('퍼시픽림', 158), ('한다는것', 129), ('스토리상', 439), ('아기자기', 2132), ('시어머니', 185), ('주인공들', 6012), ('스티븐연', 213), ('소수의견', 140), ('일본특유', 253), ('뫼비우스', 367), ('매커너히', 189), ('외할머니', 120), ('사도세자', 704), ('오프닝씬', 124), ('공룡영화', 102), ('엄마아빠', 348), ('들었을때', 176), ('루니마라', 165), ('영화시간', 317), ('유니버스', 2128), ('좌충우돌', 516), ('레파토리', 246), ('프로덕션', 128), ('우리엄마', 187), ('무의식적', 350), ('슬로모션', 173), ('예쁘기만', 153), ('프로스트', 361), ('윌스미스', 470), ('희생정신', 137), ('대중문화', 111), ('추천할만', 208), ('알록달록', 473), ('시작부분', 114), ('범죄영화', 823), ('시작할때', 334), ('부조리극', 122), ('알콩달콩', 240), ('이런생각', 164), ('고전영화', 403), ('사랑타령', 196), ('납득할만', 116), ('좋아할만', 405), ('멜리에스', 173), ('남북관계', 136), ('열린결말', 505), ('아트나인', 157), ('르누아르', 163), ('하루동안', 107), ('구하려고', 126), ('아무렇게', 221), ('국가대표', 527), ('오니기리', 167), ('아빠미소', 162), ('주변인들', 455), ('누군가들', 118), ('연출기법', 123), ('종횡무진', 110), ('마지막씬', 322), ('허리케인', 143), ('로케이션', 262), ('위플래시', 314), ('심경변화', 119), ('언터쳐블', 101), ('청소년들', 464), ('더할나위', 628), ('피터잭슨', 239), ('가치판단', 104), ('자기혐오', 158), ('아일랜드', 871), ('직업윤리', 185), ('알고리즘', 118), ('사전정보', 175), ('여러분들', 155), ('날카로움', 142), ('포인트들', 233), ('전지전능', 190), ('노래실력', 145), ('기립박수', 425), ('코멘트들', 288), ('마고로비', 445), ('저널리즘', 219), ('예측가능', 815), ('가상현실', 117), ('인어공주', 268), ('코스프레', 570), ('사각지대', 117), ('깡패영화', 131), ('장면전환', 210), ('소수자들', 284), ('결말때문', 180), ('힌츠페터', 207), ('과학기술', 170), ('한스짐머', 659), ('어벤저스', 930), ('위기상황', 107), ('스펙트럼', 453), ('콜린퍼스', 1217), ('무지막지', 333), ('먹이사슬', 167), ('감정이입', 3563), ('웃음코드', 751), ('사랑방식', 109), ('휴머니티', 208), ('영어제목', 102), ('연금술사', 126), ('일반인들', 225), ('명배우들', 750), ('수양대군', 293), ('인물설정', 110), ('도플갱어', 151), ('스타트렉', 1076), ('불량식품', 301), ('빠른전개', 273), ('자이언트', 130), ('할머니들', 641), ('찾으려고', 218), ('현대인들', 588), ('옵티머스', 447), ('대만영화', 252), ('안타까움', 1938), ('무난무난', 345), ('스트리트', 283), ('계급사회', 179), ('의미심장', 495), ('여러의미', 142), ('구태의연', 267), ('공감능력', 162), ('괴생명체', 101), ('리드미컬', 194), ('생각날때', 103), ('일상생활', 244), ('브라더스', 204), ('비정규직', 271), ('어찌어찌', 145), ('개똥철학', 195), ('우리동네', 107), ('아이언맨', 4902), ('지리멸렬', 278), ('인공지능', 782), ('느와르물', 215), ('쳇베이커', 129), ('머리카락', 574), ('많은것들', 103), ('더글라스', 189), ('모범답안', 186), ('모리꼬네', 236), ('느릿느릿', 281), ('내레이션', 492), ('상황설정', 174), ('이스라엘', 219), ('디테일들', 241), ('나홀로집', 344), ('이곳저곳', 157), ('브룩쉴즈', 105), ('거슬리긴', 150), ('샤론스톤', 163), ('여주인공', 5705), ('겨울왕국', 2013), ('아저씨들', 370), ('조화로움', 121), ('유토피아', 774), ('스나이더', 711), ('문라이트', 250), ('맥아담스', 1231), ('아마네트', 502), ('감정변화', 384), ('디즈니식', 389), ('아델라인', 131), ('그레이스', 535), ('에머리히', 130), ('올마이티', 149), ('우디알렌', 162), ('사회문제', 414), ('스타워즈', 2751), ('코스요리', 110), ('전기영화', 375), ('개봉당시', 377), ('삼시세끼', 445), ('모든것들', 407), ('어지러움', 165), ('트루먼쇼', 152), ('영화소재', 203), ('싱크로율', 991), ('서사구조', 243), ('모차르트', 113), ('판타지물', 306), ('클로즈업', 1859), ('우선순위', 150), ('인간세계', 145), ('어른제국', 104), ('또라이들', 221), ('아론소킨', 101), ('본시리즈', 716), ('문제의식', 496), ('액션씬들', 227), ('투명인간', 149), ('영화대사', 115), ('평행이론', 143), ('안쓰러움', 134), ('핵심기억', 178), ('출연자들', 108), ('대리만족', 1010), ('어처구니', 909), ('화면구성', 265), ('용산참사', 121), ('보이는것', 207), ('나무랄데', 213), ('낭떠러지', 152), ('시나리오', 10652), ('여자친구', 1489), ('웃음거리', 154), ('나레이션', 1957), ('영화장르', 112), ('브루클린', 162), ('드림웍스', 1089), ('떨어지긴', 157), ('마지막쯤', 140), ('피해자들', 779), ('희로애락', 162), ('빈부격차', 145), ('지랄발광', 218), ('단편소설', 119), ('감동코드', 498), ('배경지식', 432), ('스폰지밥', 190), ('라이블리', 299), ('전하고자', 700), ('드라큘라', 180), ('경기장면', 102), ('거북이들', 143), ('목적의식', 109), ('모히또가', 171), ('청년경찰', 244), ('예측불허', 110), ('만족할만', 153), ('맥그리거', 506), ('태어나면', 167), ('스튜어트', 755), ('비스무리', 129), ('등장할때', 238), ('대중영화', 404), ('라스트씬', 242), ('영어공부', 132), ('오에스티', 326), ('유년시절', 548), ('김사복씨', 128), ('디즈니표', 125), ('맥클레인', 127), ('잭니콜슨', 136), ('쓰레기장', 103), ('알파치노', 972), ('영화채널', 143), ('고정관념', 663), ('물랑루즈', 249), ('박하사탕', 384), ('시리즈물', 1531), ('슬픈장면', 108), ('조폭영화', 684), ('후속작들', 144), ('이클립스', 127), ('연장선상', 117), ('밍숭맹숭', 270), ('오글거림', 1574), ('데어데블', 102), ('케릭터들', 464), ('네러티브', 355), ('놀이공원', 349), ('지고지순', 221), ('사후세계', 758), ('울음소리', 446), ('흥행요소', 169), ('사람냄새', 230), ('나쁜놈들', 480), ('모자이크', 159), ('내마음속', 102), ('아나키즘', 110), ('우쿨렐레', 128), ('흥행공식', 144), ('제목때문', 115), ('프루스트', 351), ('직장인들', 133), ('제임스딘', 221), ('특선영화', 178), ('슬프기도', 342), ('휴그랜트', 331), ('표현한것', 313), ('뻔하디뻔', 198), ('자기연민', 194), ('무책임함', 107), ('갈등구조', 168), ('몽글몽글', 352), ('에일리언', 1871), ('인간사회', 126), ('부연설명', 126), ('맨인블랙', 226), ('일제시대', 332), ('내부자들', 1149), ('엘리시움', 261), ('결말부분', 299), ('상영시간', 893), ('문학작품', 114), ('콤플렉스', 294), ('재밌기도', 157), ('좀비영화', 3401), ('다음작품', 208), ('센세이션', 299), ('다른의미', 156), ('미키루크', 209), ('스튜디오', 747), ('출연진들', 263), ('된장찌개', 119), ('배경설명', 102), ('서부영화', 379), ('꼬맹이들', 167), ('결혼생활', 361), ('히스토리', 106), ('모더니즘', 114), ('가정환경', 108), ('신인감독', 205), ('다이어리', 307), ('톰행크스', 812), ('만들고자', 160), ('회상장면', 104), ('노래가사', 124), ('비슷비슷', 351), ('코렐라인', 102), ('영화산업', 107), ('없을정도', 202), ('단조로움', 147), ('젊은이들', 875), ('어린애들', 192), ('한국사회', 750), ('톱니바퀴', 298), ('파란만장', 298), ('예상평점', 228), ('피라미드', 120), ('불친절함', 245), ('영화생각', 200), ('조개껍질', 113), ('강약조절', 251), ('불완전성', 101), ('바르보사', 261), ('군중심리', 103), ('주조연들', 177), ('리얼리즘', 788), ('코미디물', 354), ('사카모토', 145), ('아슬아슬', 1475), ('번지르르', 244), ('기대이상', 1372), ('히스테릭', 105), ('스카이폴', 612), ('일본문화', 101), ('경이로움', 731), ('그사람들', 113), ('오랜시간', 341), ('원작만화', 203), ('놀란감독', 591), ('무궁무진', 327), ('카메오들', 123), ('사랑때문', 193), ('애시당초', 112), ('쓰레기통', 230), ('무기력함', 371), ('극한상황', 127), ('리얼리티', 1422), ('이야기속', 145), ('잘하는것', 106), ('유인원들', 284), ('어린이들', 798), ('쓰레기들', 311), ('액션영화', 3966), ('혼혈왕자', 121), ('스콜세지', 1058), ('어르신들', 260), ('시게모리', 144), ('미워할수', 230), ('자유의지', 317), ('감초역할', 128), ('할아버지', 4820), ('시대상황', 128), ('티켓파워', 158), ('없다는것', 189), ('오밀조밀', 155), ('그리피스', 143), ('것이기도', 131), ('구석구석', 385), ('영화원작', 174), ('마법세계', 377), ('서양인들', 153), ('대니보일', 239), ('고리타분', 338), ('달콤씁쓸', 103), ('만화영화', 747), ('레드메인', 962), ('실험정신', 114), ('다이애나', 870), ('위더스푼', 320), ('지루한듯', 144), ('매드맥스', 515), ('러닝타임', 10069), ('장인정신', 239), ('냉전시대', 237), ('클래식함', 123), ('실망할수', 102), ('시간동안', 1688), ('구하기위', 120), ('중간중간', 7073), ('시끌벅적', 151), ('원더우먼', 3698), ('무게중심', 121), ('앨런튜링', 136), ('연기할때', 105), ('존재이유', 159), ('여배우들', 1053), ('매너리즘', 312), ('맥커너히', 577), ('영화인것', 746), ('역사의식', 136), ('이런것들', 113), ('덤블도어', 224), ('라이브톡', 213), ('캐릭터간', 174), ('느낌영화', 130), ('에단호크', 700), ('알프레도', 341), ('부끄러움', 1435), ('이미지들', 702), ('코엔형제', 418), ('우왕좌왕', 198), ('카테고리', 152), ('위플래쉬', 717), ('버터필드', 101), ('본영화중', 123), ('코믹요소', 402), ('우리모두', 354), ('오랑우탄', 135), ('아리에티', 145), ('맘마미아', 168), ('멧데이먼', 287), ('벤스틸러', 180), ('선글라스', 169), ('스톱모션', 307), ('그래비티', 1688), ('트릴로지', 1095), ('동물농장', 107), ('화면전환', 173), ('담배연기', 207), ('레버넌트', 198), ('데스노트', 390), ('쥐락펴락', 273), ('잠시동안', 107), ('역사영화', 215), ('살인사건', 589), ('시행착오', 167), ('블랙유머', 152), ('대학시절', 102), ('화룡점정', 392), ('피노키오', 272), ('소녀시대', 213), ('들쑥날쑥', 103), ('지역감정', 106), ('블랙팬서', 160), ('예상치못', 280), ('나오는것', 195), ('기상천외', 169), ('구구절절', 961), ('지루할틈', 377), ('오그라듬', 125), ('밑도끝도', 221), ('우리나라', 11516), ('정치인들', 356), ('영화아직', 108), ('정신승리', 130), ('알리시아', 184), ('세바스찬', 931), ('양자역학', 161), ('리암니슨', 1565), ('두말할것', 107), ('육식동물', 198), ('중경삼림', 155), ('타란티노', 3542), ('덩케르크', 1666), ('에이리언', 1625), ('부실공사', 299), ('알쏭달쏭', 105), ('디테일함', 152), ('감정묘사', 237), ('존재자체', 110), ('진입장벽', 105), ('시대배경', 188), ('진절머리', 145), ('액츄얼리', 114), ('네임밸류', 112), ('트레일러', 341), ('크로니클', 101), ('헝거게임', 554), ('반려동물', 271), ('히들스턴', 198), ('직장생활', 119), ('헤이트풀', 110), ('드라이버', 323), ('서스펙트', 154), ('마지막날', 117), ('대한민국', 7804), ('장편영화', 143), ('패스밴더', 326), ('마이어스', 167), ('히스레저', 639), ('스토리면', 203), ('무대인사', 492), ('스키점프', 135), ('마음가짐', 423), ('윌리엄스', 1087), ('형형색색', 184), ('인물들간', 166), ('화면비율', 105), ('이안감독', 137), ('아이언스', 309), ('란티모스', 127), ('생존자들', 123), ('코스트너', 156), ('조곤조곤', 117), ('토요명화', 124), ('인신매매', 101), ('적재적소', 527), ('수수께끼', 759), ('올라갈때', 537), ('허수아비', 117), ('휘날리며', 193), ('성정체성', 178), ('불완전함', 288), ('예술작품', 314), ('매그니토', 116), ('꼬띠아르', 829), ('목소리들', 151), ('서스펜스', 4373), ('나쁜남자', 215), ('서울극장', 106), ('덕혜옹주', 717), ('야수일때', 147), ('브리지스', 107), ('시퀀스들', 257), ('우리시대', 115), ('비명소리', 138), ('저승사자', 118), ('우리아빠', 122), ('메세지들', 133), ('남녀노소', 348), ('어두침침', 102), ('매일매일', 405), ('고군분투', 1485), ('아쉽기는', 127), ('알레고리', 215), ('백만장자', 105), ('흑백영화', 515), ('해피엔드', 159), ('연출방식', 181), ('적나라함', 105), ('메이크업', 131), ('의미부여', 383), ('나래이션', 288), ('카리스마', 2302), ('인페르노', 113), ('우주공간', 137), ('프로젝트', 963), ('빅토리아', 192), ('않을정도', 167), ('명장면들', 126), ('개과천선', 284), ('추억보정', 196), ('태국영화', 109), ('보고난후', 196), ('왁자지껄', 142), ('타임머신', 518), ('스타일링', 160), ('그린랜턴', 248), ('도라에몽', 326), ('명대사들', 299), ('황당무계', 155), ('잭에프론', 139), ('좋다영화', 115), ('교차편집', 568), ('아무생각', 1803), ('클리셰들', 597), ('흑백화면', 138), ('드라마틱', 1143), ('여자애들', 181), ('스페인어', 202), ('사기꾼들', 159), ('당사자들', 182), ('파프리카', 126), ('비행기안', 118), ('아줌마들', 136), ('좋은소재', 266), ('유리구두', 195), ('놀이기구', 353), ('각양각색', 113), ('좋았을것', 744), ('감정과잉', 299), ('원숭이들', 120), ('외계인들', 328), ('여성감독', 151), ('남주인공', 650), ('보이후드', 154), ('심야영화', 242), ('라라랜드', 2685), ('게리올드', 324), ('희노애락', 501), ('팜므파탈', 331), ('한다영화', 126), ('남자애들', 110), ('고해성사', 180), ('재난상황', 153), ('뭐니뭐니', 161), ('성대모사', 200), ('정치영화', 105), ('억만장자', 139), ('페레그린', 238), ('맥라이언', 170), ('오르가즘', 200), ('스파이물', 266), ('투슬리스', 658), ('내러티브', 2117), ('마녀사냥', 263), ('퍼포먼스', 1077), ('어린시절', 3047), ('지키고자', 255), ('판토마임', 214), ('웃음소리', 560), ('무색무취', 106), ('에바그린', 887), ('진행방식', 115), ('되었을때', 323), ('셜록홈즈', 267), ('사회생활', 179), ('속수무책', 165), ('크루엘라', 128), ('총천연색', 132), ('박수갈채', 125), ('장면때문', 170), ('주토피아', 1288), ('영화인들', 164), ('필요이상', 246), ('촬영기법', 869), ('시시껄렁', 134), ('드래곤볼', 506), ('복잡미묘', 312), ('오락거리', 107), ('정신병원', 330), ('아버지들', 537), ('나이틀리', 1243), ('시시콜콜', 140), ('할머님들', 172), ('한국인들', 292), ('힘들정도', 169), ('연기때문', 419), ('촌철살인', 117), ('패러다임', 234), ('배우님들', 245), ('있었던것', 209), ('감시자들', 296), ('프로그램', 678), ('흠잡을데', 326), ('어톤먼트', 141), ('동어반복', 273), ('영웅본색', 199), ('블롬캠프', 165), ('아마겟돈', 249), ('어두컴컴', 128), ('콘스탄틴', 409), ('바람소리', 160), ('연애세포', 140), ('싶을정도', 687), ('볼드모트', 255), ('코멘터리', 107), ('드럼소리', 283), ('윤리의식', 118), ('쿠키영상', 2895), ('주제의식', 2639), ('소시민들', 157), ('군더더기', 2825), ('가브리엘', 161), ('개그코드', 1675), ('차스테인', 180), ('자유자재', 330), ('작별인사', 338), ('직장상사', 110), ('대학생들', 159), ('히어로들', 1525), ('엑스포스', 112), ('시리우스', 220), ('드라이브', 421), ('장면장면', 812), ('학창시절', 1159), ('단발머리', 144), ('상호작용', 195), ('산티아고', 126), ('소림축구', 164), ('르네상스', 191), ('평론가님', 192), ('중국자본', 172), ('한명한명', 231), ('붐바스틱', 320), ('의사소통', 165), ('솔로무비', 142), ('데스몬드', 142), ('지루한면', 174), ('정신세계', 206), ('키리시마', 551), ('사전지식', 157), ('신비로움', 227), ('전쟁영화', 4100), ('스트레스', 1972), ('디파티드', 139), ('영화결말', 188), ('남산타워', 117), ('덩어리들', 101), ('프랑스어', 205), ('소노시온', 206), ('않았을것', 118), ('피카디리', 125), ('다크니스', 176), ('권력자들', 138), ('탐크루즈', 383), ('엔딩장면', 474), ('쉬타이위', 140), ('이런소재', 112), ('맨체스터', 176), ('비글로우', 188), ('평론가들', 484), ('저릿저릿', 121), ('쿵푸팬더', 432), ('방어기제', 112), ('천재감독', 145), ('남배우들', 142), ('전래동화', 253), ('영화잔잔', 125), ('컴플렉스', 386), ('프로이트', 233), ('가해자들', 258), ('클라이드', 118), ('시놉시스', 428), ('있다영화', 207), ('만화원작', 196), ('남한산성', 315), ('상상이상', 169), ('수레바퀴', 102), ('실제사건', 120), ('전무후무', 262), ('두근거림', 404), ('원작소설', 900), ('여성영화', 271), ('순간순간', 1188), ('콜럼버스', 120), ('영화인간', 116), ('숨바꼭질', 334), ('스테파니', 116), ('배우분들', 363), ('미니언즈', 1160), ('화양연화', 242), ('하이틴물', 121), ('배틀로얄', 114), ('괴수영화', 800), ('전문가들', 159), ('공소시효', 116), ('한국정서', 170), ('히로카즈', 872), ('현실세계', 371), ('런닝타임', 1507), ('도전정신', 195), ('이야기임', 246), ('스토리임', 207), ('듬성듬성', 176), ('오아시스', 465), ('무미건조', 652), ('브레이크', 336), ('회전목마', 345), ('국제시장', 490), ('인도영화', 810), ('언제부턴', 325), ('변신로봇', 123), ('예상가능', 1485), ('봉감독님', 126), ('라그나로크', 370), ('라스폰트리', 150), ('다른사람들', 290), ('상대성이론', 190), ('자기들끼리', 224), ('심폐소생술', 222), ('보여주기식', 273), ('해피투게더', 129), ('엑소시스트', 654), ('디트로이트', 129), ('이스트우드', 1380), ('흥미진진함', 208), ('좋은배우들', 130), ('연쇄살인범', 172), ('아기자기함', 188), ('재난영화들', 103), ('파라다이스', 161), ('알츠하이머', 331), ('조연배우들', 118), ('사운드트랙', 1063), ('기억상실증', 139), ('연기력때문', 111), ('토니스타크', 329), ('인스타그램', 111), ('에로티시즘', 180), ('할리우드식', 289), ('자기합리화', 279), ('베스트셀러', 162), ('링클레이터', 167), ('버라이어티', 124), ('트랜스포머', 1570), ('비포시리즈', 108), ('연쇄살인마', 196), ('이야기전개', 113), ('법정드라마', 127), ('여주인공들', 112), ('나홍진감독', 116), ('영화개인적', 201), ('완벽주의자', 113), ('브래드피트', 1323), ('르네젤위거', 135), ('달콤쌉싸름', 106), ('디카프리오', 3769), ('쥬라기공원', 807), ('러브스토리', 1527), ('쥬라기월드', 240), ('스토리라인', 1993), ('카타르시스', 2901), ('영화배우들', 294), ('등장인물들', 2302), ('폭주기관차', 102), ('에스프레소', 158), ('막장드라마', 628), ('어린아이들', 280), ('차이나타운', 473), ('포카혼타스', 188), ('오케스트라', 353), ('비긴어게인', 682), ('에베레스트', 254), ('타임킬링용', 313), ('블랙리스트', 199), ('롤러코스터', 843), ('우주비행사', 106), ('당혹스러움', 101), ('당황스러움', 187), ('소아성애자', 127), ('프랜차이즈', 725), ('다이아몬드', 472), ('막장스토리', 104), ('처음부터끝', 132), ('서프라이즈', 634), ('버킷리스트', 380), ('아스가르드', 358), ('모건프리먼', 129), ('라스베가스', 162), ('슈왈제네거', 143), ('영화였던것', 111), ('보여주는것', 260), ('두시간동안', 406), ('제임스본드', 184), ('마을사람들', 143), ('민주화운동', 189), ('스트라이크', 119), ('아르헨티나', 148), ('비디오가게', 115), ('강남스타일', 122), ('터미네이터', 1421), ('생각해볼만', 211), ('라디오헤드', 128), ('스포츠영화', 337), ('피아니스트', 452), ('억지스러움', 546), ('나우유씨미', 144), ('아이디어들', 114), ('히어로무비', 369), ('아마데우스', 115), ('엘리자베스', 745), ('에즈라밀러', 125), ('필모그래피', 681), ('케미스트리', 172), ('한국영화계', 356), ('반지의제왕', 129), ('디스트릭트', 548), ('알모도바르', 264), ('맨오브스틸', 166), ('피츠제럴드', 118), ('성적대상화', 105), ('스티브카렐', 128), ('유머러스함', 235), ('아니라는것', 162), ('트와일라잇', 548), ('헤르미온느', 439), ('틸다스윈튼', 128), ('저예산영화', 114), ('어디까지인', 408), ('좋아하는것', 169), ('메리포핀스', 111), ('같다마지막', 115), ('드니빌뇌브', 121), ('아우슈비츠', 216), ('에피타이저', 186), ('로드리게즈', 156), ('시뮬레이션', 185), ('아이스크림', 352), ('인시디어스', 123), ('스트레이트', 166), ('안타깝기도', 113), ('마블영화중', 137), ('소크라테스', 107), ('스토리진행', 154), ('나탈리포트', 350), ('애니메이션', 20073), ('박스오피스', 135), ('머리스타일', 102), ('채닝테이텀', 231), ('시네마천국', 103), ('느껴질정도', 140), ('인간군상들', 113), ('클라이맥스', 801), ('산드라블록', 216), ('셰익스피어', 614), ('사랑스러움', 1848), ('레아세이두', 160), ('스토리텔링', 2287), ('필모그라피', 115), ('니콜키드먼', 400), ('미친연기력', 150), ('뮤직비디오', 1390), ('카사블랑카', 135), ('건축학개론', 347), ('로드리게스', 115), ('아나스타샤', 243), ('성공스토리', 125), ('애덤리바인', 132), ('레미제라블', 528), ('슬로우모션', 556), ('미녀와야수', 314), ('감동스토리', 125), ('리바이어던', 181), ('앙투아네트', 177), ('혼란스러움', 216), ('영화포스터', 141), ('스트레인지', 1148), ('자기계발서', 235), ('인터스텔라', 2303), ('아메리카노', 128), ('사람들끼리', 187), ('살아가는것', 116), ('다스베이더', 469), ('클레멘타인', 451), ('아오이유우', 296), ('남자배우들', 185), ('사무엘잭슨', 164), ('에니메이션', 579), ('홀로코스트', 490), ('잭스패로우', 184), ('마지막대사', 104), ('조디포스터', 167), ('할아버지들', 143), ('블랙위도우', 123), ('엔딩크래딧', 213), ('스티브잡스', 138), ('보통사람들', 134), ('고등학생들', 111), ('아이슬란드', 147), ('소울메이트', 192), ('월스트리트', 295), ('남녀주인공', 215), ('얼티메이텀', 169), ('그린그래스', 270), ('클라이막스', 1669), ('인크레더블', 186), ('아포칼립토', 229), ('살아가는데', 261), ('엑스트라들', 121), ('다이버전트', 149), ('핑거스미스', 315), ('분노의질주', 134), ('테러라이브', 110), ('것이다영화', 137), ('에반게리온', 563), ('카메라워킹', 214), ('택시운전사', 815), ('스토리전개', 786), ('에피소드들', 413), ('블랙코메디', 263), ('기대했던것', 228), ('에이브람스', 161), ('한국드라마', 156), ('어쩌다보니', 156), ('잭스나이더', 329), ('히어로영화', 480), ('소피마르소', 184), ('파이트클럽', 169), ('하드보일드', 635), ('명품배우들', 120), ('인피니티워', 357), ('스코틀랜드', 135), ('디즈니픽사', 237), ('남자주인공', 1562), ('토이스토리', 858), ('트라이앵글', 114), ('어바웃타임', 316), ('과속스캔들', 124), ('여자주인공', 1249), ('아이러니함', 310), ('주위사람들', 103), ('신선한소재', 153), ('안전불감증', 166), ('스타일리쉬', 1619), ('영화영상미', 153), ('조지클루니', 324), ('엔딩크레딧', 3630), ('마지막장면', 1117), ('드웨인존슨', 117), ('다드다리오', 113), ('헐리우드식', 386), ('마다가스카', 138), ('아쉬운부분', 116), ('섹스코미디', 103), ('검은사제들', 162), ('스파이더맨', 7113), ('트랜스젠더', 140), ('대동여지도', 117), ('헤어스타일', 220), ('성장스토리', 168), ('크리스토프', 224), ('주변사람들', 295), ('미니언즈들', 107), ('주연배우들', 468), ('많은사람들', 120), ('능청스러움', 165), ('외계생명체', 231), ('비닐하우스', 1002), ('애니매이션', 859), ('다크나이트', 2034), ('주변인물들', 219), ('알아봤어야', 115), ('크리스티나', 289), ('데미스키라', 105), ('히키코모리', 109), ('싱스트리트', 140), ('이야깃거리', 136), ('사이프리드', 716), ('가족드라마', 311), ('클로버필드', 538), ('스토리구성', 200), ('미셸공드리', 131), ('우에노주리', 114), ('터닝포인트', 165), ('미키마우스', 111), ('쇼생크탈출', 214), ('아담샌들러', 399), ('오드리햅번', 184), ('그린델왈드', 136), ('스테이츠맨', 159), ('눈요깃거리', 110), ('래드클리프', 209), ('미니멀리즘', 114), ('크리스파인', 433), ('프렌차이즈', 194), ('웨딩드레스', 190), ('한국영화중', 561), ('인챈트리스', 190), ('킬링타임용', 5917), ('생각했던것', 185), ('다큐멘터리', 2456), ('벗어나고자', 146), ('살아남기위', 111), ('캘리포니아', 132), ('타임루프물', 145), ('아드레날린', 292), ('영화마지막', 542), ('채식주의자', 126), ('조선명탐정', 315), ('자연스러움', 389), ('스타일리시', 382), ('박수쳐주고', 126), ('리들리스콧', 301), ('노미네이트', 111), ('생각할거리', 196), ('크리스프랫', 191), ('님포매니악', 113), ('다빈치코드', 159), ('안드로이드', 250), ('말레피센트', 474), ('아역배우들', 154), ('브라이오니', 288), ('카메라워크', 391), ('캐릭터설정', 132), ('리미트리스', 182), ('리플리컨트', 223), ('마지막부분', 207), ('메릴스트립', 315), ('한국영화들', 324), ('웃음포인트', 532), ('케이퍼무비', 242), ('공각기동대', 287), ('에이브럼스', 112), ('시간여행자', 171), ('에스메랄다', 158), ('러셀크로우', 210), ('아이덴티티', 740), ('멜로드라마', 283), ('섹슈얼리티', 120), ('고등학교때', 211), ('테크놀로지', 110), ('제인오스틴', 126), ('샤를리즈테론', 116), ('프로메테우스', 1147), ('스타크래프트', 145), ('셔터아일랜드', 117), ('케빈스페이시', 102), ('제니퍼로렌스', 508), ('부자연스러움', 166), ('케이트블란쳇', 262), ('드류베리모어', 110), ('타임패러독스', 112), ('라이언고슬링', 309), ('안젤리나졸리', 223), ('제이크질렌할', 326), ('이순신장군님', 128), ('언브레이커블', 280), ('스타일리쉬함', 163), ('소셜네트워크', 107), ('슈퍼히어로물', 264), ('워너브라더스', 121), ('스포트라이트', 251), ('인사이드아웃', 307), ('이완맥그리거', 108), ('크리스찬베일', 216), ('독립운동가들', 110), ('샌프란시스코', 109), ('캡틴아메리카', 394), ('오프닝시퀀스', 171), ('오리지널리티', 106), ('에디레드메인', 122), ('플레이리스트', 143), ('비디오테이프', 104), ('블록버스터급', 176), ('줄리아로버츠', 126), ('키아누리브스', 219), ('신촌아트레온', 108), ('스테레오타입', 229), ('일루미네이션', 423), ('오리엔탈리즘', 798), ('애니메이션계', 129), ('프랑켄슈타인', 101), ('조셉고든레빗', 158), ('그로테스크함', 145), ('로빈윌리엄스', 141), ('퍼스트어벤져', 101), ('블레이드러너', 184), ('케이트윈슬렛', 115), ('애니메이션중', 154), ('커뮤니케이션', 105), ('사랑하는사람', 123), ('러닝타임내내', 195), ('브래들리쿠퍼', 164), ('포레스트검프', 222), ('더테러라이브', 235), ('다크유니버스', 431), ('리틀포레스트', 118), ('베이비그루트', 132), ('이터널선샤인', 109), ('애니메이션들', 160), ('재패니메이션', 183), ('신카이마코토', 299), ('미션임파서블', 347), ('오션스일레븐', 121), ('인생영화라고', 127), ('라이언일병구', 129), ('에밀리블런트', 133), ('스칼렛요한슨', 361), ('브루스윌리스', 153), ('러브액츄얼리', 134), ('서울아트시네마', 134), ('애니메이션인데', 104), ('해리포터시리즈', 156), ('키이라나이틀리', 185), ('부산국제영화제', 134), ('엔터프라이즈호', 214), ('라이언레이놀즈', 117), ('레이첼맥아담스', 131), ('광주민주화운동', 108), ('아만다사이프리드', 113), ('클린트이스트우드', 148)])"
      ]
     },
     "execution_count": 142,
     "metadata": {},
     "output_type": "execute_result"
    }
   ],
   "source": [
    "nouns2.items()"
   ]
  },
  {
   "cell_type": "markdown",
   "metadata": {
    "collapsed": true
   },
   "source": [
    "S={}\n",
    "\n",
    "for w in nouns2:m\n",
    "    freq = list(nouns2[w])[0]\n",
    "    score = list(nouns2[w])[1]\n",
    "    r_score = list(nouns2[w])[2]\n",
    "    \n",
    "    s = freq*score*np.power(r_score,2)\n",
    "    \n",
    "    S[w] = s"
   ]
  },
  {
   "cell_type": "code",
   "execution_count": 144,
   "metadata": {
    "collapsed": true
   },
   "outputs": [],
   "source": [
    "filterd_nouns = sorted(nouns2.items(), key= lambda x : -x[1])"
   ]
  },
  {
   "cell_type": "code",
   "execution_count": 145,
   "metadata": {
    "collapsed": false
   },
   "outputs": [
    {
     "data": {
      "text/plain": [
       "[('사랑', 188994),\n",
       " ('스토리', 102529),\n",
       " ('느낌', 91373),\n",
       " ('감독', 88464),\n",
       " ('마지막', 76980),\n",
       " ('최고', 59493),\n",
       " ('자신', 53159),\n",
       " ('사람들', 52871),\n",
       " ('인생', 51485),\n",
       " ('음악', 51272),\n",
       " ('모습', 50861),\n",
       " ('소재', 50488),\n",
       " ('세상', 48685),\n",
       " ('배우들', 48621),\n",
       " ('결말', 47510),\n",
       " ('모두', 46176),\n",
       " ('때문', 46036),\n",
       " ('정도', 43077),\n",
       " ('원작', 40986),\n",
       " ('전개', 38063),\n",
       " ('그들', 37426),\n",
       " ('눈물', 36414),\n",
       " ('부분', 35087),\n",
       " ('반전', 33488),\n",
       " ('노래', 32880),\n",
       " ('시리즈', 32769),\n",
       " ('의미', 30757),\n",
       " ('완벽', 30746),\n",
       " ('그녀', 30666),\n",
       " ('그것', 29988)]"
      ]
     },
     "execution_count": 145,
     "metadata": {},
     "output_type": "execute_result"
    }
   ],
   "source": [
    "filterd_nouns[0:30]"
   ]
  },
  {
   "cell_type": "code",
   "execution_count": 147,
   "metadata": {
    "collapsed": true
   },
   "outputs": [],
   "source": [
    "reference = [n[0] for n in filterd_nouns]"
   ]
  },
  {
   "cell_type": "code",
   "execution_count": 148,
   "metadata": {
    "collapsed": false
   },
   "outputs": [
    {
     "data": {
      "text/plain": [
       "['사랑', '스토리', '느낌', '감독', '마지막', '최고', '자신', '사람들', '인생', '음악']"
      ]
     },
     "execution_count": 148,
     "metadata": {},
     "output_type": "execute_result"
    }
   ],
   "source": [
    "reference[0:10]"
   ]
  },
  {
   "cell_type": "code",
   "execution_count": 149,
   "metadata": {
    "collapsed": true
   },
   "outputs": [],
   "source": [
    "def transform(text,reference):\n",
    "    noun_text = []\n",
    "    for txt in tqdm_notebook(text):\n",
    "        sentence = txt.split()\n",
    "        new_sent=[]\n",
    "        for w in sentence:\n",
    "            T=[]\n",
    "            for i in range(1,len(w)+1):\n",
    "                T.append(w[:i])\n",
    "            candidate = [t for t in T if t in reference]\n",
    "            if len(candidate) > 1:\n",
    "                candidate = [candidate[0]]\n",
    "            nw = ' '.join(candidate)\n",
    "            if len(nw)>0:\n",
    "                new_sent.append(nw)                \n",
    "        noun_text.append(new_sent)\n",
    "    return noun_text"
   ]
  },
  {
   "cell_type": "code",
   "execution_count": 150,
   "metadata": {
    "collapsed": false
   },
   "outputs": [
    {
     "data": {
      "text/plain": [
       "(2965505, 7)"
      ]
     },
     "execution_count": 150,
     "metadata": {},
     "output_type": "execute_result"
    }
   ],
   "source": [
    "movie_rating.shape"
   ]
  },
  {
   "cell_type": "code",
   "execution_count": 155,
   "metadata": {
    "collapsed": false
   },
   "outputs": [
    {
     "data": {
      "text/html": [
       "<div>\n",
       "<style>\n",
       "    .dataframe thead tr:only-child th {\n",
       "        text-align: right;\n",
       "    }\n",
       "\n",
       "    .dataframe thead th {\n",
       "        text-align: left;\n",
       "    }\n",
       "\n",
       "    .dataframe tbody tr th {\n",
       "        vertical-align: top;\n",
       "    }\n",
       "</style>\n",
       "<table border=\"1\" class=\"dataframe\">\n",
       "  <thead>\n",
       "    <tr style=\"text-align: right;\">\n",
       "      <th></th>\n",
       "      <th>index</th>\n",
       "      <th>movie_title</th>\n",
       "      <th>rating</th>\n",
       "      <th>text</th>\n",
       "      <th>username</th>\n",
       "      <th>main_genre</th>\n",
       "      <th>new_text</th>\n",
       "    </tr>\n",
       "  </thead>\n",
       "  <tbody>\n",
       "    <tr>\n",
       "      <th>0</th>\n",
       "      <td>0</td>\n",
       "      <td>말타의 매</td>\n",
       "      <td>4.5</td>\n",
       "      <td>필름 누아르의 시작은 관객에 대한 배반이었다.\\n-\\n탐정 주인공 샘 스페이드. 그...</td>\n",
       "      <td>jose0</td>\n",
       "      <td>범죄</td>\n",
       "      <td>필름 누아르의 시작은 관객에 대한 배반이었다탐정 주인공 샘 스페이드 그 남자 흉폭하...</td>\n",
       "    </tr>\n",
       "    <tr>\n",
       "      <th>1</th>\n",
       "      <td>1</td>\n",
       "      <td>말타의 매</td>\n",
       "      <td>5.0</td>\n",
       "      <td>그 복잡한 내막을 단 한번도 막힘없이 술술 풀어나가는 존 휴스턴의 스토리텔링. 과연...</td>\n",
       "      <td>Eagleeye17</td>\n",
       "      <td>범죄</td>\n",
       "      <td>그 복잡한 내막을 단 한번도 막힘없이 술술 풀어나가는 존 휴스턴의 스토리텔링 과연 ...</td>\n",
       "    </tr>\n",
       "    <tr>\n",
       "      <th>2</th>\n",
       "      <td>2</td>\n",
       "      <td>말타의 매</td>\n",
       "      <td>4.0</td>\n",
       "      <td>내 이름은 험프리 보카트.\\n탐정이죠.</td>\n",
       "      <td>sorom</td>\n",
       "      <td>범죄</td>\n",
       "      <td>내 이름은 험프리 보카트탐정이죠</td>\n",
       "    </tr>\n",
       "    <tr>\n",
       "      <th>3</th>\n",
       "      <td>3</td>\n",
       "      <td>말타의 매</td>\n",
       "      <td>4.0</td>\n",
       "      <td>허무와 냉소의 수많은 검은 영화들은 검디검은 매를 타고 칠흑같이 어두운 도시의 밤에...</td>\n",
       "      <td>박진효</td>\n",
       "      <td>범죄</td>\n",
       "      <td>허무와 냉소의 수많은 검은 영화들은 검디검은 매를 타고 칠흑같이 어두운 도시의 밤에...</td>\n",
       "    </tr>\n",
       "    <tr>\n",
       "      <th>4</th>\n",
       "      <td>4</td>\n",
       "      <td>말타의 매</td>\n",
       "      <td>3.5</td>\n",
       "      <td>고전적 Film Noir가 무엇인지 알고 싶다면 이 영화를 보는 것도 나쁘지 않아요!</td>\n",
       "      <td>moviemon94</td>\n",
       "      <td>범죄</td>\n",
       "      <td>고전적 가 무엇인지 알고 싶다면 이 영화를 보는 것도 나쁘지 않아요</td>\n",
       "    </tr>\n",
       "  </tbody>\n",
       "</table>\n",
       "</div>"
      ],
      "text/plain": [
       "   index movie_title  rating  \\\n",
       "0      0       말타의 매     4.5   \n",
       "1      1       말타의 매     5.0   \n",
       "2      2       말타의 매     4.0   \n",
       "3      3       말타의 매     4.0   \n",
       "4      4       말타의 매     3.5   \n",
       "\n",
       "                                                text    username main_genre  \\\n",
       "0  필름 누아르의 시작은 관객에 대한 배반이었다.\\n-\\n탐정 주인공 샘 스페이드. 그...       jose0         범죄   \n",
       "1  그 복잡한 내막을 단 한번도 막힘없이 술술 풀어나가는 존 휴스턴의 스토리텔링. 과연...  Eagleeye17         범죄   \n",
       "2                              내 이름은 험프리 보카트.\\n탐정이죠.       sorom         범죄   \n",
       "3  허무와 냉소의 수많은 검은 영화들은 검디검은 매를 타고 칠흑같이 어두운 도시의 밤에...         박진효         범죄   \n",
       "4    고전적 Film Noir가 무엇인지 알고 싶다면 이 영화를 보는 것도 나쁘지 않아요!  moviemon94         범죄   \n",
       "\n",
       "                                            new_text  \n",
       "0  필름 누아르의 시작은 관객에 대한 배반이었다탐정 주인공 샘 스페이드 그 남자 흉폭하...  \n",
       "1  그 복잡한 내막을 단 한번도 막힘없이 술술 풀어나가는 존 휴스턴의 스토리텔링 과연 ...  \n",
       "2                                  내 이름은 험프리 보카트탐정이죠  \n",
       "3  허무와 냉소의 수많은 검은 영화들은 검디검은 매를 타고 칠흑같이 어두운 도시의 밤에...  \n",
       "4              고전적 가 무엇인지 알고 싶다면 이 영화를 보는 것도 나쁘지 않아요  "
      ]
     },
     "execution_count": 155,
     "metadata": {},
     "output_type": "execute_result"
    }
   ],
   "source": [
    "movie_rating.head()"
   ]
  },
  {
   "cell_type": "code",
   "execution_count": 158,
   "metadata": {
    "collapsed": false
   },
   "outputs": [
    {
     "name": "stdout",
     "output_type": "stream",
     "text": [
      "<class 'pandas.core.frame.DataFrame'>\n",
      "RangeIndex: 2965505 entries, 0 to 2965504\n",
      "Data columns (total 7 columns):\n",
      "index          int64\n",
      "movie_title    object\n",
      "rating         float64\n",
      "text           object\n",
      "username       object\n",
      "main_genre     object\n",
      "new_text       object\n",
      "dtypes: float64(1), int64(1), object(5)\n",
      "memory usage: 158.4+ MB\n"
     ]
    }
   ],
   "source": [
    "movie_rating.info()"
   ]
  },
  {
   "cell_type": "code",
   "execution_count": 171,
   "metadata": {
    "collapsed": false
   },
   "outputs": [
    {
     "data": {
      "text/html": [
       "<div>\n",
       "<style>\n",
       "    .dataframe thead tr:only-child th {\n",
       "        text-align: right;\n",
       "    }\n",
       "\n",
       "    .dataframe thead th {\n",
       "        text-align: left;\n",
       "    }\n",
       "\n",
       "    .dataframe tbody tr th {\n",
       "        vertical-align: top;\n",
       "    }\n",
       "</style>\n",
       "<table border=\"1\" class=\"dataframe\">\n",
       "  <thead>\n",
       "    <tr style=\"text-align: right;\">\n",
       "      <th></th>\n",
       "      <th>index</th>\n",
       "      <th>movie_title</th>\n",
       "      <th>text</th>\n",
       "      <th>username</th>\n",
       "      <th>main_genre</th>\n",
       "      <th>new_text</th>\n",
       "    </tr>\n",
       "    <tr>\n",
       "      <th>rating</th>\n",
       "      <th></th>\n",
       "      <th></th>\n",
       "      <th></th>\n",
       "      <th></th>\n",
       "      <th></th>\n",
       "      <th></th>\n",
       "    </tr>\n",
       "  </thead>\n",
       "  <tbody>\n",
       "    <tr>\n",
       "      <th>0.5</th>\n",
       "      <td>45346</td>\n",
       "      <td>45346</td>\n",
       "      <td>45346</td>\n",
       "      <td>45346</td>\n",
       "      <td>45331</td>\n",
       "      <td>45346</td>\n",
       "    </tr>\n",
       "    <tr>\n",
       "      <th>1.0</th>\n",
       "      <td>57877</td>\n",
       "      <td>57877</td>\n",
       "      <td>57877</td>\n",
       "      <td>57877</td>\n",
       "      <td>57858</td>\n",
       "      <td>57877</td>\n",
       "    </tr>\n",
       "    <tr>\n",
       "      <th>1.5</th>\n",
       "      <td>64940</td>\n",
       "      <td>64940</td>\n",
       "      <td>64940</td>\n",
       "      <td>64940</td>\n",
       "      <td>64920</td>\n",
       "      <td>64940</td>\n",
       "    </tr>\n",
       "    <tr>\n",
       "      <th>2.0</th>\n",
       "      <td>166193</td>\n",
       "      <td>166193</td>\n",
       "      <td>166193</td>\n",
       "      <td>166193</td>\n",
       "      <td>166125</td>\n",
       "      <td>166193</td>\n",
       "    </tr>\n",
       "    <tr>\n",
       "      <th>2.5</th>\n",
       "      <td>214687</td>\n",
       "      <td>214687</td>\n",
       "      <td>214687</td>\n",
       "      <td>214687</td>\n",
       "      <td>214554</td>\n",
       "      <td>214687</td>\n",
       "    </tr>\n",
       "    <tr>\n",
       "      <th>3.0</th>\n",
       "      <td>462412</td>\n",
       "      <td>462412</td>\n",
       "      <td>462412</td>\n",
       "      <td>462412</td>\n",
       "      <td>461908</td>\n",
       "      <td>462412</td>\n",
       "    </tr>\n",
       "    <tr>\n",
       "      <th>3.5</th>\n",
       "      <td>545739</td>\n",
       "      <td>545739</td>\n",
       "      <td>545739</td>\n",
       "      <td>545739</td>\n",
       "      <td>544313</td>\n",
       "      <td>545739</td>\n",
       "    </tr>\n",
       "    <tr>\n",
       "      <th>4.0</th>\n",
       "      <td>703811</td>\n",
       "      <td>703811</td>\n",
       "      <td>703811</td>\n",
       "      <td>703811</td>\n",
       "      <td>700710</td>\n",
       "      <td>703811</td>\n",
       "    </tr>\n",
       "    <tr>\n",
       "      <th>4.5</th>\n",
       "      <td>335862</td>\n",
       "      <td>335862</td>\n",
       "      <td>335862</td>\n",
       "      <td>335862</td>\n",
       "      <td>333568</td>\n",
       "      <td>335862</td>\n",
       "    </tr>\n",
       "    <tr>\n",
       "      <th>5.0</th>\n",
       "      <td>368638</td>\n",
       "      <td>368638</td>\n",
       "      <td>368638</td>\n",
       "      <td>368638</td>\n",
       "      <td>366877</td>\n",
       "      <td>368638</td>\n",
       "    </tr>\n",
       "  </tbody>\n",
       "</table>\n",
       "</div>"
      ],
      "text/plain": [
       "         index  movie_title    text  username  main_genre  new_text\n",
       "rating                                                             \n",
       "0.5      45346        45346   45346     45346       45331     45346\n",
       "1.0      57877        57877   57877     57877       57858     57877\n",
       "1.5      64940        64940   64940     64940       64920     64940\n",
       "2.0     166193       166193  166193    166193      166125    166193\n",
       "2.5     214687       214687  214687    214687      214554    214687\n",
       "3.0     462412       462412  462412    462412      461908    462412\n",
       "3.5     545739       545739  545739    545739      544313    545739\n",
       "4.0     703811       703811  703811    703811      700710    703811\n",
       "4.5     335862       335862  335862    335862      333568    335862\n",
       "5.0     368638       368638  368638    368638      366877    368638"
      ]
     },
     "execution_count": 171,
     "metadata": {},
     "output_type": "execute_result"
    }
   ],
   "source": [
    "movie_rating.groupby('rating').count()\n"
   ]
  },
  {
   "cell_type": "code",
   "execution_count": 165,
   "metadata": {
    "collapsed": true
   },
   "outputs": [],
   "source": [
    "#평점, 장르별 갯수를 파악하자\n",
    "p_t = movie_rating.pivot_table(index = {'main_genre'}, columns = 'rating',aggfunc = {'rating':'count'})\n",
    "\n",
    "\n",
    "#t3 = t2.pivot_table(index = {'통합시설코드','중계기_명'}, columns = '중계기_상태', \n",
    "#                        aggfunc = {'중계기_상태':'count'}).fillna(0).reset_index() "
   ]
  },
  {
   "cell_type": "code",
   "execution_count": 181,
   "metadata": {
    "collapsed": true
   },
   "outputs": [],
   "source": [
    "ratio = p_t['rating'].columns.tolist()"
   ]
  },
  {
   "cell_type": "code",
   "execution_count": 167,
   "metadata": {
    "collapsed": true
   },
   "outputs": [],
   "source": [
    "sample_n =  min(p_t.sum(axis=0))"
   ]
  },
  {
   "cell_type": "code",
   "execution_count": 168,
   "metadata": {
    "collapsed": false
   },
   "outputs": [
    {
     "data": {
      "text/plain": [
       "45331.0"
      ]
     },
     "execution_count": 168,
     "metadata": {},
     "output_type": "execute_result"
    }
   ],
   "source": [
    "#최대한 할 수 있는 sample수는...\n",
    "sample_n"
   ]
  },
  {
   "cell_type": "code",
   "execution_count": 182,
   "metadata": {
    "collapsed": true
   },
   "outputs": [],
   "source": [
    "sample_rating = pd.DataFrame([])\n",
    "#pd.sa"
   ]
  },
  {
   "cell_type": "code",
   "execution_count": 183,
   "metadata": {
    "collapsed": true
   },
   "outputs": [],
   "source": [
    "sample_rating =[movie_rating.query('rating == {}'.format(r)).sample(10000, replace= False) for r in ratio]"
   ]
  },
  {
   "cell_type": "code",
   "execution_count": 189,
   "metadata": {
    "collapsed": true
   },
   "outputs": [],
   "source": [
    "sample_rating = pd.concat(sample_rating, axis =0)"
   ]
  },
  {
   "cell_type": "code",
   "execution_count": 190,
   "metadata": {
    "collapsed": false
   },
   "outputs": [
    {
     "data": {
      "text/html": [
       "<div>\n",
       "<style>\n",
       "    .dataframe thead tr:only-child th {\n",
       "        text-align: right;\n",
       "    }\n",
       "\n",
       "    .dataframe thead th {\n",
       "        text-align: left;\n",
       "    }\n",
       "\n",
       "    .dataframe tbody tr th {\n",
       "        vertical-align: top;\n",
       "    }\n",
       "</style>\n",
       "<table border=\"1\" class=\"dataframe\">\n",
       "  <thead>\n",
       "    <tr style=\"text-align: right;\">\n",
       "      <th></th>\n",
       "      <th>index</th>\n",
       "      <th>movie_title</th>\n",
       "      <th>text</th>\n",
       "      <th>username</th>\n",
       "      <th>main_genre</th>\n",
       "      <th>new_text</th>\n",
       "    </tr>\n",
       "    <tr>\n",
       "      <th>rating</th>\n",
       "      <th></th>\n",
       "      <th></th>\n",
       "      <th></th>\n",
       "      <th></th>\n",
       "      <th></th>\n",
       "      <th></th>\n",
       "    </tr>\n",
       "  </thead>\n",
       "  <tbody>\n",
       "    <tr>\n",
       "      <th>0.5</th>\n",
       "      <td>10000</td>\n",
       "      <td>10000</td>\n",
       "      <td>10000</td>\n",
       "      <td>10000</td>\n",
       "      <td>9995</td>\n",
       "      <td>10000</td>\n",
       "    </tr>\n",
       "    <tr>\n",
       "      <th>1.0</th>\n",
       "      <td>10000</td>\n",
       "      <td>10000</td>\n",
       "      <td>10000</td>\n",
       "      <td>10000</td>\n",
       "      <td>9998</td>\n",
       "      <td>10000</td>\n",
       "    </tr>\n",
       "    <tr>\n",
       "      <th>1.5</th>\n",
       "      <td>10000</td>\n",
       "      <td>10000</td>\n",
       "      <td>10000</td>\n",
       "      <td>10000</td>\n",
       "      <td>10000</td>\n",
       "      <td>10000</td>\n",
       "    </tr>\n",
       "    <tr>\n",
       "      <th>2.0</th>\n",
       "      <td>10000</td>\n",
       "      <td>10000</td>\n",
       "      <td>10000</td>\n",
       "      <td>10000</td>\n",
       "      <td>9998</td>\n",
       "      <td>10000</td>\n",
       "    </tr>\n",
       "    <tr>\n",
       "      <th>2.5</th>\n",
       "      <td>10000</td>\n",
       "      <td>10000</td>\n",
       "      <td>10000</td>\n",
       "      <td>10000</td>\n",
       "      <td>9994</td>\n",
       "      <td>10000</td>\n",
       "    </tr>\n",
       "    <tr>\n",
       "      <th>3.0</th>\n",
       "      <td>10000</td>\n",
       "      <td>10000</td>\n",
       "      <td>10000</td>\n",
       "      <td>10000</td>\n",
       "      <td>9994</td>\n",
       "      <td>10000</td>\n",
       "    </tr>\n",
       "    <tr>\n",
       "      <th>3.5</th>\n",
       "      <td>10000</td>\n",
       "      <td>10000</td>\n",
       "      <td>10000</td>\n",
       "      <td>10000</td>\n",
       "      <td>9989</td>\n",
       "      <td>10000</td>\n",
       "    </tr>\n",
       "    <tr>\n",
       "      <th>4.0</th>\n",
       "      <td>10000</td>\n",
       "      <td>10000</td>\n",
       "      <td>10000</td>\n",
       "      <td>10000</td>\n",
       "      <td>9952</td>\n",
       "      <td>10000</td>\n",
       "    </tr>\n",
       "    <tr>\n",
       "      <th>4.5</th>\n",
       "      <td>10000</td>\n",
       "      <td>10000</td>\n",
       "      <td>10000</td>\n",
       "      <td>10000</td>\n",
       "      <td>9932</td>\n",
       "      <td>10000</td>\n",
       "    </tr>\n",
       "    <tr>\n",
       "      <th>5.0</th>\n",
       "      <td>10000</td>\n",
       "      <td>10000</td>\n",
       "      <td>10000</td>\n",
       "      <td>10000</td>\n",
       "      <td>9955</td>\n",
       "      <td>10000</td>\n",
       "    </tr>\n",
       "  </tbody>\n",
       "</table>\n",
       "</div>"
      ],
      "text/plain": [
       "        index  movie_title   text  username  main_genre  new_text\n",
       "rating                                                           \n",
       "0.5     10000        10000  10000     10000        9995     10000\n",
       "1.0     10000        10000  10000     10000        9998     10000\n",
       "1.5     10000        10000  10000     10000       10000     10000\n",
       "2.0     10000        10000  10000     10000        9998     10000\n",
       "2.5     10000        10000  10000     10000        9994     10000\n",
       "3.0     10000        10000  10000     10000        9994     10000\n",
       "3.5     10000        10000  10000     10000        9989     10000\n",
       "4.0     10000        10000  10000     10000        9952     10000\n",
       "4.5     10000        10000  10000     10000        9932     10000\n",
       "5.0     10000        10000  10000     10000        9955     10000"
      ]
     },
     "execution_count": 190,
     "metadata": {},
     "output_type": "execute_result"
    }
   ],
   "source": [
    "sample_rating.groupby('rating').count()\n"
   ]
  },
  {
   "cell_type": "code",
   "execution_count": 194,
   "metadata": {
    "collapsed": false
   },
   "outputs": [
    {
     "data": {
      "text/plain": [
       "index            0\n",
       "movie_title      0\n",
       "rating           0\n",
       "text             0\n",
       "username         0\n",
       "main_genre     193\n",
       "new_text         0\n",
       "dtype: int64"
      ]
     },
     "execution_count": 194,
     "metadata": {},
     "output_type": "execute_result"
    }
   ],
   "source": [
    "sample_rating.isnull().sum()"
   ]
  },
  {
   "cell_type": "code",
   "execution_count": 195,
   "metadata": {
    "collapsed": true
   },
   "outputs": [],
   "source": [
    "sample_rating.dropna(inplace=True)"
   ]
  },
  {
   "cell_type": "code",
   "execution_count": 196,
   "metadata": {
    "collapsed": false
   },
   "outputs": [
    {
     "data": {
      "text/html": [
       "<div>\n",
       "<style>\n",
       "    .dataframe thead tr:only-child th {\n",
       "        text-align: right;\n",
       "    }\n",
       "\n",
       "    .dataframe thead th {\n",
       "        text-align: left;\n",
       "    }\n",
       "\n",
       "    .dataframe tbody tr th {\n",
       "        vertical-align: top;\n",
       "    }\n",
       "</style>\n",
       "<table border=\"1\" class=\"dataframe\">\n",
       "  <thead>\n",
       "    <tr style=\"text-align: right;\">\n",
       "      <th></th>\n",
       "      <th>index</th>\n",
       "      <th>movie_title</th>\n",
       "      <th>text</th>\n",
       "      <th>username</th>\n",
       "      <th>main_genre</th>\n",
       "      <th>new_text</th>\n",
       "    </tr>\n",
       "    <tr>\n",
       "      <th>rating</th>\n",
       "      <th></th>\n",
       "      <th></th>\n",
       "      <th></th>\n",
       "      <th></th>\n",
       "      <th></th>\n",
       "      <th></th>\n",
       "    </tr>\n",
       "  </thead>\n",
       "  <tbody>\n",
       "    <tr>\n",
       "      <th>0.5</th>\n",
       "      <td>9995</td>\n",
       "      <td>9995</td>\n",
       "      <td>9995</td>\n",
       "      <td>9995</td>\n",
       "      <td>9995</td>\n",
       "      <td>9995</td>\n",
       "    </tr>\n",
       "    <tr>\n",
       "      <th>1.0</th>\n",
       "      <td>9998</td>\n",
       "      <td>9998</td>\n",
       "      <td>9998</td>\n",
       "      <td>9998</td>\n",
       "      <td>9998</td>\n",
       "      <td>9998</td>\n",
       "    </tr>\n",
       "    <tr>\n",
       "      <th>1.5</th>\n",
       "      <td>10000</td>\n",
       "      <td>10000</td>\n",
       "      <td>10000</td>\n",
       "      <td>10000</td>\n",
       "      <td>10000</td>\n",
       "      <td>10000</td>\n",
       "    </tr>\n",
       "    <tr>\n",
       "      <th>2.0</th>\n",
       "      <td>9998</td>\n",
       "      <td>9998</td>\n",
       "      <td>9998</td>\n",
       "      <td>9998</td>\n",
       "      <td>9998</td>\n",
       "      <td>9998</td>\n",
       "    </tr>\n",
       "    <tr>\n",
       "      <th>2.5</th>\n",
       "      <td>9994</td>\n",
       "      <td>9994</td>\n",
       "      <td>9994</td>\n",
       "      <td>9994</td>\n",
       "      <td>9994</td>\n",
       "      <td>9994</td>\n",
       "    </tr>\n",
       "    <tr>\n",
       "      <th>3.0</th>\n",
       "      <td>9994</td>\n",
       "      <td>9994</td>\n",
       "      <td>9994</td>\n",
       "      <td>9994</td>\n",
       "      <td>9994</td>\n",
       "      <td>9994</td>\n",
       "    </tr>\n",
       "    <tr>\n",
       "      <th>3.5</th>\n",
       "      <td>9989</td>\n",
       "      <td>9989</td>\n",
       "      <td>9989</td>\n",
       "      <td>9989</td>\n",
       "      <td>9989</td>\n",
       "      <td>9989</td>\n",
       "    </tr>\n",
       "    <tr>\n",
       "      <th>4.0</th>\n",
       "      <td>9952</td>\n",
       "      <td>9952</td>\n",
       "      <td>9952</td>\n",
       "      <td>9952</td>\n",
       "      <td>9952</td>\n",
       "      <td>9952</td>\n",
       "    </tr>\n",
       "    <tr>\n",
       "      <th>4.5</th>\n",
       "      <td>9932</td>\n",
       "      <td>9932</td>\n",
       "      <td>9932</td>\n",
       "      <td>9932</td>\n",
       "      <td>9932</td>\n",
       "      <td>9932</td>\n",
       "    </tr>\n",
       "    <tr>\n",
       "      <th>5.0</th>\n",
       "      <td>9955</td>\n",
       "      <td>9955</td>\n",
       "      <td>9955</td>\n",
       "      <td>9955</td>\n",
       "      <td>9955</td>\n",
       "      <td>9955</td>\n",
       "    </tr>\n",
       "  </tbody>\n",
       "</table>\n",
       "</div>"
      ],
      "text/plain": [
       "        index  movie_title   text  username  main_genre  new_text\n",
       "rating                                                           \n",
       "0.5      9995         9995   9995      9995        9995      9995\n",
       "1.0      9998         9998   9998      9998        9998      9998\n",
       "1.5     10000        10000  10000     10000       10000     10000\n",
       "2.0      9998         9998   9998      9998        9998      9998\n",
       "2.5      9994         9994   9994      9994        9994      9994\n",
       "3.0      9994         9994   9994      9994        9994      9994\n",
       "3.5      9989         9989   9989      9989        9989      9989\n",
       "4.0      9952         9952   9952      9952        9952      9952\n",
       "4.5      9932         9932   9932      9932        9932      9932\n",
       "5.0      9955         9955   9955      9955        9955      9955"
      ]
     },
     "execution_count": 196,
     "metadata": {},
     "output_type": "execute_result"
    }
   ],
   "source": [
    "sample_rating.groupby('rating').count()\n"
   ]
  },
  {
   "cell_type": "code",
   "execution_count": 197,
   "metadata": {
    "collapsed": false
   },
   "outputs": [
    {
     "data": {
      "text/html": [
       "<div>\n",
       "<style>\n",
       "    .dataframe thead tr:only-child th {\n",
       "        text-align: right;\n",
       "    }\n",
       "\n",
       "    .dataframe thead th {\n",
       "        text-align: left;\n",
       "    }\n",
       "\n",
       "    .dataframe tbody tr th {\n",
       "        vertical-align: top;\n",
       "    }\n",
       "</style>\n",
       "<table border=\"1\" class=\"dataframe\">\n",
       "  <thead>\n",
       "    <tr style=\"text-align: right;\">\n",
       "      <th></th>\n",
       "      <th>index</th>\n",
       "      <th>movie_title</th>\n",
       "      <th>rating</th>\n",
       "      <th>text</th>\n",
       "      <th>username</th>\n",
       "      <th>main_genre</th>\n",
       "      <th>new_text</th>\n",
       "    </tr>\n",
       "  </thead>\n",
       "  <tbody>\n",
       "    <tr>\n",
       "      <th>1838389</th>\n",
       "      <td>2159143</td>\n",
       "      <td>염력</td>\n",
       "      <td>0.5</td>\n",
       "      <td>아 돈아까워, 코미디 아니라 발암 장르</td>\n",
       "      <td>박선정</td>\n",
       "      <td>드라마</td>\n",
       "      <td>아 돈아까워 코미디 아니라 발암 장르</td>\n",
       "    </tr>\n",
       "    <tr>\n",
       "      <th>491270</th>\n",
       "      <td>577650</td>\n",
       "      <td>극적인 하룻밤</td>\n",
       "      <td>0.5</td>\n",
       "      <td>차라리 커피 한잔을 마셧덩 것이 좋았을 것 같다.\\n \\n#영화를보자 #20151224</td>\n",
       "      <td>웃는토끼</td>\n",
       "      <td>로맨스/멜로</td>\n",
       "      <td>차라리 커피 한잔을 마셧덩 것이 좋았을 것 같다 영화를보자</td>\n",
       "    </tr>\n",
       "    <tr>\n",
       "      <th>1426222</th>\n",
       "      <td>1675635</td>\n",
       "      <td>지.아이.조 - 전쟁의 서막</td>\n",
       "      <td>0.5</td>\n",
       "      <td>주인공들 씹어먹는 이병헌과 조고래.</td>\n",
       "      <td>8848</td>\n",
       "      <td>액션</td>\n",
       "      <td>주인공들 씹어먹는 이병헌과 조고래</td>\n",
       "    </tr>\n",
       "    <tr>\n",
       "      <th>1640233</th>\n",
       "      <td>1924952</td>\n",
       "      <td>비밀</td>\n",
       "      <td>0.5</td>\n",
       "      <td>최악이다. 연기마저 못하는 것 같다.</td>\n",
       "      <td>이세훈</td>\n",
       "      <td>로맨스/멜로</td>\n",
       "      <td>최악이다 연기마저 못하는 것 같다</td>\n",
       "    </tr>\n",
       "    <tr>\n",
       "      <th>2488262</th>\n",
       "      <td>2921685</td>\n",
       "      <td>오만과 편견</td>\n",
       "      <td>0.5</td>\n",
       "      <td>사랑 때문에 결국 나를 잃는구나.</td>\n",
       "      <td>B170_2</td>\n",
       "      <td>로맨스/멜로</td>\n",
       "      <td>사랑 때문에 결국 나를 잃는구나</td>\n",
       "    </tr>\n",
       "  </tbody>\n",
       "</table>\n",
       "</div>"
      ],
      "text/plain": [
       "           index      movie_title  rating  \\\n",
       "1838389  2159143               염력     0.5   \n",
       "491270    577650          극적인 하룻밤     0.5   \n",
       "1426222  1675635  지.아이.조 - 전쟁의 서막     0.5   \n",
       "1640233  1924952               비밀     0.5   \n",
       "2488262  2921685           오만과 편견     0.5   \n",
       "\n",
       "                                                     text username main_genre  \\\n",
       "1838389                             아 돈아까워, 코미디 아니라 발암 장르      박선정        드라마   \n",
       "491270   차라리 커피 한잔을 마셧덩 것이 좋았을 것 같다.\\n \\n#영화를보자 #20151224     웃는토끼     로맨스/멜로   \n",
       "1426222                               주인공들 씹어먹는 이병헌과 조고래.     8848         액션   \n",
       "1640233                              최악이다. 연기마저 못하는 것 같다.      이세훈     로맨스/멜로   \n",
       "2488262                                사랑 때문에 결국 나를 잃는구나.   B170_2     로맨스/멜로   \n",
       "\n",
       "                                 new_text  \n",
       "1838389              아 돈아까워 코미디 아니라 발암 장르  \n",
       "491270   차라리 커피 한잔을 마셧덩 것이 좋았을 것 같다 영화를보자  \n",
       "1426222                주인공들 씹어먹는 이병헌과 조고래  \n",
       "1640233                최악이다 연기마저 못하는 것 같다  \n",
       "2488262                 사랑 때문에 결국 나를 잃는구나  "
      ]
     },
     "execution_count": 197,
     "metadata": {},
     "output_type": "execute_result"
    }
   ],
   "source": [
    "sample_rating.head()"
   ]
  },
  {
   "cell_type": "code",
   "execution_count": 199,
   "metadata": {
    "collapsed": false
   },
   "outputs": [
    {
     "data": {
      "application/vnd.jupyter.widget-view+json": {
       "model_id": "48f9ce731b574b1d912a3386e2b559b1"
      }
     },
     "metadata": {},
     "output_type": "display_data"
    }
   ],
   "source": [
    "#시간이 많이 걸린다.\n",
    "sample_rating['filtered_nouns'] = transform(sample_rating['new_text'].values, reference=reference)"
   ]
  },
  {
   "cell_type": "code",
   "execution_count": 221,
   "metadata": {
    "collapsed": false
   },
   "outputs": [
    {
     "data": {
      "text/html": [
       "<div>\n",
       "<style>\n",
       "    .dataframe thead tr:only-child th {\n",
       "        text-align: right;\n",
       "    }\n",
       "\n",
       "    .dataframe thead th {\n",
       "        text-align: left;\n",
       "    }\n",
       "\n",
       "    .dataframe tbody tr th {\n",
       "        vertical-align: top;\n",
       "    }\n",
       "</style>\n",
       "<table border=\"1\" class=\"dataframe\">\n",
       "  <thead>\n",
       "    <tr style=\"text-align: right;\">\n",
       "      <th></th>\n",
       "      <th>index</th>\n",
       "      <th>movie_title</th>\n",
       "      <th>rating</th>\n",
       "      <th>text</th>\n",
       "      <th>username</th>\n",
       "      <th>main_genre</th>\n",
       "      <th>new_text</th>\n",
       "      <th>filtered_nouns</th>\n",
       "    </tr>\n",
       "  </thead>\n",
       "  <tbody>\n",
       "    <tr>\n",
       "      <th>1838389</th>\n",
       "      <td>2159143</td>\n",
       "      <td>염력</td>\n",
       "      <td>0.5</td>\n",
       "      <td>아 돈아까워, 코미디 아니라 발암 장르</td>\n",
       "      <td>박선정</td>\n",
       "      <td>드라마</td>\n",
       "      <td>아 돈아까워 코미디 아니라 발암 장르</td>\n",
       "      <td>[]</td>\n",
       "    </tr>\n",
       "    <tr>\n",
       "      <th>491270</th>\n",
       "      <td>577650</td>\n",
       "      <td>극적인 하룻밤</td>\n",
       "      <td>0.5</td>\n",
       "      <td>차라리 커피 한잔을 마셧덩 것이 좋았을 것 같다.\\n \\n#영화를보자 #20151224</td>\n",
       "      <td>웃는토끼</td>\n",
       "      <td>로맨스/멜로</td>\n",
       "      <td>차라리 커피 한잔을 마셧덩 것이 좋았을 것 같다 영화를보자</td>\n",
       "      <td>[한잔]</td>\n",
       "    </tr>\n",
       "    <tr>\n",
       "      <th>1426222</th>\n",
       "      <td>1675635</td>\n",
       "      <td>지.아이.조 - 전쟁의 서막</td>\n",
       "      <td>0.5</td>\n",
       "      <td>주인공들 씹어먹는 이병헌과 조고래.</td>\n",
       "      <td>8848</td>\n",
       "      <td>액션</td>\n",
       "      <td>주인공들 씹어먹는 이병헌과 조고래</td>\n",
       "      <td>[주인공들, 이병헌]</td>\n",
       "    </tr>\n",
       "    <tr>\n",
       "      <th>1640233</th>\n",
       "      <td>1924952</td>\n",
       "      <td>비밀</td>\n",
       "      <td>0.5</td>\n",
       "      <td>최악이다. 연기마저 못하는 것 같다.</td>\n",
       "      <td>이세훈</td>\n",
       "      <td>로맨스/멜로</td>\n",
       "      <td>최악이다 연기마저 못하는 것 같다</td>\n",
       "      <td>[최악]</td>\n",
       "    </tr>\n",
       "    <tr>\n",
       "      <th>2488262</th>\n",
       "      <td>2921685</td>\n",
       "      <td>오만과 편견</td>\n",
       "      <td>0.5</td>\n",
       "      <td>사랑 때문에 결국 나를 잃는구나.</td>\n",
       "      <td>B170_2</td>\n",
       "      <td>로맨스/멜로</td>\n",
       "      <td>사랑 때문에 결국 나를 잃는구나</td>\n",
       "      <td>[사랑, 때문]</td>\n",
       "    </tr>\n",
       "    <tr>\n",
       "      <th>2043708</th>\n",
       "      <td>2400725</td>\n",
       "      <td>깡철이</td>\n",
       "      <td>0.5</td>\n",
       "      <td>영화에 대해 알지 못하지만 이건 아니다</td>\n",
       "      <td>용솽</td>\n",
       "      <td>드라마</td>\n",
       "      <td>영화에 대해 알지 못하지만 이건 아니다</td>\n",
       "      <td>[]</td>\n",
       "    </tr>\n",
       "    <tr>\n",
       "      <th>642797</th>\n",
       "      <td>756440</td>\n",
       "      <td>순수의 시대</td>\n",
       "      <td>0.5</td>\n",
       "      <td>하균님 당신은 대체 왜ㅜㅜㅜㅜㅜㅜㅜㅜㅜ 취중계약이라도 하신 건가요ㅜㅜㅜㅜ</td>\n",
       "      <td>최수빈</td>\n",
       "      <td>로맨스/멜로</td>\n",
       "      <td>하균님 당신은 대체 왜ㅜㅜㅜㅜㅜㅜㅜㅜㅜ 취중계약이라도 하신 건가요ㅜㅜㅜㅜ</td>\n",
       "      <td>[당신]</td>\n",
       "    </tr>\n",
       "    <tr>\n",
       "      <th>2367059</th>\n",
       "      <td>2780409</td>\n",
       "      <td>B형 남자친구</td>\n",
       "      <td>0.5</td>\n",
       "      <td>혈액형드립부터가 패망</td>\n",
       "      <td>농농</td>\n",
       "      <td>로맨틱 코미디</td>\n",
       "      <td>혈액형드립부터가 패망</td>\n",
       "      <td>[]</td>\n",
       "    </tr>\n",
       "    <tr>\n",
       "      <th>2827254</th>\n",
       "      <td>3320684</td>\n",
       "      <td>파리에서의 마지막 탱고</td>\n",
       "      <td>0.5</td>\n",
       "      <td>오늘은 당신을 사랑한다 말하지만 내일은 당신을 모른다고 말한다. 혁명에대한 에로스적...</td>\n",
       "      <td>불친절한 금자씨</td>\n",
       "      <td>드라마</td>\n",
       "      <td>오늘은 당신을 사랑한다 말하지만 내일은 당신을 모른다고 말한다 혁명에대한 에로스적 ...</td>\n",
       "      <td>[오늘, 당신, 사랑, 내일, 당신, 신념, 당시, 사랑, 정도, 파시즘, 불구, ...</td>\n",
       "    </tr>\n",
       "    <tr>\n",
       "      <th>244798</th>\n",
       "      <td>288188</td>\n",
       "      <td>불량소녀, 너를 응원해!</td>\n",
       "      <td>0.5</td>\n",
       "      <td>공부도 능력이다.\\n실화에 기반이라며 온갖 요소로 감동주려고 하는데,\\n결국 성공한...</td>\n",
       "      <td>모종삽</td>\n",
       "      <td>드라마</td>\n",
       "      <td>공부도 능력이다실화에 기반이라며 온갖 요소로 감동주려고 하는데결국 성공한 사람들만의...</td>\n",
       "      <td>[공부, 능력, 기반, 사람들, 번지르르, 영웅담, 누구, 위로, 격려, 희망]</td>\n",
       "    </tr>\n",
       "  </tbody>\n",
       "</table>\n",
       "</div>"
      ],
      "text/plain": [
       "           index      movie_title  rating  \\\n",
       "1838389  2159143               염력     0.5   \n",
       "491270    577650          극적인 하룻밤     0.5   \n",
       "1426222  1675635  지.아이.조 - 전쟁의 서막     0.5   \n",
       "1640233  1924952               비밀     0.5   \n",
       "2488262  2921685           오만과 편견     0.5   \n",
       "2043708  2400725              깡철이     0.5   \n",
       "642797    756440           순수의 시대     0.5   \n",
       "2367059  2780409          B형 남자친구     0.5   \n",
       "2827254  3320684     파리에서의 마지막 탱고     0.5   \n",
       "244798    288188    불량소녀, 너를 응원해!     0.5   \n",
       "\n",
       "                                                      text  username  \\\n",
       "1838389                              아 돈아까워, 코미디 아니라 발암 장르       박선정   \n",
       "491270    차라리 커피 한잔을 마셧덩 것이 좋았을 것 같다.\\n \\n#영화를보자 #20151224      웃는토끼   \n",
       "1426222                                주인공들 씹어먹는 이병헌과 조고래.      8848   \n",
       "1640233                               최악이다. 연기마저 못하는 것 같다.       이세훈   \n",
       "2488262                                 사랑 때문에 결국 나를 잃는구나.    B170_2   \n",
       "2043708                              영화에 대해 알지 못하지만 이건 아니다        용솽   \n",
       "642797            하균님 당신은 대체 왜ㅜㅜㅜㅜㅜㅜㅜㅜㅜ 취중계약이라도 하신 건가요ㅜㅜㅜㅜ       최수빈   \n",
       "2367059                                        혈액형드립부터가 패망        농농   \n",
       "2827254  오늘은 당신을 사랑한다 말하지만 내일은 당신을 모른다고 말한다. 혁명에대한 에로스적...  불친절한 금자씨   \n",
       "244798   공부도 능력이다.\\n실화에 기반이라며 온갖 요소로 감동주려고 하는데,\\n결국 성공한...       모종삽   \n",
       "\n",
       "        main_genre                                           new_text  \\\n",
       "1838389        드라마                               아 돈아까워 코미디 아니라 발암 장르   \n",
       "491270      로맨스/멜로                   차라리 커피 한잔을 마셧덩 것이 좋았을 것 같다 영화를보자   \n",
       "1426222         액션                                 주인공들 씹어먹는 이병헌과 조고래   \n",
       "1640233     로맨스/멜로                                 최악이다 연기마저 못하는 것 같다   \n",
       "2488262     로맨스/멜로                                  사랑 때문에 결국 나를 잃는구나   \n",
       "2043708        드라마                              영화에 대해 알지 못하지만 이건 아니다   \n",
       "642797      로맨스/멜로           하균님 당신은 대체 왜ㅜㅜㅜㅜㅜㅜㅜㅜㅜ 취중계약이라도 하신 건가요ㅜㅜㅜㅜ   \n",
       "2367059    로맨틱 코미디                                        혈액형드립부터가 패망   \n",
       "2827254        드라마  오늘은 당신을 사랑한다 말하지만 내일은 당신을 모른다고 말한다 혁명에대한 에로스적 ...   \n",
       "244798         드라마  공부도 능력이다실화에 기반이라며 온갖 요소로 감동주려고 하는데결국 성공한 사람들만의...   \n",
       "\n",
       "                                            filtered_nouns  \n",
       "1838389                                                 []  \n",
       "491270                                                [한잔]  \n",
       "1426222                                        [주인공들, 이병헌]  \n",
       "1640233                                               [최악]  \n",
       "2488262                                           [사랑, 때문]  \n",
       "2043708                                                 []  \n",
       "642797                                                [당신]  \n",
       "2367059                                                 []  \n",
       "2827254  [오늘, 당신, 사랑, 내일, 당신, 신념, 당시, 사랑, 정도, 파시즘, 불구, ...  \n",
       "244798        [공부, 능력, 기반, 사람들, 번지르르, 영웅담, 누구, 위로, 격려, 희망]  "
      ]
     },
     "execution_count": 221,
     "metadata": {},
     "output_type": "execute_result"
    }
   ],
   "source": [
    "sample_rating.head(10)"
   ]
  },
  {
   "cell_type": "code",
   "execution_count": 222,
   "metadata": {
    "collapsed": true
   },
   "outputs": [],
   "source": [
    "#단어 4개 이상인 레코드만 남겨둔다\n",
    "index = [ True if len(t) > 10 else False for t in sample_rating['filtered_nouns']]"
   ]
  },
  {
   "cell_type": "code",
   "execution_count": null,
   "metadata": {
    "collapsed": true
   },
   "outputs": [],
   "source": []
  },
  {
   "cell_type": "code",
   "execution_count": 223,
   "metadata": {
    "collapsed": false
   },
   "outputs": [
    {
     "data": {
      "text/html": [
       "<div>\n",
       "<style>\n",
       "    .dataframe thead tr:only-child th {\n",
       "        text-align: right;\n",
       "    }\n",
       "\n",
       "    .dataframe thead th {\n",
       "        text-align: left;\n",
       "    }\n",
       "\n",
       "    .dataframe tbody tr th {\n",
       "        vertical-align: top;\n",
       "    }\n",
       "</style>\n",
       "<table border=\"1\" class=\"dataframe\">\n",
       "  <thead>\n",
       "    <tr style=\"text-align: right;\">\n",
       "      <th></th>\n",
       "      <th>index</th>\n",
       "      <th>movie_title</th>\n",
       "      <th>rating</th>\n",
       "      <th>text</th>\n",
       "      <th>username</th>\n",
       "      <th>main_genre</th>\n",
       "      <th>new_text</th>\n",
       "      <th>filtered_nouns</th>\n",
       "    </tr>\n",
       "  </thead>\n",
       "  <tbody>\n",
       "    <tr>\n",
       "      <th>2827254</th>\n",
       "      <td>3320684</td>\n",
       "      <td>파리에서의 마지막 탱고</td>\n",
       "      <td>0.5</td>\n",
       "      <td>오늘은 당신을 사랑한다 말하지만 내일은 당신을 모른다고 말한다. 혁명에대한 에로스적...</td>\n",
       "      <td>불친절한 금자씨</td>\n",
       "      <td>드라마</td>\n",
       "      <td>오늘은 당신을 사랑한다 말하지만 내일은 당신을 모른다고 말한다 혁명에대한 에로스적 ...</td>\n",
       "      <td>[오늘, 당신, 사랑, 내일, 당신, 신념, 당시, 사랑, 정도, 파시즘, 불구, ...</td>\n",
       "    </tr>\n",
       "    <tr>\n",
       "      <th>244798</th>\n",
       "      <td>288188</td>\n",
       "      <td>불량소녀, 너를 응원해!</td>\n",
       "      <td>0.5</td>\n",
       "      <td>공부도 능력이다.\\n실화에 기반이라며 온갖 요소로 감동주려고 하는데,\\n결국 성공한...</td>\n",
       "      <td>모종삽</td>\n",
       "      <td>드라마</td>\n",
       "      <td>공부도 능력이다실화에 기반이라며 온갖 요소로 감동주려고 하는데결국 성공한 사람들만의...</td>\n",
       "      <td>[공부, 능력, 기반, 사람들, 번지르르, 영웅담, 누구, 위로, 격려, 희망]</td>\n",
       "    </tr>\n",
       "    <tr>\n",
       "      <th>1791254</th>\n",
       "      <td>2103361</td>\n",
       "      <td>트랜스포머: 최후의 기사</td>\n",
       "      <td>0.5</td>\n",
       "      <td>시끄럽고 졸린 수면 영화 (옵티머스 프라임 버전 &amp;#x27;아내의 유혹&amp;#x27;이...</td>\n",
       "      <td>이효준</td>\n",
       "      <td>액션</td>\n",
       "      <td>시끄럽고 졸린 수면 영화 옵티머스 프라임 버전 아내의 유혹이 포인트</td>\n",
       "      <td>[옵티머스, 프라임, 버전, 아내, 포인트]</td>\n",
       "    </tr>\n",
       "    <tr>\n",
       "      <th>143944</th>\n",
       "      <td>169521</td>\n",
       "      <td>다 큰 녀석들</td>\n",
       "      <td>0.5</td>\n",
       "      <td>나 애덤샌들러 안좋아한다. 매번 같은 캐릭터를 맡는다. 게다가 그마저도 건성이다.\\...</td>\n",
       "      <td>Lee Eun Ho</td>\n",
       "      <td>코미디</td>\n",
       "      <td>나 애덤샌들러 안좋아한다 매번 같은 캐릭터를 맡는다 게다가 그마저도 건성이다반바지 ...</td>\n",
       "      <td>[그마저, 표정, 한심, 친구들, 말싸움]</td>\n",
       "    </tr>\n",
       "    <tr>\n",
       "      <th>126390</th>\n",
       "      <td>148543</td>\n",
       "      <td>킥 애스 2: 겁 없는 녀석들</td>\n",
       "      <td>0.5</td>\n",
       "      <td>거장인가 그저그런 감독 중 하나인가는 속편을 얼마나 잘 만드느냐에 달려 있다. 킥애...</td>\n",
       "      <td>Chance Kim</td>\n",
       "      <td>액션</td>\n",
       "      <td>거장인가 그저그런 감독 중 하나인가는 속편을 얼마나 잘 만드느냐에 달려 있다 킥애스...</td>\n",
       "      <td>[거장, 감독, 속편, 킥애스, 학원물, 조폭물, 감독, 킥애스, 킥애스]</td>\n",
       "    </tr>\n",
       "  </tbody>\n",
       "</table>\n",
       "</div>"
      ],
      "text/plain": [
       "           index       movie_title  rating  \\\n",
       "2827254  3320684      파리에서의 마지막 탱고     0.5   \n",
       "244798    288188     불량소녀, 너를 응원해!     0.5   \n",
       "1791254  2103361     트랜스포머: 최후의 기사     0.5   \n",
       "143944    169521           다 큰 녀석들     0.5   \n",
       "126390    148543  킥 애스 2: 겁 없는 녀석들     0.5   \n",
       "\n",
       "                                                      text    username  \\\n",
       "2827254  오늘은 당신을 사랑한다 말하지만 내일은 당신을 모른다고 말한다. 혁명에대한 에로스적...    불친절한 금자씨   \n",
       "244798   공부도 능력이다.\\n실화에 기반이라며 온갖 요소로 감동주려고 하는데,\\n결국 성공한...         모종삽   \n",
       "1791254  시끄럽고 졸린 수면 영화 (옵티머스 프라임 버전 &#x27;아내의 유혹&#x27;이...         이효준   \n",
       "143944   나 애덤샌들러 안좋아한다. 매번 같은 캐릭터를 맡는다. 게다가 그마저도 건성이다.\\...  Lee Eun Ho   \n",
       "126390   거장인가 그저그런 감독 중 하나인가는 속편을 얼마나 잘 만드느냐에 달려 있다. 킥애...  Chance Kim   \n",
       "\n",
       "        main_genre                                           new_text  \\\n",
       "2827254        드라마  오늘은 당신을 사랑한다 말하지만 내일은 당신을 모른다고 말한다 혁명에대한 에로스적 ...   \n",
       "244798         드라마  공부도 능력이다실화에 기반이라며 온갖 요소로 감동주려고 하는데결국 성공한 사람들만의...   \n",
       "1791254         액션              시끄럽고 졸린 수면 영화 옵티머스 프라임 버전 아내의 유혹이 포인트   \n",
       "143944         코미디  나 애덤샌들러 안좋아한다 매번 같은 캐릭터를 맡는다 게다가 그마저도 건성이다반바지 ...   \n",
       "126390          액션  거장인가 그저그런 감독 중 하나인가는 속편을 얼마나 잘 만드느냐에 달려 있다 킥애스...   \n",
       "\n",
       "                                            filtered_nouns  \n",
       "2827254  [오늘, 당신, 사랑, 내일, 당신, 신념, 당시, 사랑, 정도, 파시즘, 불구, ...  \n",
       "244798        [공부, 능력, 기반, 사람들, 번지르르, 영웅담, 누구, 위로, 격려, 희망]  \n",
       "1791254                           [옵티머스, 프라임, 버전, 아내, 포인트]  \n",
       "143944                             [그마저, 표정, 한심, 친구들, 말싸움]  \n",
       "126390           [거장, 감독, 속편, 킥애스, 학원물, 조폭물, 감독, 킥애스, 킥애스]  "
      ]
     },
     "execution_count": 223,
     "metadata": {},
     "output_type": "execute_result"
    }
   ],
   "source": [
    "sample_rating[index].head()"
   ]
  },
  {
   "cell_type": "code",
   "execution_count": 225,
   "metadata": {
    "collapsed": true
   },
   "outputs": [],
   "source": [
    "sample_rating_2 = sample_rating[index]"
   ]
  },
  {
   "cell_type": "code",
   "execution_count": 226,
   "metadata": {
    "collapsed": true
   },
   "outputs": [],
   "source": [
    "sample_rating_2 = sample_rating_2.reset_index(drop=True)"
   ]
  },
  {
   "cell_type": "code",
   "execution_count": 227,
   "metadata": {
    "collapsed": false
   },
   "outputs": [
    {
     "data": {
      "text/html": [
       "<div>\n",
       "<style>\n",
       "    .dataframe thead tr:only-child th {\n",
       "        text-align: right;\n",
       "    }\n",
       "\n",
       "    .dataframe thead th {\n",
       "        text-align: left;\n",
       "    }\n",
       "\n",
       "    .dataframe tbody tr th {\n",
       "        vertical-align: top;\n",
       "    }\n",
       "</style>\n",
       "<table border=\"1\" class=\"dataframe\">\n",
       "  <thead>\n",
       "    <tr style=\"text-align: right;\">\n",
       "      <th></th>\n",
       "      <th>index</th>\n",
       "      <th>movie_title</th>\n",
       "      <th>text</th>\n",
       "      <th>username</th>\n",
       "      <th>main_genre</th>\n",
       "      <th>new_text</th>\n",
       "      <th>filtered_nouns</th>\n",
       "    </tr>\n",
       "    <tr>\n",
       "      <th>rating</th>\n",
       "      <th></th>\n",
       "      <th></th>\n",
       "      <th></th>\n",
       "      <th></th>\n",
       "      <th></th>\n",
       "      <th></th>\n",
       "      <th></th>\n",
       "    </tr>\n",
       "  </thead>\n",
       "  <tbody>\n",
       "    <tr>\n",
       "      <th>0.5</th>\n",
       "      <td>971</td>\n",
       "      <td>971</td>\n",
       "      <td>971</td>\n",
       "      <td>971</td>\n",
       "      <td>971</td>\n",
       "      <td>971</td>\n",
       "      <td>971</td>\n",
       "    </tr>\n",
       "    <tr>\n",
       "      <th>1.0</th>\n",
       "      <td>853</td>\n",
       "      <td>853</td>\n",
       "      <td>853</td>\n",
       "      <td>853</td>\n",
       "      <td>853</td>\n",
       "      <td>853</td>\n",
       "      <td>853</td>\n",
       "    </tr>\n",
       "    <tr>\n",
       "      <th>1.5</th>\n",
       "      <td>947</td>\n",
       "      <td>947</td>\n",
       "      <td>947</td>\n",
       "      <td>947</td>\n",
       "      <td>947</td>\n",
       "      <td>947</td>\n",
       "      <td>947</td>\n",
       "    </tr>\n",
       "    <tr>\n",
       "      <th>2.0</th>\n",
       "      <td>939</td>\n",
       "      <td>939</td>\n",
       "      <td>939</td>\n",
       "      <td>939</td>\n",
       "      <td>939</td>\n",
       "      <td>939</td>\n",
       "      <td>939</td>\n",
       "    </tr>\n",
       "    <tr>\n",
       "      <th>2.5</th>\n",
       "      <td>1118</td>\n",
       "      <td>1118</td>\n",
       "      <td>1118</td>\n",
       "      <td>1118</td>\n",
       "      <td>1118</td>\n",
       "      <td>1118</td>\n",
       "      <td>1118</td>\n",
       "    </tr>\n",
       "    <tr>\n",
       "      <th>3.0</th>\n",
       "      <td>1121</td>\n",
       "      <td>1121</td>\n",
       "      <td>1121</td>\n",
       "      <td>1121</td>\n",
       "      <td>1121</td>\n",
       "      <td>1121</td>\n",
       "      <td>1121</td>\n",
       "    </tr>\n",
       "    <tr>\n",
       "      <th>3.5</th>\n",
       "      <td>1375</td>\n",
       "      <td>1375</td>\n",
       "      <td>1375</td>\n",
       "      <td>1375</td>\n",
       "      <td>1375</td>\n",
       "      <td>1375</td>\n",
       "      <td>1375</td>\n",
       "    </tr>\n",
       "    <tr>\n",
       "      <th>4.0</th>\n",
       "      <td>1388</td>\n",
       "      <td>1388</td>\n",
       "      <td>1388</td>\n",
       "      <td>1388</td>\n",
       "      <td>1388</td>\n",
       "      <td>1388</td>\n",
       "      <td>1388</td>\n",
       "    </tr>\n",
       "    <tr>\n",
       "      <th>4.5</th>\n",
       "      <td>1529</td>\n",
       "      <td>1529</td>\n",
       "      <td>1529</td>\n",
       "      <td>1529</td>\n",
       "      <td>1529</td>\n",
       "      <td>1529</td>\n",
       "      <td>1529</td>\n",
       "    </tr>\n",
       "    <tr>\n",
       "      <th>5.0</th>\n",
       "      <td>1434</td>\n",
       "      <td>1434</td>\n",
       "      <td>1434</td>\n",
       "      <td>1434</td>\n",
       "      <td>1434</td>\n",
       "      <td>1434</td>\n",
       "      <td>1434</td>\n",
       "    </tr>\n",
       "  </tbody>\n",
       "</table>\n",
       "</div>"
      ],
      "text/plain": [
       "        index  movie_title  text  username  main_genre  new_text  \\\n",
       "rating                                                             \n",
       "0.5       971          971   971       971         971       971   \n",
       "1.0       853          853   853       853         853       853   \n",
       "1.5       947          947   947       947         947       947   \n",
       "2.0       939          939   939       939         939       939   \n",
       "2.5      1118         1118  1118      1118        1118      1118   \n",
       "3.0      1121         1121  1121      1121        1121      1121   \n",
       "3.5      1375         1375  1375      1375        1375      1375   \n",
       "4.0      1388         1388  1388      1388        1388      1388   \n",
       "4.5      1529         1529  1529      1529        1529      1529   \n",
       "5.0      1434         1434  1434      1434        1434      1434   \n",
       "\n",
       "        filtered_nouns  \n",
       "rating                  \n",
       "0.5                971  \n",
       "1.0                853  \n",
       "1.5                947  \n",
       "2.0                939  \n",
       "2.5               1118  \n",
       "3.0               1121  \n",
       "3.5               1375  \n",
       "4.0               1388  \n",
       "4.5               1529  \n",
       "5.0               1434  "
      ]
     },
     "execution_count": 227,
     "metadata": {},
     "output_type": "execute_result"
    }
   ],
   "source": [
    "sample_rating_2.groupby('rating').count()"
   ]
  },
  {
   "cell_type": "code",
   "execution_count": 212,
   "metadata": {
    "collapsed": false
   },
   "outputs": [
    {
     "data": {
      "text/plain": [
       "(77102, 8)"
      ]
     },
     "execution_count": 212,
     "metadata": {},
     "output_type": "execute_result"
    }
   ],
   "source": [
    "sample_rating_2.shape"
   ]
  },
  {
   "cell_type": "markdown",
   "metadata": {},
   "source": [
    "## TF-IDF"
   ]
  },
  {
   "cell_type": "code",
   "execution_count": 213,
   "metadata": {
    "collapsed": true
   },
   "outputs": [],
   "source": [
    "from collections import Counter\n",
    "from sklearn.feature_extraction.text import TfidfTransformer\n",
    "from sklearn.feature_extraction.text import CountVectorizer"
   ]
  },
  {
   "cell_type": "code",
   "execution_count": 228,
   "metadata": {
    "collapsed": false,
    "scrolled": true
   },
   "outputs": [
    {
     "data": {
      "text/plain": [
       "['오늘 당신 사랑 내일 당신 신념 당시 사랑 정도 파시즘 불구 극한 성과 지독 욕설 고독 자의식 이름 이전 욕망 브란도 신념 자궁 마지막 절규 몽상가들',\n",
       " '공부 능력 기반 사람들 번지르르 영웅담 누구 위로 격려 희망']"
      ]
     },
     "execution_count": 228,
     "metadata": {},
     "output_type": "execute_result"
    }
   ],
   "source": [
    "sentences = [' '.join(words) for words in sample_rating_2['filtered_nouns'].values]\n",
    "sentences[0:2]"
   ]
  },
  {
   "cell_type": "code",
   "execution_count": 229,
   "metadata": {
    "collapsed": false
   },
   "outputs": [
    {
     "data": {
      "text/plain": [
       "<11675x5883 sparse matrix of type '<class 'numpy.int64'>'\n",
       "\twith 91817 stored elements in Compressed Sparse Row format>"
      ]
     },
     "execution_count": 229,
     "metadata": {},
     "output_type": "execute_result"
    }
   ],
   "source": [
    "tf = CountVectorizer()\n",
    "# whitespace 구분된 단어들의 집합\n",
    "T_sent = tf.fit_transform(sentences)\n",
    "T_sent"
   ]
  },
  {
   "cell_type": "code",
   "execution_count": 230,
   "metadata": {
    "collapsed": false
   },
   "outputs": [
    {
     "data": {
      "text/plain": [
       "<11675x5883 sparse matrix of type '<class 'numpy.float64'>'\n",
       "\twith 91817 stored elements in Compressed Sparse Row format>"
      ]
     },
     "execution_count": 230,
     "metadata": {},
     "output_type": "execute_result"
    }
   ],
   "source": [
    "tfidf = TfidfTransformer( smooth_idf= True)\n",
    "\n",
    "#generate tf-idf term-document matrix\n",
    "DTM = tfidf.fit_transform(T_sent)  #size D x V\n",
    "DTM"
   ]
  },
  {
   "cell_type": "code",
   "execution_count": 231,
   "metadata": {
    "collapsed": false
   },
   "outputs": [
    {
     "data": {
      "text/plain": [
       "array([3.73488753, 1.23384193, 0.52622541, ..., 0.35732508, 1.79051213,\n",
       "       2.90473221])"
      ]
     },
     "execution_count": 231,
     "metadata": {},
     "output_type": "execute_result"
    }
   ],
   "source": [
    "W_weight = np.array(np.sum(DTM,axis=0))[0]\n",
    "W_weight"
   ]
  },
  {
   "cell_type": "code",
   "execution_count": 232,
   "metadata": {
    "collapsed": false
   },
   "outputs": [
    {
     "data": {
      "text/plain": [
       "array([332.09440313, 276.48600175, 259.75196238, 238.31097188,\n",
       "       171.87462565, 164.71386386, 154.27701032, 152.15985363,\n",
       "       149.3791944 , 148.59800547, 143.83561414, 141.96739696,\n",
       "       138.70728954, 138.21408888, 136.02115873, 133.3579087 ,\n",
       "       132.042342  , 128.74922704, 118.20020119, 116.35926697,\n",
       "       115.6133164 , 112.66482381, 111.64790887, 111.60477747,\n",
       "       109.01151576, 103.10699577, 102.72639099,  98.67155185,\n",
       "        97.99899209,  97.14591455,  94.73926293,  89.26019129,\n",
       "        87.09586149,  86.39321598,  84.96464742,  84.72051821,\n",
       "        83.68579851,  82.77402109,  81.22705163,  79.28032336,\n",
       "        77.58436894,  76.64706696,  75.27329276,  71.935333  ,\n",
       "        71.93315296,  68.49415351,  67.81895836,  64.92023969,\n",
       "        64.85805691,  62.93609212,  62.54175593,  62.20493026,\n",
       "        60.94000349,  60.51657624,  60.4439937 ,  59.83841555,\n",
       "        58.80240619,  58.21653856,  57.04015886,  57.01316376,\n",
       "        56.92633199,  56.68182563,  56.2622163 ,  56.25367997,\n",
       "        55.93338688,  55.90470243,  55.80176172,  55.70946795,\n",
       "        55.3201648 ,  55.25651512,  54.57689686,  54.4194646 ,\n",
       "        53.56501597,  53.37500816,  52.91316303,  52.77057227,\n",
       "        52.74771741,  52.63754613,  52.58556228,  51.71622265,\n",
       "        51.31925919,  50.56748644,  50.39809175,  50.27262905,\n",
       "        50.06563737,  49.98653858,  49.59541302,  49.32144627,\n",
       "        49.06396247,  48.72396136,  48.53718994,  48.3539787 ,\n",
       "        47.46944176,  47.45664391,  47.15182463,  47.04778145,\n",
       "        45.76309765,  45.35220914,  45.24597888,  45.12583196,\n",
       "        44.45956275,  43.38014497,  43.34749344,  43.21014852,\n",
       "        42.90841312,  42.79714497,  42.50334836,  42.49923711,\n",
       "        42.49132547,  42.35872429,  41.91372015,  41.85442632,\n",
       "        41.55813826,  41.4186447 ,  41.31940141,  41.1860296 ,\n",
       "        40.30285815,  40.07230637,  39.60416838,  39.24360697,\n",
       "        39.23316925,  38.07172495,  37.91573719,  37.676257  ,\n",
       "        37.44971961,  37.44304098,  37.12572578,  36.7293491 ,\n",
       "        36.62818126,  36.38261829,  36.27673232,  36.1491824 ,\n",
       "        35.97067244,  35.94420355,  35.93419582,  35.37428125,\n",
       "        35.2068471 ,  35.18005808,  34.36114347,  34.21284554,\n",
       "        34.05665994,  33.97256806,  33.88563091,  33.66038798,\n",
       "        33.45376809,  33.19164993,  33.17964653,  33.08132612,\n",
       "        32.86260049,  32.84066764,  32.72163092,  32.69188503,\n",
       "        32.46262253,  32.45346681,  32.32775763,  31.97689476,\n",
       "        31.69263559,  31.58082882,  30.97068094,  30.70161388,\n",
       "        30.56413006,  30.37299779,  30.29714431,  30.24199811,\n",
       "        30.2177436 ,  30.09012926,  29.87897907,  29.76809513,\n",
       "        29.65834519,  29.63805703,  29.62802109,  29.49904599,\n",
       "        29.43146828,  29.311852  ,  29.22990407,  29.16175135,\n",
       "        28.77519506,  28.73964174,  28.71998977,  28.60636511,\n",
       "        28.47986163,  28.27259718,  28.05518423,  27.9915432 ,\n",
       "        27.96710289,  27.59420988,  27.4714186 ,  27.38530759,\n",
       "        27.27966412,  27.2323673 ,  27.06793623,  27.06447945,\n",
       "        27.00337056,  26.86969708,  26.85573347,  26.63895677,\n",
       "        26.51832211,  26.1973399 ,  26.07108814,  26.02154511,\n",
       "        25.93594992,  25.76677095,  25.44909269,  25.35633531,\n",
       "        25.34533609,  25.10954215,  24.89760624,  24.78751751,\n",
       "        24.49541043,  24.44993373,  24.41148804,  24.20847692,\n",
       "        23.95762076,  23.77718334,  23.72629239,  23.68669486,\n",
       "        23.64503681,  23.56685389,  23.46701334,  23.37676701,\n",
       "        23.36349047,  23.34233762,  22.93482278,  22.79884069,\n",
       "        22.76014881,  22.7512867 ,  22.71283076,  22.68644642,\n",
       "        22.63319935,  22.60169823,  22.56700988,  22.29467268,\n",
       "        22.27709832,  22.24955074,  22.24333287,  21.98501625,\n",
       "        21.96428804,  21.90541643,  21.86566868,  21.80537112,\n",
       "        21.71755818,  21.66989468,  21.64262434,  21.50482428,\n",
       "        21.4657243 ,  21.31679088,  21.2619553 ,  20.92183402,\n",
       "        20.86304152,  20.79499265,  20.776752  ,  20.76599968,\n",
       "        20.68498409,  20.58967417,  20.56464213,  20.44923484,\n",
       "        20.43653863,  20.247533  ,  20.21009422,  20.18745958,\n",
       "        20.18359536,  20.14852521,  20.11675395,  20.00474191,\n",
       "        19.90467768,  19.82233228,  19.72900406,  19.6637349 ,\n",
       "        19.64234837,  19.61228796,  19.42047464,  19.28557646,\n",
       "        19.27748564,  19.18842881,  19.05018768,  19.02691347,\n",
       "        18.86732244,  18.64789032,  18.64328809,  18.48499857,\n",
       "        18.43691087,  18.42861636,  18.39066373,  18.28511843,\n",
       "        18.2107464 ,  18.10311971,  18.09605718,  18.06185575,\n",
       "        18.0079967 ,  17.99511831,  17.89375518,  17.85868667,\n",
       "        17.83290305,  17.82682062,  17.78173541,  17.71636826,\n",
       "        17.71064655,  17.61042264,  17.52974279,  17.41818621,\n",
       "        17.37531463,  17.35975434,  17.35232047,  17.31534816,\n",
       "        17.28640504,  17.27598075,  17.1760354 ,  17.1577137 ,\n",
       "        17.13540292,  17.0700965 ,  17.02814324,  16.9695691 ,\n",
       "        16.91588771,  16.83490018,  16.81254386,  16.69952522,\n",
       "        16.69777804,  16.6034925 ,  16.58137886,  16.51052884,\n",
       "        16.46380196,  16.40627305,  16.30561946,  16.2697731 ,\n",
       "        16.22573839,  16.15843361,  16.12464049,  16.10493954,\n",
       "        16.06933671,  16.04176243,  15.93274704,  15.9135935 ,\n",
       "        15.84419269,  15.83219315,  15.80984763,  15.74063979,\n",
       "        15.69031884,  15.66958782,  15.63077492,  15.61468302,\n",
       "        15.5983197 ,  15.55245395,  15.44855117,  15.3983042 ,\n",
       "        15.38816123,  15.34200562,  15.30441445,  15.26935709,\n",
       "        15.25981724,  15.2510252 ,  15.24355194,  15.23228548,\n",
       "        15.20859077,  15.19511947,  15.18160019,  15.06011102,\n",
       "        15.05072935,  15.03701781,  14.98939262,  14.92801976,\n",
       "        14.91257688,  14.78990826,  14.78386003,  14.73806339,\n",
       "        14.73656398,  14.7312902 ,  14.70591184,  14.65781931,\n",
       "        14.6340682 ,  14.5301642 ,  14.50987814,  14.50109047,\n",
       "        14.49089048,  14.46682389,  14.4399451 ,  14.39474848,\n",
       "        14.37149233,  14.27433665,  14.20260156,  14.14816104,\n",
       "        14.05888423,  14.02168211,  14.00652567,  13.98431632,\n",
       "        13.9288089 ,  13.91996879,  13.8629505 ,  13.82142506,\n",
       "        13.77164176,  13.74685027,  13.70961796,  13.70502237,\n",
       "        13.65912401,  13.6411851 ,  13.62969497,  13.62916321,\n",
       "        13.56722618,  13.51690697,  13.51267389,  13.42800866,\n",
       "        13.36203539,  13.33527692,  13.32057152,  13.29802696,\n",
       "        13.2919626 ,  13.28758243,  13.24469218,  13.23753167,\n",
       "        13.20537361,  13.1578947 ,  13.1450535 ,  13.09749548,\n",
       "        13.0267239 ,  13.00324676,  12.9885219 ,  12.96820016,\n",
       "        12.9667828 ,  12.95924754,  12.93609862,  12.92536367,\n",
       "        12.9096657 ,  12.90220871,  12.8172043 ,  12.79231569,\n",
       "        12.74182156,  12.73873534,  12.73512632,  12.71486186,\n",
       "        12.69838258,  12.69606025,  12.64745315,  12.63386741,\n",
       "        12.61809313,  12.5701143 ,  12.56965077,  12.56088234,\n",
       "        12.5369165 ,  12.46934804,  12.46603404,  12.46244042,\n",
       "        12.44428957,  12.42174117,  12.41727929,  12.33973658,\n",
       "        12.32712341,  12.32142273,  12.28120671,  12.2737813 ,\n",
       "        12.22330401,  12.19330068,  12.17912814,  12.16179986,\n",
       "        12.13184207,  12.13071715,  12.13039606,  12.10402829,\n",
       "        12.08537484,  12.04076482,  11.99705059,  11.97410295,\n",
       "        11.95816883,  11.93980994,  11.93910839,  11.93025344,\n",
       "        11.90702728,  11.90145329,  11.88702914,  11.86676756,\n",
       "        11.8543283 ,  11.83931717,  11.83710171,  11.81191691,\n",
       "        11.79117844,  11.77990756,  11.75925843,  11.74475287,\n",
       "        11.74452699,  11.72312729,  11.69470428,  11.67823402,\n",
       "        11.65913356,  11.6235218 ,  11.59019985,  11.5274955 ,\n",
       "        11.51946589,  11.50795097,  11.50297443,  11.48263826,\n",
       "        11.41766202,  11.41413285,  11.3447323 ,  11.30762535,\n",
       "        11.28806318,  11.28530607,  11.23046098,  11.20154841,\n",
       "        11.19702486,  11.18528282,  11.15641448,  11.15143413,\n",
       "        11.14898173,  11.11071698,  11.09126936,  11.08928757,\n",
       "        11.06040089,  11.05163498,  10.98743856,  10.96900552,\n",
       "        10.95462406,  10.94801596,  10.94677498,  10.90074191,\n",
       "        10.85438007,  10.85096408,  10.84849935,  10.8386074 ,\n",
       "        10.82597575,  10.78988413,  10.74985503,  10.74978758,\n",
       "        10.73500012,  10.67076812,  10.66025084,  10.6258775 ,\n",
       "        10.59873124,  10.59255198,  10.58426814,  10.58162676,\n",
       "        10.56007874,  10.5300037 ,  10.50836794,  10.50395455,\n",
       "        10.46300754,  10.45722501,  10.45397151,  10.43334066,\n",
       "        10.41514509,  10.38087775,  10.33541711,  10.32710734,\n",
       "        10.29227899,  10.2712124 ,  10.24831423,  10.24766591,\n",
       "        10.23132282,  10.20802029,  10.17785609,  10.14360773,\n",
       "        10.13110004,  10.11328012,  10.0947731 ,  10.07520049,\n",
       "        10.0699729 ,  10.06996868,  10.06605056,  10.05700556,\n",
       "        10.04428993,  10.02293528,  10.01179684,   9.98336983,\n",
       "         9.96822471,   9.96115147,   9.95163981,   9.93628756,\n",
       "         9.90651559,   9.89755807,   9.89467958,   9.88608917,\n",
       "         9.86256968,   9.85358583,   9.80963052,   9.80539491,\n",
       "         9.8026668 ,   9.79650262,   9.78708116,   9.78300377,\n",
       "         9.75788032,   9.72234996,   9.71734687,   9.71475913,\n",
       "         9.70819332,   9.69457881,   9.68776581,   9.67722326,\n",
       "         9.67106959,   9.66712361,   9.66705026,   9.65606418,\n",
       "         9.65423581,   9.65281884,   9.6526343 ,   9.64648034,\n",
       "         9.64468992,   9.63224738,   9.61235367,   9.61188081,\n",
       "         9.60690142,   9.59966503,   9.58180518,   9.57937209,\n",
       "         9.53426759,   9.53095845,   9.51898015,   9.51315453,\n",
       "         9.50446592,   9.49844136,   9.49445892,   9.4877381 ,\n",
       "         9.48330618,   9.47252694,   9.46993681,   9.45746229,\n",
       "         9.43944055,   9.42946473,   9.40037694,   9.38317656,\n",
       "         9.37909368,   9.36899282,   9.34185232,   9.34150931,\n",
       "         9.33908203,   9.32771318,   9.3130835 ,   9.30602031,\n",
       "         9.30106479,   9.28897161,   9.26836833,   9.268112  ,\n",
       "         9.22136921,   9.18519965,   9.17469375,   9.16614056,\n",
       "         9.16507915,   9.15587178,   9.14955251,   9.14452405,\n",
       "         9.13382676,   9.10963951,   9.08894406,   9.07406149,\n",
       "         9.04403656,   9.03632854,   9.02735993,   9.01470721,\n",
       "         8.99739871,   8.97230528,   8.96491043,   8.85851455,\n",
       "         8.855042  ,   8.85046943,   8.81866737,   8.81398214,\n",
       "         8.77642679,   8.77370265,   8.77363169,   8.76661455,\n",
       "         8.7480819 ,   8.71184779,   8.70092067,   8.6453024 ,\n",
       "         8.62585705,   8.62531855,   8.62087136,   8.61404358,\n",
       "         8.59385968,   8.57941258,   8.57681595,   8.57518159,\n",
       "         8.54609751,   8.52580506,   8.52333493,   8.52214942,\n",
       "         8.51953186,   8.51461761,   8.51250495,   8.49976841,\n",
       "         8.49269489,   8.48421282,   8.4819714 ,   8.47369044,\n",
       "         8.47104157,   8.46414065,   8.44689848,   8.44224005,\n",
       "         8.4389228 ,   8.42793266,   8.42349631,   8.42300287,\n",
       "         8.42054323,   8.4079909 ,   8.39238595,   8.38904767,\n",
       "         8.36950239,   8.36791439,   8.35204769,   8.35187824,\n",
       "         8.34802855,   8.34539154,   8.34347874,   8.33379458,\n",
       "         8.33009012,   8.3107351 ,   8.27101481,   8.25626975,\n",
       "         8.25007835,   8.19464771,   8.17375983,   8.17259894,\n",
       "         8.17119289,   8.16859709,   8.16122146,   8.1402204 ,\n",
       "         8.13974923,   8.1187232 ,   8.10116082,   8.09161415,\n",
       "         8.08922337,   8.0669464 ,   8.05609319,   8.04645566,\n",
       "         8.04312053,   8.0380487 ,   8.03255746,   8.02813211,\n",
       "         8.01486538,   7.99626726,   7.98390464,   7.97818373,\n",
       "         7.97600229,   7.97142481,   7.96300886,   7.95095507,\n",
       "         7.94683447,   7.93952537,   7.93526084,   7.93309968,\n",
       "         7.93134899,   7.92202753,   7.91520192,   7.91417491,\n",
       "         7.90982316,   7.9084868 ,   7.90220834,   7.89860245,\n",
       "         7.8752255 ,   7.86566331,   7.85647789,   7.83261194,\n",
       "         7.81709788,   7.81536923,   7.81058516,   7.80826024,\n",
       "         7.80311492,   7.80226999,   7.79551571,   7.79509257,\n",
       "         7.79460059,   7.79389097,   7.7905902 ,   7.78700881,\n",
       "         7.77209733,   7.77099621,   7.72690435,   7.70961498,\n",
       "         7.70709807,   7.70423781,   7.6972539 ,   7.6965181 ,\n",
       "         7.68648557,   7.67632599,   7.67258014,   7.664277  ,\n",
       "         7.64090494,   7.62927195,   7.62593633,   7.60587397,\n",
       "         7.60254881,   7.59255759,   7.58708033,   7.58365456,\n",
       "         7.56986364,   7.56963149,   7.56704756,   7.55836606,\n",
       "         7.55174911,   7.54524874,   7.52797171,   7.51012114,\n",
       "         7.50793153,   7.50508601,   7.50213889,   7.50093488,\n",
       "         7.48618647,   7.47769234,   7.45442058,   7.43906833,\n",
       "         7.43375836,   7.42969669,   7.42809556,   7.41900358,\n",
       "         7.41869199,   7.41179223,   7.40336312,   7.38036265,\n",
       "         7.36127412,   7.34644561,   7.34066781,   7.33798989,\n",
       "         7.33271176,   7.33139144,   7.32937793,   7.31815122,\n",
       "         7.31691673,   7.2832699 ,   7.28198048,   7.27901354,\n",
       "         7.27370353,   7.25628668,   7.24932436,   7.24711823,\n",
       "         7.2346403 ,   7.20848259,   7.19961253,   7.19696593,\n",
       "         7.17658921,   7.16805785,   7.15064096,   7.14115753,\n",
       "         7.12527799,   7.12061911,   7.10894815,   7.10529535,\n",
       "         7.1043154 ,   7.09905723,   7.07787287,   7.07469387,\n",
       "         7.07413008,   7.05011783,   7.03918403,   7.01907373,\n",
       "         7.01518465,   7.01051194,   7.00766606,   6.99874048,\n",
       "         6.9916376 ,   6.99100559,   6.97411849,   6.97011606,\n",
       "         6.9669516 ,   6.9615644 ,   6.95259608,   6.93855288,\n",
       "         6.90393808,   6.88849961,   6.88548148,   6.88193371,\n",
       "         6.88041984,   6.87653025,   6.87558201,   6.87435811,\n",
       "         6.84659617,   6.84387875,   6.84282098,   6.84075573,\n",
       "         6.83802438,   6.8286217 ,   6.81761987,   6.81729233,\n",
       "         6.81412049,   6.81335009,   6.80398935,   6.79905585,\n",
       "         6.78736197,   6.77144386,   6.76856707,   6.75934112,\n",
       "         6.7439967 ,   6.7368753 ,   6.73274278,   6.72112382,\n",
       "         6.7020084 ,   6.69520415,   6.69429286,   6.69392522,\n",
       "         6.68316622,   6.64538198,   6.64072606,   6.62854864,\n",
       "         6.59956805,   6.59490961,   6.58817547,   6.58191034,\n",
       "         6.5415255 ,   6.53656107,   6.52674149,   6.52555471,\n",
       "         6.52421501,   6.51216123,   6.5068337 ,   6.48659683,\n",
       "         6.4857074 ,   6.4733914 ,   6.47317858,   6.46423827,\n",
       "         6.45721196,   6.45589579,   6.45557861,   6.45075608,\n",
       "         6.43769567,   6.43613008,   6.42714411,   6.42322643,\n",
       "         6.42077587,   6.40629454,   6.40606991,   6.39638714,\n",
       "         6.39275995,   6.38798956,   6.38734426,   6.38356366,\n",
       "         6.38072623,   6.35443044,   6.35017077,   6.33910371,\n",
       "         6.33242676,   6.32128142,   6.32117595,   6.31943594,\n",
       "         6.29630665,   6.29372308,   6.28695823,   6.28348696,\n",
       "         6.28143974,   6.27742919,   6.2739852 ,   6.26907594,\n",
       "         6.26746518,   6.25566624,   6.25471946,   6.23501616,\n",
       "         6.22068934,   6.21778327,   6.21147069,   6.20263254,\n",
       "         6.19055496,   6.18644646,   6.18492415,   6.18284072,\n",
       "         6.16198714,   6.15992533,   6.15357466,   6.13314908,\n",
       "         6.12810195,   6.12304345,   6.12246207,   6.11596374,\n",
       "         6.10550683,   6.09649199,   6.09350231,   6.08964467,\n",
       "         6.08831444,   6.07045262,   6.0701877 ,   6.06924672,\n",
       "         6.05775585,   6.05111134,   6.04383277,   6.0400698 ,\n",
       "         6.03641197,   6.03375893,   6.02972124,   6.02875596,\n",
       "         6.0264194 ,   6.02602014,   6.02101049,   6.01242211,\n",
       "         6.00701789,   6.00668777,   5.99200758,   5.99184992,\n",
       "         5.98846167,   5.98038852,   5.98023608,   5.97212334,\n",
       "         5.96391144,   5.9415846 ,   5.93899621,   5.93602359,\n",
       "         5.93160526,   5.91822517,   5.90230893,   5.90101843,\n",
       "         5.89471997,   5.8896997 ,   5.8868868 ,   5.87069598,\n",
       "         5.86873997,   5.86666297,   5.85820164,   5.85161311])"
      ]
     },
     "execution_count": 232,
     "metadata": {},
     "output_type": "execute_result"
    }
   ],
   "source": [
    "# check\n",
    "select_num=1000\n",
    "idx_70 = list(reversed(np.argsort(W_weight)[-select_num:]))\n",
    "W_weight[idx_70]"
   ]
  },
  {
   "cell_type": "code",
   "execution_count": 233,
   "metadata": {
    "collapsed": false
   },
   "outputs": [
    {
     "name": "stdout",
     "output_type": "stream",
     "text": [
      "['사랑' '스토리' '감독' '느낌' '마지막' '배우들' '소재' '정도' '자신' '사람들' '때문' '모습' '원작' '전개'\n",
      " '음악' '모두' '부분' '결말' '인생' '최고' '세상' '설정' '눈물' '반전' '그들' '개연성' '자체' '의미'\n",
      " '그것' '노래' '너무나' '상황' '개인적' '연기력' '시리즈' '누구' '최악' '그녀' '완벽' '훌륭' '뭔가'\n",
      " '긴장감' '선택' '캐릭터들' '서로' '영상미' '사건' '제목' '과거' '화려' '비슷' '후반부' '얼굴' '이름'\n",
      " '나름' '불구' '애니메이션' '그럼' '장면들' '당신' '엄마' '시나리오' '관객들' '디즈니' '이후' '아쉬움' '과정'\n",
      " '아버지' '특유' '소리' '역할' '노력' '관계' '것들' '평범' '누군가' '따뜻' '흐름' '캐스팅' '작품성' '방식'\n",
      " '희망' '진정' '마무리' '물론' '소설' '영화들' '실제' '고민' '각본' '고통' '표정' '유쾌' '인물들' '시선'\n",
      " '오락성' '영화관' '진심' '상처' '실화' '여운' '강동원' '러닝타임' '하정우' '객관성' '오랜' '박수' '아이들'\n",
      " '현재' '점평' '분노' '미래' '능력' '플롯' '슬픔' '그걸' '다양' '진실' '아들' '우리나라' '감정선' '이들'\n",
      " '잔잔' '자꾸' '변화' '나라' '강렬' '의심' '년대' '욕망' '스크린' '당시' '오늘' '공간' '방법' '상상력'\n",
      " '목소리' '시절' '본인' '쓸데' '중간중간' '위로' '덕분' '눈빛' '그런데' '깊이' '세계관' '동시' '연출력'\n",
      " '주인공들' '아빠' '이영화' '설득력' '한계' '아무것' '각자' '동안' '갈등' '포스터' '색감' '이용' '열정'\n",
      " '대화' '탄탄' '터널' '엉성' '아픔' '대부분' '미소' '깔끔' '내면' '아름다움' '괴물' '아내' '끔찍' '디테일'\n",
      " '장점' '유일' '예고편' '이병헌' '이전' '스케일' '점수' '경험' '입장' '거대' '여주인공' '목적' '한편'\n",
      " '남편' '의외' '섬세' '정우성' '독특' '관심' '친구들' '평점' '대한민국' '어머니' '우정' '비주얼' '열연'\n",
      " '요소들' '지루함' '개성' '공유' '중심' '자리' '케미' '기존' '대사들' '최근' '끊임' '황정민' '제외' '단점'\n",
      " '조화' '집착' '불행' '시퀀스' '송강호' '각색' '속편' '분들' '줄거리' '야수' '한마디' '해리포터' '모든것'\n",
      " '단어' '어떠' '예전' '그때' '평생' '애초' '악마' '질문' '픽사' '재능' '무난' '범인' '오프닝' '성격'\n",
      " '타인' '바탕' '심장' '남자들' '크레딧' '태도' '시점' '풍경' '가해자' '욕심' '전편' '나중' '조합' '미장센'\n",
      " '이별' '여자들' '처절' '비중' '애들' '정부' '영화속' '웹툰' '배역' '아저씨' '호흡' '방향' '코멘트' '인류'\n",
      " '담담' '미모' '배트맨' '영혼' '마동석' '올해' '몰입감' '엔딩크레딧' '편견' '와중' '코드' '치밀' '포인트'\n",
      " '감정이입' '만약' '어른들' '이하' '담백' '상태' '목숨' '의지' '서스펜스' '신념' '실수' '각각' '오락영화'\n",
      " '소소' '경우' '감정들' '동생' '작화' '두려움' '스파이더맨' '현실성' '묵직' '별개' '강력' '조연들' '기쁨'\n",
      " '최선' '임팩트' '게임' '기회' '실소' '퀄리티' '컨셉' '빈약' '몇번' '하늘' '조커' '뚜렷' '오달수' '결과물'\n",
      " '고뇌' '색깔' '지극히' '볼때' '액션영화' '영화임' '지독' '과도' '불친절' '평이' '버전' '환경' '불필요'\n",
      " '분량' '여러가지' '쿠키영상' '탁월' '그래픽' '등장인물들' '흥미진진' '극한' '카타르시스' '의식' '손예진'\n",
      " '이야기들' '마을' '만남' '거짓말' '모성애' '구멍' '아이맥스' '할아버지' '히어로물' '감흥' '인간들' '불가능'\n",
      " '신세계' '원더우먼' '재료' '고독' '초점' '부족함' '스트레스' '시스템' '여러모' '존재감' '한방' '역량' '자들'\n",
      " '관점' '구도' '기준' '토르' '언젠가' '슈퍼맨' '설경구' '잠시' '타이밍' '흔적' '유해진' '고증' '가능성'\n",
      " '고개' '현실감' '머릿속' '즐거움' '답답함' '선명' '반응' '좀비영화' '추구' '신파극' '자막' '미녀' '의리'\n",
      " '앵글' '포함' '우리들' '신데렐라' '가오갤' '죄책감' '전율' '신선함' '공부' '그치' '전쟁영화' '유아인'\n",
      " '가족들' '밋밋' '선생님' '어벤져스' '라라랜드' '할지' '기대감' '조정석' '한숨' '엠마왓슨' '대비' '학교'\n",
      " '년도' '위트' '인연' '배경음악' '울림' '기적' '데드풀' '인터뷰' '최민식' '부산행' '워낙' '상업영화' '부모님'\n",
      " '킬링타임용' '주제의식' '한효주' '난무' '트라우마' '막판' '장소' '기반' '아래' '소통' '쾌감' '불편함'\n",
      " '잔인함' '이도저' '우아' '맥락' '외로움' '제작비' '무의미' '이때' '동물들' '다름' '조진웅' '일들' '따름'\n",
      " '한심' '파리' '감안' '발상' '센스' '현빈' '냄새' '나레이션' '도움' '그동안' '똑똑' '미이라' '귀여움'\n",
      " '어둠' '거부감' '가치관' '사연' '씬들' '짜임새' '지점' '조악' '인식' '상영관' '적나라' '기승전결' '부재'\n",
      " '프레임' '공식' '모드' '세월호' '류준열' '어마어마' '무척' '전작들' '마디' '원인' '눈살' '하품' '위치'\n",
      " '둘째' '절정' '활약' '이정재' '가족애' '본듯' '박열' '그곳' '아이언맨' '호불호' '내일' '남들' '내러티브'\n",
      " '말투' '고군분투' '년전' '남발' '울버린' '종수' '김혜수' '예상가능' '개그코드' '바닥' '로렌스' '정체성'\n",
      " '호기심' '김민희' '작품들' '사투리' '목표' '캐릭터성' '클래식' '유니버스' '후속편' '공허함' '여자주인공' '방황'\n",
      " '로건' '날카' '앤드류' '순수함' '향수' '후속작' '여유' '변호사' '대통령' '다리' '찬사' '색채' '무게감'\n",
      " '소박' '나올때' '연민' '뉴욕' '기발' '앨런' '정점' '배두나' '오롯' '클라이막스' '명성' '흡입력' '애국심'\n",
      " '김윤석' '권선징악' '생각들' '타란티노' '분장' '타이틀' '무책임' '전반부' '독백' '자존심' '그림자' '동경'\n",
      " '무리수' '할때' '소중함' '전도연' '오해' '피트' '급급' '다수' '에이리언' '여성들' '틀림' '주위' '안타까움'\n",
      " '임창정' '풍부' '팀버튼' '결핍' '기법' '뉴스' '트랜스포머' '국민들' '무서움' '사상' '런닝타임' '이따위'\n",
      " '주연들' '김우빈' '한결' '디카프리오' '탐욕' '이질감' '증오' '그럴듯' '메타포' '암울' '동주' '에일리언'\n",
      " '실력' '적응' '말들' '전설' '순간들' '차용' '형태' '유치함' '좀비물' '저주' '신카' '마케팅' '마코토'\n",
      " '대본' '본성' '곽도원' '이기심' '이창동' '강하늘' '궁금증' '킹스맨' '최후' '영리' '피해자들' '모티브' '할말'\n",
      " '박진감' '곳곳' '비쥬얼' '논란' '미묘' '투박' '행위' '타노스' '행동들' '팬들' '부성애' '영화계' '벌써'\n",
      " '어색함' '사소' '이런식' '의견' '일본영화' '앨리스' '여인' '바넘' '문장' '곡성' '러브라인' '이외' '한석규'\n",
      " '심정' '구역질' '건조' '김옥빈' '카리스마' '얄팍' '조절' '속도감' '가난' '끝도' '거창' '스트레인지' '훈훈'\n",
      " '스콧' '미야자' '경쾌' '열등감' '여정' '재치' '옥자' '거울' '빈틈' '뮤직비디오' '살인마' '조인성' '임시완'\n",
      " '거장' '착취' '조이' '남자주인공' '충돌' '귀향' '클로즈업' '재앙' '고수' '할리퀸' '팬심' '권리' '어정쩡'\n",
      " '보는것' '아가씨' '절묘' '감옥' '한순간' '패턴' '브리짓' '침묵' '가사' '김명민' '미련' '하는것' '상대방'\n",
      " '지긋지긋' '임수정' '장동건' '설렘' '이선균' '심은경' '작정' '사실상' '이런영화' '주지훈' '샤이론' '놈들'\n",
      " '타짜' '재해석' '배급사' '고찰' '이런류' '당장' '소지섭' '문구' '근래' '청춘들' '실망감' '보는듯'\n",
      " '다큐멘터리' '의의' '파국' '어처구니' '가을' '갈망' '어린시절' '냉정' '다크나이트' '수단' '개념' '실체'\n",
      " '호연' '측면' '러브스토리' '휴잭맨' '주장' '해미' '심오' '영웅들' '허무함' '평소' '직전' '공포감' '찝찝함'\n",
      " '돌란' '자격' '브로맨스' '미친듯' '이면' '도중' '종류' '말그' '파멸' '절규' '구구절절' '인터스텔라' '기꺼'\n",
      " '병원' '정재영' '드레스' '그놈' '새로움' '어제' '스타워즈' '핸드폰' '생애' '질렌할' '자칫' '순간순간' '흐뭇'\n",
      " '마츠코' '박보영' '가까이' '밑바닥' '포트' '그루트' '히어로들' '스타일리쉬' '불신' '실마리' '아델' '시저'\n",
      " '시대상' '집중력' '인셉션' '그마저' '정수' '상영시간' '아기자기' '선입견' '템포' '악당들' '웬만' '이쯤'\n",
      " '위주' '끝날때' '썸머' '다음편' '놀라움' '혹평' '불쾌함' '간접적' '분짜리' '온몸' '김남길' '시간동안'\n",
      " '프랭크' '어깨' '태양' '기술력' '깨끗' '참신함' '유머코드' '지브리' '투쟁' '타이타닉' '폭력성' '움직임'\n",
      " '심리묘사' '무어' '염력' '그중' '할머니들' '윤동주' '코스프레' '동심' '용감' '성찰' '몸매' '사족' '하야오'\n",
      " '이종석' '왓슨' '아마네트' '진부함' '다채' '몹시' '시인' '스승' '미아' '공원' '책임감' '화해' '조건'\n",
      " '선율' '쇼트' '시간들' '흡사' '매체' '좀비들' '최초' '천우희' '미덕' '이성민' '버튼' '개개인' '뇌리'\n",
      " '괴상' '양념' '크루즈' '찌질함' '콤비' '재주' '밸런스' '위대함' '몰락' '쾌락' '허술함' '겉모습' '제작사'\n",
      " '영역' '여배우들' '마음속' '히치콕' '어느것' '이런건' '원스' '터미네이터' '슬로우모션' '기억들' '통쾌함' '약속'\n",
      " '치중' '오글거림' '찰나' '내용들' '티비' '톰하디' '군대' '어려움' '터무니' '박소담' '화장실' '커다' '종말'\n",
      " '억지스러움' '갈피' '욕설' '겨울왕국' '덩케르크' '김고은' '겉멋' '호평' '루시엔' '햇빛' '트릴로지' '기묘'\n",
      " '미자' '연기자들' '디자인' '문제들' '모션' '유승호' '본편' '총알' '감수성' '군인들' '몸짓' '말도안' '긴박감'\n",
      " '박해일' '엑소시즘' '오래전' '감상평' '교감' '토끼' '기다림' '쓸모' '그림체' '고유' '치열' '핑계' '고난'\n",
      " '주토피아' '유지태' '김동욱' '내용전개' '류승범' '주옥' '일생' '남자친구' '세밀' '하필' '연결고리' '월터'\n",
      " '웃음코드' '생동감' '데이먼' '손발' '여자친구' '영화감독' '앤더슨' '오빠' '계절' '멱살' '부끄러움' '지혜'\n",
      " '포커스' '유연석' '그날' '브금' '마인드' '정교' '소녀들' '배신감' '레옹' '면모' '연출들' '식당' '열망'\n",
      " '달빛' '불안정' '베일' '단계' '시공간' '주디' '윤계상' '차기작' '일관성']\n"
     ]
    }
   ],
   "source": [
    "# from counter\n",
    "tfidf_dict = np.array(tf.get_feature_names())[idx_70]\n",
    "print(tfidf_dict)"
   ]
  },
  {
   "cell_type": "code",
   "execution_count": 234,
   "metadata": {
    "collapsed": false
   },
   "outputs": [
    {
     "data": {
      "text/html": [
       "<div>\n",
       "<style>\n",
       "    .dataframe thead tr:only-child th {\n",
       "        text-align: right;\n",
       "    }\n",
       "\n",
       "    .dataframe thead th {\n",
       "        text-align: left;\n",
       "    }\n",
       "\n",
       "    .dataframe tbody tr th {\n",
       "        vertical-align: top;\n",
       "    }\n",
       "</style>\n",
       "<table border=\"1\" class=\"dataframe\">\n",
       "  <thead>\n",
       "    <tr style=\"text-align: right;\">\n",
       "      <th></th>\n",
       "      <th>사랑</th>\n",
       "      <th>스토리</th>\n",
       "      <th>감독</th>\n",
       "      <th>느낌</th>\n",
       "      <th>마지막</th>\n",
       "      <th>배우들</th>\n",
       "      <th>소재</th>\n",
       "      <th>정도</th>\n",
       "      <th>자신</th>\n",
       "      <th>사람들</th>\n",
       "      <th>...</th>\n",
       "      <th>열망</th>\n",
       "      <th>달빛</th>\n",
       "      <th>불안정</th>\n",
       "      <th>베일</th>\n",
       "      <th>단계</th>\n",
       "      <th>시공간</th>\n",
       "      <th>주디</th>\n",
       "      <th>윤계상</th>\n",
       "      <th>차기작</th>\n",
       "      <th>일관성</th>\n",
       "    </tr>\n",
       "  </thead>\n",
       "  <tbody>\n",
       "    <tr>\n",
       "      <th>0</th>\n",
       "      <td>0.180461</td>\n",
       "      <td>0.000000</td>\n",
       "      <td>0.000000</td>\n",
       "      <td>0.0</td>\n",
       "      <td>0.102781</td>\n",
       "      <td>0.000000</td>\n",
       "      <td>0.0</td>\n",
       "      <td>0.107039</td>\n",
       "      <td>0.0</td>\n",
       "      <td>0.000000</td>\n",
       "      <td>...</td>\n",
       "      <td>0.0</td>\n",
       "      <td>0.0</td>\n",
       "      <td>0.0</td>\n",
       "      <td>0.0</td>\n",
       "      <td>0.0</td>\n",
       "      <td>0.0</td>\n",
       "      <td>0.0</td>\n",
       "      <td>0.0</td>\n",
       "      <td>0.0</td>\n",
       "      <td>0.0</td>\n",
       "    </tr>\n",
       "    <tr>\n",
       "      <th>1</th>\n",
       "      <td>0.000000</td>\n",
       "      <td>0.000000</td>\n",
       "      <td>0.000000</td>\n",
       "      <td>0.0</td>\n",
       "      <td>0.000000</td>\n",
       "      <td>0.000000</td>\n",
       "      <td>0.0</td>\n",
       "      <td>0.000000</td>\n",
       "      <td>0.0</td>\n",
       "      <td>0.182748</td>\n",
       "      <td>...</td>\n",
       "      <td>0.0</td>\n",
       "      <td>0.0</td>\n",
       "      <td>0.0</td>\n",
       "      <td>0.0</td>\n",
       "      <td>0.0</td>\n",
       "      <td>0.0</td>\n",
       "      <td>0.0</td>\n",
       "      <td>0.0</td>\n",
       "      <td>0.0</td>\n",
       "      <td>0.0</td>\n",
       "    </tr>\n",
       "    <tr>\n",
       "      <th>2</th>\n",
       "      <td>0.000000</td>\n",
       "      <td>0.000000</td>\n",
       "      <td>0.000000</td>\n",
       "      <td>0.0</td>\n",
       "      <td>0.000000</td>\n",
       "      <td>0.000000</td>\n",
       "      <td>0.0</td>\n",
       "      <td>0.000000</td>\n",
       "      <td>0.0</td>\n",
       "      <td>0.000000</td>\n",
       "      <td>...</td>\n",
       "      <td>0.0</td>\n",
       "      <td>0.0</td>\n",
       "      <td>0.0</td>\n",
       "      <td>0.0</td>\n",
       "      <td>0.0</td>\n",
       "      <td>0.0</td>\n",
       "      <td>0.0</td>\n",
       "      <td>0.0</td>\n",
       "      <td>0.0</td>\n",
       "      <td>0.0</td>\n",
       "    </tr>\n",
       "    <tr>\n",
       "      <th>3</th>\n",
       "      <td>0.000000</td>\n",
       "      <td>0.000000</td>\n",
       "      <td>0.000000</td>\n",
       "      <td>0.0</td>\n",
       "      <td>0.000000</td>\n",
       "      <td>0.000000</td>\n",
       "      <td>0.0</td>\n",
       "      <td>0.000000</td>\n",
       "      <td>0.0</td>\n",
       "      <td>0.000000</td>\n",
       "      <td>...</td>\n",
       "      <td>0.0</td>\n",
       "      <td>0.0</td>\n",
       "      <td>0.0</td>\n",
       "      <td>0.0</td>\n",
       "      <td>0.0</td>\n",
       "      <td>0.0</td>\n",
       "      <td>0.0</td>\n",
       "      <td>0.0</td>\n",
       "      <td>0.0</td>\n",
       "      <td>0.0</td>\n",
       "    </tr>\n",
       "    <tr>\n",
       "      <th>4</th>\n",
       "      <td>0.000000</td>\n",
       "      <td>0.000000</td>\n",
       "      <td>0.215610</td>\n",
       "      <td>0.0</td>\n",
       "      <td>0.000000</td>\n",
       "      <td>0.000000</td>\n",
       "      <td>0.0</td>\n",
       "      <td>0.000000</td>\n",
       "      <td>0.0</td>\n",
       "      <td>0.000000</td>\n",
       "      <td>...</td>\n",
       "      <td>0.0</td>\n",
       "      <td>0.0</td>\n",
       "      <td>0.0</td>\n",
       "      <td>0.0</td>\n",
       "      <td>0.0</td>\n",
       "      <td>0.0</td>\n",
       "      <td>0.0</td>\n",
       "      <td>0.0</td>\n",
       "      <td>0.0</td>\n",
       "      <td>0.0</td>\n",
       "    </tr>\n",
       "    <tr>\n",
       "      <th>5</th>\n",
       "      <td>0.000000</td>\n",
       "      <td>0.235321</td>\n",
       "      <td>0.000000</td>\n",
       "      <td>0.0</td>\n",
       "      <td>0.000000</td>\n",
       "      <td>0.000000</td>\n",
       "      <td>0.0</td>\n",
       "      <td>0.000000</td>\n",
       "      <td>0.0</td>\n",
       "      <td>0.000000</td>\n",
       "      <td>...</td>\n",
       "      <td>0.0</td>\n",
       "      <td>0.0</td>\n",
       "      <td>0.0</td>\n",
       "      <td>0.0</td>\n",
       "      <td>0.0</td>\n",
       "      <td>0.0</td>\n",
       "      <td>0.0</td>\n",
       "      <td>0.0</td>\n",
       "      <td>0.0</td>\n",
       "      <td>0.0</td>\n",
       "    </tr>\n",
       "    <tr>\n",
       "      <th>6</th>\n",
       "      <td>0.000000</td>\n",
       "      <td>0.000000</td>\n",
       "      <td>0.187595</td>\n",
       "      <td>0.0</td>\n",
       "      <td>0.000000</td>\n",
       "      <td>0.000000</td>\n",
       "      <td>0.0</td>\n",
       "      <td>0.000000</td>\n",
       "      <td>0.0</td>\n",
       "      <td>0.000000</td>\n",
       "      <td>...</td>\n",
       "      <td>0.0</td>\n",
       "      <td>0.0</td>\n",
       "      <td>0.0</td>\n",
       "      <td>0.0</td>\n",
       "      <td>0.0</td>\n",
       "      <td>0.0</td>\n",
       "      <td>0.0</td>\n",
       "      <td>0.0</td>\n",
       "      <td>0.0</td>\n",
       "      <td>0.0</td>\n",
       "    </tr>\n",
       "    <tr>\n",
       "      <th>7</th>\n",
       "      <td>0.000000</td>\n",
       "      <td>0.000000</td>\n",
       "      <td>0.409504</td>\n",
       "      <td>0.0</td>\n",
       "      <td>0.000000</td>\n",
       "      <td>0.243921</td>\n",
       "      <td>0.0</td>\n",
       "      <td>0.000000</td>\n",
       "      <td>0.0</td>\n",
       "      <td>0.000000</td>\n",
       "      <td>...</td>\n",
       "      <td>0.0</td>\n",
       "      <td>0.0</td>\n",
       "      <td>0.0</td>\n",
       "      <td>0.0</td>\n",
       "      <td>0.0</td>\n",
       "      <td>0.0</td>\n",
       "      <td>0.0</td>\n",
       "      <td>0.0</td>\n",
       "      <td>0.0</td>\n",
       "      <td>0.0</td>\n",
       "    </tr>\n",
       "    <tr>\n",
       "      <th>8</th>\n",
       "      <td>0.000000</td>\n",
       "      <td>0.000000</td>\n",
       "      <td>0.000000</td>\n",
       "      <td>0.0</td>\n",
       "      <td>0.000000</td>\n",
       "      <td>0.000000</td>\n",
       "      <td>0.0</td>\n",
       "      <td>0.000000</td>\n",
       "      <td>0.0</td>\n",
       "      <td>0.000000</td>\n",
       "      <td>...</td>\n",
       "      <td>0.0</td>\n",
       "      <td>0.0</td>\n",
       "      <td>0.0</td>\n",
       "      <td>0.0</td>\n",
       "      <td>0.0</td>\n",
       "      <td>0.0</td>\n",
       "      <td>0.0</td>\n",
       "      <td>0.0</td>\n",
       "      <td>0.0</td>\n",
       "      <td>0.0</td>\n",
       "    </tr>\n",
       "    <tr>\n",
       "      <th>9</th>\n",
       "      <td>0.162439</td>\n",
       "      <td>0.000000</td>\n",
       "      <td>0.000000</td>\n",
       "      <td>0.0</td>\n",
       "      <td>0.185032</td>\n",
       "      <td>0.000000</td>\n",
       "      <td>0.0</td>\n",
       "      <td>0.000000</td>\n",
       "      <td>0.0</td>\n",
       "      <td>0.000000</td>\n",
       "      <td>...</td>\n",
       "      <td>0.0</td>\n",
       "      <td>0.0</td>\n",
       "      <td>0.0</td>\n",
       "      <td>0.0</td>\n",
       "      <td>0.0</td>\n",
       "      <td>0.0</td>\n",
       "      <td>0.0</td>\n",
       "      <td>0.0</td>\n",
       "      <td>0.0</td>\n",
       "      <td>0.0</td>\n",
       "    </tr>\n",
       "  </tbody>\n",
       "</table>\n",
       "<p>10 rows × 1000 columns</p>\n",
       "</div>"
      ],
      "text/plain": [
       "         사랑       스토리        감독   느낌       마지막       배우들   소재        정도   자신  \\\n",
       "0  0.180461  0.000000  0.000000  0.0  0.102781  0.000000  0.0  0.107039  0.0   \n",
       "1  0.000000  0.000000  0.000000  0.0  0.000000  0.000000  0.0  0.000000  0.0   \n",
       "2  0.000000  0.000000  0.000000  0.0  0.000000  0.000000  0.0  0.000000  0.0   \n",
       "3  0.000000  0.000000  0.000000  0.0  0.000000  0.000000  0.0  0.000000  0.0   \n",
       "4  0.000000  0.000000  0.215610  0.0  0.000000  0.000000  0.0  0.000000  0.0   \n",
       "5  0.000000  0.235321  0.000000  0.0  0.000000  0.000000  0.0  0.000000  0.0   \n",
       "6  0.000000  0.000000  0.187595  0.0  0.000000  0.000000  0.0  0.000000  0.0   \n",
       "7  0.000000  0.000000  0.409504  0.0  0.000000  0.243921  0.0  0.000000  0.0   \n",
       "8  0.000000  0.000000  0.000000  0.0  0.000000  0.000000  0.0  0.000000  0.0   \n",
       "9  0.162439  0.000000  0.000000  0.0  0.185032  0.000000  0.0  0.000000  0.0   \n",
       "\n",
       "        사람들 ...    열망   달빛  불안정   베일   단계  시공간   주디  윤계상  차기작  일관성  \n",
       "0  0.000000 ...   0.0  0.0  0.0  0.0  0.0  0.0  0.0  0.0  0.0  0.0  \n",
       "1  0.182748 ...   0.0  0.0  0.0  0.0  0.0  0.0  0.0  0.0  0.0  0.0  \n",
       "2  0.000000 ...   0.0  0.0  0.0  0.0  0.0  0.0  0.0  0.0  0.0  0.0  \n",
       "3  0.000000 ...   0.0  0.0  0.0  0.0  0.0  0.0  0.0  0.0  0.0  0.0  \n",
       "4  0.000000 ...   0.0  0.0  0.0  0.0  0.0  0.0  0.0  0.0  0.0  0.0  \n",
       "5  0.000000 ...   0.0  0.0  0.0  0.0  0.0  0.0  0.0  0.0  0.0  0.0  \n",
       "6  0.000000 ...   0.0  0.0  0.0  0.0  0.0  0.0  0.0  0.0  0.0  0.0  \n",
       "7  0.000000 ...   0.0  0.0  0.0  0.0  0.0  0.0  0.0  0.0  0.0  0.0  \n",
       "8  0.000000 ...   0.0  0.0  0.0  0.0  0.0  0.0  0.0  0.0  0.0  0.0  \n",
       "9  0.000000 ...   0.0  0.0  0.0  0.0  0.0  0.0  0.0  0.0  0.0  0.0  \n",
       "\n",
       "[10 rows x 1000 columns]"
      ]
     },
     "execution_count": 234,
     "metadata": {},
     "output_type": "execute_result"
    }
   ],
   "source": [
    "data = pd.DataFrame(DTM[:,idx_70].toarray(), columns=tfidf_dict)\n",
    "data.head(10)"
   ]
  },
  {
   "cell_type": "code",
   "execution_count": 235,
   "metadata": {
    "collapsed": false
   },
   "outputs": [
    {
     "data": {
      "text/plain": [
       "(11675, 1000)"
      ]
     },
     "execution_count": 235,
     "metadata": {},
     "output_type": "execute_result"
    }
   ],
   "source": [
    "data.shape"
   ]
  },
  {
   "cell_type": "code",
   "execution_count": 236,
   "metadata": {
    "collapsed": true
   },
   "outputs": [],
   "source": [
    "data['rating']=sample_rating_2['rating']"
   ]
  },
  {
   "cell_type": "code",
   "execution_count": 239,
   "metadata": {
    "collapsed": false,
    "scrolled": false
   },
   "outputs": [
    {
     "data": {
      "text/html": [
       "<div>\n",
       "<style>\n",
       "    .dataframe thead tr:only-child th {\n",
       "        text-align: right;\n",
       "    }\n",
       "\n",
       "    .dataframe thead th {\n",
       "        text-align: left;\n",
       "    }\n",
       "\n",
       "    .dataframe tbody tr th {\n",
       "        vertical-align: top;\n",
       "    }\n",
       "</style>\n",
       "<table border=\"1\" class=\"dataframe\">\n",
       "  <thead>\n",
       "    <tr style=\"text-align: right;\">\n",
       "      <th></th>\n",
       "      <th>사랑</th>\n",
       "      <th>스토리</th>\n",
       "      <th>감독</th>\n",
       "      <th>느낌</th>\n",
       "      <th>마지막</th>\n",
       "      <th>배우들</th>\n",
       "      <th>소재</th>\n",
       "      <th>정도</th>\n",
       "      <th>자신</th>\n",
       "      <th>사람들</th>\n",
       "      <th>...</th>\n",
       "      <th>달빛</th>\n",
       "      <th>불안정</th>\n",
       "      <th>베일</th>\n",
       "      <th>단계</th>\n",
       "      <th>시공간</th>\n",
       "      <th>주디</th>\n",
       "      <th>윤계상</th>\n",
       "      <th>차기작</th>\n",
       "      <th>일관성</th>\n",
       "      <th>rating</th>\n",
       "    </tr>\n",
       "  </thead>\n",
       "  <tbody>\n",
       "    <tr>\n",
       "      <th>0</th>\n",
       "      <td>0.180461</td>\n",
       "      <td>0.0</td>\n",
       "      <td>0.00000</td>\n",
       "      <td>0.0</td>\n",
       "      <td>0.102781</td>\n",
       "      <td>0.0</td>\n",
       "      <td>0.0</td>\n",
       "      <td>0.107039</td>\n",
       "      <td>0.0</td>\n",
       "      <td>0.000000</td>\n",
       "      <td>...</td>\n",
       "      <td>0.0</td>\n",
       "      <td>0.0</td>\n",
       "      <td>0.0</td>\n",
       "      <td>0.0</td>\n",
       "      <td>0.0</td>\n",
       "      <td>0.0</td>\n",
       "      <td>0.0</td>\n",
       "      <td>0.0</td>\n",
       "      <td>0.0</td>\n",
       "      <td>0.5</td>\n",
       "    </tr>\n",
       "    <tr>\n",
       "      <th>1</th>\n",
       "      <td>0.000000</td>\n",
       "      <td>0.0</td>\n",
       "      <td>0.00000</td>\n",
       "      <td>0.0</td>\n",
       "      <td>0.000000</td>\n",
       "      <td>0.0</td>\n",
       "      <td>0.0</td>\n",
       "      <td>0.000000</td>\n",
       "      <td>0.0</td>\n",
       "      <td>0.182748</td>\n",
       "      <td>...</td>\n",
       "      <td>0.0</td>\n",
       "      <td>0.0</td>\n",
       "      <td>0.0</td>\n",
       "      <td>0.0</td>\n",
       "      <td>0.0</td>\n",
       "      <td>0.0</td>\n",
       "      <td>0.0</td>\n",
       "      <td>0.0</td>\n",
       "      <td>0.0</td>\n",
       "      <td>0.5</td>\n",
       "    </tr>\n",
       "    <tr>\n",
       "      <th>2</th>\n",
       "      <td>0.000000</td>\n",
       "      <td>0.0</td>\n",
       "      <td>0.00000</td>\n",
       "      <td>0.0</td>\n",
       "      <td>0.000000</td>\n",
       "      <td>0.0</td>\n",
       "      <td>0.0</td>\n",
       "      <td>0.000000</td>\n",
       "      <td>0.0</td>\n",
       "      <td>0.000000</td>\n",
       "      <td>...</td>\n",
       "      <td>0.0</td>\n",
       "      <td>0.0</td>\n",
       "      <td>0.0</td>\n",
       "      <td>0.0</td>\n",
       "      <td>0.0</td>\n",
       "      <td>0.0</td>\n",
       "      <td>0.0</td>\n",
       "      <td>0.0</td>\n",
       "      <td>0.0</td>\n",
       "      <td>0.5</td>\n",
       "    </tr>\n",
       "    <tr>\n",
       "      <th>3</th>\n",
       "      <td>0.000000</td>\n",
       "      <td>0.0</td>\n",
       "      <td>0.00000</td>\n",
       "      <td>0.0</td>\n",
       "      <td>0.000000</td>\n",
       "      <td>0.0</td>\n",
       "      <td>0.0</td>\n",
       "      <td>0.000000</td>\n",
       "      <td>0.0</td>\n",
       "      <td>0.000000</td>\n",
       "      <td>...</td>\n",
       "      <td>0.0</td>\n",
       "      <td>0.0</td>\n",
       "      <td>0.0</td>\n",
       "      <td>0.0</td>\n",
       "      <td>0.0</td>\n",
       "      <td>0.0</td>\n",
       "      <td>0.0</td>\n",
       "      <td>0.0</td>\n",
       "      <td>0.0</td>\n",
       "      <td>0.5</td>\n",
       "    </tr>\n",
       "    <tr>\n",
       "      <th>4</th>\n",
       "      <td>0.000000</td>\n",
       "      <td>0.0</td>\n",
       "      <td>0.21561</td>\n",
       "      <td>0.0</td>\n",
       "      <td>0.000000</td>\n",
       "      <td>0.0</td>\n",
       "      <td>0.0</td>\n",
       "      <td>0.000000</td>\n",
       "      <td>0.0</td>\n",
       "      <td>0.000000</td>\n",
       "      <td>...</td>\n",
       "      <td>0.0</td>\n",
       "      <td>0.0</td>\n",
       "      <td>0.0</td>\n",
       "      <td>0.0</td>\n",
       "      <td>0.0</td>\n",
       "      <td>0.0</td>\n",
       "      <td>0.0</td>\n",
       "      <td>0.0</td>\n",
       "      <td>0.0</td>\n",
       "      <td>0.5</td>\n",
       "    </tr>\n",
       "  </tbody>\n",
       "</table>\n",
       "<p>5 rows × 1001 columns</p>\n",
       "</div>"
      ],
      "text/plain": [
       "         사랑  스토리       감독   느낌       마지막  배우들   소재        정도   자신       사람들  \\\n",
       "0  0.180461  0.0  0.00000  0.0  0.102781  0.0  0.0  0.107039  0.0  0.000000   \n",
       "1  0.000000  0.0  0.00000  0.0  0.000000  0.0  0.0  0.000000  0.0  0.182748   \n",
       "2  0.000000  0.0  0.00000  0.0  0.000000  0.0  0.0  0.000000  0.0  0.000000   \n",
       "3  0.000000  0.0  0.00000  0.0  0.000000  0.0  0.0  0.000000  0.0  0.000000   \n",
       "4  0.000000  0.0  0.21561  0.0  0.000000  0.0  0.0  0.000000  0.0  0.000000   \n",
       "\n",
       "    ...     달빛  불안정   베일   단계  시공간   주디  윤계상  차기작  일관성  rating  \n",
       "0   ...    0.0  0.0  0.0  0.0  0.0  0.0  0.0  0.0  0.0     0.5  \n",
       "1   ...    0.0  0.0  0.0  0.0  0.0  0.0  0.0  0.0  0.0     0.5  \n",
       "2   ...    0.0  0.0  0.0  0.0  0.0  0.0  0.0  0.0  0.0     0.5  \n",
       "3   ...    0.0  0.0  0.0  0.0  0.0  0.0  0.0  0.0  0.0     0.5  \n",
       "4   ...    0.0  0.0  0.0  0.0  0.0  0.0  0.0  0.0  0.0     0.5  \n",
       "\n",
       "[5 rows x 1001 columns]"
      ]
     },
     "execution_count": 239,
     "metadata": {},
     "output_type": "execute_result"
    }
   ],
   "source": [
    "data.head()"
   ]
  },
  {
   "cell_type": "markdown",
   "metadata": {},
   "source": [
    "## training , test 나누기"
   ]
  },
  {
   "cell_type": "code",
   "execution_count": 241,
   "metadata": {
    "collapsed": true
   },
   "outputs": [],
   "source": [
    "from sklearn.model_selection import train_test_split"
   ]
  },
  {
   "cell_type": "code",
   "execution_count": 250,
   "metadata": {
    "collapsed": false
   },
   "outputs": [
    {
     "data": {
      "text/html": [
       "<div>\n",
       "<style>\n",
       "    .dataframe thead tr:only-child th {\n",
       "        text-align: right;\n",
       "    }\n",
       "\n",
       "    .dataframe thead th {\n",
       "        text-align: left;\n",
       "    }\n",
       "\n",
       "    .dataframe tbody tr th {\n",
       "        vertical-align: top;\n",
       "    }\n",
       "</style>\n",
       "<table border=\"1\" class=\"dataframe\">\n",
       "  <thead>\n",
       "    <tr style=\"text-align: right;\">\n",
       "      <th></th>\n",
       "      <th>사랑</th>\n",
       "      <th>스토리</th>\n",
       "      <th>감독</th>\n",
       "      <th>느낌</th>\n",
       "      <th>마지막</th>\n",
       "      <th>배우들</th>\n",
       "      <th>소재</th>\n",
       "      <th>정도</th>\n",
       "      <th>자신</th>\n",
       "      <th>사람들</th>\n",
       "      <th>...</th>\n",
       "      <th>열망</th>\n",
       "      <th>달빛</th>\n",
       "      <th>불안정</th>\n",
       "      <th>베일</th>\n",
       "      <th>단계</th>\n",
       "      <th>시공간</th>\n",
       "      <th>주디</th>\n",
       "      <th>윤계상</th>\n",
       "      <th>차기작</th>\n",
       "      <th>일관성</th>\n",
       "    </tr>\n",
       "  </thead>\n",
       "  <tbody>\n",
       "    <tr>\n",
       "      <th>0</th>\n",
       "      <td>0.180461</td>\n",
       "      <td>0.0</td>\n",
       "      <td>0.00000</td>\n",
       "      <td>0.0</td>\n",
       "      <td>0.102781</td>\n",
       "      <td>0.0</td>\n",
       "      <td>0.0</td>\n",
       "      <td>0.107039</td>\n",
       "      <td>0.0</td>\n",
       "      <td>0.000000</td>\n",
       "      <td>...</td>\n",
       "      <td>0.0</td>\n",
       "      <td>0.0</td>\n",
       "      <td>0.0</td>\n",
       "      <td>0.0</td>\n",
       "      <td>0.0</td>\n",
       "      <td>0.0</td>\n",
       "      <td>0.0</td>\n",
       "      <td>0.0</td>\n",
       "      <td>0.0</td>\n",
       "      <td>0.0</td>\n",
       "    </tr>\n",
       "    <tr>\n",
       "      <th>1</th>\n",
       "      <td>0.000000</td>\n",
       "      <td>0.0</td>\n",
       "      <td>0.00000</td>\n",
       "      <td>0.0</td>\n",
       "      <td>0.000000</td>\n",
       "      <td>0.0</td>\n",
       "      <td>0.0</td>\n",
       "      <td>0.000000</td>\n",
       "      <td>0.0</td>\n",
       "      <td>0.182748</td>\n",
       "      <td>...</td>\n",
       "      <td>0.0</td>\n",
       "      <td>0.0</td>\n",
       "      <td>0.0</td>\n",
       "      <td>0.0</td>\n",
       "      <td>0.0</td>\n",
       "      <td>0.0</td>\n",
       "      <td>0.0</td>\n",
       "      <td>0.0</td>\n",
       "      <td>0.0</td>\n",
       "      <td>0.0</td>\n",
       "    </tr>\n",
       "    <tr>\n",
       "      <th>2</th>\n",
       "      <td>0.000000</td>\n",
       "      <td>0.0</td>\n",
       "      <td>0.00000</td>\n",
       "      <td>0.0</td>\n",
       "      <td>0.000000</td>\n",
       "      <td>0.0</td>\n",
       "      <td>0.0</td>\n",
       "      <td>0.000000</td>\n",
       "      <td>0.0</td>\n",
       "      <td>0.000000</td>\n",
       "      <td>...</td>\n",
       "      <td>0.0</td>\n",
       "      <td>0.0</td>\n",
       "      <td>0.0</td>\n",
       "      <td>0.0</td>\n",
       "      <td>0.0</td>\n",
       "      <td>0.0</td>\n",
       "      <td>0.0</td>\n",
       "      <td>0.0</td>\n",
       "      <td>0.0</td>\n",
       "      <td>0.0</td>\n",
       "    </tr>\n",
       "    <tr>\n",
       "      <th>3</th>\n",
       "      <td>0.000000</td>\n",
       "      <td>0.0</td>\n",
       "      <td>0.00000</td>\n",
       "      <td>0.0</td>\n",
       "      <td>0.000000</td>\n",
       "      <td>0.0</td>\n",
       "      <td>0.0</td>\n",
       "      <td>0.000000</td>\n",
       "      <td>0.0</td>\n",
       "      <td>0.000000</td>\n",
       "      <td>...</td>\n",
       "      <td>0.0</td>\n",
       "      <td>0.0</td>\n",
       "      <td>0.0</td>\n",
       "      <td>0.0</td>\n",
       "      <td>0.0</td>\n",
       "      <td>0.0</td>\n",
       "      <td>0.0</td>\n",
       "      <td>0.0</td>\n",
       "      <td>0.0</td>\n",
       "      <td>0.0</td>\n",
       "    </tr>\n",
       "    <tr>\n",
       "      <th>4</th>\n",
       "      <td>0.000000</td>\n",
       "      <td>0.0</td>\n",
       "      <td>0.21561</td>\n",
       "      <td>0.0</td>\n",
       "      <td>0.000000</td>\n",
       "      <td>0.0</td>\n",
       "      <td>0.0</td>\n",
       "      <td>0.000000</td>\n",
       "      <td>0.0</td>\n",
       "      <td>0.000000</td>\n",
       "      <td>...</td>\n",
       "      <td>0.0</td>\n",
       "      <td>0.0</td>\n",
       "      <td>0.0</td>\n",
       "      <td>0.0</td>\n",
       "      <td>0.0</td>\n",
       "      <td>0.0</td>\n",
       "      <td>0.0</td>\n",
       "      <td>0.0</td>\n",
       "      <td>0.0</td>\n",
       "      <td>0.0</td>\n",
       "    </tr>\n",
       "  </tbody>\n",
       "</table>\n",
       "<p>5 rows × 1000 columns</p>\n",
       "</div>"
      ],
      "text/plain": [
       "         사랑  스토리       감독   느낌       마지막  배우들   소재        정도   자신       사람들  \\\n",
       "0  0.180461  0.0  0.00000  0.0  0.102781  0.0  0.0  0.107039  0.0  0.000000   \n",
       "1  0.000000  0.0  0.00000  0.0  0.000000  0.0  0.0  0.000000  0.0  0.182748   \n",
       "2  0.000000  0.0  0.00000  0.0  0.000000  0.0  0.0  0.000000  0.0  0.000000   \n",
       "3  0.000000  0.0  0.00000  0.0  0.000000  0.0  0.0  0.000000  0.0  0.000000   \n",
       "4  0.000000  0.0  0.21561  0.0  0.000000  0.0  0.0  0.000000  0.0  0.000000   \n",
       "\n",
       "  ...    열망   달빛  불안정   베일   단계  시공간   주디  윤계상  차기작  일관성  \n",
       "0 ...   0.0  0.0  0.0  0.0  0.0  0.0  0.0  0.0  0.0  0.0  \n",
       "1 ...   0.0  0.0  0.0  0.0  0.0  0.0  0.0  0.0  0.0  0.0  \n",
       "2 ...   0.0  0.0  0.0  0.0  0.0  0.0  0.0  0.0  0.0  0.0  \n",
       "3 ...   0.0  0.0  0.0  0.0  0.0  0.0  0.0  0.0  0.0  0.0  \n",
       "4 ...   0.0  0.0  0.0  0.0  0.0  0.0  0.0  0.0  0.0  0.0  \n",
       "\n",
       "[5 rows x 1000 columns]"
      ]
     },
     "execution_count": 250,
     "metadata": {},
     "output_type": "execute_result"
    }
   ],
   "source": [
    "data.drop(['rating'],axis=1).head()"
   ]
  },
  {
   "cell_type": "code",
   "execution_count": 251,
   "metadata": {
    "collapsed": false,
    "scrolled": true
   },
   "outputs": [
    {
     "data": {
      "text/plain": [
       "0    0.5\n",
       "1    0.5\n",
       "2    0.5\n",
       "3    0.5\n",
       "4    0.5\n",
       "Name: rating, dtype: float64"
      ]
     },
     "execution_count": 251,
     "metadata": {},
     "output_type": "execute_result"
    }
   ],
   "source": [
    "data['rating'].head()"
   ]
  },
  {
   "cell_type": "code",
   "execution_count": 254,
   "metadata": {
    "collapsed": false,
    "scrolled": true
   },
   "outputs": [
    {
     "data": {
      "text/plain": [
       "(11675, 1000)"
      ]
     },
     "execution_count": 254,
     "metadata": {},
     "output_type": "execute_result"
    }
   ],
   "source": [
    "data.drop(['rating'],axis=1).values.shape"
   ]
  },
  {
   "cell_type": "code",
   "execution_count": 255,
   "metadata": {
    "collapsed": false,
    "scrolled": true
   },
   "outputs": [
    {
     "data": {
      "text/plain": [
       "(11675,)"
      ]
     },
     "execution_count": 255,
     "metadata": {},
     "output_type": "execute_result"
    }
   ],
   "source": [
    "data['rating'].values.shape"
   ]
  },
  {
   "cell_type": "code",
   "execution_count": 258,
   "metadata": {
    "collapsed": true
   },
   "outputs": [],
   "source": [
    "X= data.drop(['rating'],axis=1).values\n",
    "y= data['rating'].values"
   ]
  },
  {
   "cell_type": "code",
   "execution_count": 262,
   "metadata": {
    "collapsed": false
   },
   "outputs": [
    {
     "name": "stdout",
     "output_type": "stream",
     "text": [
      "(8172, 1000) (3503, 1000) (8172,) (3503,)\n"
     ]
    }
   ],
   "source": [
    "train_x, test_x, train_y, test_y = train_test_split(data.drop(['rating'],axis=1), \n",
    "                                                    data['rating'],\n",
    "                                                    test_size=0.3)\n",
    "\n",
    "\n",
    "print(train_x.shape, test_x.shape, train_y.shape, test_y.shape)"
   ]
  },
  {
   "cell_type": "code",
   "execution_count": 266,
   "metadata": {
    "collapsed": true
   },
   "outputs": [],
   "source": [
    "from sklearn.linear_model import LinearRegression\n",
    "\n",
    "LR = LinearRegression(n_jobs=3) # 선형회귀분석 정의하기\n",
    "\n"
   ]
  },
  {
   "cell_type": "code",
   "execution_count": 267,
   "metadata": {
    "collapsed": false
   },
   "outputs": [
    {
     "data": {
      "text/plain": [
       "LinearRegression(copy_X=True, fit_intercept=True, n_jobs=3, normalize=False)"
      ]
     },
     "execution_count": 267,
     "metadata": {},
     "output_type": "execute_result"
    }
   ],
   "source": [
    "LR.fit(X=train_x, y=train_y) # 학습데이터 정의하기"
   ]
  },
  {
   "cell_type": "code",
   "execution_count": 268,
   "metadata": {
    "collapsed": true
   },
   "outputs": [],
   "source": [
    "pred =LR.predict(test_x)\n",
    "true = test_y"
   ]
  },
  {
   "cell_type": "code",
   "execution_count": 269,
   "metadata": {
    "collapsed": false
   },
   "outputs": [
    {
     "data": {
      "text/plain": [
       "1.0380350038496258"
      ]
     },
     "execution_count": 269,
     "metadata": {},
     "output_type": "execute_result"
    }
   ],
   "source": [
    "np.mean(np.abs(true-pred))"
   ]
  },
  {
   "cell_type": "code",
   "execution_count": 272,
   "metadata": {
    "collapsed": false
   },
   "outputs": [
    {
     "data": {
      "text/html": [
       "<div>\n",
       "<style>\n",
       "    .dataframe thead tr:only-child th {\n",
       "        text-align: right;\n",
       "    }\n",
       "\n",
       "    .dataframe thead th {\n",
       "        text-align: left;\n",
       "    }\n",
       "\n",
       "    .dataframe tbody tr th {\n",
       "        vertical-align: top;\n",
       "    }\n",
       "</style>\n",
       "<table border=\"1\" class=\"dataframe\">\n",
       "  <thead>\n",
       "    <tr style=\"text-align: right;\">\n",
       "      <th></th>\n",
       "      <th>pred</th>\n",
       "      <th>true</th>\n",
       "    </tr>\n",
       "  </thead>\n",
       "  <tbody>\n",
       "    <tr>\n",
       "      <th>8337</th>\n",
       "      <td>3.046437</td>\n",
       "      <td>4.0</td>\n",
       "    </tr>\n",
       "    <tr>\n",
       "      <th>578</th>\n",
       "      <td>2.416984</td>\n",
       "      <td>0.5</td>\n",
       "    </tr>\n",
       "    <tr>\n",
       "      <th>2872</th>\n",
       "      <td>3.173952</td>\n",
       "      <td>2.0</td>\n",
       "    </tr>\n",
       "    <tr>\n",
       "      <th>6957</th>\n",
       "      <td>3.034293</td>\n",
       "      <td>3.5</td>\n",
       "    </tr>\n",
       "    <tr>\n",
       "      <th>3732</th>\n",
       "      <td>0.977538</td>\n",
       "      <td>2.5</td>\n",
       "    </tr>\n",
       "    <tr>\n",
       "      <th>9783</th>\n",
       "      <td>3.503906</td>\n",
       "      <td>4.5</td>\n",
       "    </tr>\n",
       "    <tr>\n",
       "      <th>8818</th>\n",
       "      <td>4.185421</td>\n",
       "      <td>4.5</td>\n",
       "    </tr>\n",
       "    <tr>\n",
       "      <th>2385</th>\n",
       "      <td>2.216716</td>\n",
       "      <td>1.5</td>\n",
       "    </tr>\n",
       "    <tr>\n",
       "      <th>3711</th>\n",
       "      <td>1.565314</td>\n",
       "      <td>2.5</td>\n",
       "    </tr>\n",
       "    <tr>\n",
       "      <th>4303</th>\n",
       "      <td>2.734981</td>\n",
       "      <td>2.5</td>\n",
       "    </tr>\n",
       "  </tbody>\n",
       "</table>\n",
       "</div>"
      ],
      "text/plain": [
       "          pred  true\n",
       "8337  3.046437   4.0\n",
       "578   2.416984   0.5\n",
       "2872  3.173952   2.0\n",
       "6957  3.034293   3.5\n",
       "3732  0.977538   2.5\n",
       "9783  3.503906   4.5\n",
       "8818  4.185421   4.5\n",
       "2385  2.216716   1.5\n",
       "3711  1.565314   2.5\n",
       "4303  2.734981   2.5"
      ]
     },
     "execution_count": 272,
     "metadata": {},
     "output_type": "execute_result"
    }
   ],
   "source": [
    "pd.DataFrame({'true':true,'pred':pred}).head(10)"
   ]
  },
  {
   "cell_type": "code",
   "execution_count": 273,
   "metadata": {
    "collapsed": true
   },
   "outputs": [],
   "source": [
    "from sklearn.svm import SVR"
   ]
  },
  {
   "cell_type": "code",
   "execution_count": 274,
   "metadata": {
    "collapsed": true
   },
   "outputs": [],
   "source": [
    "clf = SVR()"
   ]
  },
  {
   "cell_type": "code",
   "execution_count": 275,
   "metadata": {
    "collapsed": false
   },
   "outputs": [
    {
     "data": {
      "text/plain": [
       "SVR(C=1.0, cache_size=200, coef0=0.0, degree=3, epsilon=0.1, gamma='auto',\n",
       "  kernel='rbf', max_iter=-1, shrinking=True, tol=0.001, verbose=False)"
      ]
     },
     "execution_count": 275,
     "metadata": {},
     "output_type": "execute_result"
    }
   ],
   "source": [
    "clf"
   ]
  },
  {
   "cell_type": "code",
   "execution_count": 293,
   "metadata": {
    "collapsed": true
   },
   "outputs": [],
   "source": [
    "clf = SVR(C=500)"
   ]
  },
  {
   "cell_type": "markdown",
   "metadata": {},
   "source": [
    "C <- 모델의 유연성 패널티, 클수록 유연성이 적어지다.\n",
    "epsilon <- 클스록 피팅 영역안에서 학습의 대상을 선정한다.  epsilon 커질수록 선형에 가까워진다. C보다 영향도는 적다. 일반적으로 default로 운용"
   ]
  },
  {
   "cell_type": "code",
   "execution_count": 294,
   "metadata": {
    "collapsed": false
   },
   "outputs": [
    {
     "data": {
      "text/plain": [
       "SVR(C=500, cache_size=200, coef0=0.0, degree=3, epsilon=0.1, gamma='auto',\n",
       "  kernel='rbf', max_iter=-1, shrinking=True, tol=0.001, verbose=False)"
      ]
     },
     "execution_count": 294,
     "metadata": {},
     "output_type": "execute_result"
    }
   ],
   "source": [
    "clf.fit(X=train_x, y=train_y) # 학습데이터 정의하기"
   ]
  },
  {
   "cell_type": "code",
   "execution_count": 295,
   "metadata": {
    "collapsed": true
   },
   "outputs": [],
   "source": [
    "pred =clf.predict(test_x)\n",
    "true = test_y"
   ]
  },
  {
   "cell_type": "code",
   "execution_count": 296,
   "metadata": {
    "collapsed": false,
    "scrolled": true
   },
   "outputs": [
    {
     "data": {
      "text/plain": [
       "1.0119317938071135"
      ]
     },
     "execution_count": 296,
     "metadata": {},
     "output_type": "execute_result"
    }
   ],
   "source": [
    "np.mean(np.abs(true-pred))"
   ]
  },
  {
   "cell_type": "code",
   "execution_count": 330,
   "metadata": {
    "collapsed": false,
    "scrolled": true
   },
   "outputs": [
    {
     "data": {
      "text/plain": [
       "8337     4.0\n",
       "578      0.5\n",
       "2872     2.0\n",
       "6957     3.5\n",
       "3732     2.5\n",
       "9783     4.5\n",
       "8818     4.5\n",
       "2385     1.5\n",
       "3711     2.5\n",
       "4303     2.5\n",
       "485      0.5\n",
       "3483     2.0\n",
       "8099     4.0\n",
       "10855    5.0\n",
       "4142     2.5\n",
       "1283     1.0\n",
       "3962     2.5\n",
       "7443     4.0\n",
       "2980     2.0\n",
       "8621     4.0\n",
       "8895     4.5\n",
       "3246     2.0\n",
       "2874     2.0\n",
       "8540     4.0\n",
       "11321    5.0\n",
       "1339     1.0\n",
       "2118     1.5\n",
       "9460     4.5\n",
       "5482     3.0\n",
       "5272     3.0\n",
       "        ... \n",
       "4408     2.5\n",
       "7653     4.0\n",
       "2619     1.5\n",
       "11277    5.0\n",
       "3795     2.5\n",
       "8178     4.0\n",
       "4192     2.5\n",
       "10570    5.0\n",
       "7697     4.0\n",
       "4544     2.5\n",
       "3211     2.0\n",
       "10915    5.0\n",
       "7291     3.5\n",
       "8870     4.5\n",
       "11412    5.0\n",
       "2389     1.5\n",
       "4545     2.5\n",
       "2563     1.5\n",
       "2460     1.5\n",
       "9110     4.5\n",
       "6868     3.5\n",
       "3329     2.0\n",
       "8391     4.0\n",
       "9159     4.5\n",
       "1764     1.0\n",
       "4557     2.5\n",
       "4751     2.5\n",
       "11067    5.0\n",
       "8659     4.0\n",
       "2798     2.0\n",
       "Name: rating, Length: 3503, dtype: float64"
      ]
     },
     "execution_count": 330,
     "metadata": {},
     "output_type": "execute_result"
    }
   ],
   "source": [
    "true"
   ]
  },
  {
   "cell_type": "code",
   "execution_count": 334,
   "metadata": {
    "collapsed": false,
    "scrolled": true
   },
   "outputs": [
    {
     "data": {
      "text/plain": [
       "8337     4.0\n",
       "578      0.5\n",
       "2872     2.0\n",
       "6957     3.5\n",
       "3732     2.5\n",
       "9783     4.5\n",
       "8818     4.5\n",
       "2385     1.5\n",
       "3711     2.5\n",
       "4303     2.5\n",
       "485      0.5\n",
       "3483     2.0\n",
       "8099     4.0\n",
       "10855    5.0\n",
       "4142     2.5\n",
       "1283     1.0\n",
       "3962     2.5\n",
       "7443     4.0\n",
       "2980     2.0\n",
       "8621     4.0\n",
       "8895     4.5\n",
       "3246     2.0\n",
       "2874     2.0\n",
       "8540     4.0\n",
       "11321    5.0\n",
       "1339     1.0\n",
       "2118     1.5\n",
       "9460     4.5\n",
       "5482     3.0\n",
       "5272     3.0\n",
       "        ... \n",
       "4408     2.5\n",
       "7653     4.0\n",
       "2619     1.5\n",
       "11277    5.0\n",
       "3795     2.5\n",
       "8178     4.0\n",
       "4192     2.5\n",
       "10570    5.0\n",
       "7697     4.0\n",
       "4544     2.5\n",
       "3211     2.0\n",
       "10915    5.0\n",
       "7291     3.5\n",
       "8870     4.5\n",
       "11412    5.0\n",
       "2389     1.5\n",
       "4545     2.5\n",
       "2563     1.5\n",
       "2460     1.5\n",
       "9110     4.5\n",
       "6868     3.5\n",
       "3329     2.0\n",
       "8391     4.0\n",
       "9159     4.5\n",
       "1764     1.0\n",
       "4557     2.5\n",
       "4751     2.5\n",
       "11067    5.0\n",
       "8659     4.0\n",
       "2798     2.0\n",
       "Name: rating, Length: 3503, dtype: float64"
      ]
     },
     "execution_count": 334,
     "metadata": {},
     "output_type": "execute_result"
    }
   ],
   "source": [
    "true"
   ]
  },
  {
   "cell_type": "code",
   "execution_count": 338,
   "metadata": {
    "collapsed": false
   },
   "outputs": [
    {
     "data": {
      "text/plain": [
       "array([3.0475    , 1.3125    , 2.34      , ..., 3.62856944, 3.8782162 ,\n",
       "       2.4375    ])"
      ]
     },
     "execution_count": 338,
     "metadata": {},
     "output_type": "execute_result"
    }
   ],
   "source": [
    "pred"
   ]
  },
  {
   "cell_type": "code",
   "execution_count": 339,
   "metadata": {
    "collapsed": true
   },
   "outputs": [],
   "source": [
    "r_df = pd.DataFrame({'true':true.values,'pred':pred})"
   ]
  },
  {
   "cell_type": "code",
   "execution_count": 351,
   "metadata": {
    "collapsed": true
   },
   "outputs": [],
   "source": [
    "r_df= pd.DataFrame(sorted(r_df.values, key= lambda x : x[1], reverse= True))"
   ]
  },
  {
   "cell_type": "code",
   "execution_count": 353,
   "metadata": {
    "collapsed": false
   },
   "outputs": [
    {
     "data": {
      "text/html": [
       "<div>\n",
       "<style>\n",
       "    .dataframe thead tr:only-child th {\n",
       "        text-align: right;\n",
       "    }\n",
       "\n",
       "    .dataframe thead th {\n",
       "        text-align: left;\n",
       "    }\n",
       "\n",
       "    .dataframe tbody tr th {\n",
       "        vertical-align: top;\n",
       "    }\n",
       "</style>\n",
       "<table border=\"1\" class=\"dataframe\">\n",
       "  <thead>\n",
       "    <tr style=\"text-align: right;\">\n",
       "      <th></th>\n",
       "      <th>0</th>\n",
       "      <th>1</th>\n",
       "    </tr>\n",
       "  </thead>\n",
       "  <tbody>\n",
       "    <tr>\n",
       "      <th>0</th>\n",
       "      <td>2.910000</td>\n",
       "      <td>5.0</td>\n",
       "    </tr>\n",
       "    <tr>\n",
       "      <th>1</th>\n",
       "      <td>3.721520</td>\n",
       "      <td>5.0</td>\n",
       "    </tr>\n",
       "    <tr>\n",
       "      <th>2</th>\n",
       "      <td>4.290000</td>\n",
       "      <td>5.0</td>\n",
       "    </tr>\n",
       "    <tr>\n",
       "      <th>3</th>\n",
       "      <td>2.767500</td>\n",
       "      <td>5.0</td>\n",
       "    </tr>\n",
       "    <tr>\n",
       "      <th>4</th>\n",
       "      <td>4.259903</td>\n",
       "      <td>5.0</td>\n",
       "    </tr>\n",
       "    <tr>\n",
       "      <th>5</th>\n",
       "      <td>3.929607</td>\n",
       "      <td>5.0</td>\n",
       "    </tr>\n",
       "    <tr>\n",
       "      <th>6</th>\n",
       "      <td>4.660000</td>\n",
       "      <td>5.0</td>\n",
       "    </tr>\n",
       "    <tr>\n",
       "      <th>7</th>\n",
       "      <td>3.897500</td>\n",
       "      <td>5.0</td>\n",
       "    </tr>\n",
       "    <tr>\n",
       "      <th>8</th>\n",
       "      <td>3.649407</td>\n",
       "      <td>5.0</td>\n",
       "    </tr>\n",
       "    <tr>\n",
       "      <th>9</th>\n",
       "      <td>4.352500</td>\n",
       "      <td>5.0</td>\n",
       "    </tr>\n",
       "    <tr>\n",
       "      <th>10</th>\n",
       "      <td>3.960000</td>\n",
       "      <td>5.0</td>\n",
       "    </tr>\n",
       "    <tr>\n",
       "      <th>11</th>\n",
       "      <td>2.577500</td>\n",
       "      <td>5.0</td>\n",
       "    </tr>\n",
       "    <tr>\n",
       "      <th>12</th>\n",
       "      <td>1.980000</td>\n",
       "      <td>5.0</td>\n",
       "    </tr>\n",
       "    <tr>\n",
       "      <th>13</th>\n",
       "      <td>2.807500</td>\n",
       "      <td>5.0</td>\n",
       "    </tr>\n",
       "    <tr>\n",
       "      <th>14</th>\n",
       "      <td>3.842500</td>\n",
       "      <td>5.0</td>\n",
       "    </tr>\n",
       "    <tr>\n",
       "      <th>15</th>\n",
       "      <td>1.947500</td>\n",
       "      <td>5.0</td>\n",
       "    </tr>\n",
       "    <tr>\n",
       "      <th>16</th>\n",
       "      <td>2.877500</td>\n",
       "      <td>5.0</td>\n",
       "    </tr>\n",
       "    <tr>\n",
       "      <th>17</th>\n",
       "      <td>4.220000</td>\n",
       "      <td>5.0</td>\n",
       "    </tr>\n",
       "    <tr>\n",
       "      <th>18</th>\n",
       "      <td>4.880000</td>\n",
       "      <td>5.0</td>\n",
       "    </tr>\n",
       "    <tr>\n",
       "      <th>19</th>\n",
       "      <td>4.517500</td>\n",
       "      <td>5.0</td>\n",
       "    </tr>\n",
       "    <tr>\n",
       "      <th>20</th>\n",
       "      <td>3.865000</td>\n",
       "      <td>5.0</td>\n",
       "    </tr>\n",
       "    <tr>\n",
       "      <th>21</th>\n",
       "      <td>4.105000</td>\n",
       "      <td>5.0</td>\n",
       "    </tr>\n",
       "    <tr>\n",
       "      <th>22</th>\n",
       "      <td>4.702194</td>\n",
       "      <td>5.0</td>\n",
       "    </tr>\n",
       "    <tr>\n",
       "      <th>23</th>\n",
       "      <td>1.596875</td>\n",
       "      <td>5.0</td>\n",
       "    </tr>\n",
       "    <tr>\n",
       "      <th>24</th>\n",
       "      <td>3.525000</td>\n",
       "      <td>5.0</td>\n",
       "    </tr>\n",
       "    <tr>\n",
       "      <th>25</th>\n",
       "      <td>3.110000</td>\n",
       "      <td>5.0</td>\n",
       "    </tr>\n",
       "    <tr>\n",
       "      <th>26</th>\n",
       "      <td>3.875000</td>\n",
       "      <td>5.0</td>\n",
       "    </tr>\n",
       "    <tr>\n",
       "      <th>27</th>\n",
       "      <td>3.975000</td>\n",
       "      <td>5.0</td>\n",
       "    </tr>\n",
       "    <tr>\n",
       "      <th>28</th>\n",
       "      <td>3.455355</td>\n",
       "      <td>5.0</td>\n",
       "    </tr>\n",
       "    <tr>\n",
       "      <th>29</th>\n",
       "      <td>3.679954</td>\n",
       "      <td>5.0</td>\n",
       "    </tr>\n",
       "    <tr>\n",
       "      <th>...</th>\n",
       "      <td>...</td>\n",
       "      <td>...</td>\n",
       "    </tr>\n",
       "    <tr>\n",
       "      <th>3473</th>\n",
       "      <td>2.134550</td>\n",
       "      <td>0.5</td>\n",
       "    </tr>\n",
       "    <tr>\n",
       "      <th>3474</th>\n",
       "      <td>3.217500</td>\n",
       "      <td>0.5</td>\n",
       "    </tr>\n",
       "    <tr>\n",
       "      <th>3475</th>\n",
       "      <td>3.273896</td>\n",
       "      <td>0.5</td>\n",
       "    </tr>\n",
       "    <tr>\n",
       "      <th>3476</th>\n",
       "      <td>0.745000</td>\n",
       "      <td>0.5</td>\n",
       "    </tr>\n",
       "    <tr>\n",
       "      <th>3477</th>\n",
       "      <td>1.452500</td>\n",
       "      <td>0.5</td>\n",
       "    </tr>\n",
       "    <tr>\n",
       "      <th>3478</th>\n",
       "      <td>3.090666</td>\n",
       "      <td>0.5</td>\n",
       "    </tr>\n",
       "    <tr>\n",
       "      <th>3479</th>\n",
       "      <td>2.077500</td>\n",
       "      <td>0.5</td>\n",
       "    </tr>\n",
       "    <tr>\n",
       "      <th>3480</th>\n",
       "      <td>0.730000</td>\n",
       "      <td>0.5</td>\n",
       "    </tr>\n",
       "    <tr>\n",
       "      <th>3481</th>\n",
       "      <td>2.440000</td>\n",
       "      <td>0.5</td>\n",
       "    </tr>\n",
       "    <tr>\n",
       "      <th>3482</th>\n",
       "      <td>0.662500</td>\n",
       "      <td>0.5</td>\n",
       "    </tr>\n",
       "    <tr>\n",
       "      <th>3483</th>\n",
       "      <td>1.517500</td>\n",
       "      <td>0.5</td>\n",
       "    </tr>\n",
       "    <tr>\n",
       "      <th>3484</th>\n",
       "      <td>1.995000</td>\n",
       "      <td>0.5</td>\n",
       "    </tr>\n",
       "    <tr>\n",
       "      <th>3485</th>\n",
       "      <td>1.195000</td>\n",
       "      <td>0.5</td>\n",
       "    </tr>\n",
       "    <tr>\n",
       "      <th>3486</th>\n",
       "      <td>0.840000</td>\n",
       "      <td>0.5</td>\n",
       "    </tr>\n",
       "    <tr>\n",
       "      <th>3487</th>\n",
       "      <td>3.075225</td>\n",
       "      <td>0.5</td>\n",
       "    </tr>\n",
       "    <tr>\n",
       "      <th>3488</th>\n",
       "      <td>2.707500</td>\n",
       "      <td>0.5</td>\n",
       "    </tr>\n",
       "    <tr>\n",
       "      <th>3489</th>\n",
       "      <td>2.045000</td>\n",
       "      <td>0.5</td>\n",
       "    </tr>\n",
       "    <tr>\n",
       "      <th>3490</th>\n",
       "      <td>2.175000</td>\n",
       "      <td>0.5</td>\n",
       "    </tr>\n",
       "    <tr>\n",
       "      <th>3491</th>\n",
       "      <td>1.164991</td>\n",
       "      <td>0.5</td>\n",
       "    </tr>\n",
       "    <tr>\n",
       "      <th>3492</th>\n",
       "      <td>0.920000</td>\n",
       "      <td>0.5</td>\n",
       "    </tr>\n",
       "    <tr>\n",
       "      <th>3493</th>\n",
       "      <td>1.402500</td>\n",
       "      <td>0.5</td>\n",
       "    </tr>\n",
       "    <tr>\n",
       "      <th>3494</th>\n",
       "      <td>3.533821</td>\n",
       "      <td>0.5</td>\n",
       "    </tr>\n",
       "    <tr>\n",
       "      <th>3495</th>\n",
       "      <td>4.915000</td>\n",
       "      <td>0.5</td>\n",
       "    </tr>\n",
       "    <tr>\n",
       "      <th>3496</th>\n",
       "      <td>2.562500</td>\n",
       "      <td>0.5</td>\n",
       "    </tr>\n",
       "    <tr>\n",
       "      <th>3497</th>\n",
       "      <td>2.325000</td>\n",
       "      <td>0.5</td>\n",
       "    </tr>\n",
       "    <tr>\n",
       "      <th>3498</th>\n",
       "      <td>3.942500</td>\n",
       "      <td>0.5</td>\n",
       "    </tr>\n",
       "    <tr>\n",
       "      <th>3499</th>\n",
       "      <td>3.592500</td>\n",
       "      <td>0.5</td>\n",
       "    </tr>\n",
       "    <tr>\n",
       "      <th>3500</th>\n",
       "      <td>4.922500</td>\n",
       "      <td>0.5</td>\n",
       "    </tr>\n",
       "    <tr>\n",
       "      <th>3501</th>\n",
       "      <td>0.745000</td>\n",
       "      <td>0.5</td>\n",
       "    </tr>\n",
       "    <tr>\n",
       "      <th>3502</th>\n",
       "      <td>1.390000</td>\n",
       "      <td>0.5</td>\n",
       "    </tr>\n",
       "  </tbody>\n",
       "</table>\n",
       "<p>3503 rows × 2 columns</p>\n",
       "</div>"
      ],
      "text/plain": [
       "             0    1\n",
       "0     2.910000  5.0\n",
       "1     3.721520  5.0\n",
       "2     4.290000  5.0\n",
       "3     2.767500  5.0\n",
       "4     4.259903  5.0\n",
       "5     3.929607  5.0\n",
       "6     4.660000  5.0\n",
       "7     3.897500  5.0\n",
       "8     3.649407  5.0\n",
       "9     4.352500  5.0\n",
       "10    3.960000  5.0\n",
       "11    2.577500  5.0\n",
       "12    1.980000  5.0\n",
       "13    2.807500  5.0\n",
       "14    3.842500  5.0\n",
       "15    1.947500  5.0\n",
       "16    2.877500  5.0\n",
       "17    4.220000  5.0\n",
       "18    4.880000  5.0\n",
       "19    4.517500  5.0\n",
       "20    3.865000  5.0\n",
       "21    4.105000  5.0\n",
       "22    4.702194  5.0\n",
       "23    1.596875  5.0\n",
       "24    3.525000  5.0\n",
       "25    3.110000  5.0\n",
       "26    3.875000  5.0\n",
       "27    3.975000  5.0\n",
       "28    3.455355  5.0\n",
       "29    3.679954  5.0\n",
       "...        ...  ...\n",
       "3473  2.134550  0.5\n",
       "3474  3.217500  0.5\n",
       "3475  3.273896  0.5\n",
       "3476  0.745000  0.5\n",
       "3477  1.452500  0.5\n",
       "3478  3.090666  0.5\n",
       "3479  2.077500  0.5\n",
       "3480  0.730000  0.5\n",
       "3481  2.440000  0.5\n",
       "3482  0.662500  0.5\n",
       "3483  1.517500  0.5\n",
       "3484  1.995000  0.5\n",
       "3485  1.195000  0.5\n",
       "3486  0.840000  0.5\n",
       "3487  3.075225  0.5\n",
       "3488  2.707500  0.5\n",
       "3489  2.045000  0.5\n",
       "3490  2.175000  0.5\n",
       "3491  1.164991  0.5\n",
       "3492  0.920000  0.5\n",
       "3493  1.402500  0.5\n",
       "3494  3.533821  0.5\n",
       "3495  4.915000  0.5\n",
       "3496  2.562500  0.5\n",
       "3497  2.325000  0.5\n",
       "3498  3.942500  0.5\n",
       "3499  3.592500  0.5\n",
       "3500  4.922500  0.5\n",
       "3501  0.745000  0.5\n",
       "3502  1.390000  0.5\n",
       "\n",
       "[3503 rows x 2 columns]"
      ]
     },
     "execution_count": 353,
     "metadata": {},
     "output_type": "execute_result"
    }
   ],
   "source": [
    "r_df"
   ]
  },
  {
   "cell_type": "code",
   "execution_count": 352,
   "metadata": {
    "collapsed": false
   },
   "outputs": [
    {
     "data": {
      "text/plain": [
       "<matplotlib.axes._subplots.AxesSubplot at 0x172706ac8>"
      ]
     },
     "execution_count": 352,
     "metadata": {},
     "output_type": "execute_result"
    },
    {
     "data": {
      "image/png": "[encoded data removed]",
      "text/plain": [
       "<Figure size 576x396 with 1 Axes>"
      ]
     },
     "metadata": {},
     "output_type": "display_data"
    }
   ],
   "source": [
    "r_df.reset_index(drop=True).plot()"
   ]
  },
  {
   "cell_type": "code",
   "execution_count": 297,
   "metadata": {
    "collapsed": true
   },
   "outputs": [],
   "source": [
    "from sklearn.ensemble import RandomForestRegressor"
   ]
  },
  {
   "cell_type": "code",
   "execution_count": 302,
   "metadata": {
    "collapsed": false
   },
   "outputs": [
    {
     "data": {
      "text/plain": [
       "RandomForestRegressor(bootstrap=True, criterion='mse', max_depth=None,\n",
       "           max_features='auto', max_leaf_nodes=None,\n",
       "           min_impurity_split=1e-07, min_samples_leaf=1,\n",
       "           min_samples_split=2, min_weight_fraction_leaf=0.0,\n",
       "           n_estimators=200, n_jobs=1, oob_score=False, random_state=None,\n",
       "           verbose=0, warm_start=False)"
      ]
     },
     "execution_count": 302,
     "metadata": {},
     "output_type": "execute_result"
    }
   ],
   "source": [
    "forest = RandomForestRegressor(200)\n",
    "\n",
    "forest.fit(X=train_x, y=train_y) # 학습데이터 정의하기"
   ]
  },
  {
   "cell_type": "code",
   "execution_count": 303,
   "metadata": {
    "collapsed": false
   },
   "outputs": [
    {
     "data": {
      "text/plain": [
       "1.0596430780237365"
      ]
     },
     "execution_count": 303,
     "metadata": {},
     "output_type": "execute_result"
    }
   ],
   "source": [
    "pred =forest.predict(test_x)\n",
    "true = test_y\n",
    "\n",
    "np.mean(np.abs(true-pred))"
   ]
  },
  {
   "cell_type": "code",
   "execution_count": 305,
   "metadata": {
    "collapsed": false
   },
   "outputs": [
    {
     "data": {
      "text/plain": [
       "0.39335531714717"
      ]
     },
     "execution_count": 305,
     "metadata": {},
     "output_type": "execute_result"
    }
   ],
   "source": [
    "np.mean(np.abs((true-pred)/pred))"
   ]
  }
 ],
 "metadata": {
  "kernelspec": {
   "display_name": "Python [default]",
   "language": "python",
   "name": "python3"
  },
  "language_info": {
   "codemirror_mode": {
    "name": "ipython",
    "version": 3
   },
   "file_extension": ".py",
   "mimetype": "text/x-python",
   "name": "python",
   "nbconvert_exporter": "python",
   "pygments_lexer": "ipython3",
   "version": "3.5.2"
  }
 },
 "nbformat": 4,
 "nbformat_minor": 2
}
